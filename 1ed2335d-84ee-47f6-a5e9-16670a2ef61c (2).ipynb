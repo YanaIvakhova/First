{
 "cells": [
  {
   "cell_type": "markdown",
   "metadata": {},
   "source": [
    "<font face='Liberation serif' size=3>\n",
    "    \n",
    "**Привет!** 👋\n",
    "\n",
    "Меня зовут Артем. Я буду проверять твой проект. В рамках корпоративной этики мы общаемся на «ты». Но если лучше на «Вы», то нужно обозначить это сразу.\n",
    " \n",
    "В тетрадке есть комментарии к проекту, они будут в отдельных ячейках Markdown.\n",
    " \n",
    "<div class=\"alert alert-danger\">\n",
    "\n",
    "**Артём:** ❌ Такой комментарий **нужно исправить** обязательно, он критически влияет на удачное выполнение проекта.\n",
    "\n",
    "</div>\n",
    "\n",
    "<div class=\"alert alert-info\">\n",
    "\n",
    "**Артём:** 💡 Этот комментарий подскажет о небольших ошибках или подсказки как сделать **твой проект ещё лучше**.\n",
    "</div>\n",
    "\n",
    "<div class=\"alert alert-success\">\n",
    "\n",
    "**Артём:** 👍 А это **самый главный комментарий**, значит все сделано хорошо. 😉\n",
    "\n",
    "</div>\n",
    "\n",
    "---\n",
    "\n",
    "**Распространенные ошибки**\n",
    "\n",
    "<div class=\"alert alert-danger\">\n",
    "\n",
    "**Артём:** ❌ Не перемещай и не удаляй мои комментарии. Лучше, чтобы твои ответы на мои комментарии шли по очереди, как сообщения в мессенджере. Это ускорит проверку.\n",
    "    \n",
    "</div>\n",
    "\n",
    "<div class=\"alert alert-danger\">\n",
    "\n",
    "**Артём:** ❌ Проверь проект на работоспособность перед отправкой на проверку. Это важный навык, который тебе пригодится как на собеседовании, при выполнении тестового задания, так и перед совещанием у руководства компании. Помни, ревьеры не вносят изменения в код, даже если это путь к датасету или ячейка в неверном формате (code/mardown).  \n",
    "    \n",
    "</div>\n",
    "\n",
    "<div class=\"alert alert-info\">\n",
    "\n",
    "**Артём:** 💡 Кстати, смотри как можно сделать, чтобы датасет грузился и локально, и в JupyterHub:\n",
    "\n",
    "```py\n",
    "try:\n",
    "    df = pd.read_csv('C:/Users/Student/Desktop/dataset.csv')\n",
    "except:\n",
    "    df = pd.read_csv('/datasets/dataset.csv')\n",
    "```\n",
    "    \n",
    "Используя эту конструкцию в будущих проектах, ты будешь спокойно отправлять проект на проверку зная, что он будет работать.\n",
    "    \n",
    "</div>\n",
    "\n",
    "<div class=\"alert alert-danger\">\n",
    "\n",
    "**Артём:** ❌ Проект должен быть структурирован. Где названия разделов и подразделов будут записаны в ячейках [Markdown](https://paulradzkov.com/2014/markdown_cheatsheet/?).\n",
    "    \n",
    "</div>\n",
    "\n",
    "<div class=\"alert alert-danger\">\n",
    "\n",
    "**Артём:** ❌ Если с твоим проектом будет знакомиться другой человек, например рекрутер или старший дата специалист, в нем должны быть описаны поставленные задачи, содержание датасета, промежуточные и финальные выводы. Как правило, заказчик читает только финальный вывод, поэтому важно добавить информацию о проведенном исследовании, применить форматирование текста, в общем, сделать красиво, чтобы было понятно, что проведено настоящее исследование и выводу можно верить. \n",
    "\n",
    "</div>  \n",
    "\n",
    "<div class=\"alert alert-info\">\n",
    "    \n",
    "**Артём:** 💡 Длинный код и комментарии нужно переносить на новую строку. Согласись, коллеги не оценят, если им придется тратить время на пролистывание ячеек. Согласно международному стандарту [PEP8](https://www.python.org/dev/peps/pep-0008/) длина строки не должна превышать 79 символов.\n",
    "Вот как можно перенести код на новую строку:\n",
    "\n",
    "```py\n",
    "# Переносить можно код внутри скобки\n",
    "example = (2 *\n",
    "           2)\n",
    "```\n",
    "Конечно, я не считаю сколько символов в строке, главное, чтобы код или комментарий не ушел за пределы ячейки (зависит от разрешения экрана). Если ушел, то это желтый комментарий для каждой нечитаемой ячейки.\n",
    "    \n",
    "</div>\n",
    "\n",
    "<div class=\"alert alert-info\">\n",
    "    \n",
    "**Артём:** 💡 Тимлид, старший дата специалист или ревьюер ценят твое и своё время, подсвечивай свои комментарии в ячейках Markdown. Шаблон я тебе оставил ниже. Подробнее про синтаксис Markdown, с примерами, можно почитать [здесь](https://paulradzkov.com/2014/markdown_cheatsheet/?).\n",
    "    \n",
    "</div>\n",
    "\n",
    "<div class=\"alert alert-success\">\n",
    "\n",
    "**Артём:** 👍 Буду рад, если воспользуешься моими советами. Они тебе помогут при трудоустройстве, например в [Яндексе](https://yandex.ru/jobs/pages/analytics_interview?ysclid=l84s63fs1g790141490), и при работе в команде. Если в ходе проведения исследования возникнут вопросы, не стесняйся задавай. 🙂\n",
    "</div>\n",
    "\n",
    "<div class=\"alert alert-info\">\n",
    "\n",
    "**Артём:** 🏁 [Итоги ревью здесь](#results)\n",
    "</div>\n",
    "\n",
    "\n",
    "**Поехали!** 🚀 👨‍🚀\n",
    "<a id=\"start\"></a>"
   ]
  },
  {
   "cell_type": "markdown",
   "metadata": {},
   "source": [
    "<div style=\"background-color:lavender; color:#black; text-align:center; padding:2%\">\n",
    "    \n",
    "**Имя:** ✔️ Это шаблон для тебя. Такой комментарий можно быстро найти."
   ]
  },
  {
   "cell_type": "markdown",
   "metadata": {},
   "source": [
    "# Исследование объявлений о продаже квартир\n",
    "\n",
    "В вашем распоряжении данные сервиса Яндекс.Недвижимость — архив объявлений о продаже квартир в Санкт-Петербурге и соседних населённых пунктов за несколько лет. Нужно научиться определять рыночную стоимость объектов недвижимости. Ваша задача — установить параметры. Это позволит построить автоматизированную систему: она отследит аномалии и мошенническую деятельность. \n",
    "\n",
    "По каждой квартире на продажу доступны два вида данных. Первые вписаны пользователем, вторые — получены автоматически на основе картографических данных. Например, расстояние до центра, аэропорта, ближайшего парка и водоёма. "
   ]
  },
  {
   "cell_type": "markdown",
   "metadata": {},
   "source": [
    "<div class=\"alert alert-success\">\n",
    "\n",
    "**Артём:**  Чтобы человек, который будет знакомиться с твоим портфолио понимал, что ты исследуешь, добавь: \n",
    "    \n",
    "1. Описание проекта - задачи поставленные перед исследованием в брифе. На которые в итоговом выводе нужно дать ответы;\n",
    "2. Отформатированное описание столбцов датасета. \n",
    "    \n",
    "Пример форматирования:\n",
    "\n",
    "- `first_column` — содержание столбца 1;\n",
    "- `second_column` — содержание столбца 2;\n",
    "\n",
    "</div>"
   ]
  },
  {
   "cell_type": "markdown",
   "metadata": {},
   "source": [
    "\n",
    "    \n",
    "**Задача:** провести исследовательский анализ данных, который поможет установить параметры, влияющие на цену объектов. "
   ]
  },
  {
   "cell_type": "markdown",
   "metadata": {},
   "source": [
    "<div class=\"alert alert-success\">\n",
    "\n",
    "**Артём:** 👍 Хорошо, что описала задачу.\n",
    "\n",
    "</div>"
   ]
  },
  {
   "cell_type": "markdown",
   "metadata": {},
   "source": [
    "<div class=\"alert alert-success\">\n",
    "\n",
    "**Артём:**  Но не выполнен пункт: \n",
    "    \n",
    "2. Отформатированное описание столбцов датасета. \n",
    "    \n",
    "Пример форматирования:\n",
    "\n",
    "- `first_column` — содержание столбца 1;\n",
    "- `second_column` — содержание столбца 2;\n",
    "\n",
    "По прежнему нет точного пояснения, что находится в каждом столбце.\n",
    "\n",
    "</div>"
   ]
  },
  {
   "cell_type": "markdown",
   "metadata": {},
   "source": [
    "<div style=\"background-color:lavender; color:#black; text-align:center; padding:2%\">\n",
    "\n",
    "Артем,спасибо за комментарии и прошу прощения,что тебе снова приходится проверять мою работу."
   ]
  },
  {
   "cell_type": "markdown",
   "metadata": {},
   "source": [
    "<div class=\"alert alert-success\">\n",
    "\n",
    "**Артём:** 👍 Яна, прекрати извиняться, все хорошо, ты пришла учиться, и делать ошибки в учебном проекте - это нормально, зато потом в работе этих ошибок не сделаешь. Все хорошо, ты умница!\n",
    "\n",
    "</div>"
   ]
  },
  {
   "cell_type": "markdown",
   "metadata": {},
   "source": [
    "### Откройте файл с данными и изучите общую информацию. "
   ]
  },
  {
   "cell_type": "markdown",
   "metadata": {},
   "source": [
    "\n",
    "    \n",
    "    \n",
    "1.Загружаю данные из csv-файла в датафрейм c помощью библиотеки pandas. \n",
    "    \n",
    "</div>"
   ]
  },
  {
   "cell_type": "code",
   "execution_count": 1,
   "metadata": {
    "scrolled": false
   },
   "outputs": [],
   "source": [
    "import pandas as pd\n",
    "import matplotlib.pyplot as plt\n",
    "data = pd.read_csv('/datasets/real_estate_data.csv', sep = '\\t')\n",
    "\n"
   ]
  },
  {
   "cell_type": "markdown",
   "metadata": {},
   "source": [
    "\n",
    "    \n",
    "2. Изучаю общую информацию о полученном датафрейме.\n",
    "    \n",
    "3. Строю гистограмму для всех числовых столбцов таблицы на одном графике. "
   ]
  },
  {
   "cell_type": "code",
   "execution_count": 2,
   "metadata": {},
   "outputs": [
    {
     "name": "stdout",
     "output_type": "stream",
     "text": [
      "<class 'pandas.core.frame.DataFrame'>\n",
      "RangeIndex: 23699 entries, 0 to 23698\n",
      "Data columns (total 22 columns):\n",
      " #   Column                Non-Null Count  Dtype  \n",
      "---  ------                --------------  -----  \n",
      " 0   total_images          23699 non-null  int64  \n",
      " 1   last_price            23699 non-null  float64\n",
      " 2   total_area            23699 non-null  float64\n",
      " 3   first_day_exposition  23699 non-null  object \n",
      " 4   rooms                 23699 non-null  int64  \n",
      " 5   ceiling_height        14504 non-null  float64\n",
      " 6   floors_total          23613 non-null  float64\n",
      " 7   living_area           21796 non-null  float64\n",
      " 8   floor                 23699 non-null  int64  \n",
      " 9   is_apartment          2775 non-null   object \n",
      " 10  studio                23699 non-null  bool   \n",
      " 11  open_plan             23699 non-null  bool   \n",
      " 12  kitchen_area          21421 non-null  float64\n",
      " 13  balcony               12180 non-null  float64\n",
      " 14  locality_name         23650 non-null  object \n",
      " 15  airports_nearest      18157 non-null  float64\n",
      " 16  cityCenters_nearest   18180 non-null  float64\n",
      " 17  parks_around3000      18181 non-null  float64\n",
      " 18  parks_nearest         8079 non-null   float64\n",
      " 19  ponds_around3000      18181 non-null  float64\n",
      " 20  ponds_nearest         9110 non-null   float64\n",
      " 21  days_exposition       20518 non-null  float64\n",
      "dtypes: bool(2), float64(14), int64(3), object(3)\n",
      "memory usage: 3.7+ MB\n"
     ]
    }
   ],
   "source": [
    "data.info()"
   ]
  },
  {
   "cell_type": "code",
   "execution_count": 3,
   "metadata": {
    "scrolled": true
   },
   "outputs": [
    {
     "data": {
      "text/html": [
       "<div>\n",
       "<style scoped>\n",
       "    .dataframe tbody tr th:only-of-type {\n",
       "        vertical-align: middle;\n",
       "    }\n",
       "\n",
       "    .dataframe tbody tr th {\n",
       "        vertical-align: top;\n",
       "    }\n",
       "\n",
       "    .dataframe thead th {\n",
       "        text-align: right;\n",
       "    }\n",
       "</style>\n",
       "<table border=\"1\" class=\"dataframe\">\n",
       "  <thead>\n",
       "    <tr style=\"text-align: right;\">\n",
       "      <th></th>\n",
       "      <th>total_images</th>\n",
       "      <th>last_price</th>\n",
       "      <th>total_area</th>\n",
       "      <th>first_day_exposition</th>\n",
       "      <th>rooms</th>\n",
       "      <th>ceiling_height</th>\n",
       "      <th>floors_total</th>\n",
       "      <th>living_area</th>\n",
       "      <th>floor</th>\n",
       "      <th>is_apartment</th>\n",
       "      <th>...</th>\n",
       "      <th>kitchen_area</th>\n",
       "      <th>balcony</th>\n",
       "      <th>locality_name</th>\n",
       "      <th>airports_nearest</th>\n",
       "      <th>cityCenters_nearest</th>\n",
       "      <th>parks_around3000</th>\n",
       "      <th>parks_nearest</th>\n",
       "      <th>ponds_around3000</th>\n",
       "      <th>ponds_nearest</th>\n",
       "      <th>days_exposition</th>\n",
       "    </tr>\n",
       "  </thead>\n",
       "  <tbody>\n",
       "    <tr>\n",
       "      <th>0</th>\n",
       "      <td>20</td>\n",
       "      <td>13000000.0</td>\n",
       "      <td>108.00</td>\n",
       "      <td>2019-03-07T00:00:00</td>\n",
       "      <td>3</td>\n",
       "      <td>2.70</td>\n",
       "      <td>16.0</td>\n",
       "      <td>51.00</td>\n",
       "      <td>8</td>\n",
       "      <td>NaN</td>\n",
       "      <td>...</td>\n",
       "      <td>25.00</td>\n",
       "      <td>NaN</td>\n",
       "      <td>Санкт-Петербург</td>\n",
       "      <td>18863.0</td>\n",
       "      <td>16028.0</td>\n",
       "      <td>1.0</td>\n",
       "      <td>482.0</td>\n",
       "      <td>2.0</td>\n",
       "      <td>755.0</td>\n",
       "      <td>NaN</td>\n",
       "    </tr>\n",
       "    <tr>\n",
       "      <th>1</th>\n",
       "      <td>7</td>\n",
       "      <td>3350000.0</td>\n",
       "      <td>40.40</td>\n",
       "      <td>2018-12-04T00:00:00</td>\n",
       "      <td>1</td>\n",
       "      <td>NaN</td>\n",
       "      <td>11.0</td>\n",
       "      <td>18.60</td>\n",
       "      <td>1</td>\n",
       "      <td>NaN</td>\n",
       "      <td>...</td>\n",
       "      <td>11.00</td>\n",
       "      <td>2.0</td>\n",
       "      <td>посёлок Шушары</td>\n",
       "      <td>12817.0</td>\n",
       "      <td>18603.0</td>\n",
       "      <td>0.0</td>\n",
       "      <td>NaN</td>\n",
       "      <td>0.0</td>\n",
       "      <td>NaN</td>\n",
       "      <td>81.0</td>\n",
       "    </tr>\n",
       "    <tr>\n",
       "      <th>2</th>\n",
       "      <td>10</td>\n",
       "      <td>5196000.0</td>\n",
       "      <td>56.00</td>\n",
       "      <td>2015-08-20T00:00:00</td>\n",
       "      <td>2</td>\n",
       "      <td>NaN</td>\n",
       "      <td>5.0</td>\n",
       "      <td>34.30</td>\n",
       "      <td>4</td>\n",
       "      <td>NaN</td>\n",
       "      <td>...</td>\n",
       "      <td>8.30</td>\n",
       "      <td>0.0</td>\n",
       "      <td>Санкт-Петербург</td>\n",
       "      <td>21741.0</td>\n",
       "      <td>13933.0</td>\n",
       "      <td>1.0</td>\n",
       "      <td>90.0</td>\n",
       "      <td>2.0</td>\n",
       "      <td>574.0</td>\n",
       "      <td>558.0</td>\n",
       "    </tr>\n",
       "    <tr>\n",
       "      <th>3</th>\n",
       "      <td>0</td>\n",
       "      <td>64900000.0</td>\n",
       "      <td>159.00</td>\n",
       "      <td>2015-07-24T00:00:00</td>\n",
       "      <td>3</td>\n",
       "      <td>NaN</td>\n",
       "      <td>14.0</td>\n",
       "      <td>NaN</td>\n",
       "      <td>9</td>\n",
       "      <td>NaN</td>\n",
       "      <td>...</td>\n",
       "      <td>NaN</td>\n",
       "      <td>0.0</td>\n",
       "      <td>Санкт-Петербург</td>\n",
       "      <td>28098.0</td>\n",
       "      <td>6800.0</td>\n",
       "      <td>2.0</td>\n",
       "      <td>84.0</td>\n",
       "      <td>3.0</td>\n",
       "      <td>234.0</td>\n",
       "      <td>424.0</td>\n",
       "    </tr>\n",
       "    <tr>\n",
       "      <th>4</th>\n",
       "      <td>2</td>\n",
       "      <td>10000000.0</td>\n",
       "      <td>100.00</td>\n",
       "      <td>2018-06-19T00:00:00</td>\n",
       "      <td>2</td>\n",
       "      <td>3.03</td>\n",
       "      <td>14.0</td>\n",
       "      <td>32.00</td>\n",
       "      <td>13</td>\n",
       "      <td>NaN</td>\n",
       "      <td>...</td>\n",
       "      <td>41.00</td>\n",
       "      <td>NaN</td>\n",
       "      <td>Санкт-Петербург</td>\n",
       "      <td>31856.0</td>\n",
       "      <td>8098.0</td>\n",
       "      <td>2.0</td>\n",
       "      <td>112.0</td>\n",
       "      <td>1.0</td>\n",
       "      <td>48.0</td>\n",
       "      <td>121.0</td>\n",
       "    </tr>\n",
       "    <tr>\n",
       "      <th>5</th>\n",
       "      <td>10</td>\n",
       "      <td>2890000.0</td>\n",
       "      <td>30.40</td>\n",
       "      <td>2018-09-10T00:00:00</td>\n",
       "      <td>1</td>\n",
       "      <td>NaN</td>\n",
       "      <td>12.0</td>\n",
       "      <td>14.40</td>\n",
       "      <td>5</td>\n",
       "      <td>NaN</td>\n",
       "      <td>...</td>\n",
       "      <td>9.10</td>\n",
       "      <td>NaN</td>\n",
       "      <td>городской посёлок Янино-1</td>\n",
       "      <td>NaN</td>\n",
       "      <td>NaN</td>\n",
       "      <td>NaN</td>\n",
       "      <td>NaN</td>\n",
       "      <td>NaN</td>\n",
       "      <td>NaN</td>\n",
       "      <td>55.0</td>\n",
       "    </tr>\n",
       "    <tr>\n",
       "      <th>6</th>\n",
       "      <td>6</td>\n",
       "      <td>3700000.0</td>\n",
       "      <td>37.30</td>\n",
       "      <td>2017-11-02T00:00:00</td>\n",
       "      <td>1</td>\n",
       "      <td>NaN</td>\n",
       "      <td>26.0</td>\n",
       "      <td>10.60</td>\n",
       "      <td>6</td>\n",
       "      <td>NaN</td>\n",
       "      <td>...</td>\n",
       "      <td>14.40</td>\n",
       "      <td>1.0</td>\n",
       "      <td>посёлок Парголово</td>\n",
       "      <td>52996.0</td>\n",
       "      <td>19143.0</td>\n",
       "      <td>0.0</td>\n",
       "      <td>NaN</td>\n",
       "      <td>0.0</td>\n",
       "      <td>NaN</td>\n",
       "      <td>155.0</td>\n",
       "    </tr>\n",
       "    <tr>\n",
       "      <th>7</th>\n",
       "      <td>5</td>\n",
       "      <td>7915000.0</td>\n",
       "      <td>71.60</td>\n",
       "      <td>2019-04-18T00:00:00</td>\n",
       "      <td>2</td>\n",
       "      <td>NaN</td>\n",
       "      <td>24.0</td>\n",
       "      <td>NaN</td>\n",
       "      <td>22</td>\n",
       "      <td>NaN</td>\n",
       "      <td>...</td>\n",
       "      <td>18.90</td>\n",
       "      <td>2.0</td>\n",
       "      <td>Санкт-Петербург</td>\n",
       "      <td>23982.0</td>\n",
       "      <td>11634.0</td>\n",
       "      <td>0.0</td>\n",
       "      <td>NaN</td>\n",
       "      <td>0.0</td>\n",
       "      <td>NaN</td>\n",
       "      <td>NaN</td>\n",
       "    </tr>\n",
       "    <tr>\n",
       "      <th>8</th>\n",
       "      <td>20</td>\n",
       "      <td>2900000.0</td>\n",
       "      <td>33.16</td>\n",
       "      <td>2018-05-23T00:00:00</td>\n",
       "      <td>1</td>\n",
       "      <td>NaN</td>\n",
       "      <td>27.0</td>\n",
       "      <td>15.43</td>\n",
       "      <td>26</td>\n",
       "      <td>NaN</td>\n",
       "      <td>...</td>\n",
       "      <td>8.81</td>\n",
       "      <td>NaN</td>\n",
       "      <td>посёлок Мурино</td>\n",
       "      <td>NaN</td>\n",
       "      <td>NaN</td>\n",
       "      <td>NaN</td>\n",
       "      <td>NaN</td>\n",
       "      <td>NaN</td>\n",
       "      <td>NaN</td>\n",
       "      <td>189.0</td>\n",
       "    </tr>\n",
       "    <tr>\n",
       "      <th>9</th>\n",
       "      <td>18</td>\n",
       "      <td>5400000.0</td>\n",
       "      <td>61.00</td>\n",
       "      <td>2017-02-26T00:00:00</td>\n",
       "      <td>3</td>\n",
       "      <td>2.50</td>\n",
       "      <td>9.0</td>\n",
       "      <td>43.60</td>\n",
       "      <td>7</td>\n",
       "      <td>NaN</td>\n",
       "      <td>...</td>\n",
       "      <td>6.50</td>\n",
       "      <td>2.0</td>\n",
       "      <td>Санкт-Петербург</td>\n",
       "      <td>50898.0</td>\n",
       "      <td>15008.0</td>\n",
       "      <td>0.0</td>\n",
       "      <td>NaN</td>\n",
       "      <td>0.0</td>\n",
       "      <td>NaN</td>\n",
       "      <td>289.0</td>\n",
       "    </tr>\n",
       "  </tbody>\n",
       "</table>\n",
       "<p>10 rows × 22 columns</p>\n",
       "</div>"
      ],
      "text/plain": [
       "   total_images  last_price  total_area first_day_exposition  rooms  \\\n",
       "0            20  13000000.0      108.00  2019-03-07T00:00:00      3   \n",
       "1             7   3350000.0       40.40  2018-12-04T00:00:00      1   \n",
       "2            10   5196000.0       56.00  2015-08-20T00:00:00      2   \n",
       "3             0  64900000.0      159.00  2015-07-24T00:00:00      3   \n",
       "4             2  10000000.0      100.00  2018-06-19T00:00:00      2   \n",
       "5            10   2890000.0       30.40  2018-09-10T00:00:00      1   \n",
       "6             6   3700000.0       37.30  2017-11-02T00:00:00      1   \n",
       "7             5   7915000.0       71.60  2019-04-18T00:00:00      2   \n",
       "8            20   2900000.0       33.16  2018-05-23T00:00:00      1   \n",
       "9            18   5400000.0       61.00  2017-02-26T00:00:00      3   \n",
       "\n",
       "   ceiling_height  floors_total  living_area  floor is_apartment  ...  \\\n",
       "0            2.70          16.0        51.00      8          NaN  ...   \n",
       "1             NaN          11.0        18.60      1          NaN  ...   \n",
       "2             NaN           5.0        34.30      4          NaN  ...   \n",
       "3             NaN          14.0          NaN      9          NaN  ...   \n",
       "4            3.03          14.0        32.00     13          NaN  ...   \n",
       "5             NaN          12.0        14.40      5          NaN  ...   \n",
       "6             NaN          26.0        10.60      6          NaN  ...   \n",
       "7             NaN          24.0          NaN     22          NaN  ...   \n",
       "8             NaN          27.0        15.43     26          NaN  ...   \n",
       "9            2.50           9.0        43.60      7          NaN  ...   \n",
       "\n",
       "   kitchen_area  balcony              locality_name  airports_nearest  \\\n",
       "0         25.00      NaN            Санкт-Петербург           18863.0   \n",
       "1         11.00      2.0             посёлок Шушары           12817.0   \n",
       "2          8.30      0.0            Санкт-Петербург           21741.0   \n",
       "3           NaN      0.0            Санкт-Петербург           28098.0   \n",
       "4         41.00      NaN            Санкт-Петербург           31856.0   \n",
       "5          9.10      NaN  городской посёлок Янино-1               NaN   \n",
       "6         14.40      1.0          посёлок Парголово           52996.0   \n",
       "7         18.90      2.0            Санкт-Петербург           23982.0   \n",
       "8          8.81      NaN             посёлок Мурино               NaN   \n",
       "9          6.50      2.0            Санкт-Петербург           50898.0   \n",
       "\n",
       "  cityCenters_nearest  parks_around3000  parks_nearest  ponds_around3000  \\\n",
       "0             16028.0               1.0          482.0               2.0   \n",
       "1             18603.0               0.0            NaN               0.0   \n",
       "2             13933.0               1.0           90.0               2.0   \n",
       "3              6800.0               2.0           84.0               3.0   \n",
       "4              8098.0               2.0          112.0               1.0   \n",
       "5                 NaN               NaN            NaN               NaN   \n",
       "6             19143.0               0.0            NaN               0.0   \n",
       "7             11634.0               0.0            NaN               0.0   \n",
       "8                 NaN               NaN            NaN               NaN   \n",
       "9             15008.0               0.0            NaN               0.0   \n",
       "\n",
       "   ponds_nearest  days_exposition  \n",
       "0          755.0              NaN  \n",
       "1            NaN             81.0  \n",
       "2          574.0            558.0  \n",
       "3          234.0            424.0  \n",
       "4           48.0            121.0  \n",
       "5            NaN             55.0  \n",
       "6            NaN            155.0  \n",
       "7            NaN              NaN  \n",
       "8            NaN            189.0  \n",
       "9            NaN            289.0  \n",
       "\n",
       "[10 rows x 22 columns]"
      ]
     },
     "metadata": {},
     "output_type": "display_data"
    }
   ],
   "source": [
    "display(data.head(10))"
   ]
  },
  {
   "cell_type": "markdown",
   "metadata": {},
   "source": [
    "<div style=\"background-color:lavender; color:#black; text-align:center; padding:2%\">\n",
    "    \n",
    "\n",
    "    \n",
    "- `total_images ` — число фотографий квартиры в объявлении;\n",
    "    \n",
    "- `last_price ` — цена на момент снятия с публикации; \n",
    "    \n",
    "- `total_area` — общая площадь квартиры в квадратных метрах (м²);\n",
    "- `first_day_exposition` —  дата публикации;\n",
    "- `rooms` — число комнат;\n",
    "- `ceiling_height` — высота потолков (м);\n",
    "- `floors_total` — всего этажей в доме;\n",
    "- `living_area` — жилая площадь в квадратных метрах (м²);\n",
    "- `floor` — этаж;\n",
    "- `is_apartment` — апартаменты (булев тип);\n",
    "- `studio` — квартира-студия (булев тип);\n",
    "- `open_plan` — свободная планировка (булев тип);\n",
    "- `kitchen_area` — площадь кухни в квадратных метрах (м²);\n",
    "- `balcony` — число балконов;\n",
    "- `locality_name` — название населённого пункта;\n",
    "- `airports_nearest` — расстояние до ближайшего аэропорта в метрах (м);\n",
    "- `cityCenters_nearest` —  расстояние до центра города (м);\n",
    "- `parks_around3000` — число водоёмов в радиусе 3 км;\n",
    "- `parks_nearest` — расстояние до ближайшего парка (м);\n",
    "- `ponds_around3000` — число водоёмов в радиусе 3 км;\n",
    "- `ponds_nearest` — расстояние до ближайшего водоёма (м);\n",
    "- `days_exposition` — сколько дней было размещено объявление (от публикации до снятия);\n"
   ]
  },
  {
   "cell_type": "code",
   "execution_count": 4,
   "metadata": {},
   "outputs": [
    {
     "data": {
      "text/plain": [
       "array([[<AxesSubplot:title={'center':'total_images'}>,\n",
       "        <AxesSubplot:title={'center':'last_price'}>,\n",
       "        <AxesSubplot:title={'center':'total_area'}>,\n",
       "        <AxesSubplot:title={'center':'rooms'}>],\n",
       "       [<AxesSubplot:title={'center':'ceiling_height'}>,\n",
       "        <AxesSubplot:title={'center':'floors_total'}>,\n",
       "        <AxesSubplot:title={'center':'living_area'}>,\n",
       "        <AxesSubplot:title={'center':'floor'}>],\n",
       "       [<AxesSubplot:title={'center':'kitchen_area'}>,\n",
       "        <AxesSubplot:title={'center':'balcony'}>,\n",
       "        <AxesSubplot:title={'center':'airports_nearest'}>,\n",
       "        <AxesSubplot:title={'center':'cityCenters_nearest'}>],\n",
       "       [<AxesSubplot:title={'center':'parks_around3000'}>,\n",
       "        <AxesSubplot:title={'center':'parks_nearest'}>,\n",
       "        <AxesSubplot:title={'center':'ponds_around3000'}>,\n",
       "        <AxesSubplot:title={'center':'ponds_nearest'}>],\n",
       "       [<AxesSubplot:title={'center':'days_exposition'}>, <AxesSubplot:>,\n",
       "        <AxesSubplot:>, <AxesSubplot:>]], dtype=object)"
      ]
     },
     "execution_count": 4,
     "metadata": {},
     "output_type": "execute_result"
    },
    {
     "data": {
      "image/png": "[encoded data removed]",
      "text/plain": [
       "<Figure size 1080x1440 with 20 Axes>"
      ]
     },
     "metadata": {
      "needs_background": "light"
     },
     "output_type": "display_data"
    }
   ],
   "source": [
    "data.hist(figsize=(15, 20))"
   ]
  },
  {
   "cell_type": "markdown",
   "metadata": {},
   "source": [
    "<div class=\"alert alert-success\">\n",
    "\n",
    "**Артём:**  Загрузку библиотек, датасета и рабочий код лучше разделять на три разные ячейки. Это правило хорошего тона среди дата-специалистов на Python.\n",
    "    \n",
    "</div>"
   ]
  },
  {
   "cell_type": "markdown",
   "metadata": {},
   "source": [
    "<div class=\"alert alert-success\">\n",
    "\n",
    "**Артём:** 👍 Спасибо.\n",
    "\n",
    "</div>"
   ]
  },
  {
   "cell_type": "markdown",
   "metadata": {},
   "source": [
    "<div class=\"alert alert-success\">\n",
    "\n",
    "**Артём:**  При выводе на экран датафреймов лучше использовать метод `display()`, а не `print()`. Скорректируй здесь и далее.\n",
    "    \n",
    "</div>"
   ]
  },
  {
   "cell_type": "markdown",
   "metadata": {},
   "source": [
    "<div class=\"alert alert-success\">\n",
    "\n",
    "**Артём:** 👍 Отлично, так удобнее изучать данные.\n",
    "\n",
    "</div>"
   ]
  },
  {
   "cell_type": "markdown",
   "metadata": {},
   "source": [
    "<div class=\"alert alert-success\">\n",
    "\n",
    "**Артём:**  Лучше добавить выводы сделанные на их основании. Графики без выводов не имеют смысла.\n",
    "    \n",
    "</div>"
   ]
  },
  {
   "cell_type": "markdown",
   "metadata": {},
   "source": [
    "\n",
    "    \n",
    "Артем,спасибо за комментарии. По выводам не поняла-ниже написано,что хорошо,а выше-что добавить выводы,графики я вывела,но не по всем можно что-то понять,поэтому первая информация по данным получена методом info()"
   ]
  },
  {
   "cell_type": "markdown",
   "metadata": {},
   "source": [
    "<div class=\"alert alert-success\">\n",
    "\n",
    "**Артём:**  Хорошо, что ты описала, что можно заметить по данным (пропущенные значения и тип данных). А по графикам, напиши выводы к каким пришла изучая их. Если не можешь сделать вывод по одному из графиков, то пропусти его или так и напиши. Иначе непонятно для чего делалась визуализация. Например, по гистограмме площади явно можно сделать вывод, что в большинстве объявлений площадь меньше 100 кважратных метов. Буквально одно-два предложения по каждому.\n",
    "\n",
    "</div>"
   ]
  },
  {
   "cell_type": "markdown",
   "metadata": {},
   "source": [
    "<div style=\"background-color:lavender; color:#black; text-align:center; padding:2%\">\n",
    "    \n",
    "Что можно заметить по графикам:\n",
    "    \n",
    "1.В основном добавляют 6-10 фото.\n",
    "    \n",
    "2.Стоимость объектов до 66 млн(1/3 от 2*10^8).\n",
    "    \n",
    "3.Общая площадь до 100 кв.м.\n",
    "    \n",
    "4.В основном представлены объявления с 2-3 комнатами.\n",
    "    \n",
    "5.Высота потолков до 8 метров в основном.\n",
    "    \n",
    "6.Обычно этажность дома - до 20.\n",
    "    \n",
    "7.Жилая площадь в основном до 45 кв.м.\n",
    "    \n",
    "8.Самые популярные этажи - до 10.\n",
    "    \n",
    "9.Площадь кухни чаще всего - до 12-13 кв.м.\n",
    "    \n",
    "10.Либо балкона нет,либо 1,либо 2 - примерно одинаково встречаются.\n",
    "    \n",
    "11.Близость к аэропорту - 20 км (чаще всего).\n",
    "    \n",
    "12.Близость к центру - 10-20 км.\n",
    "    \n",
    "13.Обычно парков нет или он один(в радиусе 3км).\n",
    "    \n",
    "14.До ближайшего парка(если он есть в радиусе 3 км) до 500 м.\n",
    "    \n",
    "15.Количество водоемов в радиусе 3 км - либо нет,либо он один.\n",
    "    \n",
    "16.До водоема до 1 км.\n",
    "    \n",
    "17.Обычно объявления снимается за ~166 дней."
   ]
  },
  {
   "cell_type": "markdown",
   "metadata": {},
   "source": [
    "<div class=\"alert alert-success\">\n",
    "\n",
    "**Артём:** 👍 Отлично."
   ]
  },
  {
   "cell_type": "markdown",
   "metadata": {},
   "source": [
    "Что можно заметить по данным:\n",
    "1. total_images -все в порядке\n",
    "2. last_price  -все в порядке\n",
    "3. total_area - тоже\n",
    "4. first_day_exposition - должен быть тип datetime\n",
    "5.  rooms   - все в порядке\n",
    "6. ceiling_height  - пропущены значения\n",
    "7. floors_total     -пропущены значения\n",
    "8. floor - все в порядке\n",
    "9.  is_apartment - пропущены и должен быть тип bool\n",
    "10. living_area -пропущены значения\n",
    "11. studio - все в порядке\n",
    "12. open_plan - все в порядке\n",
    "13. kitchen_area- не хватает данных\n",
    "14. balcony -тип должен быть целым и не хватает данных\n",
    "15. locality_name - не хватает данных\n",
    "16. airports_nearest - не хватает данных\n",
    "17. cityCenters_nearest - не хватает данных\n",
    "18. parks_around3000 -тип целые и недостаток данных\n",
    "19. parks_nearest - не хваттает данных\n",
    "20. ponds_around3000 - тип целые и недостаток данных\n",
    "21. ponds_nearest -недостаток данных\n",
    "22. days_exposition- не хвататет данных и тип инт\n"
   ]
  },
  {
   "cell_type": "markdown",
   "metadata": {},
   "source": [
    "<div class=\"alert alert-success\">\n",
    "\n",
    "**Артём:** 👍 Хорошо.\n",
    "  \n",
    "</div> "
   ]
  },
  {
   "cell_type": "markdown",
   "metadata": {},
   "source": [
    "### Предобработка данных"
   ]
  },
  {
   "cell_type": "markdown",
   "metadata": {},
   "source": [
    "\n",
    "\n",
    "Далее буду работать с данными,а именно:\n",
    "    \n",
    " 1.Найду и изучу пропущенные значения в столбцах\n",
    "    \n",
    " 2.Рассмотрю типы данных в каждом столбце\n",
    "    \n",
    " 3.Изучу уникальные значения в столбце с названиями и устраню неявные дубликаты. "
   ]
  },
  {
   "cell_type": "markdown",
   "metadata": {},
   "source": [
    "<div class=\"alert alert-success\">\n",
    "\n",
    "**Артём:** 👍 Принято.\n",
    "  \n",
    "</div> "
   ]
  },
  {
   "cell_type": "code",
   "execution_count": 5,
   "metadata": {
    "scrolled": true
   },
   "outputs": [
    {
     "name": "stdout",
     "output_type": "stream",
     "text": [
      "2.50     3515\n",
      "2.60     1646\n",
      "2.70     1574\n",
      "3.00     1112\n",
      "2.80      993\n",
      "         ... \n",
      "4.25        1\n",
      "3.39        1\n",
      "3.93        1\n",
      "10.30       1\n",
      "4.65        1\n",
      "Name: ceiling_height, Length: 183, dtype: int64\n"
     ]
    }
   ],
   "source": [
    "print(data['ceiling_height'].value_counts())\n"
   ]
  },
  {
   "cell_type": "markdown",
   "metadata": {},
   "source": [
    "\n",
    "\n",
    "Есть большие занчения, такие,как 10 метров\n",
    "Посмотрю,сколько таких значений,больше 4м(обычно меньше 4х)"
   ]
  },
  {
   "cell_type": "markdown",
   "metadata": {},
   "source": [
    "<div class=\"alert alert-success\">\n",
    "\n",
    "**Артём:** 👍 Хорошо.\n",
    "  \n",
    "</div> "
   ]
  },
  {
   "cell_type": "code",
   "execution_count": 6,
   "metadata": {},
   "outputs": [
    {
     "name": "stdout",
     "output_type": "stream",
     "text": [
      "False    23624\n",
      "True        75\n",
      "Name: ceiling_height, dtype: int64\n"
     ]
    }
   ],
   "source": [
    "print((data['ceiling_height'] > 4).value_counts())"
   ]
  },
  {
   "cell_type": "markdown",
   "metadata": {},
   "source": [
    "\n",
    "\n",
    "значений относительно всех-не так много"
   ]
  },
  {
   "cell_type": "markdown",
   "metadata": {},
   "source": [
    "<div class=\"alert alert-success\">\n",
    "\n",
    "**Артём:** 👍 Согласен.\n",
    "  \n",
    "</div> "
   ]
  },
  {
   "cell_type": "code",
   "execution_count": 7,
   "metadata": {},
   "outputs": [
    {
     "name": "stdout",
     "output_type": "stream",
     "text": [
      "5.0     5788\n",
      "9.0     3761\n",
      "16.0    1376\n",
      "12.0    1362\n",
      "4.0     1200\n",
      "10.0    1174\n",
      "25.0    1075\n",
      "6.0      914\n",
      "17.0     833\n",
      "3.0      668\n",
      "7.0      592\n",
      "14.0     553\n",
      "18.0     505\n",
      "24.0     469\n",
      "8.0      390\n",
      "2.0      383\n",
      "15.0     365\n",
      "23.0     352\n",
      "19.0     339\n",
      "22.0     286\n",
      "20.0     271\n",
      "13.0     229\n",
      "11.0     203\n",
      "27.0     164\n",
      "21.0     158\n",
      "26.0     124\n",
      "1.0       25\n",
      "35.0      24\n",
      "28.0      21\n",
      "36.0       3\n",
      "37.0       1\n",
      "34.0       1\n",
      "33.0       1\n",
      "60.0       1\n",
      "29.0       1\n",
      "52.0       1\n",
      "Name: floors_total, dtype: int64\n"
     ]
    },
    {
     "data": {
      "text/html": [
       "<div>\n",
       "<style scoped>\n",
       "    .dataframe tbody tr th:only-of-type {\n",
       "        vertical-align: middle;\n",
       "    }\n",
       "\n",
       "    .dataframe tbody tr th {\n",
       "        vertical-align: top;\n",
       "    }\n",
       "\n",
       "    .dataframe thead th {\n",
       "        text-align: right;\n",
       "    }\n",
       "</style>\n",
       "<table border=\"1\" class=\"dataframe\">\n",
       "  <thead>\n",
       "    <tr style=\"text-align: right;\">\n",
       "      <th></th>\n",
       "      <th>total_images</th>\n",
       "      <th>last_price</th>\n",
       "      <th>total_area</th>\n",
       "      <th>first_day_exposition</th>\n",
       "      <th>rooms</th>\n",
       "      <th>ceiling_height</th>\n",
       "      <th>floors_total</th>\n",
       "      <th>living_area</th>\n",
       "      <th>floor</th>\n",
       "      <th>is_apartment</th>\n",
       "      <th>...</th>\n",
       "      <th>kitchen_area</th>\n",
       "      <th>balcony</th>\n",
       "      <th>locality_name</th>\n",
       "      <th>airports_nearest</th>\n",
       "      <th>cityCenters_nearest</th>\n",
       "      <th>parks_around3000</th>\n",
       "      <th>parks_nearest</th>\n",
       "      <th>ponds_around3000</th>\n",
       "      <th>ponds_nearest</th>\n",
       "      <th>days_exposition</th>\n",
       "    </tr>\n",
       "  </thead>\n",
       "  <tbody>\n",
       "    <tr>\n",
       "      <th>186</th>\n",
       "      <td>12</td>\n",
       "      <td>11640000.0</td>\n",
       "      <td>65.2</td>\n",
       "      <td>2018-10-02T00:00:00</td>\n",
       "      <td>2</td>\n",
       "      <td>NaN</td>\n",
       "      <td>NaN</td>\n",
       "      <td>30.80</td>\n",
       "      <td>4</td>\n",
       "      <td>NaN</td>\n",
       "      <td>...</td>\n",
       "      <td>12.00</td>\n",
       "      <td>NaN</td>\n",
       "      <td>Санкт-Петербург</td>\n",
       "      <td>39197.0</td>\n",
       "      <td>12373.0</td>\n",
       "      <td>1.0</td>\n",
       "      <td>123.0</td>\n",
       "      <td>0.0</td>\n",
       "      <td>NaN</td>\n",
       "      <td>49.0</td>\n",
       "    </tr>\n",
       "    <tr>\n",
       "      <th>237</th>\n",
       "      <td>4</td>\n",
       "      <td>2438033.0</td>\n",
       "      <td>28.1</td>\n",
       "      <td>2016-11-23T00:00:00</td>\n",
       "      <td>1</td>\n",
       "      <td>NaN</td>\n",
       "      <td>NaN</td>\n",
       "      <td>20.75</td>\n",
       "      <td>1</td>\n",
       "      <td>NaN</td>\n",
       "      <td>...</td>\n",
       "      <td>NaN</td>\n",
       "      <td>0.0</td>\n",
       "      <td>Санкт-Петербург</td>\n",
       "      <td>22041.0</td>\n",
       "      <td>17369.0</td>\n",
       "      <td>0.0</td>\n",
       "      <td>NaN</td>\n",
       "      <td>1.0</td>\n",
       "      <td>374.0</td>\n",
       "      <td>251.0</td>\n",
       "    </tr>\n",
       "    <tr>\n",
       "      <th>457</th>\n",
       "      <td>4</td>\n",
       "      <td>9788348.0</td>\n",
       "      <td>70.8</td>\n",
       "      <td>2015-08-01T00:00:00</td>\n",
       "      <td>2</td>\n",
       "      <td>NaN</td>\n",
       "      <td>NaN</td>\n",
       "      <td>38.40</td>\n",
       "      <td>12</td>\n",
       "      <td>NaN</td>\n",
       "      <td>...</td>\n",
       "      <td>10.63</td>\n",
       "      <td>0.0</td>\n",
       "      <td>Санкт-Петербург</td>\n",
       "      <td>37364.0</td>\n",
       "      <td>8322.0</td>\n",
       "      <td>2.0</td>\n",
       "      <td>309.0</td>\n",
       "      <td>2.0</td>\n",
       "      <td>706.0</td>\n",
       "      <td>727.0</td>\n",
       "    </tr>\n",
       "    <tr>\n",
       "      <th>671</th>\n",
       "      <td>4</td>\n",
       "      <td>6051191.0</td>\n",
       "      <td>93.6</td>\n",
       "      <td>2017-04-06T00:00:00</td>\n",
       "      <td>3</td>\n",
       "      <td>NaN</td>\n",
       "      <td>NaN</td>\n",
       "      <td>47.10</td>\n",
       "      <td>8</td>\n",
       "      <td>NaN</td>\n",
       "      <td>...</td>\n",
       "      <td>16.80</td>\n",
       "      <td>0.0</td>\n",
       "      <td>Санкт-Петербург</td>\n",
       "      <td>22041.0</td>\n",
       "      <td>17369.0</td>\n",
       "      <td>0.0</td>\n",
       "      <td>NaN</td>\n",
       "      <td>1.0</td>\n",
       "      <td>374.0</td>\n",
       "      <td>123.0</td>\n",
       "    </tr>\n",
       "    <tr>\n",
       "      <th>1757</th>\n",
       "      <td>5</td>\n",
       "      <td>3600000.0</td>\n",
       "      <td>39.0</td>\n",
       "      <td>2017-04-22T00:00:00</td>\n",
       "      <td>1</td>\n",
       "      <td>NaN</td>\n",
       "      <td>NaN</td>\n",
       "      <td>NaN</td>\n",
       "      <td>9</td>\n",
       "      <td>NaN</td>\n",
       "      <td>...</td>\n",
       "      <td>NaN</td>\n",
       "      <td>0.0</td>\n",
       "      <td>Санкт-Петербург</td>\n",
       "      <td>22735.0</td>\n",
       "      <td>11618.0</td>\n",
       "      <td>1.0</td>\n",
       "      <td>835.0</td>\n",
       "      <td>1.0</td>\n",
       "      <td>652.0</td>\n",
       "      <td>77.0</td>\n",
       "    </tr>\n",
       "    <tr>\n",
       "      <th>...</th>\n",
       "      <td>...</td>\n",
       "      <td>...</td>\n",
       "      <td>...</td>\n",
       "      <td>...</td>\n",
       "      <td>...</td>\n",
       "      <td>...</td>\n",
       "      <td>...</td>\n",
       "      <td>...</td>\n",
       "      <td>...</td>\n",
       "      <td>...</td>\n",
       "      <td>...</td>\n",
       "      <td>...</td>\n",
       "      <td>...</td>\n",
       "      <td>...</td>\n",
       "      <td>...</td>\n",
       "      <td>...</td>\n",
       "      <td>...</td>\n",
       "      <td>...</td>\n",
       "      <td>...</td>\n",
       "      <td>...</td>\n",
       "      <td>...</td>\n",
       "    </tr>\n",
       "    <tr>\n",
       "      <th>22542</th>\n",
       "      <td>5</td>\n",
       "      <td>8500000.0</td>\n",
       "      <td>63.5</td>\n",
       "      <td>2017-05-24T00:00:00</td>\n",
       "      <td>2</td>\n",
       "      <td>2.8</td>\n",
       "      <td>NaN</td>\n",
       "      <td>NaN</td>\n",
       "      <td>3</td>\n",
       "      <td>NaN</td>\n",
       "      <td>...</td>\n",
       "      <td>NaN</td>\n",
       "      <td>NaN</td>\n",
       "      <td>Санкт-Петербург</td>\n",
       "      <td>51340.0</td>\n",
       "      <td>15363.0</td>\n",
       "      <td>0.0</td>\n",
       "      <td>NaN</td>\n",
       "      <td>1.0</td>\n",
       "      <td>853.0</td>\n",
       "      <td>512.0</td>\n",
       "    </tr>\n",
       "    <tr>\n",
       "      <th>22656</th>\n",
       "      <td>4</td>\n",
       "      <td>4574160.0</td>\n",
       "      <td>64.5</td>\n",
       "      <td>2017-04-02T00:00:00</td>\n",
       "      <td>2</td>\n",
       "      <td>NaN</td>\n",
       "      <td>NaN</td>\n",
       "      <td>31.70</td>\n",
       "      <td>20</td>\n",
       "      <td>NaN</td>\n",
       "      <td>...</td>\n",
       "      <td>14.40</td>\n",
       "      <td>0.0</td>\n",
       "      <td>Санкт-Петербург</td>\n",
       "      <td>22041.0</td>\n",
       "      <td>17369.0</td>\n",
       "      <td>0.0</td>\n",
       "      <td>NaN</td>\n",
       "      <td>1.0</td>\n",
       "      <td>374.0</td>\n",
       "      <td>127.0</td>\n",
       "    </tr>\n",
       "    <tr>\n",
       "      <th>22808</th>\n",
       "      <td>0</td>\n",
       "      <td>14569263.0</td>\n",
       "      <td>110.4</td>\n",
       "      <td>2016-11-20T00:00:00</td>\n",
       "      <td>3</td>\n",
       "      <td>NaN</td>\n",
       "      <td>NaN</td>\n",
       "      <td>45.38</td>\n",
       "      <td>6</td>\n",
       "      <td>NaN</td>\n",
       "      <td>...</td>\n",
       "      <td>23.42</td>\n",
       "      <td>0.0</td>\n",
       "      <td>Санкт-Петербург</td>\n",
       "      <td>19095.0</td>\n",
       "      <td>4529.0</td>\n",
       "      <td>0.0</td>\n",
       "      <td>NaN</td>\n",
       "      <td>0.0</td>\n",
       "      <td>NaN</td>\n",
       "      <td>260.0</td>\n",
       "    </tr>\n",
       "    <tr>\n",
       "      <th>23590</th>\n",
       "      <td>0</td>\n",
       "      <td>21187872.0</td>\n",
       "      <td>123.3</td>\n",
       "      <td>2017-04-25T00:00:00</td>\n",
       "      <td>3</td>\n",
       "      <td>NaN</td>\n",
       "      <td>NaN</td>\n",
       "      <td>50.40</td>\n",
       "      <td>18</td>\n",
       "      <td>NaN</td>\n",
       "      <td>...</td>\n",
       "      <td>23.60</td>\n",
       "      <td>0.0</td>\n",
       "      <td>Санкт-Петербург</td>\n",
       "      <td>19095.0</td>\n",
       "      <td>4529.0</td>\n",
       "      <td>0.0</td>\n",
       "      <td>NaN</td>\n",
       "      <td>0.0</td>\n",
       "      <td>NaN</td>\n",
       "      <td>104.0</td>\n",
       "    </tr>\n",
       "    <tr>\n",
       "      <th>23658</th>\n",
       "      <td>6</td>\n",
       "      <td>3063600.0</td>\n",
       "      <td>43.8</td>\n",
       "      <td>2016-11-28T00:00:00</td>\n",
       "      <td>1</td>\n",
       "      <td>2.7</td>\n",
       "      <td>NaN</td>\n",
       "      <td>14.00</td>\n",
       "      <td>8</td>\n",
       "      <td>NaN</td>\n",
       "      <td>...</td>\n",
       "      <td>15.50</td>\n",
       "      <td>2.0</td>\n",
       "      <td>Санкт-Петербург</td>\n",
       "      <td>8426.0</td>\n",
       "      <td>12082.0</td>\n",
       "      <td>2.0</td>\n",
       "      <td>24.0</td>\n",
       "      <td>1.0</td>\n",
       "      <td>271.0</td>\n",
       "      <td>246.0</td>\n",
       "    </tr>\n",
       "  </tbody>\n",
       "</table>\n",
       "<p>86 rows × 22 columns</p>\n",
       "</div>"
      ],
      "text/plain": [
       "       total_images  last_price  total_area first_day_exposition  rooms  \\\n",
       "186              12  11640000.0        65.2  2018-10-02T00:00:00      2   \n",
       "237               4   2438033.0        28.1  2016-11-23T00:00:00      1   \n",
       "457               4   9788348.0        70.8  2015-08-01T00:00:00      2   \n",
       "671               4   6051191.0        93.6  2017-04-06T00:00:00      3   \n",
       "1757              5   3600000.0        39.0  2017-04-22T00:00:00      1   \n",
       "...             ...         ...         ...                  ...    ...   \n",
       "22542             5   8500000.0        63.5  2017-05-24T00:00:00      2   \n",
       "22656             4   4574160.0        64.5  2017-04-02T00:00:00      2   \n",
       "22808             0  14569263.0       110.4  2016-11-20T00:00:00      3   \n",
       "23590             0  21187872.0       123.3  2017-04-25T00:00:00      3   \n",
       "23658             6   3063600.0        43.8  2016-11-28T00:00:00      1   \n",
       "\n",
       "       ceiling_height  floors_total  living_area  floor is_apartment  ...  \\\n",
       "186               NaN           NaN        30.80      4          NaN  ...   \n",
       "237               NaN           NaN        20.75      1          NaN  ...   \n",
       "457               NaN           NaN        38.40     12          NaN  ...   \n",
       "671               NaN           NaN        47.10      8          NaN  ...   \n",
       "1757              NaN           NaN          NaN      9          NaN  ...   \n",
       "...               ...           ...          ...    ...          ...  ...   \n",
       "22542             2.8           NaN          NaN      3          NaN  ...   \n",
       "22656             NaN           NaN        31.70     20          NaN  ...   \n",
       "22808             NaN           NaN        45.38      6          NaN  ...   \n",
       "23590             NaN           NaN        50.40     18          NaN  ...   \n",
       "23658             2.7           NaN        14.00      8          NaN  ...   \n",
       "\n",
       "       kitchen_area  balcony    locality_name  airports_nearest  \\\n",
       "186           12.00      NaN  Санкт-Петербург           39197.0   \n",
       "237             NaN      0.0  Санкт-Петербург           22041.0   \n",
       "457           10.63      0.0  Санкт-Петербург           37364.0   \n",
       "671           16.80      0.0  Санкт-Петербург           22041.0   \n",
       "1757            NaN      0.0  Санкт-Петербург           22735.0   \n",
       "...             ...      ...              ...               ...   \n",
       "22542           NaN      NaN  Санкт-Петербург           51340.0   \n",
       "22656         14.40      0.0  Санкт-Петербург           22041.0   \n",
       "22808         23.42      0.0  Санкт-Петербург           19095.0   \n",
       "23590         23.60      0.0  Санкт-Петербург           19095.0   \n",
       "23658         15.50      2.0  Санкт-Петербург            8426.0   \n",
       "\n",
       "      cityCenters_nearest  parks_around3000  parks_nearest  ponds_around3000  \\\n",
       "186               12373.0               1.0          123.0               0.0   \n",
       "237               17369.0               0.0            NaN               1.0   \n",
       "457                8322.0               2.0          309.0               2.0   \n",
       "671               17369.0               0.0            NaN               1.0   \n",
       "1757              11618.0               1.0          835.0               1.0   \n",
       "...                   ...               ...            ...               ...   \n",
       "22542             15363.0               0.0            NaN               1.0   \n",
       "22656             17369.0               0.0            NaN               1.0   \n",
       "22808              4529.0               0.0            NaN               0.0   \n",
       "23590              4529.0               0.0            NaN               0.0   \n",
       "23658             12082.0               2.0           24.0               1.0   \n",
       "\n",
       "       ponds_nearest  days_exposition  \n",
       "186              NaN             49.0  \n",
       "237            374.0            251.0  \n",
       "457            706.0            727.0  \n",
       "671            374.0            123.0  \n",
       "1757           652.0             77.0  \n",
       "...              ...              ...  \n",
       "22542          853.0            512.0  \n",
       "22656          374.0            127.0  \n",
       "22808            NaN            260.0  \n",
       "23590            NaN            104.0  \n",
       "23658          271.0            246.0  \n",
       "\n",
       "[86 rows x 22 columns]"
      ]
     },
     "metadata": {},
     "output_type": "display_data"
    }
   ],
   "source": [
    "print(data['floors_total'].value_counts())\n",
    "display(data[data['floors_total'].isna()])"
   ]
  },
  {
   "cell_type": "markdown",
   "metadata": {},
   "source": [
    "\n",
    "Пропущенны значениях в количествах этаже- пока не понятно чем заменить NaN    \n"
   ]
  },
  {
   "cell_type": "markdown",
   "metadata": {},
   "source": [
    "<div class=\"alert alert-success\">\n",
    "\n",
    "**Артём:** 👍 Согласен.\n",
    "  \n",
    "</div> "
   ]
  },
  {
   "cell_type": "code",
   "execution_count": 8,
   "metadata": {},
   "outputs": [
    {
     "name": "stdout",
     "output_type": "stream",
     "text": [
      "0        False\n",
      "1        False\n",
      "2        False\n",
      "3        False\n",
      "4        False\n",
      "         ...  \n",
      "23694    False\n",
      "23695    False\n",
      "23696    False\n",
      "23697    False\n",
      "23698    False\n",
      "Name: is_apartment, Length: 23699, dtype: bool\n"
     ]
    }
   ],
   "source": [
    "data['is_apartment'] =data['is_apartment'].fillna(False)\n",
    "print(data['is_apartment'])"
   ]
  },
  {
   "cell_type": "markdown",
   "metadata": {},
   "source": [
    "\n",
    "    \n",
    "заполню все пустые в апартаментах на False,так как если не указано,что это апртаменты,\n",
    "то,скорее всего,это не они,не так часто встречаются на рынке   "
   ]
  },
  {
   "cell_type": "markdown",
   "metadata": {},
   "source": [
    "<div class=\"alert alert-success\">\n",
    "\n",
    "**Артём:** 👍 Согласен.\n",
    "  \n",
    "</div> "
   ]
  },
  {
   "cell_type": "code",
   "execution_count": 9,
   "metadata": {},
   "outputs": [
    {
     "name": "stdout",
     "output_type": "stream",
     "text": [
      "18.00    882\n",
      "17.00    675\n",
      "30.00    598\n",
      "16.00    486\n",
      "20.00    481\n",
      "        ... \n",
      "96.40      1\n",
      "50.26      1\n",
      "43.81      1\n",
      "54.43      1\n",
      "16.74      1\n",
      "Name: living_area, Length: 1782, dtype: int64\n"
     ]
    }
   ],
   "source": [
    "data['living_area']\n",
    "print(data['living_area'].value_counts())"
   ]
  },
  {
   "cell_type": "markdown",
   "metadata": {},
   "source": [
    "<div class=\"alert alert-success\">\n",
    "\n",
    "**Артём:**  Мне нравится ход твое мысли, но важно учитывать и другое. Допустим 3 комнаты по 50 метров - это 150, и 3 по 15 - это 45. В таком случае лучше заполнять через коэффициент к общей полщади.\n",
    "  \n",
    "</div> "
   ]
  },
  {
   "cell_type": "markdown",
   "metadata": {},
   "source": [
    "<div style=\"background-color:lavender; color:#black; text-align:center; padding:2%\">\n",
    "    \n",
    "Пока не буду запонять пропущенные значения,но про коэффициент поняла,не додумалась до него,спасибо"
   ]
  },
  {
   "cell_type": "markdown",
   "metadata": {},
   "source": [
    "<div class=\"alert alert-success\">\n",
    "\n",
    "**Артём:** 👍 Рад помочь."
   ]
  },
  {
   "cell_type": "code",
   "execution_count": 10,
   "metadata": {},
   "outputs": [
    {
     "name": "stdout",
     "output_type": "stream",
     "text": [
      "6.00     1300\n",
      "10.00    1262\n",
      "8.00     1110\n",
      "9.00     1101\n",
      "7.00     1062\n",
      "         ... \n",
      "7.12        1\n",
      "13.73       1\n",
      "14.74       1\n",
      "53.10       1\n",
      "16.74       1\n",
      "Name: kitchen_area, Length: 971, dtype: int64\n"
     ]
    }
   ],
   "source": [
    "data['kitchen_area']\n",
    "print(data['kitchen_area'].value_counts())"
   ]
  },
  {
   "cell_type": "markdown",
   "metadata": {},
   "source": [
    "\n",
    "\n",
    "Ничего пока что делать не буду с площадью кухни"
   ]
  },
  {
   "cell_type": "markdown",
   "metadata": {},
   "source": [
    "<div class=\"alert alert-success\">\n",
    "\n",
    "**Артём:** 👍 Средним точно не стоит, причину я написал выше. Можно через коэффициент, а еще можно не заполнять. \n",
    "  \n",
    "</div> "
   ]
  },
  {
   "cell_type": "markdown",
   "metadata": {},
   "source": [
    "\n",
    "    \n",
    "    \n",
    "Если не указано количество балконов,то,скорее всего,его нет-заменим на 0"
   ]
  },
  {
   "cell_type": "markdown",
   "metadata": {},
   "source": [
    "<div class=\"alert alert-success\">\n",
    "\n",
    "**Артём:** 👍 Согласен.\n",
    "  \n",
    "</div> "
   ]
  },
  {
   "cell_type": "code",
   "execution_count": 11,
   "metadata": {
    "scrolled": true
   },
   "outputs": [
    {
     "name": "stdout",
     "output_type": "stream",
     "text": [
      "0    15277\n",
      "1     4195\n",
      "2     3659\n",
      "5      304\n",
      "4      183\n",
      "3       81\n",
      "Name: balcony, dtype: int64\n"
     ]
    }
   ],
   "source": [
    "data['balcony'] = data['balcony'].fillna(0)\n",
    "data['balcony'] = data['balcony'].astype('int')\n",
    "print(data['balcony'].value_counts())"
   ]
  },
  {
   "cell_type": "code",
   "execution_count": 12,
   "metadata": {
    "scrolled": true
   },
   "outputs": [
    {
     "name": "stdout",
     "output_type": "stream",
     "text": [
      "Санкт-Петербург                  15721\n",
      "посёлок Мурино                     522\n",
      "посёлок Шушары                     440\n",
      "Всеволожск                         398\n",
      "Пушкин                             369\n",
      "                                 ...  \n",
      "деревня Пижма                        1\n",
      "поселок Усть-Луга                    1\n",
      "посёлок Пансионат Зелёный Бор        1\n",
      "посёлок Форт Красная Горка           1\n",
      "посёлок Высокоключевой               1\n",
      "Name: locality_name, Length: 364, dtype: int64\n"
     ]
    }
   ],
   "source": [
    "print(data['locality_name'].value_counts())"
   ]
  },
  {
   "cell_type": "markdown",
   "metadata": {},
   "source": [
    "\n",
    "    \n",
    "    \n",
    "в locality_name почему пропущены, возможно,что при выставлении объявления не задумывались,\n",
    "что может быть лен область"
   ]
  },
  {
   "cell_type": "markdown",
   "metadata": {},
   "source": [
    "<div class=\"alert alert-success\">\n",
    "\n",
    "**Артём:** 👍 Возможно.\n",
    "  \n",
    "</div> "
   ]
  },
  {
   "cell_type": "markdown",
   "metadata": {},
   "source": [
    "\n",
    "    \n",
    "и соответственно(?) автоматически не посчиталось airports_nearest & cityCenters_nearest и так же с парками и водоемами\n",
    "проверим это"
   ]
  },
  {
   "cell_type": "code",
   "execution_count": 13,
   "metadata": {},
   "outputs": [
    {
     "name": "stdout",
     "output_type": "stream",
     "text": [
      "8\n"
     ]
    }
   ],
   "source": [
    "print( (data['airports_nearest'].isnull() & data['cityCenters_nearest'].isnull()\n",
    "        & data['locality_name'].isnull()).sum()\n",
    "     )"
   ]
  },
  {
   "cell_type": "markdown",
   "metadata": {},
   "source": [
    "\n",
    "    \n",
    "изменим тип данных в столбце даты"
   ]
  },
  {
   "cell_type": "markdown",
   "metadata": {},
   "source": [
    "<div class=\"alert alert-success\">\n",
    "\n",
    "**Артём:** 👍 Хорошо.\n",
    "  \n",
    "</div> "
   ]
  },
  {
   "cell_type": "code",
   "execution_count": 14,
   "metadata": {
    "scrolled": true
   },
   "outputs": [
    {
     "name": "stdout",
     "output_type": "stream",
     "text": [
      "0       2019-03-07\n",
      "1       2018-12-04\n",
      "2       2015-08-20\n",
      "3       2015-07-24\n",
      "4       2018-06-19\n",
      "           ...    \n",
      "23694   2017-03-21\n",
      "23695   2018-01-15\n",
      "23696   2018-02-11\n",
      "23697   2017-03-28\n",
      "23698   2017-07-21\n",
      "Name: first_day_exposition, Length: 23699, dtype: datetime64[ns]\n"
     ]
    }
   ],
   "source": [
    "data['first_day_exposition'] = pd.to_datetime(data['first_day_exposition'], format = '%Y-%m-%d')\n",
    "print(data['first_day_exposition'])"
   ]
  },
  {
   "cell_type": "code",
   "execution_count": 15,
   "metadata": {},
   "outputs": [
    {
     "data": {
      "text/plain": [
       "23699"
      ]
     },
     "execution_count": 15,
     "metadata": {},
     "output_type": "execute_result"
    }
   ],
   "source": [
    "len(data['days_exposition'])"
   ]
  },
  {
   "cell_type": "markdown",
   "metadata": {},
   "source": [
    "<div style=\"background-color:lavender; color:#black; text-align:center; padding:2%\">\n",
    "\n",
    "Изменяю тип данных"
   ]
  },
  {
   "cell_type": "code",
   "execution_count": 16,
   "metadata": {},
   "outputs": [
    {
     "name": "stdout",
     "output_type": "stream",
     "text": [
      "0          0\n",
      "1         81\n",
      "2        558\n",
      "3        424\n",
      "4        121\n",
      "        ... \n",
      "23694      0\n",
      "23695     45\n",
      "23696      0\n",
      "23697    602\n",
      "23698      0\n",
      "Name: days_exposition, Length: 23699, dtype: int64\n"
     ]
    }
   ],
   "source": [
    "data['days_exposition'] = data['days_exposition'].fillna(0).astype('int')\n",
    "print(data['days_exposition'])"
   ]
  },
  {
   "cell_type": "markdown",
   "metadata": {},
   "source": [
    "<div class=\"alert alert-success\">\n",
    "\n",
    "**Артём:** 👍 Здорово, что ты попыталась заполнить пропущенные значения в этом столбце, но лучше их не заполнять. Во-первых, причин, влияющих на время продажи, может быть множество, например состояние квартиры, соседи, наличие вредных предприятий и про это в нашем датафрейме информации нет. Во-вторых, возможно, они не заполнены не просто так.\n",
    "    \n",
    "\n",
    "  \n",
    "</div> "
   ]
  },
  {
   "cell_type": "markdown",
   "metadata": {},
   "source": [
    "<div class=\"alert alert-info\">\n",
    "\n",
    "#### **Артём:** 💡 Расскажу на будущее, если тебе нужно изменить тип данных на integer, но в толбце есть NaNы, то можно сделать так:\n",
    "\n",
    "```py\n",
    "data['days_exposition'] = data['days_exposition'].astype('Int64', errors='ignore')\n",
    "```\n",
    "    \n",
    "</div>"
   ]
  },
  {
   "cell_type": "markdown",
   "metadata": {},
   "source": [
    "<div style=\"background-color:lavender; color:#black; text-align:center; padding:2%\">\n",
    "    \n",
    "Этим методом не вышло изменить,так и не поняла почему,они остались float"
   ]
  },
  {
   "cell_type": "markdown",
   "metadata": {},
   "source": [
    "<div class=\"alert alert-success\">\n",
    "\n",
    "**Артём:** 👍 Точно, не заметил, с ходу не дам подсказку, нужно посмотреть, если будет еще одна итерация, напишу. \n",
    "\n",
    "</div>"
   ]
  },
  {
   "cell_type": "markdown",
   "metadata": {},
   "source": [
    "\n",
    "\n",
    "Работаю с дубликатами в названиях"
   ]
  },
  {
   "cell_type": "code",
   "execution_count": 17,
   "metadata": {},
   "outputs": [],
   "source": [
    "data['locality_name'] = (\n",
    "    data['locality_name']\n",
    "    .str.replace('ё', 'е')\n",
    "    .replace(['городской поселок', 'поселок городского типа'], 'поселок', regex=True)\n",
    ") \n",
    "#data['locality_name'].unique()"
   ]
  },
  {
   "cell_type": "markdown",
   "metadata": {},
   "source": [
    "<div class=\"alert alert-success\">\n",
    "\n",
    "**Артём:** 👍 Верно. \n",
    "\n",
    "</div>"
   ]
  },
  {
   "cell_type": "markdown",
   "metadata": {},
   "source": [
    "\n",
    "\n",
    "Посмотрю на результат\n",
    "    "
   ]
  },
  {
   "cell_type": "code",
   "execution_count": 18,
   "metadata": {},
   "outputs": [
    {
     "name": "stdout",
     "output_type": "stream",
     "text": [
      "<class 'pandas.core.frame.DataFrame'>\n",
      "RangeIndex: 23699 entries, 0 to 23698\n",
      "Data columns (total 22 columns):\n",
      " #   Column                Non-Null Count  Dtype         \n",
      "---  ------                --------------  -----         \n",
      " 0   total_images          23699 non-null  int64         \n",
      " 1   last_price            23699 non-null  float64       \n",
      " 2   total_area            23699 non-null  float64       \n",
      " 3   first_day_exposition  23699 non-null  datetime64[ns]\n",
      " 4   rooms                 23699 non-null  int64         \n",
      " 5   ceiling_height        14504 non-null  float64       \n",
      " 6   floors_total          23613 non-null  float64       \n",
      " 7   living_area           21796 non-null  float64       \n",
      " 8   floor                 23699 non-null  int64         \n",
      " 9   is_apartment          23699 non-null  bool          \n",
      " 10  studio                23699 non-null  bool          \n",
      " 11  open_plan             23699 non-null  bool          \n",
      " 12  kitchen_area          21421 non-null  float64       \n",
      " 13  balcony               23699 non-null  int64         \n",
      " 14  locality_name         23650 non-null  object        \n",
      " 15  airports_nearest      18157 non-null  float64       \n",
      " 16  cityCenters_nearest   18180 non-null  float64       \n",
      " 17  parks_around3000      18181 non-null  float64       \n",
      " 18  parks_nearest         8079 non-null   float64       \n",
      " 19  ponds_around3000      18181 non-null  float64       \n",
      " 20  ponds_nearest         9110 non-null   float64       \n",
      " 21  days_exposition       23699 non-null  int64         \n",
      "dtypes: bool(3), datetime64[ns](1), float64(12), int64(5), object(1)\n",
      "memory usage: 3.5+ MB\n"
     ]
    }
   ],
   "source": [
    "data.info()"
   ]
  },
  {
   "cell_type": "code",
   "execution_count": 19,
   "metadata": {},
   "outputs": [
    {
     "data": {
      "text/plain": [
       "27.0     8\n",
       "25.0     7\n",
       "8.0      3\n",
       "5.3      2\n",
       "32.0     2\n",
       "14.0     1\n",
       "5.2      1\n",
       "6.0      1\n",
       "8.3      1\n",
       "5.6      1\n",
       "5.8      1\n",
       "10.3     1\n",
       "5.5      1\n",
       "20.0     1\n",
       "26.0     1\n",
       "22.6     1\n",
       "27.5     1\n",
       "24.0     1\n",
       "100.0    1\n",
       "Name: ceiling_height, dtype: int64"
      ]
     },
     "execution_count": 19,
     "metadata": {},
     "output_type": "execute_result"
    }
   ],
   "source": [
    "data[data['ceiling_height'] > 5]['ceiling_height'].value_counts()"
   ]
  },
  {
   "cell_type": "markdown",
   "metadata": {},
   "source": [
    "\n",
    "    \n",
    "**Выводы по обработке данным:**\n",
    "    \n",
    "\n",
    "1.В ceiling_height есть необычно большиезначения, но,может быть так и есть,я бы уточнила по данным\n",
    "    \n",
    "2.Пропущенные значения floors_total, living_area, kitchen_area присутсвуют,стоит ли их удалять,\n",
    "это уже далее,если они будут как-то мешать анализу\n",
    "    \n",
    "3.airports_nearest, cityCenters_nearest, parks_around3000,ponds_around3000, ponds_nearest- запоняются \n",
    "автоматически и так же могут не пригодиться для анализа,посмотрим далее\n",
    "    "
   ]
  },
  {
   "cell_type": "markdown",
   "metadata": {},
   "source": [
    "<div class=\"alert alert-success\">\n",
    "\n",
    "**Артём:** 👍 Сомневаюсь, что есть потолки 27, 32, 100 метров. А в остальном молодец. \n",
    "\n",
    "</div>"
   ]
  },
  {
   "cell_type": "markdown",
   "metadata": {},
   "source": [
    "<div class=\"alert alert-success\">\n",
    "\n",
    "**Артём:**  По условиям брифа:\n",
    "\n",
    "```\n",
    "Оформление\n",
    "\n",
    "Выполните задание в Jupyter Notebook. Заполните программный код в ячейках типа code, текстовые пояснения — в ячейках типа markdown. Примените форматирование и заголовки.\n",
    "```\n",
    "    \n",
    "\n",
    "</div>"
   ]
  },
  {
   "cell_type": "markdown",
   "metadata": {},
   "source": [
    "<div class=\"alert alert-success\">\n",
    "\n",
    "**Артём:**  Когда комментарий или код прешывает 79 символов в строке - это стилистическая ошибка с точки зрения международных стандартов ([PEP 8](https://www.python.org/dev/peps/pep-0008/)) разработчиков на Python. \n",
    "    \n",
    "\n",
    "</div>"
   ]
  },
  {
   "cell_type": "markdown",
   "metadata": {},
   "source": [
    "<div class=\"alert alert-success\">\n",
    "\n",
    "**Артём:**  На основании чего сделан вывод, что в столбце `ceiling_height` есть большие значения? Нужно вывести подтверждающую информацию на экран.\n",
    "    \n",
    "</div>"
   ]
  },
  {
   "cell_type": "markdown",
   "metadata": {},
   "source": [
    "<div class=\"alert alert-success\">\n",
    "\n",
    "**Артём:**  Для чего писать код который выводит информацию на экран, если он этого не делает?\n",
    "\n",
    "```py\n",
    "data['ceiling_height'].value_counts()\n",
    "(data['ceiling_height'] > 4).value_counts()\n",
    "data['floors_total'].value_counts()\n",
    "data[data['floors_total'].isna()]\n",
    "data['is_apartment']\n",
    "data['living_area']\n",
    "data['living_area'].value_counts()\n",
    "data['balcony'].value_counts()\n",
    "data['locality_name'].value_counts()\n",
    "(data['airports_nearest'].isnull() & data['cityCenters_nearest'].isnull() & data['locality_name'].isnull()).sum()\n",
    "data['first_day_exposition']\n",
    "data['days_exposition']\n",
    "```\n",
    "\n",
    "Нужно сделать все выводы на экран, для подтверждения выводов.\n",
    "    \n",
    "</div>"
   ]
  },
  {
   "cell_type": "markdown",
   "metadata": {},
   "source": [
    "<div class=\"alert alert-success\">\n",
    "\n",
    "**Артём:**  Это аналитическое исследование, поэтому важно добавлять промежуточные выводы в конце шага.\n",
    "    \n",
    "По условиям брифа:\n",
    "```\n",
    "Мы подготовили критерии оценки проекта. Прежде чем решать кейс, внимательно изучите их.\n",
    "На что обращают внимание ревьюеры, когда проверяют ваш проект:\n",
    "...\n",
    "Какие выводы вы делаете?   \n",
    "Оставляете ли вы комментарии к шагам?   \n",
    "```    \n",
    "</div>"
   ]
  },
  {
   "cell_type": "markdown",
   "metadata": {},
   "source": [
    "### Посчитайте и добавьте в таблицу новые столбцы"
   ]
  },
  {
   "cell_type": "markdown",
   "metadata": {},
   "source": [
    "\n",
    "    \n",
    "Работаю с таблицей,буду добавлять новые столбцы для дальнейшего анализа"
   ]
  },
  {
   "cell_type": "markdown",
   "metadata": {},
   "source": [
    "\n",
    "\n",
    "Столбец стоимости квадратного метра"
   ]
  },
  {
   "cell_type": "code",
   "execution_count": 20,
   "metadata": {},
   "outputs": [],
   "source": [
    "data['price_meter'] = (data['last_price'] / data['total_area']).astype('int')"
   ]
  },
  {
   "cell_type": "markdown",
   "metadata": {},
   "source": [
    "\n",
    "\n",
    "Cоздаю столбец дня недели"
   ]
  },
  {
   "cell_type": "code",
   "execution_count": 21,
   "metadata": {},
   "outputs": [],
   "source": [
    "data['weekday'] = data['first_day_exposition'].dt.weekday\n"
   ]
  },
  {
   "cell_type": "markdown",
   "metadata": {},
   "source": [
    "\n",
    "\n",
    "Cоздаю столбец месяца"
   ]
  },
  {
   "cell_type": "code",
   "execution_count": 22,
   "metadata": {},
   "outputs": [],
   "source": [
    "data['month'] = data['first_day_exposition'].dt.month"
   ]
  },
  {
   "cell_type": "markdown",
   "metadata": {},
   "source": [
    "\n",
    "\n",
    "Cоздаю столбец года"
   ]
  },
  {
   "cell_type": "code",
   "execution_count": 23,
   "metadata": {},
   "outputs": [],
   "source": [
    "data['year'] = data['first_day_exposition'].dt.year"
   ]
  },
  {
   "cell_type": "markdown",
   "metadata": {},
   "source": [
    "\n",
    "\n",
    "Создаю столбец с этажами с помощью функции\n"
   ]
  },
  {
   "cell_type": "code",
   "execution_count": 24,
   "metadata": {},
   "outputs": [
    {
     "name": "stdout",
     "output_type": "stream",
     "text": [
      "0        другой\n",
      "1        первый\n",
      "2        другой\n",
      "3        другой\n",
      "4        другой\n",
      "          ...  \n",
      "23694    другой\n",
      "23695    другой\n",
      "23696    первый\n",
      "23697    другой\n",
      "23698    первый\n",
      "Name: floor_numb, Length: 23699, dtype: object\n"
     ]
    }
   ],
   "source": [
    "def floor_numb(i):\n",
    "    floors_total = i['floors_total']\n",
    "    floor = i['floor']\n",
    "    if floor == 1:\n",
    "        return 'первый'\n",
    "    elif floor == floors_total:\n",
    "        return 'последний'\n",
    "    elif 1 < floor < floors_total:\n",
    "        return 'другой'\n",
    "data['floor_numb'] = data.apply(floor_numb, axis = 1)\n",
    "\n",
    "print(data['floor_numb'])\n"
   ]
  },
  {
   "cell_type": "markdown",
   "metadata": {},
   "source": [
    "\n",
    "    \n",
    "перевожу расстояние до центра в км    "
   ]
  },
  {
   "cell_type": "code",
   "execution_count": 25,
   "metadata": {},
   "outputs": [
    {
     "data": {
      "text/plain": [
       "0    16.028\n",
       "1    18.603\n",
       "2    13.933\n",
       "3     6.800\n",
       "4     8.098\n",
       "Name: cityCenters_nearest_km, dtype: float64"
      ]
     },
     "execution_count": 25,
     "metadata": {},
     "output_type": "execute_result"
    }
   ],
   "source": [
    "\n",
    "data['cityCenters_nearest_km']=data['cityCenters_nearest']/1000\n",
    "data['cityCenters_nearest_km'].head()\n",
    "\n",
    "\n"
   ]
  },
  {
   "cell_type": "markdown",
   "metadata": {},
   "source": [
    "<div class=\"alert alert-success\">\n",
    "\n",
    "**Артём:**  По условиям брифа:\n",
    "```\n",
    "Мы подготовили критерии оценки проекта. Прежде чем решать кейс, внимательно изучите их.\n",
    "На что обращают внимание ревьюеры, когда проверяют ваш проект:\n",
    "...\n",
    "Какие выводы вы делаете?   \n",
    "Оставляете ли вы комментарии к шагам?   \n",
    "```    \n",
    "</div>"
   ]
  },
  {
   "cell_type": "markdown",
   "metadata": {},
   "source": [
    "<div class=\"alert alert-success\">\n",
    "\n",
    "**Артём:** 👍 С точки зрения кода все отлично. \n",
    "\n",
    "</div>"
   ]
  },
  {
   "cell_type": "markdown",
   "metadata": {},
   "source": [
    "<div class=\"alert alert-success\">\n",
    "\n",
    "**Артём:**  Не хватает пормежуточного вывода к шагу.\n",
    "```\n",
    "Мы подготовили критерии оценки проекта. Прежде чем решать кейс, внимательно изучите их.\n",
    "На что обращают внимание ревьюеры, когда проверяют ваш проект:\n",
    "...\n",
    "Какие выводы вы делаете?   \n",
    "Оставляете ли вы комментарии к шагам?   \n",
    "```    \n",
    "</div>"
   ]
  },
  {
   "cell_type": "markdown",
   "metadata": {},
   "source": [
    "<div style=\"background-color:lavender; color:#black; text-align:center; padding:2%\">\n",
    "    \n",
    "**Вывод:**\n",
    "В целом,данные достаточно \"грязные\",посмотрим дальше,как это скажется на исследовании\n",
    "    \n",
    "PS: честно,до меня так и не дошло,что нужно в данном выводе написать)"
   ]
  },
  {
   "cell_type": "markdown",
   "metadata": {},
   "source": [
    "<div class=\"alert alert-success\">\n",
    "\n",
    "**Артём:** 👍 Здесь достаточно было перечислить добавленные столбцы. \n",
    "\n",
    "</div>"
   ]
  },
  {
   "cell_type": "markdown",
   "metadata": {},
   "source": [
    "### Проведите исследовательский анализ данных"
   ]
  },
  {
   "cell_type": "markdown",
   "metadata": {},
   "source": [
    "\n",
    "\n",
    "**Провожу анализ данных на аномальные значения:**\n"
   ]
  },
  {
   "cell_type": "markdown",
   "metadata": {},
   "source": [
    "\n",
    "    \n",
    "Изучим общую площадь"
   ]
  },
  {
   "cell_type": "code",
   "execution_count": 26,
   "metadata": {
    "scrolled": true
   },
   "outputs": [
    {
     "data": {
      "image/png": "[encoded data removed]",
      "text/plain": [
       "<Figure size 432x216 with 1 Axes>"
      ]
     },
     "metadata": {
      "needs_background": "light"
     },
     "output_type": "display_data"
    }
   ],
   "source": [
    "data.plot(y = 'total_area', kind = 'hist', bins = 100, \n",
    "          grid=True, figsize = (6,3),range = (0,1000))\n",
    "plt.ylabel(\"Частота\")\n",
    "plt.xlabel(\"Общая площадь\")\n",
    "plt.show()"
   ]
  },
  {
   "cell_type": "markdown",
   "metadata": {},
   "source": [
    "<div class=\"alert alert-info\">\n",
    "\n",
    "#### **Артём:** 💡 Знаю, что вы этого еще не проходили, но дам совет на будущее.\n",
    "\n",
    "Чтобы во время совещания не возникало вопросов,\n",
    "`на всех графиках` представленных `в проекте`, лучше добавить:\n",
    "    \n",
    "1. Название на языке заказчика;\n",
    "1. Описание осей на языке заказчика.\n",
    "\n",
    "**Визуализация - это один из главных инструментов при взаимодействии с руководством.** \n",
    "    \n",
    "</div>"
   ]
  },
  {
   "cell_type": "markdown",
   "metadata": {},
   "source": [
    "<div class=\"alert alert-success\">\n",
    "\n",
    "**Артём:** 👍 Все же 900 квадратов это перебор, но принято. \n",
    "\n",
    "</div>"
   ]
  },
  {
   "cell_type": "markdown",
   "metadata": {},
   "source": [
    "<div style=\"background-color:lavender; color:#black; text-align:center; padding:2%\">\n",
    "    \n",
    "Распределение нормальное,выбросы есть - 900 кв м,но вроде как не критичные(может быть это пентхаус))"
   ]
  },
  {
   "cell_type": "markdown",
   "metadata": {},
   "source": [
    "<div class=\"alert alert-success\">\n",
    "\n",
    "**Артём:** 👍 Красиво жить не запретишь. )))\n",
    "\n",
    "</div>"
   ]
  },
  {
   "cell_type": "code",
   "execution_count": 27,
   "metadata": {
    "scrolled": true
   },
   "outputs": [
    {
     "name": "stdout",
     "output_type": "stream",
     "text": [
      "count    23699.000000\n",
      "mean        60.348651\n",
      "std         35.654083\n",
      "min         12.000000\n",
      "25%         40.000000\n",
      "50%         52.000000\n",
      "75%         69.900000\n",
      "max        900.000000\n",
      "Name: total_area, dtype: float64\n"
     ]
    }
   ],
   "source": [
    "print(data['total_area'].describe())"
   ]
  },
  {
   "cell_type": "markdown",
   "metadata": {},
   "source": [
    "\n",
    "изучим жилую площадь"
   ]
  },
  {
   "cell_type": "code",
   "execution_count": 28,
   "metadata": {},
   "outputs": [
    {
     "data": {
      "image/png": "[encoded data removed]",
      "text/plain": [
       "<Figure size 432x216 with 1 Axes>"
      ]
     },
     "metadata": {
      "needs_background": "light"
     },
     "output_type": "display_data"
    }
   ],
   "source": [
    "data.plot(y = 'living_area', kind = 'hist', bins = 100, grid=True, figsize = (6,3),\n",
    "          range = (0,500))\n",
    "plt.ylabel(\"Частота\")\n",
    "plt.xlabel(\"Жилая площадь\")\n",
    "plt.show()\n"
   ]
  },
  {
   "cell_type": "markdown",
   "metadata": {},
   "source": [
    "\n",
    "\n",
    "Распределение нормальное,выбросы есть,но вроде как не критичные"
   ]
  },
  {
   "cell_type": "code",
   "execution_count": 29,
   "metadata": {},
   "outputs": [
    {
     "name": "stdout",
     "output_type": "stream",
     "text": [
      "count    21796.000000\n",
      "mean        34.457852\n",
      "std         22.030445\n",
      "min          2.000000\n",
      "25%         18.600000\n",
      "50%         30.000000\n",
      "75%         42.300000\n",
      "max        409.700000\n",
      "Name: living_area, dtype: float64\n"
     ]
    }
   ],
   "source": [
    "print(data['living_area'].describe())"
   ]
  },
  {
   "cell_type": "markdown",
   "metadata": {},
   "source": [
    "<div class=\"alert alert-success\">\n",
    "\n",
    "**Артём:** 👍 409 тоже много, но возможно. А вот 2 явно не может быть. \n",
    "\n",
    "</div>"
   ]
  },
  {
   "cell_type": "markdown",
   "metadata": {},
   "source": [
    "<div class=\"alert alert-success\">\n",
    "\n",
    "**Артём:** А вот 2 явно не может быть.\n",
    "    \n",
    "</div>"
   ]
  },
  {
   "cell_type": "markdown",
   "metadata": {},
   "source": [
    "<div style=\"background-color:lavender; color:#black; text-align:center; padding:2%\">\n",
    "    \n",
    "    \n",
    "Бывает,что из кладовок делают жилье,там общая площадь 3 квадрата))\n",
    "    \n",
    "    \n"
   ]
  },
  {
   "cell_type": "markdown",
   "metadata": {},
   "source": [
    "<div style=\"background-color:lavender; color:#black; text-align:center; padding:2%\">\n",
    "    \n",
    "Санитарная норма в РФ - это 6 квадратов,поэтому посмотрим на все значения,меньше 6"
   ]
  },
  {
   "cell_type": "markdown",
   "metadata": {},
   "source": [
    "<div class=\"alert alert-success\">\n",
    "\n",
    "**Артём:** 👍 Здорово, что ты выдвигаешь гипотезы! \n",
    "\n",
    "</div>"
   ]
  },
  {
   "cell_type": "code",
   "execution_count": 30,
   "metadata": {
    "scrolled": true
   },
   "outputs": [
    {
     "data": {
      "text/html": [
       "<div>\n",
       "<style scoped>\n",
       "    .dataframe tbody tr th:only-of-type {\n",
       "        vertical-align: middle;\n",
       "    }\n",
       "\n",
       "    .dataframe tbody tr th {\n",
       "        vertical-align: top;\n",
       "    }\n",
       "\n",
       "    .dataframe thead th {\n",
       "        text-align: right;\n",
       "    }\n",
       "</style>\n",
       "<table border=\"1\" class=\"dataframe\">\n",
       "  <thead>\n",
       "    <tr style=\"text-align: right;\">\n",
       "      <th></th>\n",
       "      <th>total_images</th>\n",
       "      <th>last_price</th>\n",
       "      <th>total_area</th>\n",
       "      <th>first_day_exposition</th>\n",
       "      <th>rooms</th>\n",
       "      <th>ceiling_height</th>\n",
       "      <th>floors_total</th>\n",
       "      <th>living_area</th>\n",
       "      <th>floor</th>\n",
       "      <th>is_apartment</th>\n",
       "      <th>...</th>\n",
       "      <th>parks_nearest</th>\n",
       "      <th>ponds_around3000</th>\n",
       "      <th>ponds_nearest</th>\n",
       "      <th>days_exposition</th>\n",
       "      <th>price_meter</th>\n",
       "      <th>weekday</th>\n",
       "      <th>month</th>\n",
       "      <th>year</th>\n",
       "      <th>floor_numb</th>\n",
       "      <th>cityCenters_nearest_km</th>\n",
       "    </tr>\n",
       "  </thead>\n",
       "  <tbody>\n",
       "    <tr>\n",
       "      <th>3242</th>\n",
       "      <td>7</td>\n",
       "      <td>4440000.0</td>\n",
       "      <td>41.0</td>\n",
       "      <td>2017-07-02</td>\n",
       "      <td>1</td>\n",
       "      <td>NaN</td>\n",
       "      <td>17.0</td>\n",
       "      <td>3.0</td>\n",
       "      <td>17</td>\n",
       "      <td>False</td>\n",
       "      <td>...</td>\n",
       "      <td>NaN</td>\n",
       "      <td>0.0</td>\n",
       "      <td>NaN</td>\n",
       "      <td>216</td>\n",
       "      <td>108292</td>\n",
       "      <td>6</td>\n",
       "      <td>7</td>\n",
       "      <td>2017</td>\n",
       "      <td>последний</td>\n",
       "      <td>13.073</td>\n",
       "    </tr>\n",
       "    <tr>\n",
       "      <th>13915</th>\n",
       "      <td>20</td>\n",
       "      <td>6350000.0</td>\n",
       "      <td>52.0</td>\n",
       "      <td>2018-02-06</td>\n",
       "      <td>2</td>\n",
       "      <td>3.0</td>\n",
       "      <td>6.0</td>\n",
       "      <td>2.0</td>\n",
       "      <td>2</td>\n",
       "      <td>False</td>\n",
       "      <td>...</td>\n",
       "      <td>NaN</td>\n",
       "      <td>1.0</td>\n",
       "      <td>1012.0</td>\n",
       "      <td>91</td>\n",
       "      <td>122115</td>\n",
       "      <td>1</td>\n",
       "      <td>2</td>\n",
       "      <td>2018</td>\n",
       "      <td>другой</td>\n",
       "      <td>6.521</td>\n",
       "    </tr>\n",
       "    <tr>\n",
       "      <th>17582</th>\n",
       "      <td>11</td>\n",
       "      <td>2680000.0</td>\n",
       "      <td>22.0</td>\n",
       "      <td>2018-08-11</td>\n",
       "      <td>0</td>\n",
       "      <td>NaN</td>\n",
       "      <td>25.0</td>\n",
       "      <td>5.0</td>\n",
       "      <td>8</td>\n",
       "      <td>False</td>\n",
       "      <td>...</td>\n",
       "      <td>835.0</td>\n",
       "      <td>1.0</td>\n",
       "      <td>652.0</td>\n",
       "      <td>70</td>\n",
       "      <td>121818</td>\n",
       "      <td>5</td>\n",
       "      <td>8</td>\n",
       "      <td>2018</td>\n",
       "      <td>другой</td>\n",
       "      <td>11.618</td>\n",
       "    </tr>\n",
       "    <tr>\n",
       "      <th>21758</th>\n",
       "      <td>0</td>\n",
       "      <td>2330000.0</td>\n",
       "      <td>23.0</td>\n",
       "      <td>2018-01-01</td>\n",
       "      <td>0</td>\n",
       "      <td>NaN</td>\n",
       "      <td>24.0</td>\n",
       "      <td>2.0</td>\n",
       "      <td>22</td>\n",
       "      <td>False</td>\n",
       "      <td>...</td>\n",
       "      <td>NaN</td>\n",
       "      <td>NaN</td>\n",
       "      <td>NaN</td>\n",
       "      <td>66</td>\n",
       "      <td>101304</td>\n",
       "      <td>0</td>\n",
       "      <td>1</td>\n",
       "      <td>2018</td>\n",
       "      <td>другой</td>\n",
       "      <td>NaN</td>\n",
       "    </tr>\n",
       "    <tr>\n",
       "      <th>21943</th>\n",
       "      <td>15</td>\n",
       "      <td>6100000.0</td>\n",
       "      <td>77.6</td>\n",
       "      <td>2019-02-28</td>\n",
       "      <td>4</td>\n",
       "      <td>2.5</td>\n",
       "      <td>9.0</td>\n",
       "      <td>5.4</td>\n",
       "      <td>1</td>\n",
       "      <td>False</td>\n",
       "      <td>...</td>\n",
       "      <td>584.0</td>\n",
       "      <td>0.0</td>\n",
       "      <td>NaN</td>\n",
       "      <td>33</td>\n",
       "      <td>78608</td>\n",
       "      <td>3</td>\n",
       "      <td>2</td>\n",
       "      <td>2019</td>\n",
       "      <td>первый</td>\n",
       "      <td>11.270</td>\n",
       "    </tr>\n",
       "    <tr>\n",
       "      <th>23574</th>\n",
       "      <td>14</td>\n",
       "      <td>64990000.0</td>\n",
       "      <td>139.0</td>\n",
       "      <td>2015-11-24</td>\n",
       "      <td>3</td>\n",
       "      <td>3.0</td>\n",
       "      <td>8.0</td>\n",
       "      <td>3.0</td>\n",
       "      <td>8</td>\n",
       "      <td>False</td>\n",
       "      <td>...</td>\n",
       "      <td>630.0</td>\n",
       "      <td>3.0</td>\n",
       "      <td>100.0</td>\n",
       "      <td>280</td>\n",
       "      <td>467553</td>\n",
       "      <td>1</td>\n",
       "      <td>11</td>\n",
       "      <td>2015</td>\n",
       "      <td>последний</td>\n",
       "      <td>5.975</td>\n",
       "    </tr>\n",
       "  </tbody>\n",
       "</table>\n",
       "<p>6 rows × 28 columns</p>\n",
       "</div>"
      ],
      "text/plain": [
       "       total_images  last_price  total_area first_day_exposition  rooms  \\\n",
       "3242              7   4440000.0        41.0           2017-07-02      1   \n",
       "13915            20   6350000.0        52.0           2018-02-06      2   \n",
       "17582            11   2680000.0        22.0           2018-08-11      0   \n",
       "21758             0   2330000.0        23.0           2018-01-01      0   \n",
       "21943            15   6100000.0        77.6           2019-02-28      4   \n",
       "23574            14  64990000.0       139.0           2015-11-24      3   \n",
       "\n",
       "       ceiling_height  floors_total  living_area  floor  is_apartment  ...  \\\n",
       "3242              NaN          17.0          3.0     17         False  ...   \n",
       "13915             3.0           6.0          2.0      2         False  ...   \n",
       "17582             NaN          25.0          5.0      8         False  ...   \n",
       "21758             NaN          24.0          2.0     22         False  ...   \n",
       "21943             2.5           9.0          5.4      1         False  ...   \n",
       "23574             3.0           8.0          3.0      8         False  ...   \n",
       "\n",
       "       parks_nearest  ponds_around3000  ponds_nearest  days_exposition  \\\n",
       "3242             NaN               0.0            NaN              216   \n",
       "13915            NaN               1.0         1012.0               91   \n",
       "17582          835.0               1.0          652.0               70   \n",
       "21758            NaN               NaN            NaN               66   \n",
       "21943          584.0               0.0            NaN               33   \n",
       "23574          630.0               3.0          100.0              280   \n",
       "\n",
       "      price_meter  weekday  month  year  floor_numb  cityCenters_nearest_km  \n",
       "3242       108292        6      7  2017   последний                  13.073  \n",
       "13915      122115        1      2  2018      другой                   6.521  \n",
       "17582      121818        5      8  2018      другой                  11.618  \n",
       "21758      101304        0      1  2018      другой                     NaN  \n",
       "21943       78608        3      2  2019      первый                  11.270  \n",
       "23574      467553        1     11  2015   последний                   5.975  \n",
       "\n",
       "[6 rows x 28 columns]"
      ]
     },
     "metadata": {},
     "output_type": "display_data"
    }
   ],
   "source": [
    "display(data.query('living_area<6'))"
   ]
  },
  {
   "cell_type": "markdown",
   "metadata": {},
   "source": [
    "<div style=\"background-color:lavender; color:#black; text-align:center; padding:2%\">\n",
    "\n",
    "По некоторым строчкам можно предположить,что не дописали 0 (30,54), но в других 4 строчках это точно не работает,можно записать примерное значение для данной площади - где-то 70 процентов от общей площади"
   ]
  },
  {
   "cell_type": "code",
   "execution_count": 31,
   "metadata": {},
   "outputs": [],
   "source": [
    "data.loc[data['living_area']<6,'living_area']=data['total_area']*0.7"
   ]
  },
  {
   "cell_type": "markdown",
   "metadata": {},
   "source": [
    "<div style=\"background-color:lavender; color:#black; text-align:center; padding:2%\">\n",
    "\n",
    "Проверим еще раз"
   ]
  },
  {
   "cell_type": "code",
   "execution_count": 32,
   "metadata": {},
   "outputs": [
    {
     "data": {
      "text/html": [
       "<div>\n",
       "<style scoped>\n",
       "    .dataframe tbody tr th:only-of-type {\n",
       "        vertical-align: middle;\n",
       "    }\n",
       "\n",
       "    .dataframe tbody tr th {\n",
       "        vertical-align: top;\n",
       "    }\n",
       "\n",
       "    .dataframe thead th {\n",
       "        text-align: right;\n",
       "    }\n",
       "</style>\n",
       "<table border=\"1\" class=\"dataframe\">\n",
       "  <thead>\n",
       "    <tr style=\"text-align: right;\">\n",
       "      <th></th>\n",
       "      <th>total_images</th>\n",
       "      <th>last_price</th>\n",
       "      <th>total_area</th>\n",
       "      <th>first_day_exposition</th>\n",
       "      <th>rooms</th>\n",
       "      <th>ceiling_height</th>\n",
       "      <th>floors_total</th>\n",
       "      <th>living_area</th>\n",
       "      <th>floor</th>\n",
       "      <th>is_apartment</th>\n",
       "      <th>...</th>\n",
       "      <th>parks_nearest</th>\n",
       "      <th>ponds_around3000</th>\n",
       "      <th>ponds_nearest</th>\n",
       "      <th>days_exposition</th>\n",
       "      <th>price_meter</th>\n",
       "      <th>weekday</th>\n",
       "      <th>month</th>\n",
       "      <th>year</th>\n",
       "      <th>floor_numb</th>\n",
       "      <th>cityCenters_nearest_km</th>\n",
       "    </tr>\n",
       "  </thead>\n",
       "  <tbody>\n",
       "  </tbody>\n",
       "</table>\n",
       "<p>0 rows × 28 columns</p>\n",
       "</div>"
      ],
      "text/plain": [
       "Empty DataFrame\n",
       "Columns: [total_images, last_price, total_area, first_day_exposition, rooms, ceiling_height, floors_total, living_area, floor, is_apartment, studio, open_plan, kitchen_area, balcony, locality_name, airports_nearest, cityCenters_nearest, parks_around3000, parks_nearest, ponds_around3000, ponds_nearest, days_exposition, price_meter, weekday, month, year, floor_numb, cityCenters_nearest_km]\n",
       "Index: []\n",
       "\n",
       "[0 rows x 28 columns]"
      ]
     },
     "metadata": {},
     "output_type": "display_data"
    }
   ],
   "source": [
    "display(data.query('living_area<6'))\n"
   ]
  },
  {
   "cell_type": "markdown",
   "metadata": {},
   "source": [
    "\n",
    "\n",
    "изучим площадь кухни\n",
    "    "
   ]
  },
  {
   "cell_type": "code",
   "execution_count": 33,
   "metadata": {
    "scrolled": true
   },
   "outputs": [
    {
     "data": {
      "image/png": "[encoded data removed]",
      "text/plain": [
       "<Figure size 432x216 with 1 Axes>"
      ]
     },
     "metadata": {
      "needs_background": "light"
     },
     "output_type": "display_data"
    }
   ],
   "source": [
    "data.plot(y = 'kitchen_area', kind = 'hist', bins = 100, grid=True, \n",
    "          figsize = (6,3),range = (0,100))\n",
    "plt.ylabel(\"Частота\")\n",
    "plt.xlabel(\"Площадь кухни\")\n",
    "plt.show()"
   ]
  },
  {
   "cell_type": "markdown",
   "metadata": {},
   "source": [
    "\n",
    "    \n",
    "распределение нормальное,выбросы есть"
   ]
  },
  {
   "cell_type": "code",
   "execution_count": 34,
   "metadata": {
    "scrolled": true
   },
   "outputs": [
    {
     "name": "stdout",
     "output_type": "stream",
     "text": [
      "count    21421.000000\n",
      "mean        10.569807\n",
      "std          5.905438\n",
      "min          1.300000\n",
      "25%          7.000000\n",
      "50%          9.100000\n",
      "75%         12.000000\n",
      "max        112.000000\n",
      "Name: kitchen_area, dtype: float64\n"
     ]
    }
   ],
   "source": [
    "print(data['kitchen_area'].describe())"
   ]
  },
  {
   "cell_type": "markdown",
   "metadata": {},
   "source": [
    "\n",
    " \n",
    "изучим стоимость\n"
   ]
  },
  {
   "cell_type": "code",
   "execution_count": 35,
   "metadata": {
    "scrolled": true
   },
   "outputs": [
    {
     "data": {
      "image/png": "[encoded data removed]",
      "text/plain": [
       "<Figure size 432x216 with 1 Axes>"
      ]
     },
     "metadata": {
      "needs_background": "light"
     },
     "output_type": "display_data"
    }
   ],
   "source": [
    "\n",
    "data.plot(y = 'last_price', kind = 'hist', bins = 100, \n",
    "          grid=True, figsize = (6,3),range = (0,10000000))\n",
    "plt.ylabel(\"Частота\")\n",
    "plt.xlabel(\"Стоимость\")\n",
    "plt.show()"
   ]
  },
  {
   "cell_type": "markdown",
   "metadata": {},
   "source": [
    "\n",
    "\n",
    "распределение нормальное,выбросы есть"
   ]
  },
  {
   "cell_type": "code",
   "execution_count": 36,
   "metadata": {
    "scrolled": true
   },
   "outputs": [
    {
     "data": {
      "text/plain": [
       "0       13,000,000.0\n",
       "1        3,350,000.0\n",
       "2        5,196,000.0\n",
       "3       64,900,000.0\n",
       "4       10,000,000.0\n",
       "            ...     \n",
       "23694    9,700,000.0\n",
       "23695    3,100,000.0\n",
       "23696    2,500,000.0\n",
       "23697   11,475,000.0\n",
       "23698    1,350,000.0\n",
       "Name: last_price, Length: 23699, dtype: float64"
      ]
     },
     "metadata": {},
     "output_type": "display_data"
    }
   ],
   "source": [
    "pd.options.display.float_format = '{:,.1f}'.format\n",
    "display(data['last_price'])"
   ]
  },
  {
   "cell_type": "markdown",
   "metadata": {},
   "source": [
    "<div class=\"alert alert-info\">\n",
    "\n",
    "#### **Артём:** 💡 Избавиться от экспоненты можно так:\n",
    "    \n",
    "```py\n",
    "pd.options.display.float_format = '{:,.1f}'.format\n",
    "```    \n",
    "\n",
    "</div>"
   ]
  },
  {
   "cell_type": "markdown",
   "metadata": {},
   "source": [
    "<div class=\"alert alert-success\">\n",
    "\n",
    "**Артём:** 👍 В следующий раз добавляй этот код в раздел импорта библиотек в начале проекта."
   ]
  },
  {
   "cell_type": "markdown",
   "metadata": {},
   "source": [
    "\n",
    "    \n",
    "    \n",
    "изучим комнаты    \n",
    "    "
   ]
  },
  {
   "cell_type": "code",
   "execution_count": 37,
   "metadata": {
    "scrolled": false
   },
   "outputs": [
    {
     "data": {
      "image/png": "[encoded data removed]",
      "text/plain": [
       "<Figure size 360x216 with 1 Axes>"
      ]
     },
     "metadata": {
      "needs_background": "light"
     },
     "output_type": "display_data"
    },
    {
     "name": "stdout",
     "output_type": "stream",
     "text": [
      "count   23,699.0\n",
      "mean         2.1\n",
      "std          1.1\n",
      "min          0.0\n",
      "25%          1.0\n",
      "50%          2.0\n",
      "75%          3.0\n",
      "max         19.0\n",
      "Name: rooms, dtype: float64\n"
     ]
    }
   ],
   "source": [
    "data.plot(y = 'rooms', kind = 'hist', bins = 30, grid=True, figsize = (5,3))\n",
    "plt.ylabel(\"Частота\")\n",
    "plt.xlabel(\"Количество комнат\")\n",
    "plt.show()\n",
    "\n",
    "print(data['rooms'].describe())"
   ]
  },
  {
   "cell_type": "markdown",
   "metadata": {},
   "source": [
    "\n",
    "\n",
    "Не вижу никаких аномалий"
   ]
  },
  {
   "cell_type": "markdown",
   "metadata": {},
   "source": [
    "<div class=\"alert alert-success\">\n",
    "\n",
    "**Артём:** 👍 Тебя не смущает 19 комнат? \n",
    "\n",
    "</div>"
   ]
  },
  {
   "cell_type": "markdown",
   "metadata": {},
   "source": [
    "<div style=\"background-color:lavender; color:#black; text-align:center; padding:2%\">\n",
    "    \n",
    "Да,19 комнат это конечно многовато,но мало ли\n",
    "\n",
    "    \n",
    "Посмотрим,сколько таких объектов,с количеством комнат больше 10\n"
   ]
  },
  {
   "cell_type": "code",
   "execution_count": 38,
   "metadata": {},
   "outputs": [
    {
     "data": {
      "text/plain": [
       "8"
      ]
     },
     "execution_count": 38,
     "metadata": {},
     "output_type": "execute_result"
    }
   ],
   "source": [
    "len(data.query('rooms>10'))"
   ]
  },
  {
   "cell_type": "markdown",
   "metadata": {},
   "source": [
    "<div style=\"background-color:lavender; color:#black; text-align:center; padding:2%\">\n",
    "    \n",
    "Таких немного относительно общего количества,поэтому,ничего страшного"
   ]
  },
  {
   "cell_type": "markdown",
   "metadata": {},
   "source": [
    "\n",
    "    \n",
    "изучим высоту потолков\n",
    "    "
   ]
  },
  {
   "cell_type": "code",
   "execution_count": 39,
   "metadata": {
    "scrolled": true
   },
   "outputs": [
    {
     "data": {
      "image/png": "[encoded data removed]",
      "text/plain": [
       "<Figure size 360x216 with 1 Axes>"
      ]
     },
     "metadata": {
      "needs_background": "light"
     },
     "output_type": "display_data"
    },
    {
     "name": "stdout",
     "output_type": "stream",
     "text": [
      "count   14,504.0\n",
      "mean         2.8\n",
      "std          1.3\n",
      "min          1.0\n",
      "25%          2.5\n",
      "50%          2.6\n",
      "75%          2.8\n",
      "max        100.0\n",
      "Name: ceiling_height, dtype: float64\n"
     ]
    }
   ],
   "source": [
    "data.plot(y = 'ceiling_height', kind = 'hist', bins = 30, range = (2,5), grid=True, figsize = (5,3))\n",
    "plt.ylabel(\"Частота\")\n",
    "plt.xlabel(\"Высота потолков\")\n",
    "plt.show()\n",
    "\n",
    "print(data['ceiling_height'].describe())"
   ]
  },
  {
   "cell_type": "markdown",
   "metadata": {},
   "source": [
    "<div style=\"background-color:lavender; color:#black; text-align:center; padding:2%\">\n",
    "    \n",
    "    \n",
    "есть и 100 м, это конечно точно ненормально,я бы уточнила,может быть единицы указаны другие или ошибка в записи\n",
    "\n",
    "Исследуем аномалии"
   ]
  },
  {
   "cell_type": "code",
   "execution_count": 40,
   "metadata": {},
   "outputs": [
    {
     "data": {
      "text/html": [
       "<div>\n",
       "<style scoped>\n",
       "    .dataframe tbody tr th:only-of-type {\n",
       "        vertical-align: middle;\n",
       "    }\n",
       "\n",
       "    .dataframe tbody tr th {\n",
       "        vertical-align: top;\n",
       "    }\n",
       "\n",
       "    .dataframe thead th {\n",
       "        text-align: right;\n",
       "    }\n",
       "</style>\n",
       "<table border=\"1\" class=\"dataframe\">\n",
       "  <thead>\n",
       "    <tr style=\"text-align: right;\">\n",
       "      <th></th>\n",
       "      <th>total_images</th>\n",
       "      <th>last_price</th>\n",
       "      <th>total_area</th>\n",
       "      <th>first_day_exposition</th>\n",
       "      <th>rooms</th>\n",
       "      <th>ceiling_height</th>\n",
       "      <th>floors_total</th>\n",
       "      <th>living_area</th>\n",
       "      <th>floor</th>\n",
       "      <th>is_apartment</th>\n",
       "      <th>...</th>\n",
       "      <th>parks_nearest</th>\n",
       "      <th>ponds_around3000</th>\n",
       "      <th>ponds_nearest</th>\n",
       "      <th>days_exposition</th>\n",
       "      <th>price_meter</th>\n",
       "      <th>weekday</th>\n",
       "      <th>month</th>\n",
       "      <th>year</th>\n",
       "      <th>floor_numb</th>\n",
       "      <th>cityCenters_nearest_km</th>\n",
       "    </tr>\n",
       "  </thead>\n",
       "  <tbody>\n",
       "    <tr>\n",
       "      <th>154</th>\n",
       "      <td>1</td>\n",
       "      <td>8,200,000.0</td>\n",
       "      <td>80.0</td>\n",
       "      <td>2018-11-06</td>\n",
       "      <td>3</td>\n",
       "      <td>4.2</td>\n",
       "      <td>3.0</td>\n",
       "      <td>44.2</td>\n",
       "      <td>2</td>\n",
       "      <td>False</td>\n",
       "      <td>...</td>\n",
       "      <td>344.0</td>\n",
       "      <td>1.0</td>\n",
       "      <td>838.0</td>\n",
       "      <td>38</td>\n",
       "      <td>102500</td>\n",
       "      <td>1</td>\n",
       "      <td>11</td>\n",
       "      <td>2018</td>\n",
       "      <td>другой</td>\n",
       "      <td>3.2</td>\n",
       "    </tr>\n",
       "    <tr>\n",
       "      <th>355</th>\n",
       "      <td>17</td>\n",
       "      <td>3,600,000.0</td>\n",
       "      <td>55.2</td>\n",
       "      <td>2018-07-12</td>\n",
       "      <td>2</td>\n",
       "      <td>25.0</td>\n",
       "      <td>5.0</td>\n",
       "      <td>32.0</td>\n",
       "      <td>2</td>\n",
       "      <td>False</td>\n",
       "      <td>...</td>\n",
       "      <td>NaN</td>\n",
       "      <td>NaN</td>\n",
       "      <td>NaN</td>\n",
       "      <td>259</td>\n",
       "      <td>65217</td>\n",
       "      <td>3</td>\n",
       "      <td>7</td>\n",
       "      <td>2018</td>\n",
       "      <td>другой</td>\n",
       "      <td>NaN</td>\n",
       "    </tr>\n",
       "    <tr>\n",
       "      <th>464</th>\n",
       "      <td>15</td>\n",
       "      <td>66,571,000.0</td>\n",
       "      <td>280.3</td>\n",
       "      <td>2015-06-11</td>\n",
       "      <td>6</td>\n",
       "      <td>5.2</td>\n",
       "      <td>8.0</td>\n",
       "      <td>159.5</td>\n",
       "      <td>7</td>\n",
       "      <td>False</td>\n",
       "      <td>...</td>\n",
       "      <td>187.0</td>\n",
       "      <td>1.0</td>\n",
       "      <td>616.0</td>\n",
       "      <td>578</td>\n",
       "      <td>237499</td>\n",
       "      <td>3</td>\n",
       "      <td>6</td>\n",
       "      <td>2015</td>\n",
       "      <td>другой</td>\n",
       "      <td>6.7</td>\n",
       "    </tr>\n",
       "    <tr>\n",
       "      <th>552</th>\n",
       "      <td>11</td>\n",
       "      <td>2,999,000.0</td>\n",
       "      <td>33.5</td>\n",
       "      <td>2017-03-30</td>\n",
       "      <td>1</td>\n",
       "      <td>2.0</td>\n",
       "      <td>15.0</td>\n",
       "      <td>17.5</td>\n",
       "      <td>6</td>\n",
       "      <td>False</td>\n",
       "      <td>...</td>\n",
       "      <td>520.0</td>\n",
       "      <td>1.0</td>\n",
       "      <td>949.0</td>\n",
       "      <td>270</td>\n",
       "      <td>89522</td>\n",
       "      <td>3</td>\n",
       "      <td>3</td>\n",
       "      <td>2017</td>\n",
       "      <td>другой</td>\n",
       "      <td>11.7</td>\n",
       "    </tr>\n",
       "    <tr>\n",
       "      <th>1026</th>\n",
       "      <td>20</td>\n",
       "      <td>155,000,000.0</td>\n",
       "      <td>310.0</td>\n",
       "      <td>2018-10-12</td>\n",
       "      <td>5</td>\n",
       "      <td>5.3</td>\n",
       "      <td>3.0</td>\n",
       "      <td>190.0</td>\n",
       "      <td>3</td>\n",
       "      <td>False</td>\n",
       "      <td>...</td>\n",
       "      <td>NaN</td>\n",
       "      <td>1.0</td>\n",
       "      <td>603.0</td>\n",
       "      <td>0</td>\n",
       "      <td>500000</td>\n",
       "      <td>4</td>\n",
       "      <td>10</td>\n",
       "      <td>2018</td>\n",
       "      <td>последний</td>\n",
       "      <td>4.8</td>\n",
       "    </tr>\n",
       "    <tr>\n",
       "      <th>...</th>\n",
       "      <td>...</td>\n",
       "      <td>...</td>\n",
       "      <td>...</td>\n",
       "      <td>...</td>\n",
       "      <td>...</td>\n",
       "      <td>...</td>\n",
       "      <td>...</td>\n",
       "      <td>...</td>\n",
       "      <td>...</td>\n",
       "      <td>...</td>\n",
       "      <td>...</td>\n",
       "      <td>...</td>\n",
       "      <td>...</td>\n",
       "      <td>...</td>\n",
       "      <td>...</td>\n",
       "      <td>...</td>\n",
       "      <td>...</td>\n",
       "      <td>...</td>\n",
       "      <td>...</td>\n",
       "      <td>...</td>\n",
       "      <td>...</td>\n",
       "    </tr>\n",
       "    <tr>\n",
       "      <th>22494</th>\n",
       "      <td>7</td>\n",
       "      <td>91,075,000.0</td>\n",
       "      <td>491.0</td>\n",
       "      <td>2017-05-27</td>\n",
       "      <td>5</td>\n",
       "      <td>4.2</td>\n",
       "      <td>9.0</td>\n",
       "      <td>274.0</td>\n",
       "      <td>9</td>\n",
       "      <td>False</td>\n",
       "      <td>...</td>\n",
       "      <td>116.0</td>\n",
       "      <td>0.0</td>\n",
       "      <td>NaN</td>\n",
       "      <td>115</td>\n",
       "      <td>185488</td>\n",
       "      <td>5</td>\n",
       "      <td>5</td>\n",
       "      <td>2017</td>\n",
       "      <td>последний</td>\n",
       "      <td>5.8</td>\n",
       "    </tr>\n",
       "    <tr>\n",
       "      <th>22590</th>\n",
       "      <td>16</td>\n",
       "      <td>6,000,000.0</td>\n",
       "      <td>55.0</td>\n",
       "      <td>2018-10-31</td>\n",
       "      <td>2</td>\n",
       "      <td>1.0</td>\n",
       "      <td>12.0</td>\n",
       "      <td>32.4</td>\n",
       "      <td>7</td>\n",
       "      <td>False</td>\n",
       "      <td>...</td>\n",
       "      <td>293.0</td>\n",
       "      <td>2.0</td>\n",
       "      <td>289.0</td>\n",
       "      <td>13</td>\n",
       "      <td>109090</td>\n",
       "      <td>2</td>\n",
       "      <td>10</td>\n",
       "      <td>2018</td>\n",
       "      <td>другой</td>\n",
       "      <td>14.2</td>\n",
       "    </tr>\n",
       "    <tr>\n",
       "      <th>22869</th>\n",
       "      <td>0</td>\n",
       "      <td>15,000,000.0</td>\n",
       "      <td>25.0</td>\n",
       "      <td>2018-07-25</td>\n",
       "      <td>1</td>\n",
       "      <td>100.0</td>\n",
       "      <td>5.0</td>\n",
       "      <td>14.0</td>\n",
       "      <td>5</td>\n",
       "      <td>True</td>\n",
       "      <td>...</td>\n",
       "      <td>223.0</td>\n",
       "      <td>3.0</td>\n",
       "      <td>30.0</td>\n",
       "      <td>19</td>\n",
       "      <td>600000</td>\n",
       "      <td>2</td>\n",
       "      <td>7</td>\n",
       "      <td>2018</td>\n",
       "      <td>последний</td>\n",
       "      <td>8.3</td>\n",
       "    </tr>\n",
       "    <tr>\n",
       "      <th>22938</th>\n",
       "      <td>14</td>\n",
       "      <td>4,000,000.0</td>\n",
       "      <td>98.0</td>\n",
       "      <td>2018-03-15</td>\n",
       "      <td>4</td>\n",
       "      <td>27.0</td>\n",
       "      <td>2.0</td>\n",
       "      <td>73.0</td>\n",
       "      <td>2</td>\n",
       "      <td>True</td>\n",
       "      <td>...</td>\n",
       "      <td>NaN</td>\n",
       "      <td>NaN</td>\n",
       "      <td>NaN</td>\n",
       "      <td>27</td>\n",
       "      <td>40816</td>\n",
       "      <td>3</td>\n",
       "      <td>3</td>\n",
       "      <td>2018</td>\n",
       "      <td>последний</td>\n",
       "      <td>NaN</td>\n",
       "    </tr>\n",
       "    <tr>\n",
       "      <th>22960</th>\n",
       "      <td>17</td>\n",
       "      <td>2,300,000.0</td>\n",
       "      <td>53.6</td>\n",
       "      <td>2018-10-18</td>\n",
       "      <td>2</td>\n",
       "      <td>2.0</td>\n",
       "      <td>2.0</td>\n",
       "      <td>19.0</td>\n",
       "      <td>1</td>\n",
       "      <td>False</td>\n",
       "      <td>...</td>\n",
       "      <td>NaN</td>\n",
       "      <td>NaN</td>\n",
       "      <td>NaN</td>\n",
       "      <td>0</td>\n",
       "      <td>42910</td>\n",
       "      <td>3</td>\n",
       "      <td>10</td>\n",
       "      <td>2018</td>\n",
       "      <td>первый</td>\n",
       "      <td>NaN</td>\n",
       "    </tr>\n",
       "  </tbody>\n",
       "</table>\n",
       "<p>91 rows × 28 columns</p>\n",
       "</div>"
      ],
      "text/plain": [
       "       total_images    last_price  total_area first_day_exposition  rooms  \\\n",
       "154               1   8,200,000.0        80.0           2018-11-06      3   \n",
       "355              17   3,600,000.0        55.2           2018-07-12      2   \n",
       "464              15  66,571,000.0       280.3           2015-06-11      6   \n",
       "552              11   2,999,000.0        33.5           2017-03-30      1   \n",
       "1026             20 155,000,000.0       310.0           2018-10-12      5   \n",
       "...             ...           ...         ...                  ...    ...   \n",
       "22494             7  91,075,000.0       491.0           2017-05-27      5   \n",
       "22590            16   6,000,000.0        55.0           2018-10-31      2   \n",
       "22869             0  15,000,000.0        25.0           2018-07-25      1   \n",
       "22938            14   4,000,000.0        98.0           2018-03-15      4   \n",
       "22960            17   2,300,000.0        53.6           2018-10-18      2   \n",
       "\n",
       "       ceiling_height  floors_total  living_area  floor  is_apartment  ...  \\\n",
       "154               4.2           3.0         44.2      2         False  ...   \n",
       "355              25.0           5.0         32.0      2         False  ...   \n",
       "464               5.2           8.0        159.5      7         False  ...   \n",
       "552               2.0          15.0         17.5      6         False  ...   \n",
       "1026              5.3           3.0        190.0      3         False  ...   \n",
       "...               ...           ...          ...    ...           ...  ...   \n",
       "22494             4.2           9.0        274.0      9         False  ...   \n",
       "22590             1.0          12.0         32.4      7         False  ...   \n",
       "22869           100.0           5.0         14.0      5          True  ...   \n",
       "22938            27.0           2.0         73.0      2          True  ...   \n",
       "22960             2.0           2.0         19.0      1         False  ...   \n",
       "\n",
       "       parks_nearest  ponds_around3000  ponds_nearest  days_exposition  \\\n",
       "154            344.0               1.0          838.0               38   \n",
       "355              NaN               NaN            NaN              259   \n",
       "464            187.0               1.0          616.0              578   \n",
       "552            520.0               1.0          949.0              270   \n",
       "1026             NaN               1.0          603.0                0   \n",
       "...              ...               ...            ...              ...   \n",
       "22494          116.0               0.0            NaN              115   \n",
       "22590          293.0               2.0          289.0               13   \n",
       "22869          223.0               3.0           30.0               19   \n",
       "22938            NaN               NaN            NaN               27   \n",
       "22960            NaN               NaN            NaN                0   \n",
       "\n",
       "      price_meter  weekday  month  year  floor_numb  cityCenters_nearest_km  \n",
       "154        102500        1     11  2018      другой                     3.2  \n",
       "355         65217        3      7  2018      другой                     NaN  \n",
       "464        237499        3      6  2015      другой                     6.7  \n",
       "552         89522        3      3  2017      другой                    11.7  \n",
       "1026       500000        4     10  2018   последний                     4.8  \n",
       "...           ...      ...    ...   ...         ...                     ...  \n",
       "22494      185488        5      5  2017   последний                     5.8  \n",
       "22590      109090        2     10  2018      другой                    14.2  \n",
       "22869      600000        2      7  2018   последний                     8.3  \n",
       "22938       40816        3      3  2018   последний                     NaN  \n",
       "22960       42910        3     10  2018      первый                     NaN  \n",
       "\n",
       "[91 rows x 28 columns]"
      ]
     },
     "metadata": {},
     "output_type": "display_data"
    }
   ],
   "source": [
    "display(data.query('ceiling_height<2.3 or ceiling_height>4'))"
   ]
  },
  {
   "cell_type": "markdown",
   "metadata": {},
   "source": [
    "<div style=\"background-color:lavender; color:#black; text-align:center; padding:2%\">\n",
    "    \n",
    "Никакой связи между строками на первый взгляд не вижу,но,так же вижу,что есть значения 4 и 5 метров- для последнего этажа и достаточно большой площади - это норма"
   ]
  },
  {
   "cell_type": "markdown",
   "metadata": {},
   "source": [
    "<div style=\"background-color:lavender; color:#black; text-align:center; padding:2%\">\n",
    "\n",
    "Выберу строчки, где тип этажа не последний и площадь меньше 100 квадратов и так же аномальные значения высоты"
   ]
  },
  {
   "cell_type": "code",
   "execution_count": 41,
   "metadata": {
    "scrolled": true
   },
   "outputs": [
    {
     "data": {
      "text/html": [
       "<div>\n",
       "<style scoped>\n",
       "    .dataframe tbody tr th:only-of-type {\n",
       "        vertical-align: middle;\n",
       "    }\n",
       "\n",
       "    .dataframe tbody tr th {\n",
       "        vertical-align: top;\n",
       "    }\n",
       "\n",
       "    .dataframe thead th {\n",
       "        text-align: right;\n",
       "    }\n",
       "</style>\n",
       "<table border=\"1\" class=\"dataframe\">\n",
       "  <thead>\n",
       "    <tr style=\"text-align: right;\">\n",
       "      <th></th>\n",
       "      <th>total_images</th>\n",
       "      <th>last_price</th>\n",
       "      <th>total_area</th>\n",
       "      <th>first_day_exposition</th>\n",
       "      <th>rooms</th>\n",
       "      <th>ceiling_height</th>\n",
       "      <th>floors_total</th>\n",
       "      <th>living_area</th>\n",
       "      <th>floor</th>\n",
       "      <th>is_apartment</th>\n",
       "      <th>...</th>\n",
       "      <th>parks_nearest</th>\n",
       "      <th>ponds_around3000</th>\n",
       "      <th>ponds_nearest</th>\n",
       "      <th>days_exposition</th>\n",
       "      <th>price_meter</th>\n",
       "      <th>weekday</th>\n",
       "      <th>month</th>\n",
       "      <th>year</th>\n",
       "      <th>floor_numb</th>\n",
       "      <th>cityCenters_nearest_km</th>\n",
       "    </tr>\n",
       "  </thead>\n",
       "  <tbody>\n",
       "    <tr>\n",
       "      <th>154</th>\n",
       "      <td>1</td>\n",
       "      <td>8,200,000.0</td>\n",
       "      <td>80.0</td>\n",
       "      <td>2018-11-06</td>\n",
       "      <td>3</td>\n",
       "      <td>4.2</td>\n",
       "      <td>3.0</td>\n",
       "      <td>44.2</td>\n",
       "      <td>2</td>\n",
       "      <td>False</td>\n",
       "      <td>...</td>\n",
       "      <td>344.0</td>\n",
       "      <td>1.0</td>\n",
       "      <td>838.0</td>\n",
       "      <td>38</td>\n",
       "      <td>102500</td>\n",
       "      <td>1</td>\n",
       "      <td>11</td>\n",
       "      <td>2018</td>\n",
       "      <td>другой</td>\n",
       "      <td>3.2</td>\n",
       "    </tr>\n",
       "    <tr>\n",
       "      <th>355</th>\n",
       "      <td>17</td>\n",
       "      <td>3,600,000.0</td>\n",
       "      <td>55.2</td>\n",
       "      <td>2018-07-12</td>\n",
       "      <td>2</td>\n",
       "      <td>25.0</td>\n",
       "      <td>5.0</td>\n",
       "      <td>32.0</td>\n",
       "      <td>2</td>\n",
       "      <td>False</td>\n",
       "      <td>...</td>\n",
       "      <td>NaN</td>\n",
       "      <td>NaN</td>\n",
       "      <td>NaN</td>\n",
       "      <td>259</td>\n",
       "      <td>65217</td>\n",
       "      <td>3</td>\n",
       "      <td>7</td>\n",
       "      <td>2018</td>\n",
       "      <td>другой</td>\n",
       "      <td>NaN</td>\n",
       "    </tr>\n",
       "    <tr>\n",
       "      <th>464</th>\n",
       "      <td>15</td>\n",
       "      <td>66,571,000.0</td>\n",
       "      <td>280.3</td>\n",
       "      <td>2015-06-11</td>\n",
       "      <td>6</td>\n",
       "      <td>5.2</td>\n",
       "      <td>8.0</td>\n",
       "      <td>159.5</td>\n",
       "      <td>7</td>\n",
       "      <td>False</td>\n",
       "      <td>...</td>\n",
       "      <td>187.0</td>\n",
       "      <td>1.0</td>\n",
       "      <td>616.0</td>\n",
       "      <td>578</td>\n",
       "      <td>237499</td>\n",
       "      <td>3</td>\n",
       "      <td>6</td>\n",
       "      <td>2015</td>\n",
       "      <td>другой</td>\n",
       "      <td>6.7</td>\n",
       "    </tr>\n",
       "    <tr>\n",
       "      <th>552</th>\n",
       "      <td>11</td>\n",
       "      <td>2,999,000.0</td>\n",
       "      <td>33.5</td>\n",
       "      <td>2017-03-30</td>\n",
       "      <td>1</td>\n",
       "      <td>2.0</td>\n",
       "      <td>15.0</td>\n",
       "      <td>17.5</td>\n",
       "      <td>6</td>\n",
       "      <td>False</td>\n",
       "      <td>...</td>\n",
       "      <td>520.0</td>\n",
       "      <td>1.0</td>\n",
       "      <td>949.0</td>\n",
       "      <td>270</td>\n",
       "      <td>89522</td>\n",
       "      <td>3</td>\n",
       "      <td>3</td>\n",
       "      <td>2017</td>\n",
       "      <td>другой</td>\n",
       "      <td>11.7</td>\n",
       "    </tr>\n",
       "    <tr>\n",
       "      <th>1053</th>\n",
       "      <td>13</td>\n",
       "      <td>550,000.0</td>\n",
       "      <td>29.0</td>\n",
       "      <td>2018-02-01</td>\n",
       "      <td>1</td>\n",
       "      <td>5.0</td>\n",
       "      <td>3.0</td>\n",
       "      <td>NaN</td>\n",
       "      <td>1</td>\n",
       "      <td>False</td>\n",
       "      <td>...</td>\n",
       "      <td>NaN</td>\n",
       "      <td>NaN</td>\n",
       "      <td>NaN</td>\n",
       "      <td>6</td>\n",
       "      <td>18965</td>\n",
       "      <td>3</td>\n",
       "      <td>2</td>\n",
       "      <td>2018</td>\n",
       "      <td>первый</td>\n",
       "      <td>NaN</td>\n",
       "    </tr>\n",
       "    <tr>\n",
       "      <th>...</th>\n",
       "      <td>...</td>\n",
       "      <td>...</td>\n",
       "      <td>...</td>\n",
       "      <td>...</td>\n",
       "      <td>...</td>\n",
       "      <td>...</td>\n",
       "      <td>...</td>\n",
       "      <td>...</td>\n",
       "      <td>...</td>\n",
       "      <td>...</td>\n",
       "      <td>...</td>\n",
       "      <td>...</td>\n",
       "      <td>...</td>\n",
       "      <td>...</td>\n",
       "      <td>...</td>\n",
       "      <td>...</td>\n",
       "      <td>...</td>\n",
       "      <td>...</td>\n",
       "      <td>...</td>\n",
       "      <td>...</td>\n",
       "      <td>...</td>\n",
       "    </tr>\n",
       "    <tr>\n",
       "      <th>22336</th>\n",
       "      <td>19</td>\n",
       "      <td>9,999,000.0</td>\n",
       "      <td>92.4</td>\n",
       "      <td>2019-04-05</td>\n",
       "      <td>2</td>\n",
       "      <td>32.0</td>\n",
       "      <td>6.0</td>\n",
       "      <td>55.5</td>\n",
       "      <td>5</td>\n",
       "      <td>False</td>\n",
       "      <td>...</td>\n",
       "      <td>NaN</td>\n",
       "      <td>3.0</td>\n",
       "      <td>511.0</td>\n",
       "      <td>0</td>\n",
       "      <td>108214</td>\n",
       "      <td>4</td>\n",
       "      <td>4</td>\n",
       "      <td>2019</td>\n",
       "      <td>другой</td>\n",
       "      <td>3.5</td>\n",
       "    </tr>\n",
       "    <tr>\n",
       "      <th>22590</th>\n",
       "      <td>16</td>\n",
       "      <td>6,000,000.0</td>\n",
       "      <td>55.0</td>\n",
       "      <td>2018-10-31</td>\n",
       "      <td>2</td>\n",
       "      <td>1.0</td>\n",
       "      <td>12.0</td>\n",
       "      <td>32.4</td>\n",
       "      <td>7</td>\n",
       "      <td>False</td>\n",
       "      <td>...</td>\n",
       "      <td>293.0</td>\n",
       "      <td>2.0</td>\n",
       "      <td>289.0</td>\n",
       "      <td>13</td>\n",
       "      <td>109090</td>\n",
       "      <td>2</td>\n",
       "      <td>10</td>\n",
       "      <td>2018</td>\n",
       "      <td>другой</td>\n",
       "      <td>14.2</td>\n",
       "    </tr>\n",
       "    <tr>\n",
       "      <th>22869</th>\n",
       "      <td>0</td>\n",
       "      <td>15,000,000.0</td>\n",
       "      <td>25.0</td>\n",
       "      <td>2018-07-25</td>\n",
       "      <td>1</td>\n",
       "      <td>100.0</td>\n",
       "      <td>5.0</td>\n",
       "      <td>14.0</td>\n",
       "      <td>5</td>\n",
       "      <td>True</td>\n",
       "      <td>...</td>\n",
       "      <td>223.0</td>\n",
       "      <td>3.0</td>\n",
       "      <td>30.0</td>\n",
       "      <td>19</td>\n",
       "      <td>600000</td>\n",
       "      <td>2</td>\n",
       "      <td>7</td>\n",
       "      <td>2018</td>\n",
       "      <td>последний</td>\n",
       "      <td>8.3</td>\n",
       "    </tr>\n",
       "    <tr>\n",
       "      <th>22938</th>\n",
       "      <td>14</td>\n",
       "      <td>4,000,000.0</td>\n",
       "      <td>98.0</td>\n",
       "      <td>2018-03-15</td>\n",
       "      <td>4</td>\n",
       "      <td>27.0</td>\n",
       "      <td>2.0</td>\n",
       "      <td>73.0</td>\n",
       "      <td>2</td>\n",
       "      <td>True</td>\n",
       "      <td>...</td>\n",
       "      <td>NaN</td>\n",
       "      <td>NaN</td>\n",
       "      <td>NaN</td>\n",
       "      <td>27</td>\n",
       "      <td>40816</td>\n",
       "      <td>3</td>\n",
       "      <td>3</td>\n",
       "      <td>2018</td>\n",
       "      <td>последний</td>\n",
       "      <td>NaN</td>\n",
       "    </tr>\n",
       "    <tr>\n",
       "      <th>22960</th>\n",
       "      <td>17</td>\n",
       "      <td>2,300,000.0</td>\n",
       "      <td>53.6</td>\n",
       "      <td>2018-10-18</td>\n",
       "      <td>2</td>\n",
       "      <td>2.0</td>\n",
       "      <td>2.0</td>\n",
       "      <td>19.0</td>\n",
       "      <td>1</td>\n",
       "      <td>False</td>\n",
       "      <td>...</td>\n",
       "      <td>NaN</td>\n",
       "      <td>NaN</td>\n",
       "      <td>NaN</td>\n",
       "      <td>0</td>\n",
       "      <td>42910</td>\n",
       "      <td>3</td>\n",
       "      <td>10</td>\n",
       "      <td>2018</td>\n",
       "      <td>первый</td>\n",
       "      <td>NaN</td>\n",
       "    </tr>\n",
       "  </tbody>\n",
       "</table>\n",
       "<p>78 rows × 28 columns</p>\n",
       "</div>"
      ],
      "text/plain": [
       "       total_images   last_price  total_area first_day_exposition  rooms  \\\n",
       "154               1  8,200,000.0        80.0           2018-11-06      3   \n",
       "355              17  3,600,000.0        55.2           2018-07-12      2   \n",
       "464              15 66,571,000.0       280.3           2015-06-11      6   \n",
       "552              11  2,999,000.0        33.5           2017-03-30      1   \n",
       "1053             13    550,000.0        29.0           2018-02-01      1   \n",
       "...             ...          ...         ...                  ...    ...   \n",
       "22336            19  9,999,000.0        92.4           2019-04-05      2   \n",
       "22590            16  6,000,000.0        55.0           2018-10-31      2   \n",
       "22869             0 15,000,000.0        25.0           2018-07-25      1   \n",
       "22938            14  4,000,000.0        98.0           2018-03-15      4   \n",
       "22960            17  2,300,000.0        53.6           2018-10-18      2   \n",
       "\n",
       "       ceiling_height  floors_total  living_area  floor  is_apartment  ...  \\\n",
       "154               4.2           3.0         44.2      2         False  ...   \n",
       "355              25.0           5.0         32.0      2         False  ...   \n",
       "464               5.2           8.0        159.5      7         False  ...   \n",
       "552               2.0          15.0         17.5      6         False  ...   \n",
       "1053              5.0           3.0          NaN      1         False  ...   \n",
       "...               ...           ...          ...    ...           ...  ...   \n",
       "22336            32.0           6.0         55.5      5         False  ...   \n",
       "22590             1.0          12.0         32.4      7         False  ...   \n",
       "22869           100.0           5.0         14.0      5          True  ...   \n",
       "22938            27.0           2.0         73.0      2          True  ...   \n",
       "22960             2.0           2.0         19.0      1         False  ...   \n",
       "\n",
       "       parks_nearest  ponds_around3000  ponds_nearest  days_exposition  \\\n",
       "154            344.0               1.0          838.0               38   \n",
       "355              NaN               NaN            NaN              259   \n",
       "464            187.0               1.0          616.0              578   \n",
       "552            520.0               1.0          949.0              270   \n",
       "1053             NaN               NaN            NaN                6   \n",
       "...              ...               ...            ...              ...   \n",
       "22336            NaN               3.0          511.0                0   \n",
       "22590          293.0               2.0          289.0               13   \n",
       "22869          223.0               3.0           30.0               19   \n",
       "22938            NaN               NaN            NaN               27   \n",
       "22960            NaN               NaN            NaN                0   \n",
       "\n",
       "      price_meter  weekday  month  year  floor_numb  cityCenters_nearest_km  \n",
       "154        102500        1     11  2018      другой                     3.2  \n",
       "355         65217        3      7  2018      другой                     NaN  \n",
       "464        237499        3      6  2015      другой                     6.7  \n",
       "552         89522        3      3  2017      другой                    11.7  \n",
       "1053        18965        3      2  2018      первый                     NaN  \n",
       "...           ...      ...    ...   ...         ...                     ...  \n",
       "22336      108214        4      4  2019      другой                     3.5  \n",
       "22590      109090        2     10  2018      другой                    14.2  \n",
       "22869      600000        2      7  2018   последний                     8.3  \n",
       "22938       40816        3      3  2018   последний                     NaN  \n",
       "22960       42910        3     10  2018      первый                     NaN  \n",
       "\n",
       "[78 rows x 28 columns]"
      ]
     },
     "metadata": {},
     "output_type": "display_data"
    }
   ],
   "source": [
    "display(data.query('(ceiling_height<2.3 or ceiling_height>4) and (floor_numb!= \"последний\" or total_area<100)'))"
   ]
  },
  {
   "cell_type": "markdown",
   "metadata": {},
   "source": [
    "<div style=\"background-color:lavender; color:#black; text-align:center; padding:2%\">\n",
    "    \n",
    "Думаю,что значения двадцать с чем-то и тридцать с чем-то - это 2 с чем-то и 3 с чем-то,поэтому их просто поделю на 10\n",
    "\n",
    "4 метра в целом тоже возможны,даже 5 могут быть,когда делают второй уровень,меньше 2.5 метров и больше 5 - либо удалять,либо чем-то заменять\n",
    "    \n",
    "    \n",
    "Удалять я бы не хотела,а заменила на обычные 2,7-2,8, но в описании проекта сказано,что \"В противном случае удалите редкие и выбивающиеся значения\""
   ]
  },
  {
   "cell_type": "code",
   "execution_count": 42,
   "metadata": {},
   "outputs": [],
   "source": [
    "data.loc[(data['ceiling_height']<40)&(data['ceiling_height']>20),'ceiling_height']=data['ceiling_height']*0.1\n",
    "      "
   ]
  },
  {
   "cell_type": "code",
   "execution_count": 43,
   "metadata": {
    "scrolled": true
   },
   "outputs": [
    {
     "data": {
      "text/html": [
       "<div>\n",
       "<style scoped>\n",
       "    .dataframe tbody tr th:only-of-type {\n",
       "        vertical-align: middle;\n",
       "    }\n",
       "\n",
       "    .dataframe tbody tr th {\n",
       "        vertical-align: top;\n",
       "    }\n",
       "\n",
       "    .dataframe thead th {\n",
       "        text-align: right;\n",
       "    }\n",
       "</style>\n",
       "<table border=\"1\" class=\"dataframe\">\n",
       "  <thead>\n",
       "    <tr style=\"text-align: right;\">\n",
       "      <th></th>\n",
       "      <th>total_images</th>\n",
       "      <th>last_price</th>\n",
       "      <th>total_area</th>\n",
       "      <th>first_day_exposition</th>\n",
       "      <th>rooms</th>\n",
       "      <th>ceiling_height</th>\n",
       "      <th>floors_total</th>\n",
       "      <th>living_area</th>\n",
       "      <th>floor</th>\n",
       "      <th>is_apartment</th>\n",
       "      <th>...</th>\n",
       "      <th>parks_nearest</th>\n",
       "      <th>ponds_around3000</th>\n",
       "      <th>ponds_nearest</th>\n",
       "      <th>days_exposition</th>\n",
       "      <th>price_meter</th>\n",
       "      <th>weekday</th>\n",
       "      <th>month</th>\n",
       "      <th>year</th>\n",
       "      <th>floor_numb</th>\n",
       "      <th>cityCenters_nearest_km</th>\n",
       "    </tr>\n",
       "  </thead>\n",
       "  <tbody>\n",
       "    <tr>\n",
       "      <th>0</th>\n",
       "      <td>20</td>\n",
       "      <td>13,000,000.0</td>\n",
       "      <td>108.0</td>\n",
       "      <td>2019-03-07</td>\n",
       "      <td>3</td>\n",
       "      <td>2.7</td>\n",
       "      <td>16.0</td>\n",
       "      <td>51.0</td>\n",
       "      <td>8</td>\n",
       "      <td>False</td>\n",
       "      <td>...</td>\n",
       "      <td>482.0</td>\n",
       "      <td>2.0</td>\n",
       "      <td>755.0</td>\n",
       "      <td>0</td>\n",
       "      <td>120370</td>\n",
       "      <td>3</td>\n",
       "      <td>3</td>\n",
       "      <td>2019</td>\n",
       "      <td>другой</td>\n",
       "      <td>16.0</td>\n",
       "    </tr>\n",
       "    <tr>\n",
       "      <th>4</th>\n",
       "      <td>2</td>\n",
       "      <td>10,000,000.0</td>\n",
       "      <td>100.0</td>\n",
       "      <td>2018-06-19</td>\n",
       "      <td>2</td>\n",
       "      <td>3.0</td>\n",
       "      <td>14.0</td>\n",
       "      <td>32.0</td>\n",
       "      <td>13</td>\n",
       "      <td>False</td>\n",
       "      <td>...</td>\n",
       "      <td>112.0</td>\n",
       "      <td>1.0</td>\n",
       "      <td>48.0</td>\n",
       "      <td>121</td>\n",
       "      <td>100000</td>\n",
       "      <td>1</td>\n",
       "      <td>6</td>\n",
       "      <td>2018</td>\n",
       "      <td>другой</td>\n",
       "      <td>8.1</td>\n",
       "    </tr>\n",
       "    <tr>\n",
       "      <th>9</th>\n",
       "      <td>18</td>\n",
       "      <td>5,400,000.0</td>\n",
       "      <td>61.0</td>\n",
       "      <td>2017-02-26</td>\n",
       "      <td>3</td>\n",
       "      <td>2.5</td>\n",
       "      <td>9.0</td>\n",
       "      <td>43.6</td>\n",
       "      <td>7</td>\n",
       "      <td>False</td>\n",
       "      <td>...</td>\n",
       "      <td>NaN</td>\n",
       "      <td>0.0</td>\n",
       "      <td>NaN</td>\n",
       "      <td>289</td>\n",
       "      <td>88524</td>\n",
       "      <td>6</td>\n",
       "      <td>2</td>\n",
       "      <td>2017</td>\n",
       "      <td>другой</td>\n",
       "      <td>15.0</td>\n",
       "    </tr>\n",
       "    <tr>\n",
       "      <th>10</th>\n",
       "      <td>5</td>\n",
       "      <td>5,050,000.0</td>\n",
       "      <td>39.6</td>\n",
       "      <td>2017-11-16</td>\n",
       "      <td>1</td>\n",
       "      <td>2.7</td>\n",
       "      <td>12.0</td>\n",
       "      <td>20.3</td>\n",
       "      <td>3</td>\n",
       "      <td>False</td>\n",
       "      <td>...</td>\n",
       "      <td>310.0</td>\n",
       "      <td>2.0</td>\n",
       "      <td>553.0</td>\n",
       "      <td>137</td>\n",
       "      <td>127525</td>\n",
       "      <td>3</td>\n",
       "      <td>11</td>\n",
       "      <td>2017</td>\n",
       "      <td>другой</td>\n",
       "      <td>13.9</td>\n",
       "    </tr>\n",
       "    <tr>\n",
       "      <th>13</th>\n",
       "      <td>20</td>\n",
       "      <td>3,550,000.0</td>\n",
       "      <td>42.8</td>\n",
       "      <td>2017-07-01</td>\n",
       "      <td>2</td>\n",
       "      <td>2.6</td>\n",
       "      <td>5.0</td>\n",
       "      <td>27.0</td>\n",
       "      <td>5</td>\n",
       "      <td>False</td>\n",
       "      <td>...</td>\n",
       "      <td>294.0</td>\n",
       "      <td>3.0</td>\n",
       "      <td>298.0</td>\n",
       "      <td>366</td>\n",
       "      <td>82943</td>\n",
       "      <td>5</td>\n",
       "      <td>7</td>\n",
       "      <td>2017</td>\n",
       "      <td>последний</td>\n",
       "      <td>33.1</td>\n",
       "    </tr>\n",
       "    <tr>\n",
       "      <th>...</th>\n",
       "      <td>...</td>\n",
       "      <td>...</td>\n",
       "      <td>...</td>\n",
       "      <td>...</td>\n",
       "      <td>...</td>\n",
       "      <td>...</td>\n",
       "      <td>...</td>\n",
       "      <td>...</td>\n",
       "      <td>...</td>\n",
       "      <td>...</td>\n",
       "      <td>...</td>\n",
       "      <td>...</td>\n",
       "      <td>...</td>\n",
       "      <td>...</td>\n",
       "      <td>...</td>\n",
       "      <td>...</td>\n",
       "      <td>...</td>\n",
       "      <td>...</td>\n",
       "      <td>...</td>\n",
       "      <td>...</td>\n",
       "      <td>...</td>\n",
       "    </tr>\n",
       "    <tr>\n",
       "      <th>23691</th>\n",
       "      <td>11</td>\n",
       "      <td>9,470,000.0</td>\n",
       "      <td>72.9</td>\n",
       "      <td>2016-10-13</td>\n",
       "      <td>2</td>\n",
       "      <td>2.8</td>\n",
       "      <td>25.0</td>\n",
       "      <td>40.3</td>\n",
       "      <td>7</td>\n",
       "      <td>False</td>\n",
       "      <td>...</td>\n",
       "      <td>NaN</td>\n",
       "      <td>1.0</td>\n",
       "      <td>806.0</td>\n",
       "      <td>519</td>\n",
       "      <td>129903</td>\n",
       "      <td>3</td>\n",
       "      <td>10</td>\n",
       "      <td>2016</td>\n",
       "      <td>другой</td>\n",
       "      <td>4.5</td>\n",
       "    </tr>\n",
       "    <tr>\n",
       "      <th>23693</th>\n",
       "      <td>9</td>\n",
       "      <td>4,600,000.0</td>\n",
       "      <td>62.4</td>\n",
       "      <td>2016-08-05</td>\n",
       "      <td>3</td>\n",
       "      <td>2.6</td>\n",
       "      <td>9.0</td>\n",
       "      <td>40.0</td>\n",
       "      <td>8</td>\n",
       "      <td>False</td>\n",
       "      <td>...</td>\n",
       "      <td>352.0</td>\n",
       "      <td>1.0</td>\n",
       "      <td>675.0</td>\n",
       "      <td>239</td>\n",
       "      <td>73717</td>\n",
       "      <td>4</td>\n",
       "      <td>8</td>\n",
       "      <td>2016</td>\n",
       "      <td>другой</td>\n",
       "      <td>34.1</td>\n",
       "    </tr>\n",
       "    <tr>\n",
       "      <th>23694</th>\n",
       "      <td>9</td>\n",
       "      <td>9,700,000.0</td>\n",
       "      <td>133.8</td>\n",
       "      <td>2017-03-21</td>\n",
       "      <td>3</td>\n",
       "      <td>3.7</td>\n",
       "      <td>5.0</td>\n",
       "      <td>73.3</td>\n",
       "      <td>3</td>\n",
       "      <td>False</td>\n",
       "      <td>...</td>\n",
       "      <td>796.0</td>\n",
       "      <td>3.0</td>\n",
       "      <td>381.0</td>\n",
       "      <td>0</td>\n",
       "      <td>72490</td>\n",
       "      <td>1</td>\n",
       "      <td>3</td>\n",
       "      <td>2017</td>\n",
       "      <td>другой</td>\n",
       "      <td>4.2</td>\n",
       "    </tr>\n",
       "    <tr>\n",
       "      <th>23697</th>\n",
       "      <td>13</td>\n",
       "      <td>11,475,000.0</td>\n",
       "      <td>76.8</td>\n",
       "      <td>2017-03-28</td>\n",
       "      <td>2</td>\n",
       "      <td>3.0</td>\n",
       "      <td>17.0</td>\n",
       "      <td>NaN</td>\n",
       "      <td>12</td>\n",
       "      <td>False</td>\n",
       "      <td>...</td>\n",
       "      <td>173.0</td>\n",
       "      <td>3.0</td>\n",
       "      <td>196.0</td>\n",
       "      <td>602</td>\n",
       "      <td>149511</td>\n",
       "      <td>1</td>\n",
       "      <td>3</td>\n",
       "      <td>2017</td>\n",
       "      <td>другой</td>\n",
       "      <td>10.4</td>\n",
       "    </tr>\n",
       "    <tr>\n",
       "      <th>23698</th>\n",
       "      <td>4</td>\n",
       "      <td>1,350,000.0</td>\n",
       "      <td>32.3</td>\n",
       "      <td>2017-07-21</td>\n",
       "      <td>1</td>\n",
       "      <td>2.5</td>\n",
       "      <td>5.0</td>\n",
       "      <td>12.3</td>\n",
       "      <td>1</td>\n",
       "      <td>False</td>\n",
       "      <td>...</td>\n",
       "      <td>NaN</td>\n",
       "      <td>NaN</td>\n",
       "      <td>NaN</td>\n",
       "      <td>0</td>\n",
       "      <td>41795</td>\n",
       "      <td>4</td>\n",
       "      <td>7</td>\n",
       "      <td>2017</td>\n",
       "      <td>первый</td>\n",
       "      <td>NaN</td>\n",
       "    </tr>\n",
       "  </tbody>\n",
       "</table>\n",
       "<p>14474 rows × 28 columns</p>\n",
       "</div>"
      ],
      "text/plain": [
       "       total_images   last_price  total_area first_day_exposition  rooms  \\\n",
       "0                20 13,000,000.0       108.0           2019-03-07      3   \n",
       "4                 2 10,000,000.0       100.0           2018-06-19      2   \n",
       "9                18  5,400,000.0        61.0           2017-02-26      3   \n",
       "10                5  5,050,000.0        39.6           2017-11-16      1   \n",
       "13               20  3,550,000.0        42.8           2017-07-01      2   \n",
       "...             ...          ...         ...                  ...    ...   \n",
       "23691            11  9,470,000.0        72.9           2016-10-13      2   \n",
       "23693             9  4,600,000.0        62.4           2016-08-05      3   \n",
       "23694             9  9,700,000.0       133.8           2017-03-21      3   \n",
       "23697            13 11,475,000.0        76.8           2017-03-28      2   \n",
       "23698             4  1,350,000.0        32.3           2017-07-21      1   \n",
       "\n",
       "       ceiling_height  floors_total  living_area  floor  is_apartment  ...  \\\n",
       "0                 2.7          16.0         51.0      8         False  ...   \n",
       "4                 3.0          14.0         32.0     13         False  ...   \n",
       "9                 2.5           9.0         43.6      7         False  ...   \n",
       "10                2.7          12.0         20.3      3         False  ...   \n",
       "13                2.6           5.0         27.0      5         False  ...   \n",
       "...               ...           ...          ...    ...           ...  ...   \n",
       "23691             2.8          25.0         40.3      7         False  ...   \n",
       "23693             2.6           9.0         40.0      8         False  ...   \n",
       "23694             3.7           5.0         73.3      3         False  ...   \n",
       "23697             3.0          17.0          NaN     12         False  ...   \n",
       "23698             2.5           5.0         12.3      1         False  ...   \n",
       "\n",
       "       parks_nearest  ponds_around3000  ponds_nearest  days_exposition  \\\n",
       "0              482.0               2.0          755.0                0   \n",
       "4              112.0               1.0           48.0              121   \n",
       "9                NaN               0.0            NaN              289   \n",
       "10             310.0               2.0          553.0              137   \n",
       "13             294.0               3.0          298.0              366   \n",
       "...              ...               ...            ...              ...   \n",
       "23691            NaN               1.0          806.0              519   \n",
       "23693          352.0               1.0          675.0              239   \n",
       "23694          796.0               3.0          381.0                0   \n",
       "23697          173.0               3.0          196.0              602   \n",
       "23698            NaN               NaN            NaN                0   \n",
       "\n",
       "      price_meter  weekday  month  year  floor_numb  cityCenters_nearest_km  \n",
       "0          120370        3      3  2019      другой                    16.0  \n",
       "4          100000        1      6  2018      другой                     8.1  \n",
       "9           88524        6      2  2017      другой                    15.0  \n",
       "10         127525        3     11  2017      другой                    13.9  \n",
       "13          82943        5      7  2017   последний                    33.1  \n",
       "...           ...      ...    ...   ...         ...                     ...  \n",
       "23691      129903        3     10  2016      другой                     4.5  \n",
       "23693       73717        4      8  2016      другой                    34.1  \n",
       "23694       72490        1      3  2017      другой                     4.2  \n",
       "23697      149511        1      3  2017      другой                    10.4  \n",
       "23698       41795        4      7  2017      первый                     NaN  \n",
       "\n",
       "[14474 rows x 28 columns]"
      ]
     },
     "metadata": {},
     "output_type": "display_data"
    },
    {
     "data": {
      "text/plain": [
       "count   14,474.0\n",
       "mean         2.7\n",
       "std          0.3\n",
       "min          2.2\n",
       "25%          2.5\n",
       "50%          2.6\n",
       "75%          2.8\n",
       "max          4.9\n",
       "Name: ceiling_height, dtype: float64"
      ]
     },
     "execution_count": 43,
     "metadata": {},
     "output_type": "execute_result"
    }
   ],
   "source": [
    "data = data.query('2<ceiling_height<5')\n",
    "display(data)\n",
    "data['ceiling_height'].describe()"
   ]
  },
  {
   "cell_type": "markdown",
   "metadata": {},
   "source": [
    "<div class=\"alert alert-success\">\n",
    "\n",
    "**Артём:**  В брифе есть подсказка, что делать с такой высотой потолков.\n",
    "    \n",
    "</div>"
   ]
  },
  {
   "cell_type": "markdown",
   "metadata": {},
   "source": [
    "<div style=\"background-color:lavender; color:#black; text-align:center; padding:2%\">\n",
    "    \n",
    "    \n",
    "Получили от 2.2 до 4.9,мне кажется,что вполне нормальные значения"
   ]
  },
  {
   "cell_type": "markdown",
   "metadata": {},
   "source": [
    "<div class=\"alert alert-success\">\n",
    "\n",
    "**Артём:** 👍 Согласен"
   ]
  },
  {
   "cell_type": "markdown",
   "metadata": {},
   "source": [
    "\n",
    "\n",
    "изучим этажи    \n"
   ]
  },
  {
   "cell_type": "code",
   "execution_count": 44,
   "metadata": {
    "scrolled": false
   },
   "outputs": [
    {
     "data": {
      "image/png": "[encoded data removed]",
      "text/plain": [
       "<Figure size 360x216 with 1 Axes>"
      ]
     },
     "metadata": {
      "needs_background": "light"
     },
     "output_type": "display_data"
    },
    {
     "name": "stdout",
     "output_type": "stream",
     "text": [
      "count   14,474.0\n",
      "mean         5.6\n",
      "std          4.6\n",
      "min          1.0\n",
      "25%          2.0\n",
      "50%          4.0\n",
      "75%          7.0\n",
      "max         30.0\n",
      "Name: floor, dtype: float64\n"
     ]
    }
   ],
   "source": [
    "data.plot(y = 'floor', kind = 'hist', bins = 30, range = (0,100), grid=True, figsize = (5,3))\n",
    "plt.ylabel(\"Частота\")\n",
    "plt.xlabel(\"Этаж\")\n",
    "plt.show()\n",
    "print(data['floor'].describe())\n"
   ]
  },
  {
   "cell_type": "markdown",
   "metadata": {},
   "source": [
    "\n",
    "\n",
    "от 1 до 30, среднее около 6, медиана 4"
   ]
  },
  {
   "cell_type": "markdown",
   "metadata": {},
   "source": [
    "<div class=\"alert alert-success\">\n",
    "\n",
    "**Артём:** 👍 Хорошо.\n",
    "\n",
    "</div>"
   ]
  },
  {
   "cell_type": "markdown",
   "metadata": {},
   "source": [
    "\n",
    "\n",
    "    \n",
    "изучим тип этажа"
   ]
  },
  {
   "cell_type": "code",
   "execution_count": 45,
   "metadata": {},
   "outputs": [
    {
     "data": {
      "text/plain": [
       "<AxesSubplot:>"
      ]
     },
     "execution_count": 45,
     "metadata": {},
     "output_type": "execute_result"
    },
    {
     "data": {
      "image/png": "[encoded data removed]",
      "text/plain": [
       "<Figure size 360x216 with 1 Axes>"
      ]
     },
     "metadata": {
      "needs_background": "light"
     },
     "output_type": "display_data"
    }
   ],
   "source": [
    "data['floor_numb'].hist(bins = 30, range = (0,3), grid=True, figsize = (5,3))\n"
   ]
  },
  {
   "cell_type": "code",
   "execution_count": 46,
   "metadata": {
    "scrolled": false
   },
   "outputs": [
    {
     "data": {
      "text/plain": [
       "<AxesSubplot:ylabel='floor_numb'>"
      ]
     },
     "execution_count": 46,
     "metadata": {},
     "output_type": "execute_result"
    },
    {
     "data": {
      "image/png": "[encoded data removed]",
      "text/plain": [
       "<Figure size 432x432 with 1 Axes>"
      ]
     },
     "metadata": {},
     "output_type": "display_data"
    }
   ],
   "source": [
    "colors = ['lightgreen', 'lightblue', 'pink', 'purple', 'grey', 'gold']\n",
    "data['floor_numb'].value_counts().plot(kind='pie', figsize=(6, 6),\n",
    "                  autopct = '%1.1f%%',  colors=colors)"
   ]
  },
  {
   "cell_type": "markdown",
   "metadata": {},
   "source": [
    "<div class=\"alert alert-success\">\n",
    "\n",
    "**Артём:** 👍 Молодец.\n",
    "\n",
    "</div>"
   ]
  },
  {
   "cell_type": "markdown",
   "metadata": {},
   "source": [
    "\n",
    "    \n",
    "в основном,это тип 'другой'"
   ]
  },
  {
   "cell_type": "markdown",
   "metadata": {},
   "source": [
    "<div class=\"alert alert-success\">\n",
    "\n",
    "**Артём:** 👍 Хорошо.\n",
    "\n",
    "</div>"
   ]
  },
  {
   "cell_type": "markdown",
   "metadata": {},
   "source": [
    "\n",
    "\n",
    "изучим общее количество этажей"
   ]
  },
  {
   "cell_type": "code",
   "execution_count": 47,
   "metadata": {
    "scrolled": false
   },
   "outputs": [
    {
     "data": {
      "image/png": "[encoded data removed]",
      "text/plain": [
       "<Figure size 360x216 with 1 Axes>"
      ]
     },
     "metadata": {
      "needs_background": "light"
     },
     "output_type": "display_data"
    },
    {
     "name": "stdout",
     "output_type": "stream",
     "text": [
      "count   14,465.0\n",
      "mean        10.2\n",
      "std          6.2\n",
      "min          1.0\n",
      "25%          5.0\n",
      "50%          9.0\n",
      "75%         14.0\n",
      "max         60.0\n",
      "Name: floors_total, dtype: float64\n"
     ]
    }
   ],
   "source": [
    "data.plot(y = 'floors_total', kind = 'hist', bins = 100, range = (0,100), grid=True, figsize = (5,3))\n",
    "plt.ylabel(\"Частота\")\n",
    "plt.xlabel(\"Общее число этажей\")\n",
    "plt.show()\n",
    "print(data['floors_total'].describe())\n"
   ]
  },
  {
   "cell_type": "markdown",
   "metadata": {},
   "source": [
    "\n",
    "    \n",
    "от 1 до 60, в среднем 10 медиана 9"
   ]
  },
  {
   "cell_type": "markdown",
   "metadata": {},
   "source": [
    "<div class=\"alert alert-success\">\n",
    "\n",
    "**Артём:** 👍 Хорошо.\n",
    "\n",
    "</div>"
   ]
  },
  {
   "cell_type": "markdown",
   "metadata": {},
   "source": [
    "\n",
    "\n",
    "изучим расстояние до центра города в метрах"
   ]
  },
  {
   "cell_type": "code",
   "execution_count": 48,
   "metadata": {
    "scrolled": false
   },
   "outputs": [
    {
     "data": {
      "image/png": "[encoded data removed]",
      "text/plain": [
       "<Figure size 360x216 with 1 Axes>"
      ]
     },
     "metadata": {
      "needs_background": "light"
     },
     "output_type": "display_data"
    },
    {
     "name": "stdout",
     "output_type": "stream",
     "text": [
      "count   11,541.0\n",
      "mean    14,070.0\n",
      "std      8,760.1\n",
      "min        181.0\n",
      "25%      9,054.0\n",
      "50%     12,966.0\n",
      "75%     16,034.0\n",
      "max     65,968.0\n",
      "Name: cityCenters_nearest, dtype: float64\n"
     ]
    }
   ],
   "source": [
    "data.plot(y = 'cityCenters_nearest', kind = 'hist', bins = 30, range = (0,100000), grid=True, figsize = (5,3))\n",
    "plt.ylabel(\"Частота\")\n",
    "plt.xlabel(\"Близость к центру\")\n",
    "plt.show()\n",
    "print(data['cityCenters_nearest'].describe())"
   ]
  },
  {
   "cell_type": "markdown",
   "metadata": {},
   "source": [
    "\n",
    "\n",
    "Ничего выделяющегося не вижу"
   ]
  },
  {
   "cell_type": "markdown",
   "metadata": {},
   "source": [
    "<div class=\"alert alert-success\">\n",
    "\n",
    "**Артём:** 👍 Согласен.\n",
    "\n",
    "</div>"
   ]
  },
  {
   "cell_type": "markdown",
   "metadata": {},
   "source": [
    "\n",
    "\n",
    "изучим расстояние до центра города в метрах"
   ]
  },
  {
   "cell_type": "code",
   "execution_count": 49,
   "metadata": {
    "scrolled": false
   },
   "outputs": [
    {
     "data": {
      "image/png": "[encoded data removed]",
      "text/plain": [
       "<Figure size 360x216 with 1 Axes>"
      ]
     },
     "metadata": {
      "needs_background": "light"
     },
     "output_type": "display_data"
    },
    {
     "data": {
      "text/plain": [
       "count   11,541.0\n",
       "mean    14,070.0\n",
       "std      8,760.1\n",
       "min        181.0\n",
       "25%      9,054.0\n",
       "50%     12,966.0\n",
       "75%     16,034.0\n",
       "max     65,968.0\n",
       "Name: cityCenters_nearest, dtype: float64"
      ]
     },
     "execution_count": 49,
     "metadata": {},
     "output_type": "execute_result"
    }
   ],
   "source": [
    "data.plot(y = 'cityCenters_nearest', kind = 'hist', bins = 30, range = (0,100000), grid=True, figsize = (5,3))\n",
    "plt.ylabel(\"Частота\")\n",
    "plt.xlabel(\"Этаж\")\n",
    "plt.show()\n",
    "data['cityCenters_nearest'].describe()"
   ]
  },
  {
   "cell_type": "markdown",
   "metadata": {},
   "source": [
    "\n",
    "    \n",
    "от 200м до 66 км,в среднем 14 км, медиана 13 км"
   ]
  },
  {
   "cell_type": "markdown",
   "metadata": {},
   "source": [
    "<div class=\"alert alert-success\">\n",
    "\n",
    "**Артём:** 👍 Верно.\n",
    "\n",
    "</div>"
   ]
  },
  {
   "cell_type": "markdown",
   "metadata": {},
   "source": [
    "\n",
    "изучим расстояние до ближайшего аэропорта"
   ]
  },
  {
   "cell_type": "code",
   "execution_count": 50,
   "metadata": {},
   "outputs": [
    {
     "data": {
      "image/png": "[encoded data removed]",
      "text/plain": [
       "<Figure size 360x216 with 1 Axes>"
      ]
     },
     "metadata": {
      "needs_background": "light"
     },
     "output_type": "display_data"
    },
    {
     "name": "stdout",
     "output_type": "stream",
     "text": [
      "count   11,521.0\n",
      "mean    28,824.2\n",
      "std     12,631.7\n",
      "min          0.0\n",
      "25%     18,551.0\n",
      "50%     26,755.0\n",
      "75%     37,091.0\n",
      "max     84,869.0\n",
      "Name: airports_nearest, dtype: float64\n"
     ]
    }
   ],
   "source": [
    "data.plot(y = 'airports_nearest', kind = 'hist', bins = 30, range = (0,100000), grid=True, figsize = (5,3))\n",
    "plt.ylabel(\"Частота\")\n",
    "plt.xlabel(\"Близость к аэропорту\")\n",
    "plt.show()\n",
    "print(data['airports_nearest'].describe())"
   ]
  },
  {
   "cell_type": "markdown",
   "metadata": {},
   "source": [
    "\n",
    " \n",
    " от 0 км до 85 км, в среднем 29 км, медиана 27 км"
   ]
  },
  {
   "cell_type": "markdown",
   "metadata": {},
   "source": [
    "\n",
    "\n",
    "изучим расстояние до ближайшего парка"
   ]
  },
  {
   "cell_type": "code",
   "execution_count": 51,
   "metadata": {},
   "outputs": [
    {
     "data": {
      "image/png": "[encoded data removed]",
      "text/plain": [
       "<Figure size 216x360 with 1 Axes>"
      ]
     },
     "metadata": {
      "needs_background": "light"
     },
     "output_type": "display_data"
    },
    {
     "name": "stdout",
     "output_type": "stream",
     "text": [
      "count   5,281.0\n",
      "mean      476.8\n",
      "std       320.1\n",
      "min         3.0\n",
      "25%       285.0\n",
      "50%       449.0\n",
      "75%       602.0\n",
      "max     3,190.0\n",
      "Name: parks_nearest, dtype: float64\n"
     ]
    }
   ],
   "source": [
    "data.plot(y = 'parks_nearest', kind = 'hist', bins = 30, range = (0,40), grid=True, figsize = (3,5))\n",
    "plt.ylabel(\"Частота\")\n",
    "plt.xlabel(\"Расстояние до ближайшего парка\")\n",
    "plt.show()\n",
    "print(data['parks_nearest'].describe())\n"
   ]
  },
  {
   "cell_type": "markdown",
   "metadata": {},
   "source": [
    "\n",
    "\n",
    "от 3м до 3 км, среднее 476 м, медиана 450 м"
   ]
  },
  {
   "cell_type": "markdown",
   "metadata": {},
   "source": [
    "<div class=\"alert alert-success\">\n",
    "\n",
    "**Артём:** 👍 С расстоянием все тоже хорошо.\n",
    "\n",
    "</div>"
   ]
  },
  {
   "cell_type": "markdown",
   "metadata": {},
   "source": [
    "\n",
    "\n",
    "\n",
    "изучим день и месяц публикации объявления"
   ]
  },
  {
   "cell_type": "code",
   "execution_count": 52,
   "metadata": {
    "scrolled": true
   },
   "outputs": [
    {
     "data": {
      "image/png": "[encoded data removed]",
      "text/plain": [
       "<Figure size 216x360 with 1 Axes>"
      ]
     },
     "metadata": {
      "needs_background": "light"
     },
     "output_type": "display_data"
    }
   ],
   "source": [
    "data['weekday'].hist(bins = 30, range = (0,40), grid=True, figsize = (3,5))\n",
    "plt.ylabel(\"Частота\")\n",
    "plt.xlabel(\"день публикации\")\n",
    "plt.show()"
   ]
  },
  {
   "cell_type": "code",
   "execution_count": 53,
   "metadata": {
    "scrolled": true
   },
   "outputs": [
    {
     "data": {
      "text/plain": [
       "count   14,474.0\n",
       "mean         2.5\n",
       "std          1.8\n",
       "min          0.0\n",
       "25%          1.0\n",
       "50%          2.0\n",
       "75%          4.0\n",
       "max          6.0\n",
       "Name: weekday, dtype: float64"
      ]
     },
     "execution_count": 53,
     "metadata": {},
     "output_type": "execute_result"
    }
   ],
   "source": [
    "data['weekday'].describe()\n"
   ]
  },
  {
   "cell_type": "code",
   "execution_count": 54,
   "metadata": {},
   "outputs": [
    {
     "data": {
      "image/png": "[encoded data removed]",
      "text/plain": [
       "<Figure size 432x288 with 1 Axes>"
      ]
     },
     "metadata": {
      "needs_background": "light"
     },
     "output_type": "display_data"
    }
   ],
   "source": [
    "data['weekday'].value_counts().plot(kind='bar')\n",
    "plt.ylabel(\"Частота\")\n",
    "plt.xlabel(\"день публикации\")\n",
    "plt.show()"
   ]
  },
  {
   "cell_type": "markdown",
   "metadata": {},
   "source": [
    "<div class=\"alert alert-success\">\n",
    "\n",
    "**Артём:**  Круговую диаграмму оптимальнее использовать при небольшом количестве значений. В данном случае лучше сделать столбчатую.\n",
    "    \n",
    "</div>\n",
    "    \n",
    "\n",
    "</div>"
   ]
  },
  {
   "cell_type": "markdown",
   "metadata": {},
   "source": [
    "<div class=\"alert alert-success\">\n",
    "\n",
    "**Артём:** 👍 Умница."
   ]
  },
  {
   "cell_type": "markdown",
   "metadata": {},
   "source": [
    "\n",
    "    \n",
    "чаще всего выкладывают объявления во вторник и четверг    "
   ]
  },
  {
   "cell_type": "markdown",
   "metadata": {},
   "source": [
    "\n",
    "\n",
    "изучим день и месяц публикации объявления"
   ]
  },
  {
   "cell_type": "code",
   "execution_count": 55,
   "metadata": {},
   "outputs": [
    {
     "data": {
      "text/plain": [
       "<AxesSubplot:>"
      ]
     },
     "execution_count": 55,
     "metadata": {},
     "output_type": "execute_result"
    },
    {
     "data": {
      "image/png": "[encoded data removed]",
      "text/plain": [
       "<Figure size 360x216 with 1 Axes>"
      ]
     },
     "metadata": {
      "needs_background": "light"
     },
     "output_type": "display_data"
    }
   ],
   "source": [
    "data['month'].hist(bins = 30, range = (0,3), grid=True, figsize = (5,3))"
   ]
  },
  {
   "cell_type": "code",
   "execution_count": 56,
   "metadata": {},
   "outputs": [
    {
     "data": {
      "image/png": "[encoded data removed]",
      "text/plain": [
       "<Figure size 432x288 with 1 Axes>"
      ]
     },
     "metadata": {
      "needs_background": "light"
     },
     "output_type": "display_data"
    }
   ],
   "source": [
    "data['month'].value_counts().plot(kind='bar')\n",
    "\n",
    "plt.ylabel(\"Частота\")\n",
    "plt.xlabel(\"месяц публикации\")\n",
    "plt.show()"
   ]
  },
  {
   "cell_type": "markdown",
   "metadata": {},
   "source": [
    "\n",
    "\n",
    "Чаще всего выкладывают объявления в марте"
   ]
  },
  {
   "cell_type": "markdown",
   "metadata": {},
   "source": [
    "<div class=\"alert alert-success\">\n",
    "\n",
    "**Артём:** 👍 Верно.\n",
    "\n",
    "</div>"
   ]
  },
  {
   "cell_type": "markdown",
   "metadata": {},
   "source": [
    "<div class=\"alert alert-success\">\n",
    "\n",
    "**Артём:**  Данный блок сложно комментировать, так как большой фрагмент выполнен в одной ячейке. Выполни условие брифа, и я продолжу проверку.\n",
    "\n",
    "```\n",
    "Оформление\n",
    "\n",
    "Выполните задание в Jupyter Notebook. Заполните программный код в ячейках типа code, текстовые пояснения — в ячейках типа markdown. Примените форматирование и заголовки.\n",
    "```\n",
    "    \n",
    "\n",
    "</div>"
   ]
  },
  {
   "cell_type": "markdown",
   "metadata": {},
   "source": [
    "\n",
    "    \n",
    "**Выводы:**\n",
    "\n",
    "1.общая площадь - от 12 до 900 м2, среднее значение 60, а медиана 52 м2. Распределение Гаусса.\n",
    "    \n",
    "2.жилая площадь - от 2 до 409 м2, среднее значение 34,5, а медиана 30 м2. Распределение Гаусса.\n",
    "    \n",
    "3.площадь кухни - от 1 до 112 м2, среднее значение 10,5, а медиана 9,1 м2. Распределение Гаусса.\n",
    "    \n",
    "4.цена объекта - от 12190 до 763 млн, среднее значение 6,5 млн, а медиана 4,5 млн. Распределение Гаусса(стоимость 12190 смущает)\n",
    "    \n",
    "5.количество комнат - от 0 до 19, среднее значение 2,медиана 2(количество комнат-0-странно)\n",
    "    \n",
    "6.высота потолков -от 1 до 100, среднее 2,77, медиана 2,65(1 и 100 очень странные значения,я бы уточнила что это - может единицы другие )\n",
    "    \n",
    "7.этаж квартиры - от 1 до 30, среднее около 6, медиана 4\n",
    "    \n",
    "8.тип этажа квартиры («первый», «последний», «другой») - в основном,это тип 'другой'\n",
    "    \n",
    "9.общее количество этажей в доме - от 1 до 60, в среднем 11 медиана 9\n",
    "    \n",
    "10.расстояние до центра города - от 200м до 66 км,в среднем 14 км, медиана 13 км\n",
    "    \n",
    "11.расстояние до ближайшего аэропорта - от 0 км до 85 км, в среднем 29 км, медиана 27 км\n",
    "    \n",
    "12.расстояние до ближайшего парка - от 3м до 3 км, среднее 476 м, медиана 450 м\n",
    "    \n",
    "13.день и месяц публикации объявления -чаще всего выкладывают объявления во вторник и четверг и в марте"
   ]
  },
  {
   "cell_type": "markdown",
   "metadata": {},
   "source": [
    "<div class=\"alert alert-success\">\n",
    "\n",
    "**Артём:** 👍 Молодец."
   ]
  },
  {
   "cell_type": "markdown",
   "metadata": {},
   "source": [
    "\n",
    "    \n",
    "**Изучите, как быстро продавались квартиры (столбец days_exposition). Этот параметр показывает, сколько дней «висело» каждое объявление.\n",
    "    - Постройте гистограмму.\n",
    "    - Посчитайте среднее и медиану.\n",
    "    - В ячейке типа markdown опишите, сколько обычно занимает продажа. Какие продажи можно считать быстрыми, а какие — необычно долгими?**\n"
   ]
  },
  {
   "cell_type": "markdown",
   "metadata": {},
   "source": [
    "\n",
    " \n",
    "дата снятия объявления-не всегда дата прожади объекта,значит,надо подробнее рассмотреть спустя какой период объявление чаще всего снималось\n"
   ]
  },
  {
   "cell_type": "code",
   "execution_count": 57,
   "metadata": {
    "scrolled": true
   },
   "outputs": [
    {
     "data": {
      "text/plain": [
       "count   12,027.0\n",
       "mean       190.4\n",
       "std        228.8\n",
       "min          1.0\n",
       "25%         45.0\n",
       "50%        103.0\n",
       "75%        247.0\n",
       "max      1,580.0\n",
       "Name: days_exposition, dtype: float64"
      ]
     },
     "execution_count": 57,
     "metadata": {},
     "output_type": "execute_result"
    }
   ],
   "source": [
    "data[data['days_exposition']!=0]['days_exposition'].describe()\n"
   ]
  },
  {
   "cell_type": "markdown",
   "metadata": {},
   "source": [
    "<div class=\"alert alert-success\">\n",
    "\n",
    "**Артём:** 👍 Убрала 0 - просто умница."
   ]
  },
  {
   "cell_type": "markdown",
   "metadata": {},
   "source": [
    "\n",
    "\n",
    "В среднем 190,но есть и 1580"
   ]
  },
  {
   "cell_type": "markdown",
   "metadata": {},
   "source": [
    "<div class=\"alert alert-success\">\n",
    "\n",
    "**Артём:**  Библиотеки лучше импортировать в начале проекта.\n",
    "</div>\n",
    "<div class=\"alert alert-success\">\n",
    "\n",
    "**Артём:** 👍 Хорошо."
   ]
  },
  {
   "cell_type": "code",
   "execution_count": 58,
   "metadata": {},
   "outputs": [
    {
     "data": {
      "text/plain": [
       "(1.0, 1000.0)"
      ]
     },
     "execution_count": 58,
     "metadata": {},
     "output_type": "execute_result"
    },
    {
     "data": {
      "image/png": "[encoded data removed]",
      "text/plain": [
       "<Figure size 432x288 with 1 Axes>"
      ]
     },
     "metadata": {
      "needs_background": "light"
     },
     "output_type": "display_data"
    }
   ],
   "source": [
    "plt.boxplot(data[data['days_exposition']!=0]['days_exposition']);\n",
    "plt.ylim(1,1000)"
   ]
  },
  {
   "cell_type": "markdown",
   "metadata": {},
   "source": [
    "<div class=\"alert alert-success\">\n",
    "\n",
    "**Артём:**  Чтобы не выводить `<...>` можно поставить в конце строки `;`.\n",
    "    \n",
    "</div>\n",
    "<div class=\"alert alert-success\">\n",
    "\n",
    "**Артём:** 👍 Хорошо."
   ]
  },
  {
   "cell_type": "code",
   "execution_count": 59,
   "metadata": {
    "scrolled": true
   },
   "outputs": [
    {
     "data": {
      "image/png": "[encoded data removed]",
      "text/plain": [
       "<Figure size 432x288 with 1 Axes>"
      ]
     },
     "metadata": {
      "needs_background": "light"
     },
     "output_type": "display_data"
    }
   ],
   "source": [
    "data.plot(y = 'days_exposition', kind = 'hist', bins = 100, grid = True, range = (1,1600))\n",
    "plt.ylabel(\"Частота\")\n",
    "plt.xlabel(\"количество дней публикации\")\n",
    "plt.show()"
   ]
  },
  {
   "cell_type": "code",
   "execution_count": 60,
   "metadata": {
    "scrolled": true
   },
   "outputs": [
    {
     "data": {
      "image/png": "[encoded data removed]",
      "text/plain": [
       "<Figure size 432x288 with 1 Axes>"
      ]
     },
     "metadata": {
      "needs_background": "light"
     },
     "output_type": "display_data"
    }
   ],
   "source": [
    "data.plot(y = 'days_exposition', kind = 'hist', bins = 100, grid = True, range = (1,200))\n",
    "plt.ylabel(\"Частота\")\n",
    "plt.xlabel(\"количество дней публикации\")\n",
    "plt.show()"
   ]
  },
  {
   "cell_type": "markdown",
   "metadata": {},
   "source": [
    "\n",
    "есть выбивающиеся значения,обычно объявления снимаются через 7,30,45,60 и 90 дней(это общедоступная инфо). Прежде,чем удалить эти значения, нужно проверить а не продались ли действительно в эти дни квартиры- посмотрим на значения"
   ]
  },
  {
   "cell_type": "markdown",
   "metadata": {},
   "source": [
    "<div class=\"alert alert-success\">\n",
    "\n",
    "**Артём:** 👍 Здорово.\n",
    "\n",
    "</div>"
   ]
  },
  {
   "cell_type": "code",
   "execution_count": 61,
   "metadata": {
    "scrolled": false
   },
   "outputs": [
    {
     "data": {
      "text/html": [
       "<div>\n",
       "<style scoped>\n",
       "    .dataframe tbody tr th:only-of-type {\n",
       "        vertical-align: middle;\n",
       "    }\n",
       "\n",
       "    .dataframe tbody tr th {\n",
       "        vertical-align: top;\n",
       "    }\n",
       "\n",
       "    .dataframe thead th {\n",
       "        text-align: right;\n",
       "    }\n",
       "</style>\n",
       "<table border=\"1\" class=\"dataframe\">\n",
       "  <thead>\n",
       "    <tr style=\"text-align: right;\">\n",
       "      <th></th>\n",
       "      <th>total_images</th>\n",
       "      <th>last_price</th>\n",
       "      <th>total_area</th>\n",
       "      <th>first_day_exposition</th>\n",
       "      <th>rooms</th>\n",
       "      <th>ceiling_height</th>\n",
       "      <th>floors_total</th>\n",
       "      <th>living_area</th>\n",
       "      <th>floor</th>\n",
       "      <th>is_apartment</th>\n",
       "      <th>...</th>\n",
       "      <th>parks_nearest</th>\n",
       "      <th>ponds_around3000</th>\n",
       "      <th>ponds_nearest</th>\n",
       "      <th>days_exposition</th>\n",
       "      <th>price_meter</th>\n",
       "      <th>weekday</th>\n",
       "      <th>month</th>\n",
       "      <th>year</th>\n",
       "      <th>floor_numb</th>\n",
       "      <th>cityCenters_nearest_km</th>\n",
       "    </tr>\n",
       "  </thead>\n",
       "  <tbody>\n",
       "    <tr>\n",
       "      <th>89</th>\n",
       "      <td>9</td>\n",
       "      <td>2,500,000.0</td>\n",
       "      <td>63.0</td>\n",
       "      <td>2018-10-25</td>\n",
       "      <td>3</td>\n",
       "      <td>2.5</td>\n",
       "      <td>5.0</td>\n",
       "      <td>43.0</td>\n",
       "      <td>4</td>\n",
       "      <td>False</td>\n",
       "      <td>...</td>\n",
       "      <td>NaN</td>\n",
       "      <td>NaN</td>\n",
       "      <td>NaN</td>\n",
       "      <td>45</td>\n",
       "      <td>39682</td>\n",
       "      <td>3</td>\n",
       "      <td>10</td>\n",
       "      <td>2018</td>\n",
       "      <td>другой</td>\n",
       "      <td>NaN</td>\n",
       "    </tr>\n",
       "    <tr>\n",
       "      <th>153</th>\n",
       "      <td>12</td>\n",
       "      <td>4,350,000.0</td>\n",
       "      <td>55.0</td>\n",
       "      <td>2017-05-21</td>\n",
       "      <td>2</td>\n",
       "      <td>2.6</td>\n",
       "      <td>9.0</td>\n",
       "      <td>31.2</td>\n",
       "      <td>2</td>\n",
       "      <td>False</td>\n",
       "      <td>...</td>\n",
       "      <td>589.0</td>\n",
       "      <td>0.0</td>\n",
       "      <td>NaN</td>\n",
       "      <td>45</td>\n",
       "      <td>79090</td>\n",
       "      <td>6</td>\n",
       "      <td>5</td>\n",
       "      <td>2017</td>\n",
       "      <td>другой</td>\n",
       "      <td>34.4</td>\n",
       "    </tr>\n",
       "    <tr>\n",
       "      <th>227</th>\n",
       "      <td>13</td>\n",
       "      <td>2,200,000.0</td>\n",
       "      <td>47.0</td>\n",
       "      <td>2018-01-12</td>\n",
       "      <td>3</td>\n",
       "      <td>2.3</td>\n",
       "      <td>5.0</td>\n",
       "      <td>NaN</td>\n",
       "      <td>1</td>\n",
       "      <td>False</td>\n",
       "      <td>...</td>\n",
       "      <td>NaN</td>\n",
       "      <td>NaN</td>\n",
       "      <td>NaN</td>\n",
       "      <td>45</td>\n",
       "      <td>46808</td>\n",
       "      <td>4</td>\n",
       "      <td>1</td>\n",
       "      <td>2018</td>\n",
       "      <td>первый</td>\n",
       "      <td>NaN</td>\n",
       "    </tr>\n",
       "    <tr>\n",
       "      <th>235</th>\n",
       "      <td>0</td>\n",
       "      <td>4,000,000.0</td>\n",
       "      <td>60.0</td>\n",
       "      <td>2019-03-12</td>\n",
       "      <td>2</td>\n",
       "      <td>3.4</td>\n",
       "      <td>3.0</td>\n",
       "      <td>37.8</td>\n",
       "      <td>1</td>\n",
       "      <td>False</td>\n",
       "      <td>...</td>\n",
       "      <td>370.0</td>\n",
       "      <td>3.0</td>\n",
       "      <td>534.0</td>\n",
       "      <td>45</td>\n",
       "      <td>66666</td>\n",
       "      <td>1</td>\n",
       "      <td>3</td>\n",
       "      <td>2019</td>\n",
       "      <td>первый</td>\n",
       "      <td>31.5</td>\n",
       "    </tr>\n",
       "    <tr>\n",
       "      <th>340</th>\n",
       "      <td>13</td>\n",
       "      <td>3,200,000.0</td>\n",
       "      <td>32.2</td>\n",
       "      <td>2017-06-15</td>\n",
       "      <td>1</td>\n",
       "      <td>2.6</td>\n",
       "      <td>9.0</td>\n",
       "      <td>19.0</td>\n",
       "      <td>5</td>\n",
       "      <td>False</td>\n",
       "      <td>...</td>\n",
       "      <td>451.0</td>\n",
       "      <td>0.0</td>\n",
       "      <td>NaN</td>\n",
       "      <td>45</td>\n",
       "      <td>99378</td>\n",
       "      <td>3</td>\n",
       "      <td>6</td>\n",
       "      <td>2017</td>\n",
       "      <td>другой</td>\n",
       "      <td>14.9</td>\n",
       "    </tr>\n",
       "    <tr>\n",
       "      <th>...</th>\n",
       "      <td>...</td>\n",
       "      <td>...</td>\n",
       "      <td>...</td>\n",
       "      <td>...</td>\n",
       "      <td>...</td>\n",
       "      <td>...</td>\n",
       "      <td>...</td>\n",
       "      <td>...</td>\n",
       "      <td>...</td>\n",
       "      <td>...</td>\n",
       "      <td>...</td>\n",
       "      <td>...</td>\n",
       "      <td>...</td>\n",
       "      <td>...</td>\n",
       "      <td>...</td>\n",
       "      <td>...</td>\n",
       "      <td>...</td>\n",
       "      <td>...</td>\n",
       "      <td>...</td>\n",
       "      <td>...</td>\n",
       "      <td>...</td>\n",
       "    </tr>\n",
       "    <tr>\n",
       "      <th>23482</th>\n",
       "      <td>19</td>\n",
       "      <td>3,600,000.0</td>\n",
       "      <td>39.7</td>\n",
       "      <td>2017-12-06</td>\n",
       "      <td>1</td>\n",
       "      <td>2.6</td>\n",
       "      <td>9.0</td>\n",
       "      <td>22.6</td>\n",
       "      <td>3</td>\n",
       "      <td>False</td>\n",
       "      <td>...</td>\n",
       "      <td>NaN</td>\n",
       "      <td>0.0</td>\n",
       "      <td>NaN</td>\n",
       "      <td>45</td>\n",
       "      <td>90680</td>\n",
       "      <td>2</td>\n",
       "      <td>12</td>\n",
       "      <td>2017</td>\n",
       "      <td>другой</td>\n",
       "      <td>13.6</td>\n",
       "    </tr>\n",
       "    <tr>\n",
       "      <th>23517</th>\n",
       "      <td>11</td>\n",
       "      <td>2,700,000.0</td>\n",
       "      <td>46.0</td>\n",
       "      <td>2018-08-15</td>\n",
       "      <td>2</td>\n",
       "      <td>2.6</td>\n",
       "      <td>5.0</td>\n",
       "      <td>NaN</td>\n",
       "      <td>3</td>\n",
       "      <td>False</td>\n",
       "      <td>...</td>\n",
       "      <td>NaN</td>\n",
       "      <td>NaN</td>\n",
       "      <td>NaN</td>\n",
       "      <td>45</td>\n",
       "      <td>58695</td>\n",
       "      <td>2</td>\n",
       "      <td>8</td>\n",
       "      <td>2018</td>\n",
       "      <td>другой</td>\n",
       "      <td>NaN</td>\n",
       "    </tr>\n",
       "    <tr>\n",
       "      <th>23530</th>\n",
       "      <td>0</td>\n",
       "      <td>3,000,000.0</td>\n",
       "      <td>30.0</td>\n",
       "      <td>2018-03-28</td>\n",
       "      <td>1</td>\n",
       "      <td>2.5</td>\n",
       "      <td>5.0</td>\n",
       "      <td>NaN</td>\n",
       "      <td>3</td>\n",
       "      <td>False</td>\n",
       "      <td>...</td>\n",
       "      <td>NaN</td>\n",
       "      <td>NaN</td>\n",
       "      <td>NaN</td>\n",
       "      <td>45</td>\n",
       "      <td>100000</td>\n",
       "      <td>2</td>\n",
       "      <td>3</td>\n",
       "      <td>2018</td>\n",
       "      <td>другой</td>\n",
       "      <td>NaN</td>\n",
       "    </tr>\n",
       "    <tr>\n",
       "      <th>23537</th>\n",
       "      <td>9</td>\n",
       "      <td>3,600,000.0</td>\n",
       "      <td>45.0</td>\n",
       "      <td>2017-06-14</td>\n",
       "      <td>2</td>\n",
       "      <td>2.5</td>\n",
       "      <td>5.0</td>\n",
       "      <td>28.7</td>\n",
       "      <td>3</td>\n",
       "      <td>False</td>\n",
       "      <td>...</td>\n",
       "      <td>NaN</td>\n",
       "      <td>1.0</td>\n",
       "      <td>658.0</td>\n",
       "      <td>45</td>\n",
       "      <td>80000</td>\n",
       "      <td>2</td>\n",
       "      <td>6</td>\n",
       "      <td>2017</td>\n",
       "      <td>другой</td>\n",
       "      <td>11.2</td>\n",
       "    </tr>\n",
       "    <tr>\n",
       "      <th>23670</th>\n",
       "      <td>9</td>\n",
       "      <td>2,450,000.0</td>\n",
       "      <td>45.6</td>\n",
       "      <td>2018-02-08</td>\n",
       "      <td>1</td>\n",
       "      <td>2.8</td>\n",
       "      <td>9.0</td>\n",
       "      <td>NaN</td>\n",
       "      <td>2</td>\n",
       "      <td>False</td>\n",
       "      <td>...</td>\n",
       "      <td>NaN</td>\n",
       "      <td>NaN</td>\n",
       "      <td>NaN</td>\n",
       "      <td>45</td>\n",
       "      <td>53728</td>\n",
       "      <td>3</td>\n",
       "      <td>2</td>\n",
       "      <td>2018</td>\n",
       "      <td>другой</td>\n",
       "      <td>NaN</td>\n",
       "    </tr>\n",
       "  </tbody>\n",
       "</table>\n",
       "<p>395 rows × 28 columns</p>\n",
       "</div>"
      ],
      "text/plain": [
       "       total_images  last_price  total_area first_day_exposition  rooms  \\\n",
       "89                9 2,500,000.0        63.0           2018-10-25      3   \n",
       "153              12 4,350,000.0        55.0           2017-05-21      2   \n",
       "227              13 2,200,000.0        47.0           2018-01-12      3   \n",
       "235               0 4,000,000.0        60.0           2019-03-12      2   \n",
       "340              13 3,200,000.0        32.2           2017-06-15      1   \n",
       "...             ...         ...         ...                  ...    ...   \n",
       "23482            19 3,600,000.0        39.7           2017-12-06      1   \n",
       "23517            11 2,700,000.0        46.0           2018-08-15      2   \n",
       "23530             0 3,000,000.0        30.0           2018-03-28      1   \n",
       "23537             9 3,600,000.0        45.0           2017-06-14      2   \n",
       "23670             9 2,450,000.0        45.6           2018-02-08      1   \n",
       "\n",
       "       ceiling_height  floors_total  living_area  floor  is_apartment  ...  \\\n",
       "89                2.5           5.0         43.0      4         False  ...   \n",
       "153               2.6           9.0         31.2      2         False  ...   \n",
       "227               2.3           5.0          NaN      1         False  ...   \n",
       "235               3.4           3.0         37.8      1         False  ...   \n",
       "340               2.6           9.0         19.0      5         False  ...   \n",
       "...               ...           ...          ...    ...           ...  ...   \n",
       "23482             2.6           9.0         22.6      3         False  ...   \n",
       "23517             2.6           5.0          NaN      3         False  ...   \n",
       "23530             2.5           5.0          NaN      3         False  ...   \n",
       "23537             2.5           5.0         28.7      3         False  ...   \n",
       "23670             2.8           9.0          NaN      2         False  ...   \n",
       "\n",
       "       parks_nearest  ponds_around3000  ponds_nearest  days_exposition  \\\n",
       "89               NaN               NaN            NaN               45   \n",
       "153            589.0               0.0            NaN               45   \n",
       "227              NaN               NaN            NaN               45   \n",
       "235            370.0               3.0          534.0               45   \n",
       "340            451.0               0.0            NaN               45   \n",
       "...              ...               ...            ...              ...   \n",
       "23482            NaN               0.0            NaN               45   \n",
       "23517            NaN               NaN            NaN               45   \n",
       "23530            NaN               NaN            NaN               45   \n",
       "23537            NaN               1.0          658.0               45   \n",
       "23670            NaN               NaN            NaN               45   \n",
       "\n",
       "      price_meter  weekday  month  year  floor_numb  cityCenters_nearest_km  \n",
       "89          39682        3     10  2018      другой                     NaN  \n",
       "153         79090        6      5  2017      другой                    34.4  \n",
       "227         46808        4      1  2018      первый                     NaN  \n",
       "235         66666        1      3  2019      первый                    31.5  \n",
       "340         99378        3      6  2017      другой                    14.9  \n",
       "...           ...      ...    ...   ...         ...                     ...  \n",
       "23482       90680        2     12  2017      другой                    13.6  \n",
       "23517       58695        2      8  2018      другой                     NaN  \n",
       "23530      100000        2      3  2018      другой                     NaN  \n",
       "23537       80000        2      6  2017      другой                    11.2  \n",
       "23670       53728        3      2  2018      другой                     NaN  \n",
       "\n",
       "[395 rows x 28 columns]"
      ]
     },
     "metadata": {},
     "output_type": "display_data"
    }
   ],
   "source": [
    "display(data[data['days_exposition']==45])"
   ]
  },
  {
   "cell_type": "markdown",
   "metadata": {},
   "source": [
    "\n",
    "\n",
    "Никакой связи не видно на первый взгляд,поэтому удаляю эти аномалии"
   ]
  },
  {
   "cell_type": "markdown",
   "metadata": {},
   "source": [
    "<div class=\"alert alert-success\">\n",
    "\n",
    "**Артём:** 👍 Принято.\n",
    "\n",
    "</div>"
   ]
  },
  {
   "cell_type": "code",
   "execution_count": 62,
   "metadata": {},
   "outputs": [],
   "source": [
    "#фильтрую данные от аномальных значений и запишу их в  good_data\n",
    "good_data = data.query('days_exposition != 7 and days_exposition != 30 and days_exposition != 45 and days_exposition != 60 and days_exposition != 90 and days_exposition != 0')"
   ]
  },
  {
   "cell_type": "markdown",
   "metadata": {},
   "source": [
    "<div style=\"background-color:lavender; color:#black; text-align:center; padding:2%\">\n",
    "\n",
    "диаграмма размаха"
   ]
  },
  {
   "cell_type": "code",
   "execution_count": 63,
   "metadata": {},
   "outputs": [
    {
     "data": {
      "image/png": "[encoded data removed]",
      "text/plain": [
       "<Figure size 432x288 with 1 Axes>"
      ]
     },
     "metadata": {
      "needs_background": "light"
     },
     "output_type": "display_data"
    }
   ],
   "source": [
    "plt.boxplot(good_data['days_exposition']);"
   ]
  },
  {
   "cell_type": "code",
   "execution_count": 64,
   "metadata": {
    "scrolled": true
   },
   "outputs": [
    {
     "data": {
      "image/png": "[encoded data removed]",
      "text/plain": [
       "<Figure size 432x288 with 1 Axes>"
      ]
     },
     "metadata": {
      "needs_background": "light"
     },
     "output_type": "display_data"
    }
   ],
   "source": [
    "good_data.plot(y = 'days_exposition', kind = 'hist', bins = 100, grid = True, range = (1,1600))\n",
    "plt.ylabel(\"Частота\")\n",
    "plt.xlabel(\"количество дней публикации\")\n",
    "plt.show()"
   ]
  },
  {
   "cell_type": "code",
   "execution_count": 65,
   "metadata": {
    "scrolled": true
   },
   "outputs": [
    {
     "data": {
      "image/png": "[encoded data removed]",
      "text/plain": [
       "<Figure size 432x288 with 1 Axes>"
      ]
     },
     "metadata": {
      "needs_background": "light"
     },
     "output_type": "display_data"
    }
   ],
   "source": [
    "good_data.plot(y = 'days_exposition', kind = 'hist', bins = 100, grid = True, range = (1,200))\n",
    "plt.ylabel(\"Частота\")\n",
    "plt.xlabel(\"количество дней публикации\")\n",
    "plt.show()"
   ]
  },
  {
   "cell_type": "code",
   "execution_count": 66,
   "metadata": {},
   "outputs": [
    {
     "name": "stdout",
     "output_type": "stream",
     "text": [
      "count   10,950.0\n",
      "mean       204.7\n",
      "std        234.9\n",
      "min          1.0\n",
      "25%         48.0\n",
      "50%        119.0\n",
      "75%        273.0\n",
      "max      1,580.0\n",
      "Name: days_exposition, dtype: float64\n"
     ]
    }
   ],
   "source": [
    "print(good_data['days_exposition'].describe())"
   ]
  },
  {
   "cell_type": "markdown",
   "metadata": {},
   "source": [
    "<div class=\"alert alert-success\">\n",
    "\n",
    "**Артём:**  Не совсем понял откуда число 600 дней?\n",
    "    \n",
    "</div>"
   ]
  },
  {
   "cell_type": "markdown",
   "metadata": {},
   "source": [
    "<div style=\"background-color:lavender; color:#black; text-align:center; padding:2%\">\n",
    "\n",
    "После 600,судя по гистограмме - значений не так много\n",
    "    \n",
    "Вообще,получилось очень интересно,я задам вопрос преподователю,но,когда я воспользовалась изменением типа данных на инт тем способом,который меняет тип на инт,где есть наны,то все вообще пошло не по плану,диаграмма размаха не построилась,исчезли значения 45 дней,но на гистограмме вылезли,причем,такая ситуация произошла только с количеством дней 45"
   ]
  },
  {
   "cell_type": "markdown",
   "metadata": {},
   "source": [
    "<div class=\"alert alert-success\">\n",
    "\n",
    "**Артём:** 👍 Жуть, вот я насоветовал))) Молодец, что разобралась."
   ]
  },
  {
   "cell_type": "markdown",
   "metadata": {},
   "source": [
    "<div style=\"background-color:lavender; color:#black; text-align:center; padding:2%\">\n",
    "\n",
    "\n",
    "**Вывод:**\n",
    "\n",
    "Теперь среднее -204 и медиана 119 дней, по диаграмме размаха получаем быстрые продажи и долгие от 1 до примерно года. \n",
    "\n",
    "Около года - это нормально время продажи квартиры.\n",
    "\n",
    "Необычно долгие - это верние 25% - более 273 дней."
   ]
  },
  {
   "cell_type": "markdown",
   "metadata": {},
   "source": [
    "\n",
    "\n",
    "**Какие факторы больше всего влияют на общую (полную) стоимость объекта? Постройте графики, которые покажут зависимость цены от указанных ниже параметров. Для подготовки данных перед визуализацией вы можете использовать сводные таблицы.\"\n",
    "        - общей площади;\n",
    "        - жилой площади;\n",
    "        - площади кухни;\n",
    "        - количество комнат;\n",
    "        - типа этажа, на котором расположена квартира (первый, последний, другой);\n",
    "        - даты размещения (день недели, месяц, год)**"
   ]
  },
  {
   "cell_type": "markdown",
   "metadata": {},
   "source": [
    "\n",
    "\n",
    "Сначала посмотрим от общей площади"
   ]
  },
  {
   "cell_type": "code",
   "execution_count": 67,
   "metadata": {
    "scrolled": true
   },
   "outputs": [
    {
     "data": {
      "image/png": "[encoded data removed]",
      "text/plain": [
       "<Figure size 432x288 with 1 Axes>"
      ]
     },
     "metadata": {
      "needs_background": "light"
     },
     "output_type": "display_data"
    }
   ],
   "source": [
    "#Используя сводные таблицы-стоимость от площади\n",
    "\n",
    "\n",
    "pivot_table_total_area.columns = ['mean', 'count', 'median']\n",
    "pivot_table_total_area.plot(y = 'median', style = 'o')\n",
    "plt.xlabel(\"общая площадь\")\n",
    "plt.show()"
   ]
  },
  {
   "cell_type": "code",
   "execution_count": 68,
   "metadata": {
    "scrolled": false
   },
   "outputs": [
    {
     "data": {
      "text/html": [
       "<div>\n",
       "<style scoped>\n",
       "    .dataframe tbody tr th:only-of-type {\n",
       "        vertical-align: middle;\n",
       "    }\n",
       "\n",
       "    .dataframe tbody tr th {\n",
       "        vertical-align: top;\n",
       "    }\n",
       "\n",
       "    .dataframe thead th {\n",
       "        text-align: right;\n",
       "    }\n",
       "</style>\n",
       "<table border=\"1\" class=\"dataframe\">\n",
       "  <thead>\n",
       "    <tr style=\"text-align: right;\">\n",
       "      <th></th>\n",
       "      <th>mean</th>\n",
       "      <th>count</th>\n",
       "      <th>median</th>\n",
       "    </tr>\n",
       "    <tr>\n",
       "      <th>total_area</th>\n",
       "      <th></th>\n",
       "      <th></th>\n",
       "      <th></th>\n",
       "    </tr>\n",
       "  </thead>\n",
       "  <tbody>\n",
       "    <tr>\n",
       "      <th>900.0</th>\n",
       "      <td>420,000,000.0</td>\n",
       "      <td>1</td>\n",
       "      <td>420,000,000.0</td>\n",
       "    </tr>\n",
       "    <tr>\n",
       "      <th>618.0</th>\n",
       "      <td>300,000,000.0</td>\n",
       "      <td>1</td>\n",
       "      <td>300,000,000.0</td>\n",
       "    </tr>\n",
       "    <tr>\n",
       "      <th>187.5</th>\n",
       "      <td>289,238,400.0</td>\n",
       "      <td>1</td>\n",
       "      <td>289,238,400.0</td>\n",
       "    </tr>\n",
       "    <tr>\n",
       "      <th>285.7</th>\n",
       "      <td>245,000,000.0</td>\n",
       "      <td>1</td>\n",
       "      <td>245,000,000.0</td>\n",
       "    </tr>\n",
       "    <tr>\n",
       "      <th>410.0</th>\n",
       "      <td>240,000,000.0</td>\n",
       "      <td>1</td>\n",
       "      <td>240,000,000.0</td>\n",
       "    </tr>\n",
       "    <tr>\n",
       "      <th>...</th>\n",
       "      <td>...</td>\n",
       "      <td>...</td>\n",
       "      <td>...</td>\n",
       "    </tr>\n",
       "    <tr>\n",
       "      <th>27.3</th>\n",
       "      <td>1,315,000.0</td>\n",
       "      <td>1</td>\n",
       "      <td>1,315,000.0</td>\n",
       "    </tr>\n",
       "    <tr>\n",
       "      <th>29.6</th>\n",
       "      <td>1,300,000.0</td>\n",
       "      <td>1</td>\n",
       "      <td>1,300,000.0</td>\n",
       "    </tr>\n",
       "    <tr>\n",
       "      <th>28.6</th>\n",
       "      <td>1,720,000.0</td>\n",
       "      <td>4</td>\n",
       "      <td>1,030,000.0</td>\n",
       "    </tr>\n",
       "    <tr>\n",
       "      <th>19.5</th>\n",
       "      <td>945,750.0</td>\n",
       "      <td>1</td>\n",
       "      <td>945,750.0</td>\n",
       "    </tr>\n",
       "    <tr>\n",
       "      <th>28.7</th>\n",
       "      <td>690,000.0</td>\n",
       "      <td>1</td>\n",
       "      <td>690,000.0</td>\n",
       "    </tr>\n",
       "  </tbody>\n",
       "</table>\n",
       "<p>1635 rows × 3 columns</p>\n",
       "</div>"
      ],
      "text/plain": [
       "                    mean  count        median\n",
       "total_area                                   \n",
       "900.0      420,000,000.0      1 420,000,000.0\n",
       "618.0      300,000,000.0      1 300,000,000.0\n",
       "187.5      289,238,400.0      1 289,238,400.0\n",
       "285.7      245,000,000.0      1 245,000,000.0\n",
       "410.0      240,000,000.0      1 240,000,000.0\n",
       "...                  ...    ...           ...\n",
       "27.3         1,315,000.0      1   1,315,000.0\n",
       "29.6         1,300,000.0      1   1,300,000.0\n",
       "28.6         1,720,000.0      4   1,030,000.0\n",
       "19.5           945,750.0      1     945,750.0\n",
       "28.7           690,000.0      1     690,000.0\n",
       "\n",
       "[1635 rows x 3 columns]"
      ]
     },
     "execution_count": 68,
     "metadata": {},
     "output_type": "execute_result"
    }
   ],
   "source": [
    "pivot_table_total_area.sort_values('median', ascending = False)"
   ]
  },
  {
   "cell_type": "markdown",
   "metadata": {},
   "source": [
    "\n",
    "    \n",
    "    \n",
    "Рассчитаю коэф корреляции"
   ]
  },
  {
   "cell_type": "code",
   "execution_count": 69,
   "metadata": {
    "scrolled": true
   },
   "outputs": [
    {
     "data": {
      "text/plain": [
       "0.7119338010060081"
      ]
     },
     "execution_count": 69,
     "metadata": {},
     "output_type": "execute_result"
    }
   ],
   "source": [
    "data['total_area'].corr(data['last_price'])"
   ]
  },
  {
   "cell_type": "markdown",
   "metadata": {},
   "source": [
    "\n",
    "\n",
    "**Конечно,общая стоимость логично,что зависит от пощади квартиры,коэф 0,7(умеренно)**"
   ]
  },
  {
   "cell_type": "markdown",
   "metadata": {},
   "source": [
    "<div class=\"alert alert-success\">\n",
    "\n",
    "**Артём:** 👍 Согласен.\n",
    "\n",
    "</div>"
   ]
  },
  {
   "cell_type": "markdown",
   "metadata": {},
   "source": [
    "\n",
    "    \n",
    "От жилой площади    \n"
   ]
  },
  {
   "cell_type": "code",
   "execution_count": 70,
   "metadata": {
    "scrolled": true
   },
   "outputs": [
    {
     "data": {
      "image/png": "[encoded data removed]",
      "text/plain": [
       "<Figure size 432x288 with 1 Axes>"
      ]
     },
     "metadata": {
      "needs_background": "light"
     },
     "output_type": "display_data"
    }
   ],
   "source": [
    "#На основе сводной таблицы стоимость от жилой площади\n",
    "pivot_table_living_area = data.pivot_table(index = 'living_area', values = 'last_price', aggfunc = ['mean', 'count', 'median'])\n",
    "pivot_table_living_area.columns = ['mean', 'count', 'median']\n",
    "pivot_table_living_area.plot(y = 'median', style = 'o')\n",
    "\n",
    "plt.xlabel(\"жилая площадь\")\n",
    "plt.show()"
   ]
  },
  {
   "cell_type": "code",
   "execution_count": 71,
   "metadata": {
    "scrolled": false
   },
   "outputs": [
    {
     "data": {
      "text/html": [
       "<div>\n",
       "<style scoped>\n",
       "    .dataframe tbody tr th:only-of-type {\n",
       "        vertical-align: middle;\n",
       "    }\n",
       "\n",
       "    .dataframe tbody tr th {\n",
       "        vertical-align: top;\n",
       "    }\n",
       "\n",
       "    .dataframe thead th {\n",
       "        text-align: right;\n",
       "    }\n",
       "</style>\n",
       "<table border=\"1\" class=\"dataframe\">\n",
       "  <thead>\n",
       "    <tr style=\"text-align: right;\">\n",
       "      <th></th>\n",
       "      <th>mean</th>\n",
       "      <th>count</th>\n",
       "      <th>median</th>\n",
       "    </tr>\n",
       "    <tr>\n",
       "      <th>living_area</th>\n",
       "      <th></th>\n",
       "      <th></th>\n",
       "      <th></th>\n",
       "    </tr>\n",
       "  </thead>\n",
       "  <tbody>\n",
       "    <tr>\n",
       "      <th>409.7</th>\n",
       "      <td>420,000,000.0</td>\n",
       "      <td>1</td>\n",
       "      <td>420,000,000.0</td>\n",
       "    </tr>\n",
       "    <tr>\n",
       "      <th>258.0</th>\n",
       "      <td>300,000,000.0</td>\n",
       "      <td>1</td>\n",
       "      <td>300,000,000.0</td>\n",
       "    </tr>\n",
       "    <tr>\n",
       "      <th>182.8</th>\n",
       "      <td>245,000,000.0</td>\n",
       "      <td>1</td>\n",
       "      <td>245,000,000.0</td>\n",
       "    </tr>\n",
       "    <tr>\n",
       "      <th>218.0</th>\n",
       "      <td>240,000,000.0</td>\n",
       "      <td>1</td>\n",
       "      <td>240,000,000.0</td>\n",
       "    </tr>\n",
       "    <tr>\n",
       "      <th>260.0</th>\n",
       "      <td>180,000,000.0</td>\n",
       "      <td>1</td>\n",
       "      <td>180,000,000.0</td>\n",
       "    </tr>\n",
       "    <tr>\n",
       "      <th>...</th>\n",
       "      <td>...</td>\n",
       "      <td>...</td>\n",
       "      <td>...</td>\n",
       "    </tr>\n",
       "    <tr>\n",
       "      <th>26.3</th>\n",
       "      <td>1,720,000.0</td>\n",
       "      <td>1</td>\n",
       "      <td>1,720,000.0</td>\n",
       "    </tr>\n",
       "    <tr>\n",
       "      <th>16.3</th>\n",
       "      <td>1,700,000.0</td>\n",
       "      <td>1</td>\n",
       "      <td>1,700,000.0</td>\n",
       "    </tr>\n",
       "    <tr>\n",
       "      <th>12.8</th>\n",
       "      <td>1,690,715.0</td>\n",
       "      <td>1</td>\n",
       "      <td>1,690,715.0</td>\n",
       "    </tr>\n",
       "    <tr>\n",
       "      <th>10.9</th>\n",
       "      <td>1,550,000.0</td>\n",
       "      <td>1</td>\n",
       "      <td>1,550,000.0</td>\n",
       "    </tr>\n",
       "    <tr>\n",
       "      <th>16.9</th>\n",
       "      <td>1,300,000.0</td>\n",
       "      <td>1</td>\n",
       "      <td>1,300,000.0</td>\n",
       "    </tr>\n",
       "  </tbody>\n",
       "</table>\n",
       "<p>1390 rows × 3 columns</p>\n",
       "</div>"
      ],
      "text/plain": [
       "                     mean  count        median\n",
       "living_area                                   \n",
       "409.7       420,000,000.0      1 420,000,000.0\n",
       "258.0       300,000,000.0      1 300,000,000.0\n",
       "182.8       245,000,000.0      1 245,000,000.0\n",
       "218.0       240,000,000.0      1 240,000,000.0\n",
       "260.0       180,000,000.0      1 180,000,000.0\n",
       "...                   ...    ...           ...\n",
       "26.3          1,720,000.0      1   1,720,000.0\n",
       "16.3          1,700,000.0      1   1,700,000.0\n",
       "12.8          1,690,715.0      1   1,690,715.0\n",
       "10.9          1,550,000.0      1   1,550,000.0\n",
       "16.9          1,300,000.0      1   1,300,000.0\n",
       "\n",
       "[1390 rows x 3 columns]"
      ]
     },
     "execution_count": 71,
     "metadata": {},
     "output_type": "execute_result"
    }
   ],
   "source": [
    "pivot_table_living_area.sort_values('median', ascending = False)\n"
   ]
  },
  {
   "cell_type": "markdown",
   "metadata": {},
   "source": [
    "\n",
    " \n",
    " Посчитаю коэф корреляции"
   ]
  },
  {
   "cell_type": "code",
   "execution_count": 72,
   "metadata": {
    "scrolled": true
   },
   "outputs": [
    {
     "data": {
      "text/plain": [
       "0.6141477996649245"
      ]
     },
     "execution_count": 72,
     "metadata": {},
     "output_type": "execute_result"
    }
   ],
   "source": [
    "data['living_area'].corr(data['last_price'])\n"
   ]
  },
  {
   "cell_type": "markdown",
   "metadata": {},
   "source": [
    "\n",
    "**Так же имеется умеренная положительная связь с коэф 0,6**"
   ]
  },
  {
   "cell_type": "markdown",
   "metadata": {},
   "source": [
    "<div class=\"alert alert-success\">\n",
    "\n",
    "**Артём:**  К сожалению, не смог ознакомиться с твоим проектом до конца, ошибка в коде 🙁 🚧\n",
    "\n",
    "Пожалуйста, перед отправкой на проверку запусти проект в JupyterHub ⏩ и посмотри, что бы он отработал до конца, чтобы тебе не терять время.\n",
    "    \n",
    "Представь, что ты работаешь в крупной фирме, допустим ты сделала проект дома, а на совещании у руководства проект не работает. Согласись будет странно звучать если ты будешь объяснять генеральному директору, что дома работает, а здесь нет. Работоспособность проекта – это ответственность того, кто его разрабатывал.\n",
    "    \n",
    "В Практикуме для этого работают Наставники и Преподаватели, они всегда готовы помочь.\n",
    "\n",
    "Жду рабочую версию проекта. 🙂\n",
    "\n",
    "</div>"
   ]
  },
  {
   "cell_type": "markdown",
   "metadata": {},
   "source": [
    "\n",
    "\n",
    "От площади кухни"
   ]
  },
  {
   "cell_type": "code",
   "execution_count": 73,
   "metadata": {
    "scrolled": true
   },
   "outputs": [
    {
     "data": {
      "image/png": "[encoded data removed]",
      "text/plain": [
       "<Figure size 432x288 with 1 Axes>"
      ]
     },
     "metadata": {
      "needs_background": "light"
     },
     "output_type": "display_data"
    }
   ],
   "source": [
    "#На основе сводной таблицы в зависимости от площади кухни\n",
    "pivot_table_kitchen_area = data.pivot_table(index = 'kitchen_area', values = 'last_price', aggfunc = ['mean', 'count', 'median'])\n",
    "pivot_table_kitchen_area.columns = ['mean', 'count', 'median']\n",
    "pivot_table_kitchen_area.plot(y = 'median', style = 'o')\n",
    "\n",
    "plt.xlabel(\"площадь кухни\")\n",
    "plt.show()\n"
   ]
  },
  {
   "cell_type": "code",
   "execution_count": 74,
   "metadata": {
    "scrolled": false
   },
   "outputs": [
    {
     "data": {
      "text/html": [
       "<div>\n",
       "<style scoped>\n",
       "    .dataframe tbody tr th:only-of-type {\n",
       "        vertical-align: middle;\n",
       "    }\n",
       "\n",
       "    .dataframe tbody tr th {\n",
       "        vertical-align: top;\n",
       "    }\n",
       "\n",
       "    .dataframe thead th {\n",
       "        text-align: right;\n",
       "    }\n",
       "</style>\n",
       "<table border=\"1\" class=\"dataframe\">\n",
       "  <thead>\n",
       "    <tr style=\"text-align: right;\">\n",
       "      <th></th>\n",
       "      <th>mean</th>\n",
       "      <th>count</th>\n",
       "      <th>median</th>\n",
       "    </tr>\n",
       "    <tr>\n",
       "      <th>kitchen_area</th>\n",
       "      <th></th>\n",
       "      <th></th>\n",
       "      <th></th>\n",
       "    </tr>\n",
       "  </thead>\n",
       "  <tbody>\n",
       "    <tr>\n",
       "      <th>112.0</th>\n",
       "      <td>420,000,000.0</td>\n",
       "      <td>1</td>\n",
       "      <td>420,000,000.0</td>\n",
       "    </tr>\n",
       "    <tr>\n",
       "      <th>70.0</th>\n",
       "      <td>300,000,000.0</td>\n",
       "      <td>1</td>\n",
       "      <td>300,000,000.0</td>\n",
       "    </tr>\n",
       "    <tr>\n",
       "      <th>30.2</th>\n",
       "      <td>151,094,200.0</td>\n",
       "      <td>2</td>\n",
       "      <td>151,094,200.0</td>\n",
       "    </tr>\n",
       "    <tr>\n",
       "      <th>29.8</th>\n",
       "      <td>126,000,000.0</td>\n",
       "      <td>2</td>\n",
       "      <td>126,000,000.0</td>\n",
       "    </tr>\n",
       "    <tr>\n",
       "      <th>72.0</th>\n",
       "      <td>122,000,000.0</td>\n",
       "      <td>1</td>\n",
       "      <td>122,000,000.0</td>\n",
       "    </tr>\n",
       "    <tr>\n",
       "      <th>...</th>\n",
       "      <td>...</td>\n",
       "      <td>...</td>\n",
       "      <td>...</td>\n",
       "    </tr>\n",
       "    <tr>\n",
       "      <th>6.2</th>\n",
       "      <td>1,720,000.0</td>\n",
       "      <td>1</td>\n",
       "      <td>1,720,000.0</td>\n",
       "    </tr>\n",
       "    <tr>\n",
       "      <th>4.4</th>\n",
       "      <td>1,700,000.0</td>\n",
       "      <td>1</td>\n",
       "      <td>1,700,000.0</td>\n",
       "    </tr>\n",
       "    <tr>\n",
       "      <th>6.2</th>\n",
       "      <td>1,700,000.0</td>\n",
       "      <td>1</td>\n",
       "      <td>1,700,000.0</td>\n",
       "    </tr>\n",
       "    <tr>\n",
       "      <th>5.9</th>\n",
       "      <td>1,300,000.0</td>\n",
       "      <td>1</td>\n",
       "      <td>1,300,000.0</td>\n",
       "    </tr>\n",
       "    <tr>\n",
       "      <th>40.5</th>\n",
       "      <td>12,190.0</td>\n",
       "      <td>1</td>\n",
       "      <td>12,190.0</td>\n",
       "    </tr>\n",
       "  </tbody>\n",
       "</table>\n",
       "<p>724 rows × 3 columns</p>\n",
       "</div>"
      ],
      "text/plain": [
       "                      mean  count        median\n",
       "kitchen_area                                   \n",
       "112.0        420,000,000.0      1 420,000,000.0\n",
       "70.0         300,000,000.0      1 300,000,000.0\n",
       "30.2         151,094,200.0      2 151,094,200.0\n",
       "29.8         126,000,000.0      2 126,000,000.0\n",
       "72.0         122,000,000.0      1 122,000,000.0\n",
       "...                    ...    ...           ...\n",
       "6.2            1,720,000.0      1   1,720,000.0\n",
       "4.4            1,700,000.0      1   1,700,000.0\n",
       "6.2            1,700,000.0      1   1,700,000.0\n",
       "5.9            1,300,000.0      1   1,300,000.0\n",
       "40.5              12,190.0      1      12,190.0\n",
       "\n",
       "[724 rows x 3 columns]"
      ]
     },
     "execution_count": 74,
     "metadata": {},
     "output_type": "execute_result"
    }
   ],
   "source": [
    "pivot_table_kitchen_area.sort_values('median', ascending = False)"
   ]
  },
  {
   "cell_type": "markdown",
   "metadata": {},
   "source": [
    "\n",
    "    \n",
    "Посчитаю коэфф корреляции"
   ]
  },
  {
   "cell_type": "code",
   "execution_count": 75,
   "metadata": {},
   "outputs": [
    {
     "data": {
      "text/plain": [
       "0.5337227306403833"
      ]
     },
     "execution_count": 75,
     "metadata": {},
     "output_type": "execute_result"
    }
   ],
   "source": [
    "data['kitchen_area'].corr(data['last_price'])"
   ]
  },
  {
   "cell_type": "markdown",
   "metadata": {},
   "source": [
    "\n",
    "\n",
    "**Так же наблюдается умеренная положительная связь с коэф 0.5**"
   ]
  },
  {
   "cell_type": "markdown",
   "metadata": {},
   "source": [
    "\n",
    "    \n",
    "От количества комнат   \n"
   ]
  },
  {
   "cell_type": "code",
   "execution_count": 76,
   "metadata": {
    "scrolled": true
   },
   "outputs": [
    {
     "name": "stdout",
     "output_type": "stream",
     "text": [
      "             mean       count      median\n",
      "      price_meter price_meter price_meter\n",
      "rooms                                    \n",
      "0       113,503.1          81   114,253.0\n",
      "1       102,976.3        4600   102,384.5\n",
      "2        98,302.5        4844    95,343.0\n",
      "3        99,017.1        3783    90,609.0\n",
      "4       110,241.2         799    94,202.0\n",
      "5       123,525.1         229    96,015.0\n",
      "6       142,090.4          73   100,529.0\n",
      "7       141,877.4          43   112,639.0\n",
      "8       176,737.8           6   111,694.5\n",
      "9       111,035.9           7    96,000.0\n",
      "10       98,009.7           3    84,372.0\n",
      "11      132,639.5           2   132,639.5\n",
      "12      466,666.0           1   466,666.0\n",
      "14       68,870.0           1    68,870.0\n",
      "15      110,169.0           1   110,169.0\n",
      "16      105,555.0           1   105,555.0\n"
     ]
    }
   ],
   "source": [
    "#На основе сводной таблицы комнаты-цена\n",
    "pivot_table_rooms = data.pivot_table(index = 'rooms', values = 'price_meter', aggfunc = ['mean', 'count', 'median'])\n",
    "print(pivot_table_rooms)\n",
    "pivot_table_rooms.columns = ['mean', 'count', 'median']\n"
   ]
  },
  {
   "cell_type": "markdown",
   "metadata": {},
   "source": [
    "\n",
    "Построю график только для тех значений,которых больше 60,в виде кривой(линейной зависимости?)"
   ]
  },
  {
   "cell_type": "code",
   "execution_count": 77,
   "metadata": {
    "scrolled": false
   },
   "outputs": [
    {
     "data": {
      "image/png": "[encoded data removed]",
      "text/plain": [
       "<Figure size 432x288 with 1 Axes>"
      ]
     },
     "metadata": {
      "needs_background": "light"
     },
     "output_type": "display_data"
    },
    {
     "data": {
      "text/html": [
       "<div>\n",
       "<style scoped>\n",
       "    .dataframe tbody tr th:only-of-type {\n",
       "        vertical-align: middle;\n",
       "    }\n",
       "\n",
       "    .dataframe tbody tr th {\n",
       "        vertical-align: top;\n",
       "    }\n",
       "\n",
       "    .dataframe thead th {\n",
       "        text-align: right;\n",
       "    }\n",
       "</style>\n",
       "<table border=\"1\" class=\"dataframe\">\n",
       "  <thead>\n",
       "    <tr style=\"text-align: right;\">\n",
       "      <th></th>\n",
       "      <th>mean</th>\n",
       "      <th>count</th>\n",
       "      <th>median</th>\n",
       "    </tr>\n",
       "    <tr>\n",
       "      <th>rooms</th>\n",
       "      <th></th>\n",
       "      <th></th>\n",
       "      <th></th>\n",
       "    </tr>\n",
       "  </thead>\n",
       "  <tbody>\n",
       "    <tr>\n",
       "      <th>0</th>\n",
       "      <td>113,503.1</td>\n",
       "      <td>81</td>\n",
       "      <td>114,253.0</td>\n",
       "    </tr>\n",
       "    <tr>\n",
       "      <th>1</th>\n",
       "      <td>102,976.3</td>\n",
       "      <td>4600</td>\n",
       "      <td>102,384.5</td>\n",
       "    </tr>\n",
       "    <tr>\n",
       "      <th>6</th>\n",
       "      <td>142,090.4</td>\n",
       "      <td>73</td>\n",
       "      <td>100,529.0</td>\n",
       "    </tr>\n",
       "    <tr>\n",
       "      <th>5</th>\n",
       "      <td>123,525.1</td>\n",
       "      <td>229</td>\n",
       "      <td>96,015.0</td>\n",
       "    </tr>\n",
       "    <tr>\n",
       "      <th>2</th>\n",
       "      <td>98,302.5</td>\n",
       "      <td>4844</td>\n",
       "      <td>95,343.0</td>\n",
       "    </tr>\n",
       "    <tr>\n",
       "      <th>4</th>\n",
       "      <td>110,241.2</td>\n",
       "      <td>799</td>\n",
       "      <td>94,202.0</td>\n",
       "    </tr>\n",
       "    <tr>\n",
       "      <th>3</th>\n",
       "      <td>99,017.1</td>\n",
       "      <td>3783</td>\n",
       "      <td>90,609.0</td>\n",
       "    </tr>\n",
       "  </tbody>\n",
       "</table>\n",
       "</div>"
      ],
      "text/plain": [
       "           mean  count    median\n",
       "rooms                           \n",
       "0     113,503.1     81 114,253.0\n",
       "1     102,976.3   4600 102,384.5\n",
       "6     142,090.4     73 100,529.0\n",
       "5     123,525.1    229  96,015.0\n",
       "2      98,302.5   4844  95,343.0\n",
       "4     110,241.2    799  94,202.0\n",
       "3      99,017.1   3783  90,609.0"
      ]
     },
     "execution_count": 77,
     "metadata": {},
     "output_type": "execute_result"
    }
   ],
   "source": [
    "pivot_table_rooms.query('count > 60').plot(y = 'median')\n",
    "\n",
    "plt.xlabel(\"количество комнат\")\n",
    "plt.show()\n",
    "\n",
    "pivot_table_rooms.query('count > 60').sort_values('median', ascending = False)\n",
    "\n"
   ]
  },
  {
   "cell_type": "markdown",
   "metadata": {},
   "source": [
    "<div class=\"alert alert-success\">\n",
    "\n",
    "**Артём:**  Я бы посмотрел не общую стоимость, а стоимость за кв.м.\n",
    "</div>"
   ]
  },
  {
   "cell_type": "markdown",
   "metadata": {},
   "source": [
    "<div style=\"background-color:lavender; color:#black; text-align:center; padding:2%\">\n",
    "\n",
    "Стомость за квадратный метр в зависимости от количества комнат - до 3к квартиры- резко падает,далее - начинает возрастать(но не так сильно,как сначала падает), то есть у 3к квартир самый дешевый квадратный метр"
   ]
  },
  {
   "cell_type": "markdown",
   "metadata": {},
   "source": [
    "<div class=\"alert alert-success\">\n",
    "\n",
    "**Артём:** 👍 Хорошо."
   ]
  },
  {
   "cell_type": "code",
   "execution_count": 78,
   "metadata": {},
   "outputs": [
    {
     "data": {
      "text/plain": [
       "0.4012115232099522"
      ]
     },
     "execution_count": 78,
     "metadata": {},
     "output_type": "execute_result"
    }
   ],
   "source": [
    "data['rooms'].corr(data['last_price'])"
   ]
  },
  {
   "cell_type": "markdown",
   "metadata": {},
   "source": [
    "\n",
    "\n",
    "но все равно не сильно коррелирует (коэф 0.4)"
   ]
  },
  {
   "cell_type": "markdown",
   "metadata": {},
   "source": [
    "\n",
    "\n",
    "От типа этажа, на котором расположена квартира (первый, последний, другой)"
   ]
  },
  {
   "cell_type": "code",
   "execution_count": 79,
   "metadata": {},
   "outputs": [
    {
     "data": {
      "image/png": "[encoded data removed]",
      "text/plain": [
       "<Figure size 432x288 with 1 Axes>"
      ]
     },
     "metadata": {
      "needs_background": "light"
     },
     "output_type": "display_data"
    },
    {
     "data": {
      "text/html": [
       "<div>\n",
       "<style scoped>\n",
       "    .dataframe tbody tr th:only-of-type {\n",
       "        vertical-align: middle;\n",
       "    }\n",
       "\n",
       "    .dataframe tbody tr th {\n",
       "        vertical-align: top;\n",
       "    }\n",
       "\n",
       "    .dataframe thead th {\n",
       "        text-align: right;\n",
       "    }\n",
       "</style>\n",
       "<table border=\"1\" class=\"dataframe\">\n",
       "  <thead>\n",
       "    <tr style=\"text-align: right;\">\n",
       "      <th></th>\n",
       "      <th>mean</th>\n",
       "      <th>count</th>\n",
       "      <th>median</th>\n",
       "    </tr>\n",
       "    <tr>\n",
       "      <th>floor_numb</th>\n",
       "      <th></th>\n",
       "      <th></th>\n",
       "      <th></th>\n",
       "    </tr>\n",
       "  </thead>\n",
       "  <tbody>\n",
       "    <tr>\n",
       "      <th>другой</th>\n",
       "      <td>7,006,818.2</td>\n",
       "      <td>10568</td>\n",
       "      <td>5,000,000.0</td>\n",
       "    </tr>\n",
       "    <tr>\n",
       "      <th>первый</th>\n",
       "      <td>5,068,241.8</td>\n",
       "      <td>1816</td>\n",
       "      <td>4,060,000.0</td>\n",
       "    </tr>\n",
       "    <tr>\n",
       "      <th>последний</th>\n",
       "      <td>7,331,434.5</td>\n",
       "      <td>2081</td>\n",
       "      <td>4,500,000.0</td>\n",
       "    </tr>\n",
       "  </tbody>\n",
       "</table>\n",
       "</div>"
      ],
      "text/plain": [
       "                  mean  count      median\n",
       "floor_numb                               \n",
       "другой     7,006,818.2  10568 5,000,000.0\n",
       "первый     5,068,241.8   1816 4,060,000.0\n",
       "последний  7,331,434.5   2081 4,500,000.0"
      ]
     },
     "execution_count": 79,
     "metadata": {},
     "output_type": "execute_result"
    }
   ],
   "source": [
    "#На основе сводной таблицы стоимость-тип этажа\n",
    "pivot_table_floor_numb = data.pivot_table(index = 'floor_numb', values = 'last_price',\n",
    "                                          aggfunc = ['mean', 'count', 'median'])\n",
    "pivot_table_floor_numb.columns = ['mean', 'count', 'median']\n",
    "pivot_table_floor_numb.plot(y = 'median')\n",
    "\n",
    "plt.xlabel(\"тип этажа\")\n",
    "plt.show()\n",
    "pivot_table_floor_numb"
   ]
  },
  {
   "cell_type": "markdown",
   "metadata": {},
   "source": [
    "\n",
    "\n",
    "Видно по графику,что есть связь между стоимостью и жтажом,на первых этажах стоиомсть квартиры меньше всего, на последних так же ниже,чем на 'другом'"
   ]
  },
  {
   "cell_type": "markdown",
   "metadata": {},
   "source": [
    "<div class=\"alert alert-success\">\n",
    "\n",
    "**Артём:** 👍 Верно.\n",
    "\n",
    "</div>"
   ]
  },
  {
   "cell_type": "markdown",
   "metadata": {},
   "source": [
    "\n",
    "    \n",
    "От даты размещения (день недели, месяц, год)"
   ]
  },
  {
   "cell_type": "code",
   "execution_count": 80,
   "metadata": {
    "scrolled": true
   },
   "outputs": [
    {
     "data": {
      "image/png": "[encoded data removed]",
      "text/plain": [
       "<Figure size 432x288 with 1 Axes>"
      ]
     },
     "metadata": {
      "needs_background": "light"
     },
     "output_type": "display_data"
    }
   ],
   "source": [
    "#От даты размещения (день)\n",
    "#На основе сводной таблицы день-цена\n",
    "pivot_table_weekday = data.pivot_table(index = 'weekday', values = 'last_price', \n",
    "                                       aggfunc = ['mean', 'count', 'median'])\n",
    "pivot_table_weekday.columns = ['mean', 'count', 'median']\n",
    "\n",
    "pivot_table_weekday.plot(y = 'median')\n",
    "\n",
    "plt.xlabel(\"день недели\")\n",
    "plt.show()\n"
   ]
  },
  {
   "cell_type": "markdown",
   "metadata": {},
   "source": [
    "\n",
    "По данному графику видно,что во вторник стомость квартир,выставленных на продажу-выше всего и снижается к выходным"
   ]
  },
  {
   "cell_type": "markdown",
   "metadata": {},
   "source": [
    "<div class=\"alert alert-success\">\n",
    "\n",
    "**Артём:** 👍 Стоимость изменяется от 4,55 до 4,73 - это не очень существенно.\n",
    "\n",
    "</div>"
   ]
  },
  {
   "cell_type": "code",
   "execution_count": 81,
   "metadata": {
    "scrolled": true
   },
   "outputs": [
    {
     "data": {
      "image/png": "[encoded data removed]",
      "text/plain": [
       "<Figure size 432x288 with 1 Axes>"
      ]
     },
     "metadata": {
      "needs_background": "light"
     },
     "output_type": "display_data"
    }
   ],
   "source": [
    "#От даты размещения (месяц)\n",
    "#На основе сводной таблицы месяц-цена\n",
    "pivot_table_month = data.pivot_table(index = 'month', values = 'last_price', aggfunc = ['mean', 'count', 'median'])\n",
    "pivot_table_month.columns = ['mean', 'count', 'median']\n",
    "pivot_table_month.plot(y = 'median')\n",
    "\n",
    "plt.xlabel(\"месяц\")\n",
    "plt.show()"
   ]
  },
  {
   "cell_type": "markdown",
   "metadata": {},
   "source": [
    "\n",
    "    \n",
    "В апреле выше всего и в июне-дешевле"
   ]
  },
  {
   "cell_type": "markdown",
   "metadata": {},
   "source": [
    "<div class=\"alert alert-success\">\n",
    "\n",
    "**Артём:** 👍 Принято.\n",
    "\n",
    "</div>"
   ]
  },
  {
   "cell_type": "code",
   "execution_count": 82,
   "metadata": {
    "scrolled": false
   },
   "outputs": [
    {
     "data": {
      "image/png": "[encoded data removed]",
      "text/plain": [
       "<Figure size 432x288 with 1 Axes>"
      ]
     },
     "metadata": {
      "needs_background": "light"
     },
     "output_type": "display_data"
    }
   ],
   "source": [
    "#От даты размещения (гол)\n",
    "#На основе сводной таблицы год-цена\n",
    "pivot_table_year = data.pivot_table(index = 'year', values = 'price_meter', aggfunc = ['mean', 'count', 'median'])\n",
    "pivot_table_year.columns = ['mean', 'count', 'median']\n",
    "pivot_table_year.plot(y = 'median')\n",
    "\n",
    "plt.xlabel(\"год\")\n",
    "plt.show()"
   ]
  },
  {
   "cell_type": "markdown",
   "metadata": {},
   "source": [
    "<div style=\"background-color:lavender; color:#black; text-align:center; padding:2%\">\n",
    "    \n",
    "\n",
    "Что касается года,то с 2014 по 2015 стоимость квадратного метра резко падала,с 2016 заметен небольшой рост, с 2018 рост увеличился"
   ]
  },
  {
   "cell_type": "markdown",
   "metadata": {},
   "source": [
    "<div class=\"alert alert-success\">\n",
    "\n",
    "**Артём:** 👍 Я бы посмотрел стоимость за кв.м.\n",
    "\n",
    "</div>"
   ]
  },
  {
   "cell_type": "markdown",
   "metadata": {},
   "source": [
    "<div style=\"background-color:lavender; color:#black; text-align:center; padding:2%\">\n",
    "\n",
    "**Посчитайте среднюю цену одного квадратного метра в 10 населённых пунктах с наибольшим числом объявлений. Выделите населённые пункты с самой высокой и низкой стоимостью квадратного метра. Эти данные можно найти по имени в столбце `locality_name`**\n"
   ]
  },
  {
   "cell_type": "markdown",
   "metadata": {},
   "source": [
    "<div style=\"background-color:lavender; color:#black; text-align:center; padding:2%\">\n",
    "    \n",
    "Начнем с высокой стоимости и выберем 10 населенных пунктов с наибольшим числом объявлений"
   ]
  },
  {
   "cell_type": "code",
   "execution_count": 83,
   "metadata": {
    "scrolled": true
   },
   "outputs": [
    {
     "data": {
      "text/html": [
       "<div>\n",
       "<style scoped>\n",
       "    .dataframe tbody tr th:only-of-type {\n",
       "        vertical-align: middle;\n",
       "    }\n",
       "\n",
       "    .dataframe tbody tr th {\n",
       "        vertical-align: top;\n",
       "    }\n",
       "\n",
       "    .dataframe thead th {\n",
       "        text-align: right;\n",
       "    }\n",
       "</style>\n",
       "<table border=\"1\" class=\"dataframe\">\n",
       "  <thead>\n",
       "    <tr style=\"text-align: right;\">\n",
       "      <th></th>\n",
       "      <th>price_meter</th>\n",
       "    </tr>\n",
       "    <tr>\n",
       "      <th>locality_name</th>\n",
       "      <th></th>\n",
       "    </tr>\n",
       "  </thead>\n",
       "  <tbody>\n",
       "    <tr>\n",
       "      <th>Санкт-Петербург</th>\n",
       "      <td>115568</td>\n",
       "    </tr>\n",
       "    <tr>\n",
       "      <th>Пушкин</th>\n",
       "      <td>103920</td>\n",
       "    </tr>\n",
       "    <tr>\n",
       "      <th>Сестрорецк</th>\n",
       "      <td>102266</td>\n",
       "    </tr>\n",
       "    <tr>\n",
       "      <th>поселок Парголово</th>\n",
       "      <td>90900</td>\n",
       "    </tr>\n",
       "    <tr>\n",
       "      <th>поселок Мурино</th>\n",
       "      <td>87138</td>\n",
       "    </tr>\n",
       "    <tr>\n",
       "      <th>Петергоф</th>\n",
       "      <td>85553</td>\n",
       "    </tr>\n",
       "    <tr>\n",
       "      <th>поселок Шушары</th>\n",
       "      <td>79538</td>\n",
       "    </tr>\n",
       "    <tr>\n",
       "      <th>Колпино</th>\n",
       "      <td>75938</td>\n",
       "    </tr>\n",
       "    <tr>\n",
       "      <th>Гатчина</th>\n",
       "      <td>69992</td>\n",
       "    </tr>\n",
       "    <tr>\n",
       "      <th>Всеволожск</th>\n",
       "      <td>67434</td>\n",
       "    </tr>\n",
       "  </tbody>\n",
       "</table>\n",
       "</div>"
      ],
      "text/plain": [
       "                   price_meter\n",
       "locality_name                 \n",
       "Санкт-Петербург         115568\n",
       "Пушкин                  103920\n",
       "Сестрорецк              102266\n",
       "поселок Парголово        90900\n",
       "поселок Мурино           87138\n",
       "Петергоф                 85553\n",
       "поселок Шушары           79538\n",
       "Колпино                  75938\n",
       "Гатчина                  69992\n",
       "Всеволожск               67434"
      ]
     },
     "execution_count": 83,
     "metadata": {},
     "output_type": "execute_result"
    }
   ],
   "source": [
    "city_high = data['locality_name'].value_counts().head(10)\n",
    "city_price_meter_high = data.query('locality_name in (@city_high.index)').pivot_table(values='price_meter', \n",
    "                                                                                      index='locality_name')\n",
    "city_price_meter_high = city_price_meter_high.astype(int)\n",
    "city_price_meter_high.sort_values('price_meter', ascending=False)"
   ]
  },
  {
   "cell_type": "markdown",
   "metadata": {},
   "source": [
    "<div class=\"alert alert-success\">\n",
    "\n",
    "**Артём:**  К сожалению, не смог ознакомиться с твоим проектом до конца, ошибка в коде 🙁 🚧\n",
    "\n",
    "Пожалуйста, перед отправкой на проверку запусти проект в JupyterHub ⏩ и посмотри, что бы он отработал до конца, чтобы тебе не терять время.\n",
    "    \n",
    "Представь, что ты работаешь в крупной фирме, допустим ты сделала проект дома, а на совещании у руководства проект не работает. Согласись будет странно звучать если ты будешь объяснять генеральному директору, что дома работает, а здесь нет. Работоспособность проекта – это ответственность того, кто его разрабатывал.\n",
    "    \n",
    "В Практикуме для этого работают Наставники и Преподаватели, они всегда готовы помочь.\n",
    "\n",
    "Жду рабочую версию проекта. 🙂\n",
    "\n",
    "</div>"
   ]
  },
  {
   "cell_type": "markdown",
   "metadata": {},
   "source": [
    "<div style=\"background-color:lavender; color:#black; text-align:center; padding:2%\">\n",
    "    \n",
    "То же самое проделаем с низкой стоимостью"
   ]
  },
  {
   "cell_type": "code",
   "execution_count": 84,
   "metadata": {
    "scrolled": true
   },
   "outputs": [
    {
     "data": {
      "text/html": [
       "<div>\n",
       "<style scoped>\n",
       "    .dataframe tbody tr th:only-of-type {\n",
       "        vertical-align: middle;\n",
       "    }\n",
       "\n",
       "    .dataframe tbody tr th {\n",
       "        vertical-align: top;\n",
       "    }\n",
       "\n",
       "    .dataframe thead th {\n",
       "        text-align: right;\n",
       "    }\n",
       "</style>\n",
       "<table border=\"1\" class=\"dataframe\">\n",
       "  <thead>\n",
       "    <tr style=\"text-align: right;\">\n",
       "      <th></th>\n",
       "      <th>price_meter</th>\n",
       "    </tr>\n",
       "    <tr>\n",
       "      <th>locality_name</th>\n",
       "      <th></th>\n",
       "    </tr>\n",
       "  </thead>\n",
       "  <tbody>\n",
       "    <tr>\n",
       "      <th>садовое товарищество Новая Ропша</th>\n",
       "      <td>81081</td>\n",
       "    </tr>\n",
       "    <tr>\n",
       "      <th>поселок Александровская</th>\n",
       "      <td>76966</td>\n",
       "    </tr>\n",
       "    <tr>\n",
       "      <th>поселок станции Приветнинское</th>\n",
       "      <td>59714</td>\n",
       "    </tr>\n",
       "    <tr>\n",
       "      <th>поселок Пансионат Зеленый Бор</th>\n",
       "      <td>47435</td>\n",
       "    </tr>\n",
       "    <tr>\n",
       "      <th>деревня Новолисино</th>\n",
       "      <td>46848</td>\n",
       "    </tr>\n",
       "    <tr>\n",
       "      <th>деревня Мины</th>\n",
       "      <td>46296</td>\n",
       "    </tr>\n",
       "    <tr>\n",
       "      <th>поселок Дружноселье</th>\n",
       "      <td>41379</td>\n",
       "    </tr>\n",
       "    <tr>\n",
       "      <th>деревня Зимитицы</th>\n",
       "      <td>31896</td>\n",
       "    </tr>\n",
       "    <tr>\n",
       "      <th>деревня Меньково</th>\n",
       "      <td>28828</td>\n",
       "    </tr>\n",
       "    <tr>\n",
       "      <th>поселок при железнодорожной станции Вещево</th>\n",
       "      <td>28716</td>\n",
       "    </tr>\n",
       "  </tbody>\n",
       "</table>\n",
       "</div>"
      ],
      "text/plain": [
       "                                            price_meter\n",
       "locality_name                                          \n",
       "садовое товарищество Новая Ропша                  81081\n",
       "поселок Александровская                           76966\n",
       "поселок станции Приветнинское                     59714\n",
       "поселок Пансионат Зеленый Бор                     47435\n",
       "деревня Новолисино                                46848\n",
       "деревня Мины                                      46296\n",
       "поселок Дружноселье                               41379\n",
       "деревня Зимитицы                                  31896\n",
       "деревня Меньково                                  28828\n",
       "поселок при железнодорожной станции Вещево        28716"
      ]
     },
     "execution_count": 84,
     "metadata": {},
     "output_type": "execute_result"
    }
   ],
   "source": [
    "city_low = data['locality_name'].value_counts().tail(10)\n",
    "city_price_meter_low = data.query('locality_name in (@city_low.index)').pivot_table(values='price_meter', \n",
    "                                                                                    index='locality_name')\n",
    "city_price_meter_low = city_price_meter_low.astype(int)\n",
    "city_price_meter_low.sort_values('price_meter', ascending=False)"
   ]
  },
  {
   "cell_type": "markdown",
   "metadata": {},
   "source": [
    "<div style=\"background-color:lavender; color:#black; text-align:center; padding:2%\">\n",
    "    \n",
    "Как и ожидалось, квадратный метр дороже всего в Санкт-Петербурге,дешевле всего в садовом товариществе Новая Ропша"
   ]
  },
  {
   "cell_type": "markdown",
   "metadata": {},
   "source": [
    "<div class=\"alert alert-success\">\n",
    "\n",
    "**Артём:** 👍 Принято."
   ]
  },
  {
   "cell_type": "markdown",
   "metadata": {},
   "source": [
    "<div style=\"background-color:lavender; color:#black; text-align:center; padding:2%\">\n",
    "\n",
    "**Ранее вы посчитали расстояние до центра в километрах. Теперь выделите квартиры в Санкт-Петербурге с помощью столбца `locality_name` и вычислите среднюю цену каждого километра. Опишите, как стоимость объектов зависит от расстояния до центра города.**"
   ]
  },
  {
   "cell_type": "markdown",
   "metadata": {},
   "source": [
    "<div style=\"background-color:lavender; color:#black; text-align:center; padding:2%\">\n",
    "\n",
    "Изменю тип на целый и заменю NaN на 0"
   ]
  },
  {
   "cell_type": "code",
   "execution_count": 85,
   "metadata": {
    "scrolled": true
   },
   "outputs": [
    {
     "data": {
      "image/png": "[encoded data removed]",
      "text/plain": [
       "<Figure size 720x360 with 1 Axes>"
      ]
     },
     "metadata": {
      "needs_background": "light"
     },
     "output_type": "display_data"
    }
   ],
   "source": [
    "#Строю график зависимости стоимости от километров до центра\n",
    "data['cityCenters_nearest_km'] = data['cityCenters_nearest_km'].fillna(value=0).astype(int)\n",
    "data.query('locality_name == \"Санкт-Петербург\"').pivot_table(index='cityCenters_nearest_km', \n",
    "                                                             values='last_price').plot(grid=True, style='o-', \n",
    "                                                                                       xlim=(0,15), figsize=(10, 5))\n",
    "plt.show()"
   ]
  },
  {
   "cell_type": "markdown",
   "metadata": {},
   "source": [
    "<div style=\"background-color:lavender; color:#black; text-align:center; padding:2%\">\n",
    "    \n",
    "По графику видно,что после 6 км стоимость резко снижается"
   ]
  },
  {
   "cell_type": "markdown",
   "metadata": {},
   "source": [
    "<div class=\"alert alert-success\">\n",
    "\n",
    "**Артём:** 👍 Правильно."
   ]
  },
  {
   "cell_type": "markdown",
   "metadata": {},
   "source": [
    "<div style=\"background-color:lavender; color:#black; text-align:center; padding:2%\">\n",
    "\n",
    "**Вывод:**\n",
    "    \n",
    "    \n",
    " Мы работали с полученными данными - обработали пропущенные значения там, где это возможно, \n",
    "    заменили типы данных на должные. \n",
    "    \n",
    "    \n",
    " Добавили в таблицу цену квадратного метра жилья, вывели из даты дни недели, месяцы и года размещения объявлений,\n",
    "    добавили категории по этажам квартир. Изучая время продажи квартиры было решено некоторые данные  удалить,\n",
    "    так как,скорее всего - это автоматическое снятие объявления с сайта.\n",
    " \n",
    " Среднее время продажи -204 дня, быстрые продажи и долгие от 1 до примерно года.\n",
    "\n",
    "Около года - это нормально время продажи квартиры.\n",
    "\n",
    "Необычно долгие - более 273 дней.\n",
    "    \n",
    "Стомость жилья зависит,очевидно,от площади квартиры, самый дешевый квадратный метр у 3к квартиры.\n",
    "\n",
    "На крайних этажах стоимость квартиры меньше всего,это очевидно, не все хотят жить на 1м или последнем из-за разных проблем.\n",
    "  \n",
    "Самые дорогие квартиры в Петербурге,в лен области дешевле - это так же очевидный факт.\n",
    "    \n",
    "И рассмотрели зависимость цены от удаленности от центра,до 6 км стоимость незначительно меняется,а после резко уменьшается.\n",
    "\n"
   ]
  },
  {
   "cell_type": "markdown",
   "metadata": {},
   "source": [
    "<div class=\"alert alert-success\">\n",
    "\n",
    "**Артём:** 👍 Хорошо."
   ]
  },
  {
   "cell_type": "markdown",
   "metadata": {},
   "source": []
  },
  {
   "cell_type": "raw",
   "metadata": {},
   "source": [
    "**Чек-лист готовности проекта**\n",
    "\n",
    "Поставьте 'x' в выполненных пунктах. Далее нажмите Shift+Enter."
   ]
  },
  {
   "cell_type": "markdown",
   "metadata": {},
   "source": [
    "- [x]  открыт файл\n",
    "- [x]  файлы изучены (выведены первые строки, метод `info()`, гистограммы и т.д.)\n",
    "- [x]  определены пропущенные значения\n",
    "- [x]  заполнены пропущенные значения там, где это возможно\n",
    "- [x]  есть пояснение, какие пропущенные значения обнаружены\n",
    "- [x]  изменены типы данных\n",
    "- [x]  есть пояснение, в каких столбцах изменены типы и почему\n",
    "- [x]  устранены неявные дубликаты в названиях населённых пунктов\n",
    "- [х]  устранены редкие и выбивающиеся значения (аномалии) во всех столбцах\n",
    "- [x]  посчитано и добавлено в таблицу: цена одного квадратного метра\n",
    "- [x]  посчитано и добавлено в таблицу: день публикации объявления (0 - понедельник, 1 - вторник и т.д.)\n",
    "- [x]  посчитано и добавлено в таблицу: месяц публикации объявления\n",
    "- [x]  посчитано и добавлено в таблицу: год публикации объявления\n",
    "- [x]  посчитано и добавлено в таблицу: тип этажа квартиры (значения — «первый», «последний», «другой»)\n",
    "- [x]  посчитано и добавлено в таблицу: расстояние в км до центра города\n",
    "- [х]  изучены и описаны следующие параметры:\n",
    "        - общая площадь;\n",
    "        - жилая площадь;\n",
    "        - площадь кухни;\n",
    "        - цена объекта;\n",
    "        - количество комнат;\n",
    "        - высота потолков;\n",
    "        - этаж квартиры;\n",
    "        - тип этажа квартиры («первый», «последний», «другой»);\n",
    "        - общее количество этажей в доме;\n",
    "        - расстояние до центра города в метрах;\n",
    "        - расстояние до ближайшего аэропорта;\n",
    "        - расстояние до ближайшего парка;\n",
    "        - день и месяц публикации объявления\n",
    "- [х]  построены гистограммы для каждого параметра\n",
    "- [х]  выполнено задание: \"Изучите, как быстро продавались квартиры (столбец days_exposition). Этот параметр показывает, сколько дней «висело» каждое объявление.\n",
    "    - Постройте гистограмму.\n",
    "    - Посчитайте среднее и медиану.\n",
    "    - В ячейке типа markdown опишите, сколько обычно занимает продажа. Какие продажи можно считать быстрыми, а какие — необычно долгими?\"\n",
    "- [х]  выполнено задание: \"Какие факторы больше всего влияют на общую (полную) стоимость объекта? Постройте графики, которые покажут зависимость цены от указанных ниже параметров. Для подготовки данных перед визуализацией вы можете использовать сводные таблицы.\"\n",
    "        - общей площади;\n",
    "        - жилой площади;\n",
    "        - площади кухни;\n",
    "        - количество комнат;\n",
    "        - типа этажа, на котором расположена квартира (первый, последний, другой);\n",
    "        - даты размещения (день недели, месяц, год);\n",
    "- [х]  выполнено задание: \"Посчитайте среднюю цену одного квадратного метра в 10 населённых пунктах с наибольшим числом объявлений. Выделите населённые пункты с самой высокой и низкой стоимостью квадратного метра. Эти данные можно найти по имени в столбце `locality_name`.\"\n",
    "- [х]  выполнено задание: \"Ранее вы посчитали расстояние до центра в километрах. Теперь выделите квартиры в Санкт-Петербурге с помощью столбца `locality_name` и вычислите среднюю цену каждого километра. Опишите, как стоимость объектов зависит от расстояния до центра города.\"\n",
    "- [х]  в каждом этапе есть промежуточные выводы\n",
    "- [х]  есть общий вывод"
   ]
  },
  {
   "cell_type": "markdown",
   "metadata": {},
   "source": [
    "## 🏁 Итоги ревью\n",
    "<a id=\"results\"></a>\n",
    "[В начало](#start)\n",
    "\n",
    "<div class=\"alert alert-danger\">\n",
    "\n",
    "**Артём:** ❌ Яна, спасибо за работу. На текущий момент нужно выполнить один из пунктов ТЗ поставленное заказчиком (код в ячейках Code, текст в Markdown), так же обрати внимание, что в 8ой ячейке код падпет с ошибкой (причина та же).\n",
    "    \n",
    "Для удобства, комментарии которые нужно скорректировать я добавил в меню **Contents** слева.\n",
    "    \n",
    "Жду новую версию проекта. 🙂\n",
    "\n",
    "</div>"
   ]
  },
  {
   "cell_type": "markdown",
   "metadata": {},
   "source": [
    "<div class=\"alert alert-danger\">\n",
    "\n",
    "**Артём:** ❌ К сожалению, не смог ознакомиться с твоим проектом до конца, ошибка в коде 🙁 🚧\n",
    "\n",
    "Пожалуйста, перед отправкой на проверку запусти проект в JupyterHub ⏩ и посмотри, что бы он отработал до конца, чтобы тебе не терять время.\n",
    "    \n",
    "Представь, что ты работаешь в крупной фирме, допустим ты сделала проект дома, а на совещании у руководства проект не работает. Согласись будет странно звучать если ты будешь объяснять генеральному директору, что дома работает, а здесь нет. Работоспособность проекта – это ответственность того, кто его разрабатывал.\n",
    "    \n",
    "В Практикуме для этого работают Наставники и Преподаватели, они всегда готовы помочь.\n",
    "\n",
    "Жду рабочую версию проекта. 🙂\n",
    "\n",
    "</div>"
   ]
  },
  {
   "cell_type": "markdown",
   "metadata": {},
   "source": [
    "<img src=\"https://s19536.pcdn.co/wp-content/uploads/2020/06/Web-Great-Job.jpg\"> \n",
    "<div class=\"alert alert-success\">   \n",
    "\n",
    "**Артём:** ✌️ Яна, спасибо за работу и внесенные корректировки! Критических замечаний нет.\n",
    "\n",
    "Поздравляю, **проект принят!** 🥳 🎉 Ты молодец!\n",
    "\n",
    "Желаю тебе успехов в дальнейшем обучении. 😉\n",
    "    \n",
    "---\n",
    "    \n",
    "#### 📖 **Полезные ссылки**\n",
    "\n",
    "* [Работа в Яндексе](https://yandex.ru/jobs/pages/analytics_interview?ysclid=l84s63fs1g790141490)\n",
    "* [Настройте свой Jupyter Notebook правильно](https://medium.com/nuances-of-programming/настройте-свой-jupyter-notebook-правильно-faef14c89434)    \n",
    "* [Краткое руководство по Маркдауну](https://paulradzkov.com/2014/markdown_cheatsheet/?)\n",
    "* [PEP 8 – Style Guide for Python Code](https://www.python.org/dev/peps/pep-0008/)    \n",
    "* [Обработка пропусков в данных](https://loginom.ru/blog/missing)  \n",
    "* [Разделение данных с помощью qcut и cut в Pandas](https://dfedorov.spb.ru/pandas/Разделение%20данных%20в%20Pandas%20с%20помощью%20qcut%20и%20cut.html?)  \n",
    "* [Официальная документаци метода qcut](https://pandas.pydata.org/pandas-docs/stable/reference/api/pandas.qcut.html)  \n",
    "* [Подробное руководство по группировке и агрегированию с помощью pandas](https://dfedorov.spb.ru/pandas/Подробное%20руководство%20по%20группировке%20и%20агрегированию%20с%20помощью%20pandas.html?ysclid=lcmm6rtg2w602526506)\n",
    "* [Шпаргалка по визуализации данных в Python с помощью Plotly](https://habr.com/ru/articles/502958/) \n",
    "* [Задачки SQL](https://habr.com/ru/company/dcmiran/blog/500360/)    \n",
    "* [7 cайтов для оттачивания навыка написания SQL запросов на 2020 год](https://techrocks.ru/2019/11/22/7-sites-to-perfect-sql-query-writing-skills/)\n",
    "* [Главред помогает очистить текст от словесного мусора, проверяет на соответствие информационному стилю.](https://glvrd.ru)\n",
    "\n",
    "</div>    "
   ]
  },
  {
   "cell_type": "code",
   "execution_count": null,
   "metadata": {},
   "outputs": [],
   "source": []
  }
 ],
 "metadata": {
  "ExecuteTimeLog": [
   {
    "duration": 790,
    "start_time": "2023-11-08T18:19:38.545Z"
   },
   {
    "duration": 119,
    "start_time": "2023-11-08T18:20:09.749Z"
   },
   {
    "duration": 2377,
    "start_time": "2023-11-08T18:21:59.840Z"
   },
   {
    "duration": 9,
    "start_time": "2023-11-08T20:10:07.805Z"
   },
   {
    "duration": 25,
    "start_time": "2023-11-08T20:13:05.630Z"
   },
   {
    "duration": 26,
    "start_time": "2023-11-08T20:14:11.625Z"
   },
   {
    "duration": 42,
    "start_time": "2023-11-08T20:15:08.289Z"
   },
   {
    "duration": 29,
    "start_time": "2023-11-08T20:16:01.891Z"
   },
   {
    "duration": 4,
    "start_time": "2023-11-08T20:17:51.339Z"
   },
   {
    "duration": 4,
    "start_time": "2023-11-08T20:17:57.500Z"
   },
   {
    "duration": 9,
    "start_time": "2023-11-08T20:18:04.197Z"
   },
   {
    "duration": 9,
    "start_time": "2023-11-08T20:21:19.590Z"
   },
   {
    "duration": 27,
    "start_time": "2023-11-08T20:22:57.429Z"
   },
   {
    "duration": 13,
    "start_time": "2023-11-08T20:26:35.457Z"
   },
   {
    "duration": 12,
    "start_time": "2023-11-08T20:26:54.594Z"
   },
   {
    "duration": 10,
    "start_time": "2023-11-08T20:29:18.876Z"
   },
   {
    "duration": 11,
    "start_time": "2023-11-08T20:30:34.355Z"
   },
   {
    "duration": 15,
    "start_time": "2023-11-08T20:34:52.352Z"
   },
   {
    "duration": 14,
    "start_time": "2023-11-08T20:35:00.277Z"
   },
   {
    "duration": 15,
    "start_time": "2023-11-08T20:35:38.061Z"
   },
   {
    "duration": 17,
    "start_time": "2023-11-08T20:36:53.040Z"
   },
   {
    "duration": 27,
    "start_time": "2023-11-08T20:43:21.223Z"
   },
   {
    "duration": 30,
    "start_time": "2023-11-08T20:49:01.130Z"
   },
   {
    "duration": 27,
    "start_time": "2023-11-08T20:57:42.132Z"
   },
   {
    "duration": 33,
    "start_time": "2023-11-08T21:02:39.172Z"
   },
   {
    "duration": 35,
    "start_time": "2023-11-08T21:02:42.680Z"
   },
   {
    "duration": 157,
    "start_time": "2023-11-08T21:05:36.199Z"
   },
   {
    "duration": 1823,
    "start_time": "2023-11-08T21:10:50.992Z"
   },
   {
    "duration": 74,
    "start_time": "2023-11-08T21:10:52.817Z"
   },
   {
    "duration": 101,
    "start_time": "2023-11-09T17:59:28.742Z"
   },
   {
    "duration": 85,
    "start_time": "2023-11-09T18:00:06.936Z"
   },
   {
    "duration": 46,
    "start_time": "2023-11-09T18:01:57.704Z"
   },
   {
    "duration": 3043,
    "start_time": "2023-11-09T18:02:03.826Z"
   },
   {
    "duration": 1844,
    "start_time": "2023-11-09T18:02:13.895Z"
   },
   {
    "duration": 47,
    "start_time": "2023-11-09T18:02:15.741Z"
   },
   {
    "duration": 19,
    "start_time": "2023-11-09T18:02:26.398Z"
   },
   {
    "duration": 19,
    "start_time": "2023-11-09T18:02:35.219Z"
   },
   {
    "duration": 19,
    "start_time": "2023-11-09T18:03:01.347Z"
   },
   {
    "duration": 20,
    "start_time": "2023-11-09T18:03:09.198Z"
   },
   {
    "duration": 6,
    "start_time": "2023-11-09T18:03:24.843Z"
   },
   {
    "duration": 101,
    "start_time": "2023-11-09T18:03:34.341Z"
   },
   {
    "duration": 71,
    "start_time": "2023-11-09T18:03:55.647Z"
   },
   {
    "duration": 86,
    "start_time": "2023-11-09T18:04:19.991Z"
   },
   {
    "duration": 71,
    "start_time": "2023-11-09T18:04:27.949Z"
   },
   {
    "duration": 84,
    "start_time": "2023-11-09T18:05:27.277Z"
   },
   {
    "duration": 67,
    "start_time": "2023-11-09T18:05:32.896Z"
   },
   {
    "duration": 67,
    "start_time": "2023-11-09T18:05:44.202Z"
   },
   {
    "duration": 130,
    "start_time": "2023-11-09T18:05:51.242Z"
   },
   {
    "duration": 145,
    "start_time": "2023-11-09T18:06:09.690Z"
   },
   {
    "duration": 66,
    "start_time": "2023-11-09T18:06:37.369Z"
   },
   {
    "duration": 94,
    "start_time": "2023-11-09T18:07:39.247Z"
   },
   {
    "duration": 86,
    "start_time": "2023-11-09T18:08:20.725Z"
   },
   {
    "duration": 92,
    "start_time": "2023-11-09T18:08:31.695Z"
   },
   {
    "duration": 93,
    "start_time": "2023-11-09T18:10:12.531Z"
   },
   {
    "duration": 84,
    "start_time": "2023-11-09T18:13:19.207Z"
   },
   {
    "duration": 84,
    "start_time": "2023-11-09T18:14:55.151Z"
   },
   {
    "duration": 74,
    "start_time": "2023-11-09T18:18:09.798Z"
   },
   {
    "duration": 140,
    "start_time": "2023-11-09T18:18:54.146Z"
   },
   {
    "duration": 13,
    "start_time": "2023-11-09T19:17:48.107Z"
   },
   {
    "duration": 14,
    "start_time": "2023-11-09T19:17:56.745Z"
   },
   {
    "duration": 13,
    "start_time": "2023-11-09T19:18:20.383Z"
   },
   {
    "duration": 14,
    "start_time": "2023-11-09T19:19:53.080Z"
   },
   {
    "duration": 15,
    "start_time": "2023-11-09T19:20:20.377Z"
   },
   {
    "duration": 11,
    "start_time": "2023-11-09T19:21:29.509Z"
   },
   {
    "duration": 22,
    "start_time": "2023-11-09T19:53:48.584Z"
   },
   {
    "duration": 1295,
    "start_time": "2023-11-09T19:54:20.588Z"
   },
   {
    "duration": 355,
    "start_time": "2023-11-09T19:55:33.978Z"
   },
   {
    "duration": 331,
    "start_time": "2023-11-09T20:08:46.430Z"
   },
   {
    "duration": 408,
    "start_time": "2023-11-09T20:09:26.282Z"
   },
   {
    "duration": 343,
    "start_time": "2023-11-09T20:09:38.147Z"
   },
   {
    "duration": 86,
    "start_time": "2023-11-09T20:09:53.384Z"
   },
   {
    "duration": 326,
    "start_time": "2023-11-09T20:09:59.505Z"
   },
   {
    "duration": 259,
    "start_time": "2023-11-09T20:53:33.629Z"
   },
   {
    "duration": 326,
    "start_time": "2023-11-09T20:55:14.138Z"
   },
   {
    "duration": 598,
    "start_time": "2023-11-09T20:57:58.440Z"
   },
   {
    "duration": 524,
    "start_time": "2023-11-09T20:58:39.565Z"
   },
   {
    "duration": 542,
    "start_time": "2023-11-09T20:58:48.161Z"
   },
   {
    "duration": 612,
    "start_time": "2023-11-09T20:58:56.395Z"
   },
   {
    "duration": 543,
    "start_time": "2023-11-09T20:59:06.735Z"
   },
   {
    "duration": 509,
    "start_time": "2023-11-09T20:59:16.081Z"
   },
   {
    "duration": 616,
    "start_time": "2023-11-09T20:59:25.644Z"
   },
   {
    "duration": 531,
    "start_time": "2023-11-09T20:59:33.985Z"
   },
   {
    "duration": 555,
    "start_time": "2023-11-09T20:59:42.250Z"
   },
   {
    "duration": 632,
    "start_time": "2023-11-09T20:59:52.831Z"
   },
   {
    "duration": 538,
    "start_time": "2023-11-09T21:00:20.227Z"
   },
   {
    "duration": 529,
    "start_time": "2023-11-09T21:00:31.096Z"
   },
   {
    "duration": 616,
    "start_time": "2023-11-09T21:00:37.776Z"
   },
   {
    "duration": 540,
    "start_time": "2023-11-09T21:00:44.631Z"
   },
   {
    "duration": 913,
    "start_time": "2023-11-09T21:11:13.919Z"
   },
   {
    "duration": 803,
    "start_time": "2023-11-09T21:11:25.154Z"
   },
   {
    "duration": 789,
    "start_time": "2023-11-09T21:11:34.080Z"
   },
   {
    "duration": 1150,
    "start_time": "2023-11-09T21:13:29.685Z"
   },
   {
    "duration": 1127,
    "start_time": "2023-11-09T21:13:50.934Z"
   },
   {
    "duration": 1104,
    "start_time": "2023-11-09T21:14:02.071Z"
   },
   {
    "duration": 1296,
    "start_time": "2023-11-09T21:23:28.092Z"
   },
   {
    "duration": 1267,
    "start_time": "2023-11-09T21:24:17.914Z"
   },
   {
    "duration": 1188,
    "start_time": "2023-11-09T21:24:29.672Z"
   },
   {
    "duration": 1541,
    "start_time": "2023-11-09T21:33:42.892Z"
   },
   {
    "duration": 1565,
    "start_time": "2023-11-09T21:40:39.742Z"
   },
   {
    "duration": 1362,
    "start_time": "2023-11-09T21:41:09.994Z"
   },
   {
    "duration": 449,
    "start_time": "2023-11-09T21:41:56.223Z"
   },
   {
    "duration": 1509,
    "start_time": "2023-11-09T21:43:25.651Z"
   },
   {
    "duration": 2043,
    "start_time": "2023-11-09T21:49:05.273Z"
   },
   {
    "duration": 2846,
    "start_time": "2023-11-09T21:51:00.486Z"
   },
   {
    "duration": 1590,
    "start_time": "2023-11-09T21:51:29.082Z"
   },
   {
    "duration": 1578,
    "start_time": "2023-11-09T21:51:44.827Z"
   },
   {
    "duration": 1770,
    "start_time": "2023-11-09T21:52:12.540Z"
   },
   {
    "duration": 1505,
    "start_time": "2023-11-09T21:58:10.761Z"
   },
   {
    "duration": 1654,
    "start_time": "2023-11-09T21:58:26.560Z"
   },
   {
    "duration": 2727,
    "start_time": "2023-11-09T21:58:47.763Z"
   },
   {
    "duration": 2913,
    "start_time": "2023-11-09T21:59:44.453Z"
   },
   {
    "duration": 1652,
    "start_time": "2023-11-09T22:04:42.613Z"
   },
   {
    "duration": 1464,
    "start_time": "2023-11-09T22:05:47.518Z"
   },
   {
    "duration": 1640,
    "start_time": "2023-11-09T22:06:19.115Z"
   },
   {
    "duration": 1634,
    "start_time": "2023-11-09T22:06:28.081Z"
   },
   {
    "duration": 1582,
    "start_time": "2023-11-09T22:07:17.481Z"
   },
   {
    "duration": 1792,
    "start_time": "2023-11-09T22:11:23.558Z"
   },
   {
    "duration": 1882,
    "start_time": "2023-11-09T22:14:08.626Z"
   },
   {
    "duration": 1880,
    "start_time": "2023-11-09T22:14:24.469Z"
   },
   {
    "duration": 1731,
    "start_time": "2023-11-09T22:14:39.692Z"
   },
   {
    "duration": 2145,
    "start_time": "2023-11-09T22:17:21.923Z"
   },
   {
    "duration": 2258,
    "start_time": "2023-11-09T22:19:07.760Z"
   },
   {
    "duration": 2209,
    "start_time": "2023-11-09T22:19:23.423Z"
   },
   {
    "duration": 2326,
    "start_time": "2023-11-09T22:19:52.394Z"
   },
   {
    "duration": 2227,
    "start_time": "2023-11-09T22:23:06.167Z"
   },
   {
    "duration": 2365,
    "start_time": "2023-11-09T22:24:44.578Z"
   },
   {
    "duration": 2458,
    "start_time": "2023-11-09T22:25:25.074Z"
   },
   {
    "duration": 2372,
    "start_time": "2023-11-09T22:25:49.579Z"
   },
   {
    "duration": 2482,
    "start_time": "2023-11-09T22:26:13.464Z"
   },
   {
    "duration": 2420,
    "start_time": "2023-11-09T22:26:34.607Z"
   },
   {
    "duration": 81,
    "start_time": "2023-11-09T22:27:03.687Z"
   },
   {
    "duration": 72,
    "start_time": "2023-11-09T22:27:16.414Z"
   },
   {
    "duration": 1730,
    "start_time": "2023-11-09T22:27:39.842Z"
   },
   {
    "duration": 97,
    "start_time": "2023-11-09T22:27:41.574Z"
   },
   {
    "duration": 295,
    "start_time": "2023-11-09T22:27:41.672Z"
   },
   {
    "duration": 85,
    "start_time": "2023-11-09T22:27:41.969Z"
   },
   {
    "duration": 479,
    "start_time": "2023-11-09T22:27:52.409Z"
   },
   {
    "duration": 79,
    "start_time": "2023-11-09T22:28:16.915Z"
   },
   {
    "duration": 88,
    "start_time": "2023-11-09T22:28:24.304Z"
   },
   {
    "duration": 93,
    "start_time": "2023-11-09T22:28:59.603Z"
   },
   {
    "duration": 1858,
    "start_time": "2023-11-09T22:29:15.249Z"
   },
   {
    "duration": 84,
    "start_time": "2023-11-09T22:29:17.109Z"
   },
   {
    "duration": 301,
    "start_time": "2023-11-09T22:29:17.195Z"
   },
   {
    "duration": 86,
    "start_time": "2023-11-09T22:29:17.498Z"
   },
   {
    "duration": 2236,
    "start_time": "2023-11-09T22:29:35.745Z"
   },
   {
    "duration": 2425,
    "start_time": "2023-11-09T22:29:57.868Z"
   },
   {
    "duration": 2492,
    "start_time": "2023-11-09T22:33:57.736Z"
   },
   {
    "duration": 2166,
    "start_time": "2023-11-09T22:34:19.756Z"
   },
   {
    "duration": 2373,
    "start_time": "2023-11-09T22:34:25.470Z"
   },
   {
    "duration": 2358,
    "start_time": "2023-11-09T22:34:50.447Z"
   },
   {
    "duration": 2380,
    "start_time": "2023-11-09T22:36:05.714Z"
   },
   {
    "duration": 2160,
    "start_time": "2023-11-09T22:36:25.857Z"
   },
   {
    "duration": 2458,
    "start_time": "2023-11-09T22:40:23.964Z"
   },
   {
    "duration": 2521,
    "start_time": "2023-11-09T22:41:13.096Z"
   },
   {
    "duration": 2614,
    "start_time": "2023-11-09T22:42:04.848Z"
   },
   {
    "duration": 2274,
    "start_time": "2023-11-09T22:42:39.929Z"
   },
   {
    "duration": 83,
    "start_time": "2023-11-09T22:42:55.564Z"
   },
   {
    "duration": 2448,
    "start_time": "2023-11-09T22:43:03.727Z"
   },
   {
    "duration": 170,
    "start_time": "2023-11-10T07:23:39.538Z"
   },
   {
    "duration": 69,
    "start_time": "2023-11-10T07:23:47.673Z"
   },
   {
    "duration": 4156,
    "start_time": "2023-11-10T07:23:51.405Z"
   },
   {
    "duration": 118,
    "start_time": "2023-11-10T07:23:55.563Z"
   },
   {
    "duration": 394,
    "start_time": "2023-11-10T07:23:55.683Z"
   },
   {
    "duration": 3525,
    "start_time": "2023-11-10T07:23:56.079Z"
   },
   {
    "duration": 8,
    "start_time": "2023-11-10T07:23:59.606Z"
   },
   {
    "duration": 224,
    "start_time": "2023-11-10T07:24:28.002Z"
   },
   {
    "duration": 3335,
    "start_time": "2023-11-10T07:24:36.104Z"
   },
   {
    "duration": 63,
    "start_time": "2023-11-10T17:14:56.511Z"
   },
   {
    "duration": 3643,
    "start_time": "2023-11-10T17:15:00.062Z"
   },
   {
    "duration": 95,
    "start_time": "2023-11-10T17:15:03.708Z"
   },
   {
    "duration": 369,
    "start_time": "2023-11-10T17:15:03.805Z"
   },
   {
    "duration": 3035,
    "start_time": "2023-11-10T17:15:04.177Z"
   },
   {
    "duration": 3,
    "start_time": "2023-11-10T17:15:07.215Z"
   },
   {
    "duration": 2997,
    "start_time": "2023-11-10T17:15:40.088Z"
   },
   {
    "duration": 3496,
    "start_time": "2023-11-10T17:16:42.810Z"
   },
   {
    "duration": 3015,
    "start_time": "2023-11-10T17:17:59.708Z"
   },
   {
    "duration": 3110,
    "start_time": "2023-11-10T17:18:39.141Z"
   },
   {
    "duration": 3181,
    "start_time": "2023-11-10T17:19:18.879Z"
   },
   {
    "duration": 3003,
    "start_time": "2023-11-10T17:20:36.380Z"
   },
   {
    "duration": 3031,
    "start_time": "2023-11-10T17:21:53.957Z"
   },
   {
    "duration": 3115,
    "start_time": "2023-11-10T17:22:55.849Z"
   },
   {
    "duration": 3017,
    "start_time": "2023-11-10T17:25:58.332Z"
   },
   {
    "duration": 3138,
    "start_time": "2023-11-10T17:27:37.150Z"
   },
   {
    "duration": 3168,
    "start_time": "2023-11-10T17:27:58.739Z"
   },
   {
    "duration": 3218,
    "start_time": "2023-11-10T17:28:18.462Z"
   },
   {
    "duration": 3253,
    "start_time": "2023-11-10T17:28:40.901Z"
   },
   {
    "duration": 3257,
    "start_time": "2023-11-10T17:29:17.304Z"
   },
   {
    "duration": 3261,
    "start_time": "2023-11-10T17:30:05.340Z"
   },
   {
    "duration": 8782,
    "start_time": "2023-11-10T17:30:36.263Z"
   },
   {
    "duration": 3545,
    "start_time": "2023-11-10T17:31:25.504Z"
   },
   {
    "duration": 3307,
    "start_time": "2023-11-10T17:32:11.025Z"
   },
   {
    "duration": 3274,
    "start_time": "2023-11-10T17:33:14.850Z"
   },
   {
    "duration": 3491,
    "start_time": "2023-11-10T17:34:13.224Z"
   },
   {
    "duration": 3297,
    "start_time": "2023-11-10T17:35:24.272Z"
   },
   {
    "duration": 3098,
    "start_time": "2023-11-10T17:36:19.905Z"
   },
   {
    "duration": 3215,
    "start_time": "2023-11-10T17:38:13.184Z"
   },
   {
    "duration": 3069,
    "start_time": "2023-11-10T17:39:00.648Z"
   },
   {
    "duration": 3323,
    "start_time": "2023-11-10T17:39:45.371Z"
   },
   {
    "duration": 3103,
    "start_time": "2023-11-10T17:40:08.255Z"
   },
   {
    "duration": 3214,
    "start_time": "2023-11-10T17:40:30.339Z"
   },
   {
    "duration": 2831,
    "start_time": "2023-11-10T17:41:00.331Z"
   },
   {
    "duration": 3584,
    "start_time": "2023-11-10T17:41:27.007Z"
   },
   {
    "duration": 3314,
    "start_time": "2023-11-10T17:42:13.392Z"
   },
   {
    "duration": 2920,
    "start_time": "2023-11-10T17:42:44.072Z"
   },
   {
    "duration": 3501,
    "start_time": "2023-11-10T17:44:01.604Z"
   },
   {
    "duration": 93,
    "start_time": "2023-11-10T17:45:44.710Z"
   },
   {
    "duration": 2875,
    "start_time": "2023-11-10T17:45:50.457Z"
   },
   {
    "duration": 3176,
    "start_time": "2023-11-10T17:46:07.223Z"
   },
   {
    "duration": 2779,
    "start_time": "2023-11-10T17:46:24.965Z"
   },
   {
    "duration": 3149,
    "start_time": "2023-11-10T17:47:29.762Z"
   },
   {
    "duration": 3604,
    "start_time": "2023-11-10T17:47:52.411Z"
   },
   {
    "duration": 3672,
    "start_time": "2023-11-10T17:48:23.281Z"
   },
   {
    "duration": 18,
    "start_time": "2023-11-10T18:06:39.785Z"
   },
   {
    "duration": 52,
    "start_time": "2023-11-10T18:07:02.707Z"
   },
   {
    "duration": 122,
    "start_time": "2023-11-10T18:07:18.830Z"
   },
   {
    "duration": 427,
    "start_time": "2023-11-10T18:18:09.849Z"
   },
   {
    "duration": 766,
    "start_time": "2023-11-10T18:18:21.582Z"
   },
   {
    "duration": 749,
    "start_time": "2023-11-10T18:21:36.601Z"
   },
   {
    "duration": 1751,
    "start_time": "2023-11-10T18:27:25.266Z"
   },
   {
    "duration": 1288,
    "start_time": "2023-11-10T18:27:48.404Z"
   },
   {
    "duration": 637,
    "start_time": "2023-11-10T18:28:01.750Z"
   },
   {
    "duration": 967,
    "start_time": "2023-11-10T18:28:38.633Z"
   },
   {
    "duration": 122,
    "start_time": "2023-11-10T18:28:51.193Z"
   },
   {
    "duration": 521,
    "start_time": "2023-11-10T18:29:30.435Z"
   },
   {
    "duration": 882,
    "start_time": "2023-11-10T18:29:38.186Z"
   },
   {
    "duration": 1575,
    "start_time": "2023-11-10T18:29:52.326Z"
   },
   {
    "duration": 777,
    "start_time": "2023-11-10T18:31:09.088Z"
   },
   {
    "duration": 170,
    "start_time": "2023-11-10T18:40:07.152Z"
   },
   {
    "duration": 168,
    "start_time": "2023-11-10T18:44:31.819Z"
   },
   {
    "duration": 203,
    "start_time": "2023-11-10T18:48:39.184Z"
   },
   {
    "duration": 154,
    "start_time": "2023-11-10T18:50:35.237Z"
   },
   {
    "duration": 161,
    "start_time": "2023-11-10T18:52:23.572Z"
   },
   {
    "duration": 212,
    "start_time": "2023-11-10T18:53:13.659Z"
   },
   {
    "duration": 186,
    "start_time": "2023-11-10T18:53:55.848Z"
   },
   {
    "duration": 182,
    "start_time": "2023-11-10T18:54:04.875Z"
   },
   {
    "duration": 184,
    "start_time": "2023-11-10T18:54:09.888Z"
   },
   {
    "duration": 179,
    "start_time": "2023-11-10T18:54:37.879Z"
   },
   {
    "duration": 227,
    "start_time": "2023-11-10T18:55:34.523Z"
   },
   {
    "duration": 580,
    "start_time": "2023-11-10T18:58:49.688Z"
   },
   {
    "duration": 123,
    "start_time": "2023-11-10T19:00:46.389Z"
   },
   {
    "duration": 120,
    "start_time": "2023-11-10T19:04:14.083Z"
   },
   {
    "duration": 104,
    "start_time": "2023-11-10T19:04:43.918Z"
   },
   {
    "duration": 0,
    "start_time": "2023-11-10T19:06:55.307Z"
   },
   {
    "duration": 2847,
    "start_time": "2023-11-10T20:13:59.089Z"
   },
   {
    "duration": 103,
    "start_time": "2023-11-10T20:14:01.939Z"
   },
   {
    "duration": 282,
    "start_time": "2023-11-10T20:14:02.044Z"
   },
   {
    "duration": 2637,
    "start_time": "2023-11-10T20:14:02.327Z"
   },
   {
    "duration": 670,
    "start_time": "2023-11-10T20:14:04.967Z"
   },
   {
    "duration": 132,
    "start_time": "2023-11-10T20:14:05.639Z"
   },
   {
    "duration": 150,
    "start_time": "2023-11-10T20:14:05.772Z"
   },
   {
    "duration": 98,
    "start_time": "2023-11-10T20:14:05.923Z"
   },
   {
    "duration": 0,
    "start_time": "2023-11-10T20:14:06.023Z"
   },
   {
    "duration": 0,
    "start_time": "2023-11-10T20:14:06.024Z"
   },
   {
    "duration": 0,
    "start_time": "2023-11-10T20:14:06.025Z"
   },
   {
    "duration": 153,
    "start_time": "2023-11-10T20:14:08.592Z"
   },
   {
    "duration": 121,
    "start_time": "2023-11-10T20:14:11.952Z"
   },
   {
    "duration": 1867,
    "start_time": "2023-11-10T20:15:11.555Z"
   },
   {
    "duration": 76,
    "start_time": "2023-11-10T20:15:13.423Z"
   },
   {
    "duration": 277,
    "start_time": "2023-11-10T20:15:13.501Z"
   },
   {
    "duration": 2784,
    "start_time": "2023-11-10T20:15:13.779Z"
   },
   {
    "duration": 641,
    "start_time": "2023-11-10T20:15:16.565Z"
   },
   {
    "duration": 136,
    "start_time": "2023-11-10T20:15:17.211Z"
   },
   {
    "duration": 153,
    "start_time": "2023-11-10T20:15:17.348Z"
   },
   {
    "duration": 77,
    "start_time": "2023-11-10T20:15:17.502Z"
   },
   {
    "duration": 0,
    "start_time": "2023-11-10T20:15:17.580Z"
   },
   {
    "duration": 0,
    "start_time": "2023-11-10T20:15:17.582Z"
   },
   {
    "duration": 0,
    "start_time": "2023-11-10T20:15:17.583Z"
   },
   {
    "duration": 63,
    "start_time": "2023-11-10T20:17:26.324Z"
   },
   {
    "duration": 135,
    "start_time": "2023-11-10T20:19:10.478Z"
   },
   {
    "duration": 114,
    "start_time": "2023-11-10T20:20:13.379Z"
   },
   {
    "duration": 121,
    "start_time": "2023-11-10T20:21:21.557Z"
   },
   {
    "duration": 122,
    "start_time": "2023-11-10T20:22:19.069Z"
   },
   {
    "duration": 4,
    "start_time": "2023-11-10T20:23:02.720Z"
   },
   {
    "duration": 127,
    "start_time": "2023-11-10T20:23:06.875Z"
   },
   {
    "duration": 472,
    "start_time": "2023-11-10T20:24:11.587Z"
   },
   {
    "duration": 124,
    "start_time": "2023-11-10T20:24:24.027Z"
   },
   {
    "duration": 139,
    "start_time": "2023-11-10T20:27:41.648Z"
   },
   {
    "duration": 266,
    "start_time": "2023-11-10T20:29:44.171Z"
   },
   {
    "duration": 549,
    "start_time": "2023-11-10T20:30:51.139Z"
   },
   {
    "duration": 20,
    "start_time": "2023-11-10T20:39:19.471Z"
   },
   {
    "duration": 33,
    "start_time": "2023-11-10T20:41:29.044Z"
   },
   {
    "duration": 34,
    "start_time": "2023-11-10T20:42:05.042Z"
   },
   {
    "duration": 32,
    "start_time": "2023-11-10T20:42:21.070Z"
   },
   {
    "duration": 30,
    "start_time": "2023-11-10T20:43:23.443Z"
   },
   {
    "duration": 30,
    "start_time": "2023-11-10T20:43:48.847Z"
   },
   {
    "duration": 30,
    "start_time": "2023-11-10T20:44:05.291Z"
   },
   {
    "duration": 2808,
    "start_time": "2023-11-11T05:59:06.993Z"
   },
   {
    "duration": 84,
    "start_time": "2023-11-11T05:59:09.803Z"
   },
   {
    "duration": 303,
    "start_time": "2023-11-11T05:59:09.888Z"
   },
   {
    "duration": 0,
    "start_time": "2023-11-11T05:59:14.002Z"
   },
   {
    "duration": 0,
    "start_time": "2023-11-11T05:59:14.003Z"
   },
   {
    "duration": 0,
    "start_time": "2023-11-11T05:59:14.004Z"
   },
   {
    "duration": 0,
    "start_time": "2023-11-11T05:59:14.005Z"
   },
   {
    "duration": 0,
    "start_time": "2023-11-11T05:59:14.006Z"
   },
   {
    "duration": 0,
    "start_time": "2023-11-11T05:59:14.007Z"
   },
   {
    "duration": 0,
    "start_time": "2023-11-11T05:59:14.007Z"
   },
   {
    "duration": 0,
    "start_time": "2023-11-11T05:59:14.008Z"
   },
   {
    "duration": 0,
    "start_time": "2023-11-11T05:59:14.009Z"
   },
   {
    "duration": 0,
    "start_time": "2023-11-11T05:59:14.010Z"
   },
   {
    "duration": 0,
    "start_time": "2023-11-11T05:59:14.011Z"
   },
   {
    "duration": 0,
    "start_time": "2023-11-11T05:59:14.012Z"
   },
   {
    "duration": 0,
    "start_time": "2023-11-11T05:59:14.013Z"
   },
   {
    "duration": 0,
    "start_time": "2023-11-11T05:59:14.014Z"
   },
   {
    "duration": 63,
    "start_time": "2023-11-11T05:59:17.221Z"
   },
   {
    "duration": 22,
    "start_time": "2023-11-11T05:59:32.756Z"
   },
   {
    "duration": 16,
    "start_time": "2023-11-11T06:00:20.605Z"
   },
   {
    "duration": 17,
    "start_time": "2023-11-11T06:00:59.759Z"
   },
   {
    "duration": 18,
    "start_time": "2023-11-11T06:01:36.316Z"
   },
   {
    "duration": 138,
    "start_time": "2023-11-11T06:02:13.420Z"
   },
   {
    "duration": 145,
    "start_time": "2023-11-11T06:04:03.332Z"
   },
   {
    "duration": 145,
    "start_time": "2023-11-11T06:04:55.865Z"
   },
   {
    "duration": 151,
    "start_time": "2023-11-11T06:05:43.819Z"
   },
   {
    "duration": 1981,
    "start_time": "2023-11-11T06:09:05.436Z"
   },
   {
    "duration": 76,
    "start_time": "2023-11-11T06:09:07.909Z"
   },
   {
    "duration": 281,
    "start_time": "2023-11-11T06:09:10.280Z"
   },
   {
    "duration": 2773,
    "start_time": "2023-11-11T06:09:13.229Z"
   },
   {
    "duration": 675,
    "start_time": "2023-11-11T06:09:46.563Z"
   },
   {
    "duration": 2873,
    "start_time": "2023-11-11T13:57:48.198Z"
   },
   {
    "duration": 85,
    "start_time": "2023-11-11T13:57:51.073Z"
   },
   {
    "duration": 311,
    "start_time": "2023-11-11T13:57:51.160Z"
   },
   {
    "duration": 3004,
    "start_time": "2023-11-11T13:57:51.474Z"
   },
   {
    "duration": 834,
    "start_time": "2023-11-11T13:57:54.481Z"
   },
   {
    "duration": 150,
    "start_time": "2023-11-11T13:57:55.317Z"
   },
   {
    "duration": 173,
    "start_time": "2023-11-11T13:57:55.469Z"
   },
   {
    "duration": 70,
    "start_time": "2023-11-11T13:57:55.644Z"
   },
   {
    "duration": 0,
    "start_time": "2023-11-11T13:57:55.716Z"
   },
   {
    "duration": 0,
    "start_time": "2023-11-11T13:57:55.717Z"
   },
   {
    "duration": 0,
    "start_time": "2023-11-11T13:57:55.719Z"
   },
   {
    "duration": 0,
    "start_time": "2023-11-11T13:57:55.720Z"
   },
   {
    "duration": 0,
    "start_time": "2023-11-11T13:57:55.722Z"
   },
   {
    "duration": 0,
    "start_time": "2023-11-11T13:57:55.723Z"
   },
   {
    "duration": 3016,
    "start_time": "2023-11-11T18:37:36.175Z"
   },
   {
    "duration": 2020,
    "start_time": "2023-11-11T18:37:44.154Z"
   },
   {
    "duration": 92,
    "start_time": "2023-11-11T18:37:46.176Z"
   },
   {
    "duration": 301,
    "start_time": "2023-11-11T18:37:46.270Z"
   },
   {
    "duration": 2892,
    "start_time": "2023-11-11T18:37:46.573Z"
   },
   {
    "duration": 839,
    "start_time": "2023-11-11T18:37:49.467Z"
   },
   {
    "duration": 143,
    "start_time": "2023-11-11T18:37:50.308Z"
   },
   {
    "duration": 164,
    "start_time": "2023-11-11T18:37:50.453Z"
   },
   {
    "duration": 145,
    "start_time": "2023-11-11T18:37:50.618Z"
   },
   {
    "duration": 163,
    "start_time": "2023-11-11T18:37:50.765Z"
   },
   {
    "duration": 145,
    "start_time": "2023-11-11T18:37:50.929Z"
   },
   {
    "duration": 467,
    "start_time": "2023-11-11T18:37:51.076Z"
   },
   {
    "duration": 34,
    "start_time": "2023-11-11T18:37:51.545Z"
   },
   {
    "duration": 201,
    "start_time": "2023-11-11T18:37:51.580Z"
   },
   {
    "duration": 102,
    "start_time": "2023-11-11T18:50:33.186Z"
   },
   {
    "duration": 1935,
    "start_time": "2023-11-11T18:50:35.296Z"
   },
   {
    "duration": 6,
    "start_time": "2023-11-11T18:53:14.627Z"
   },
   {
    "duration": 77,
    "start_time": "2023-11-11T18:57:08.646Z"
   },
   {
    "duration": 3,
    "start_time": "2023-11-11T18:57:27.091Z"
   },
   {
    "duration": 5,
    "start_time": "2023-11-11T18:57:33.582Z"
   },
   {
    "duration": 91,
    "start_time": "2023-11-11T18:57:58.343Z"
   },
   {
    "duration": 6,
    "start_time": "2023-11-11T18:58:03.624Z"
   },
   {
    "duration": 72,
    "start_time": "2023-11-11T18:58:21.523Z"
   },
   {
    "duration": 5,
    "start_time": "2023-11-11T18:58:29.298Z"
   },
   {
    "duration": 73,
    "start_time": "2023-11-11T18:58:30.335Z"
   },
   {
    "duration": 70,
    "start_time": "2023-11-11T18:58:35.202Z"
   },
   {
    "duration": 130,
    "start_time": "2023-11-11T18:58:59.985Z"
   },
   {
    "duration": 88,
    "start_time": "2023-11-11T18:59:21.779Z"
   },
   {
    "duration": 7,
    "start_time": "2023-11-11T19:03:15.872Z"
   },
   {
    "duration": 32,
    "start_time": "2023-11-11T19:03:53.134Z"
   },
   {
    "duration": 83,
    "start_time": "2023-11-11T19:06:18.599Z"
   },
   {
    "duration": 83,
    "start_time": "2023-11-11T19:06:33.355Z"
   },
   {
    "duration": 8,
    "start_time": "2023-11-11T19:06:45.503Z"
   },
   {
    "duration": 69,
    "start_time": "2023-11-11T19:07:19.235Z"
   },
   {
    "duration": 6,
    "start_time": "2023-11-11T19:07:23.641Z"
   },
   {
    "duration": 12,
    "start_time": "2023-11-11T19:07:42.948Z"
   },
   {
    "duration": 7,
    "start_time": "2023-11-11T19:08:51.693Z"
   },
   {
    "duration": 5,
    "start_time": "2023-11-11T19:10:29.298Z"
   },
   {
    "duration": 9,
    "start_time": "2023-11-11T19:11:35.849Z"
   },
   {
    "duration": 7,
    "start_time": "2023-11-11T19:12:39.887Z"
   },
   {
    "duration": 3,
    "start_time": "2023-11-11T19:14:20.419Z"
   },
   {
    "duration": 88,
    "start_time": "2023-11-11T19:14:49.428Z"
   },
   {
    "duration": 5,
    "start_time": "2023-11-11T19:15:18.017Z"
   },
   {
    "duration": 11,
    "start_time": "2023-11-11T19:16:32.739Z"
   },
   {
    "duration": 85,
    "start_time": "2023-11-11T19:17:05.451Z"
   },
   {
    "duration": 6,
    "start_time": "2023-11-11T19:17:25.110Z"
   },
   {
    "duration": 16,
    "start_time": "2023-11-11T19:17:38.243Z"
   },
   {
    "duration": 57,
    "start_time": "2023-11-11T19:18:27.458Z"
   },
   {
    "duration": 13,
    "start_time": "2023-11-11T19:26:08.308Z"
   },
   {
    "duration": 5,
    "start_time": "2023-11-11T19:27:06.337Z"
   },
   {
    "duration": 6,
    "start_time": "2023-11-11T19:31:36.044Z"
   },
   {
    "duration": 7,
    "start_time": "2023-11-11T19:32:19.742Z"
   },
   {
    "duration": 6,
    "start_time": "2023-11-11T19:32:40.166Z"
   },
   {
    "duration": 6,
    "start_time": "2023-11-11T19:33:26.670Z"
   },
   {
    "duration": 370,
    "start_time": "2023-11-11T19:34:06.635Z"
   },
   {
    "duration": 100,
    "start_time": "2023-11-11T19:38:07.744Z"
   },
   {
    "duration": 409,
    "start_time": "2023-11-11T19:39:28.736Z"
   },
   {
    "duration": 312,
    "start_time": "2023-11-11T19:40:03.641Z"
   },
   {
    "duration": 7,
    "start_time": "2023-11-11T19:40:44.269Z"
   },
   {
    "duration": 273,
    "start_time": "2023-11-11T19:41:30.548Z"
   },
   {
    "duration": 8,
    "start_time": "2023-11-11T19:42:18.597Z"
   },
   {
    "duration": 276,
    "start_time": "2023-11-11T19:42:26.922Z"
   },
   {
    "duration": 274,
    "start_time": "2023-11-11T19:47:18.758Z"
   },
   {
    "duration": 7,
    "start_time": "2023-11-11T19:47:52.096Z"
   },
   {
    "duration": 9,
    "start_time": "2023-11-11T19:47:56.648Z"
   },
   {
    "duration": 329,
    "start_time": "2023-11-11T19:49:24.609Z"
   },
   {
    "duration": 7,
    "start_time": "2023-11-11T19:50:18.993Z"
   },
   {
    "duration": 188,
    "start_time": "2023-11-11T19:51:03.697Z"
   },
   {
    "duration": 324,
    "start_time": "2023-11-11T19:53:04.295Z"
   },
   {
    "duration": 7,
    "start_time": "2023-11-11T19:54:08.852Z"
   },
   {
    "duration": 187,
    "start_time": "2023-11-11T19:54:32.667Z"
   },
   {
    "duration": 164,
    "start_time": "2023-11-11T19:58:53.995Z"
   },
   {
    "duration": 136,
    "start_time": "2023-11-11T20:00:30.803Z"
   },
   {
    "duration": 147,
    "start_time": "2023-11-11T20:00:53.513Z"
   },
   {
    "duration": 92,
    "start_time": "2023-11-11T20:00:58.615Z"
   },
   {
    "duration": 284,
    "start_time": "2023-11-11T20:02:14.040Z"
   },
   {
    "duration": 296,
    "start_time": "2023-11-11T20:03:18.297Z"
   },
   {
    "duration": 174,
    "start_time": "2023-11-11T20:04:32.630Z"
   },
   {
    "duration": 166,
    "start_time": "2023-11-11T20:05:22.158Z"
   },
   {
    "duration": 177,
    "start_time": "2023-11-11T20:05:59.989Z"
   },
   {
    "duration": 179,
    "start_time": "2023-11-11T20:08:48.428Z"
   },
   {
    "duration": 186,
    "start_time": "2023-11-11T20:10:15.404Z"
   },
   {
    "duration": 145,
    "start_time": "2023-11-11T20:10:58.302Z"
   },
   {
    "duration": 8,
    "start_time": "2023-11-11T20:11:09.346Z"
   },
   {
    "duration": 110,
    "start_time": "2023-11-11T20:11:19.525Z"
   },
   {
    "duration": 150,
    "start_time": "2023-11-11T20:12:39.592Z"
   },
   {
    "duration": 333,
    "start_time": "2023-11-11T20:12:51.280Z"
   },
   {
    "duration": 15,
    "start_time": "2023-11-11T20:17:29.582Z"
   },
   {
    "duration": 27,
    "start_time": "2023-11-11T20:17:31.964Z"
   },
   {
    "duration": 2510,
    "start_time": "2023-11-11T20:17:33.591Z"
   },
   {
    "duration": 51,
    "start_time": "2023-11-11T20:18:10.502Z"
   },
   {
    "duration": 8,
    "start_time": "2023-11-11T20:19:02.082Z"
   },
   {
    "duration": 450,
    "start_time": "2023-11-11T20:19:05.508Z"
   },
   {
    "duration": 3,
    "start_time": "2023-11-11T20:20:49.486Z"
   },
   {
    "duration": 2,
    "start_time": "2023-11-11T20:21:00.379Z"
   },
   {
    "duration": 11,
    "start_time": "2023-11-11T20:21:47.685Z"
   },
   {
    "duration": 86,
    "start_time": "2023-11-11T20:22:45.168Z"
   },
   {
    "duration": 102,
    "start_time": "2023-11-11T20:23:00.118Z"
   },
   {
    "duration": 294,
    "start_time": "2023-11-11T20:23:17.255Z"
   },
   {
    "duration": 289,
    "start_time": "2023-11-11T20:23:30.141Z"
   },
   {
    "duration": 82,
    "start_time": "2023-11-11T20:24:51.138Z"
   },
   {
    "duration": 73,
    "start_time": "2023-11-11T20:25:22.032Z"
   },
   {
    "duration": 11,
    "start_time": "2023-11-11T20:26:07.611Z"
   },
   {
    "duration": 19,
    "start_time": "2023-11-11T20:29:03.965Z"
   },
   {
    "duration": 13,
    "start_time": "2023-11-11T20:29:28.841Z"
   },
   {
    "duration": 12,
    "start_time": "2023-11-11T20:30:59.595Z"
   },
   {
    "duration": 11,
    "start_time": "2023-11-11T20:31:52.807Z"
   },
   {
    "duration": 14,
    "start_time": "2023-11-11T20:32:14.014Z"
   },
   {
    "duration": 10,
    "start_time": "2023-11-11T20:32:59.660Z"
   },
   {
    "duration": 19,
    "start_time": "2023-11-11T20:33:58.345Z"
   },
   {
    "duration": 13,
    "start_time": "2023-11-11T20:34:27.350Z"
   },
   {
    "duration": 105,
    "start_time": "2023-11-11T20:35:01.245Z"
   },
   {
    "duration": 99,
    "start_time": "2023-11-11T20:35:17.009Z"
   },
   {
    "duration": 305,
    "start_time": "2023-11-11T20:35:31.680Z"
   },
   {
    "duration": 301,
    "start_time": "2023-11-11T20:35:42.456Z"
   },
   {
    "duration": 10,
    "start_time": "2023-11-11T20:35:55.739Z"
   },
   {
    "duration": 138,
    "start_time": "2023-11-11T20:39:55.435Z"
   },
   {
    "duration": 15,
    "start_time": "2023-11-11T20:40:14.933Z"
   },
   {
    "duration": 6,
    "start_time": "2023-11-11T20:41:03.880Z"
   },
   {
    "duration": 142,
    "start_time": "2023-11-11T20:41:36.924Z"
   },
   {
    "duration": 14,
    "start_time": "2023-11-11T20:41:39.788Z"
   },
   {
    "duration": 183,
    "start_time": "2023-11-11T20:43:03.634Z"
   },
   {
    "duration": 13,
    "start_time": "2023-11-11T20:43:25.815Z"
   },
   {
    "duration": 8,
    "start_time": "2023-11-11T20:44:04.051Z"
   },
   {
    "duration": 157,
    "start_time": "2023-11-11T20:46:47.216Z"
   },
   {
    "duration": 13,
    "start_time": "2023-11-11T20:46:49.378Z"
   },
   {
    "duration": 23,
    "start_time": "2023-11-11T20:49:42.994Z"
   },
   {
    "duration": 158,
    "start_time": "2023-11-11T20:52:07.356Z"
   },
   {
    "duration": 22,
    "start_time": "2023-11-11T20:52:48.004Z"
   },
   {
    "duration": 167,
    "start_time": "2023-11-11T20:52:53.235Z"
   },
   {
    "duration": 93,
    "start_time": "2023-11-11T20:52:55.659Z"
   },
   {
    "duration": 5,
    "start_time": "2023-11-11T20:53:01.510Z"
   },
   {
    "duration": 147,
    "start_time": "2023-11-11T20:54:33.788Z"
   },
   {
    "duration": 7,
    "start_time": "2023-11-11T20:54:59.249Z"
   },
   {
    "duration": 98,
    "start_time": "2023-11-11T20:55:00.234Z"
   },
   {
    "duration": 154,
    "start_time": "2023-11-11T20:55:42.114Z"
   },
   {
    "duration": 475,
    "start_time": "2023-11-11T20:56:02.092Z"
   },
   {
    "duration": 206,
    "start_time": "2023-11-11T20:57:03.465Z"
   },
   {
    "duration": 189,
    "start_time": "2023-11-11T20:58:01.013Z"
   },
   {
    "duration": 169,
    "start_time": "2023-11-11T20:58:41.939Z"
   },
   {
    "duration": 167,
    "start_time": "2023-11-11T20:59:59.854Z"
   },
   {
    "duration": 25,
    "start_time": "2023-11-11T21:02:54.989Z"
   },
   {
    "duration": 24,
    "start_time": "2023-11-11T21:03:02.505Z"
   },
   {
    "duration": 20,
    "start_time": "2023-11-11T21:03:42.449Z"
   },
   {
    "duration": 183,
    "start_time": "2023-11-11T21:04:23.549Z"
   },
   {
    "duration": 20,
    "start_time": "2023-11-11T21:04:29.375Z"
   },
   {
    "duration": 27,
    "start_time": "2023-11-11T21:05:20.148Z"
   },
   {
    "duration": 22,
    "start_time": "2023-11-11T21:09:08.566Z"
   },
   {
    "duration": 17,
    "start_time": "2023-11-11T21:09:22.171Z"
   },
   {
    "duration": 182,
    "start_time": "2023-11-11T21:09:48.051Z"
   },
   {
    "duration": 194,
    "start_time": "2023-11-11T21:12:37.286Z"
   },
   {
    "duration": 409,
    "start_time": "2023-11-11T21:13:29.204Z"
   },
   {
    "duration": 170,
    "start_time": "2023-11-11T21:13:42.403Z"
   },
   {
    "duration": 212,
    "start_time": "2023-11-11T21:14:01.344Z"
   },
   {
    "duration": 177,
    "start_time": "2023-11-11T21:16:47.240Z"
   },
   {
    "duration": 41,
    "start_time": "2023-11-11T21:20:09.727Z"
   },
   {
    "duration": 3,
    "start_time": "2023-11-11T21:22:02.208Z"
   },
   {
    "duration": 37,
    "start_time": "2023-11-11T21:22:19.211Z"
   },
   {
    "duration": 614,
    "start_time": "2023-11-12T11:33:34.726Z"
   },
   {
    "duration": 17,
    "start_time": "2023-11-12T11:33:35.342Z"
   },
   {
    "duration": 52,
    "start_time": "2023-11-12T11:33:35.360Z"
   },
   {
    "duration": 2282,
    "start_time": "2023-11-12T11:33:35.414Z"
   },
   {
    "duration": 6,
    "start_time": "2023-11-12T11:33:37.699Z"
   },
   {
    "duration": 11,
    "start_time": "2023-11-12T11:33:37.707Z"
   },
   {
    "duration": 39,
    "start_time": "2023-11-12T11:33:37.720Z"
   },
   {
    "duration": 7,
    "start_time": "2023-11-12T11:33:37.761Z"
   },
   {
    "duration": 12,
    "start_time": "2023-11-12T11:33:37.769Z"
   },
   {
    "duration": 7,
    "start_time": "2023-11-12T11:33:37.783Z"
   },
   {
    "duration": 35,
    "start_time": "2023-11-12T11:33:37.792Z"
   },
   {
    "duration": 7,
    "start_time": "2023-11-12T11:33:37.828Z"
   },
   {
    "duration": 15,
    "start_time": "2023-11-12T11:33:37.837Z"
   },
   {
    "duration": 18,
    "start_time": "2023-11-12T11:33:37.855Z"
   },
   {
    "duration": 20,
    "start_time": "2023-11-12T11:33:37.875Z"
   },
   {
    "duration": 54,
    "start_time": "2023-11-12T11:33:37.897Z"
   },
   {
    "duration": 14,
    "start_time": "2023-11-12T11:33:37.953Z"
   },
   {
    "duration": 4,
    "start_time": "2023-11-12T11:33:37.968Z"
   },
   {
    "duration": 13,
    "start_time": "2023-11-12T11:33:37.974Z"
   },
   {
    "duration": 6,
    "start_time": "2023-11-12T11:33:37.989Z"
   },
   {
    "duration": 6,
    "start_time": "2023-11-12T11:33:37.997Z"
   },
   {
    "duration": 312,
    "start_time": "2023-11-12T11:33:38.005Z"
   },
   {
    "duration": 6,
    "start_time": "2023-11-12T11:33:38.318Z"
   },
   {
    "duration": 294,
    "start_time": "2023-11-12T11:33:38.335Z"
   },
   {
    "duration": 11,
    "start_time": "2023-11-12T11:33:38.636Z"
   },
   {
    "duration": 417,
    "start_time": "2023-11-12T11:33:38.650Z"
   },
   {
    "duration": 10,
    "start_time": "2023-11-12T11:33:39.068Z"
   },
   {
    "duration": 323,
    "start_time": "2023-11-12T11:33:39.082Z"
   },
   {
    "duration": 9,
    "start_time": "2023-11-12T11:33:39.406Z"
   },
   {
    "duration": 342,
    "start_time": "2023-11-12T11:33:39.417Z"
   },
   {
    "duration": 9,
    "start_time": "2023-11-12T11:33:39.760Z"
   },
   {
    "duration": 195,
    "start_time": "2023-11-12T11:33:39.771Z"
   },
   {
    "duration": 203,
    "start_time": "2023-11-12T11:33:39.967Z"
   },
   {
    "duration": 196,
    "start_time": "2023-11-12T11:33:40.172Z"
   },
   {
    "duration": 153,
    "start_time": "2023-11-12T11:33:40.370Z"
   },
   {
    "duration": 115,
    "start_time": "2023-11-12T11:33:40.525Z"
   },
   {
    "duration": 383,
    "start_time": "2023-11-12T11:33:40.641Z"
   },
   {
    "duration": 194,
    "start_time": "2023-11-12T11:33:41.026Z"
   },
   {
    "duration": 200,
    "start_time": "2023-11-12T11:33:41.222Z"
   },
   {
    "duration": 203,
    "start_time": "2023-11-12T11:33:41.424Z"
   },
   {
    "duration": 230,
    "start_time": "2023-11-12T11:33:41.638Z"
   },
   {
    "duration": 220,
    "start_time": "2023-11-12T11:33:41.871Z"
   },
   {
    "duration": 11,
    "start_time": "2023-11-12T11:33:42.093Z"
   },
   {
    "duration": 149,
    "start_time": "2023-11-12T11:33:42.105Z"
   },
   {
    "duration": 171,
    "start_time": "2023-11-12T11:33:42.256Z"
   },
   {
    "duration": 242,
    "start_time": "2023-11-12T11:33:42.429Z"
   },
   {
    "duration": 15,
    "start_time": "2023-11-12T11:33:42.673Z"
   },
   {
    "duration": 8,
    "start_time": "2023-11-12T11:33:42.690Z"
   },
   {
    "duration": 120,
    "start_time": "2023-11-12T11:33:42.699Z"
   },
   {
    "duration": 645,
    "start_time": "2023-11-12T11:33:42.820Z"
   },
   {
    "duration": 899,
    "start_time": "2023-11-12T11:33:43.467Z"
   },
   {
    "duration": 93,
    "start_time": "2023-11-12T11:33:44.368Z"
   },
   {
    "duration": 11,
    "start_time": "2023-11-12T11:33:44.463Z"
   },
   {
    "duration": 293,
    "start_time": "2023-11-12T11:33:44.476Z"
   },
   {
    "duration": 325,
    "start_time": "2023-11-12T11:33:44.771Z"
   },
   {
    "duration": 328,
    "start_time": "2023-11-12T11:33:45.098Z"
   },
   {
    "duration": 9,
    "start_time": "2023-11-12T11:33:45.435Z"
   },
   {
    "duration": 155,
    "start_time": "2023-11-12T11:33:45.445Z"
   },
   {
    "duration": 13,
    "start_time": "2023-11-12T11:33:45.601Z"
   },
   {
    "duration": 21,
    "start_time": "2023-11-12T11:33:45.616Z"
   },
   {
    "duration": 171,
    "start_time": "2023-11-12T11:33:45.638Z"
   },
   {
    "duration": 14,
    "start_time": "2023-11-12T11:33:45.811Z"
   },
   {
    "duration": 5,
    "start_time": "2023-11-12T11:33:45.836Z"
   },
   {
    "duration": 159,
    "start_time": "2023-11-12T11:33:45.842Z"
   },
   {
    "duration": 14,
    "start_time": "2023-11-12T11:33:46.003Z"
   },
   {
    "duration": 20,
    "start_time": "2023-11-12T11:33:46.019Z"
   },
   {
    "duration": 37,
    "start_time": "2023-11-12T11:33:46.040Z"
   },
   {
    "duration": 203,
    "start_time": "2023-11-12T11:33:46.079Z"
   },
   {
    "duration": 8,
    "start_time": "2023-11-12T11:33:46.284Z"
   },
   {
    "duration": 177,
    "start_time": "2023-11-12T11:33:46.295Z"
   },
   {
    "duration": 170,
    "start_time": "2023-11-12T11:33:46.474Z"
   },
   {
    "duration": 167,
    "start_time": "2023-11-12T11:33:46.646Z"
   },
   {
    "duration": 280,
    "start_time": "2023-11-12T11:33:46.816Z"
   },
   {
    "duration": 109,
    "start_time": "2023-11-12T11:33:47.098Z"
   },
   {
    "duration": 0,
    "start_time": "2023-11-12T11:33:47.208Z"
   },
   {
    "duration": 0,
    "start_time": "2023-11-12T11:33:47.209Z"
   },
   {
    "duration": 540,
    "start_time": "2023-11-12T12:01:37.959Z"
   },
   {
    "duration": 15,
    "start_time": "2023-11-12T12:01:38.501Z"
   },
   {
    "duration": 47,
    "start_time": "2023-11-12T12:01:38.518Z"
   },
   {
    "duration": 2401,
    "start_time": "2023-11-12T12:01:38.567Z"
   },
   {
    "duration": 7,
    "start_time": "2023-11-12T12:01:40.971Z"
   },
   {
    "duration": 7,
    "start_time": "2023-11-12T12:01:40.980Z"
   },
   {
    "duration": 42,
    "start_time": "2023-11-12T12:01:40.989Z"
   },
   {
    "duration": 13,
    "start_time": "2023-11-12T12:01:41.033Z"
   },
   {
    "duration": 7,
    "start_time": "2023-11-12T12:01:41.048Z"
   },
   {
    "duration": 10,
    "start_time": "2023-11-12T12:01:41.057Z"
   },
   {
    "duration": 10,
    "start_time": "2023-11-12T12:01:41.068Z"
   },
   {
    "duration": 16,
    "start_time": "2023-11-12T12:01:41.080Z"
   },
   {
    "duration": 12,
    "start_time": "2023-11-12T12:01:41.097Z"
   },
   {
    "duration": 23,
    "start_time": "2023-11-12T12:01:41.138Z"
   },
   {
    "duration": 10,
    "start_time": "2023-11-12T12:01:41.163Z"
   },
   {
    "duration": 88,
    "start_time": "2023-11-12T12:01:41.175Z"
   },
   {
    "duration": 17,
    "start_time": "2023-11-12T12:01:41.264Z"
   },
   {
    "duration": 5,
    "start_time": "2023-11-12T12:01:41.283Z"
   },
   {
    "duration": 7,
    "start_time": "2023-11-12T12:01:41.290Z"
   },
   {
    "duration": 7,
    "start_time": "2023-11-12T12:01:41.298Z"
   },
   {
    "duration": 37,
    "start_time": "2023-11-12T12:01:41.307Z"
   },
   {
    "duration": 325,
    "start_time": "2023-11-12T12:01:41.346Z"
   },
   {
    "duration": 6,
    "start_time": "2023-11-12T12:01:41.673Z"
   },
   {
    "duration": 328,
    "start_time": "2023-11-12T12:01:41.680Z"
   },
   {
    "duration": 8,
    "start_time": "2023-11-12T12:01:42.010Z"
   },
   {
    "duration": 404,
    "start_time": "2023-11-12T12:01:42.020Z"
   },
   {
    "duration": 10,
    "start_time": "2023-11-12T12:01:42.426Z"
   },
   {
    "duration": 328,
    "start_time": "2023-11-12T12:01:42.438Z"
   },
   {
    "duration": 9,
    "start_time": "2023-11-12T12:01:42.768Z"
   },
   {
    "duration": 320,
    "start_time": "2023-11-12T12:01:42.779Z"
   },
   {
    "duration": 8,
    "start_time": "2023-11-12T12:01:43.101Z"
   },
   {
    "duration": 210,
    "start_time": "2023-11-12T12:01:43.111Z"
   },
   {
    "duration": 213,
    "start_time": "2023-11-12T12:01:43.322Z"
   },
   {
    "duration": 195,
    "start_time": "2023-11-12T12:01:43.537Z"
   },
   {
    "duration": 185,
    "start_time": "2023-11-12T12:01:43.736Z"
   },
   {
    "duration": 124,
    "start_time": "2023-11-12T12:01:43.922Z"
   },
   {
    "duration": 415,
    "start_time": "2023-11-12T12:01:44.048Z"
   },
   {
    "duration": 197,
    "start_time": "2023-11-12T12:01:44.464Z"
   },
   {
    "duration": 213,
    "start_time": "2023-11-12T12:01:44.663Z"
   },
   {
    "duration": 199,
    "start_time": "2023-11-12T12:01:44.877Z"
   },
   {
    "duration": 209,
    "start_time": "2023-11-12T12:01:45.080Z"
   },
   {
    "duration": 178,
    "start_time": "2023-11-12T12:01:45.290Z"
   },
   {
    "duration": 9,
    "start_time": "2023-11-12T12:01:45.470Z"
   },
   {
    "duration": 149,
    "start_time": "2023-11-12T12:01:45.480Z"
   },
   {
    "duration": 170,
    "start_time": "2023-11-12T12:01:45.631Z"
   },
   {
    "duration": 184,
    "start_time": "2023-11-12T12:01:45.803Z"
   },
   {
    "duration": 15,
    "start_time": "2023-11-12T12:01:45.990Z"
   },
   {
    "duration": 3,
    "start_time": "2023-11-12T12:01:46.007Z"
   },
   {
    "duration": 151,
    "start_time": "2023-11-12T12:01:46.035Z"
   },
   {
    "duration": 336,
    "start_time": "2023-11-12T12:01:46.188Z"
   },
   {
    "duration": 454,
    "start_time": "2023-11-12T12:01:46.525Z"
   },
   {
    "duration": 36,
    "start_time": "2023-11-12T12:01:46.981Z"
   },
   {
    "duration": 26,
    "start_time": "2023-11-12T12:01:47.019Z"
   },
   {
    "duration": 138,
    "start_time": "2023-11-12T12:01:47.050Z"
   },
   {
    "duration": 385,
    "start_time": "2023-11-12T12:01:47.190Z"
   },
   {
    "duration": 331,
    "start_time": "2023-11-12T12:01:47.577Z"
   },
   {
    "duration": 8,
    "start_time": "2023-11-12T12:01:47.910Z"
   },
   {
    "duration": 177,
    "start_time": "2023-11-12T12:01:47.919Z"
   },
   {
    "duration": 15,
    "start_time": "2023-11-12T12:01:48.098Z"
   },
   {
    "duration": 24,
    "start_time": "2023-11-12T12:01:48.114Z"
   },
   {
    "duration": 184,
    "start_time": "2023-11-12T12:01:48.139Z"
   },
   {
    "duration": 24,
    "start_time": "2023-11-12T12:01:48.324Z"
   },
   {
    "duration": 9,
    "start_time": "2023-11-12T12:01:48.351Z"
   },
   {
    "duration": 178,
    "start_time": "2023-11-12T12:01:48.362Z"
   },
   {
    "duration": 19,
    "start_time": "2023-11-12T12:01:48.542Z"
   },
   {
    "duration": 17,
    "start_time": "2023-11-12T12:01:48.563Z"
   },
   {
    "duration": 25,
    "start_time": "2023-11-12T12:01:48.582Z"
   },
   {
    "duration": 203,
    "start_time": "2023-11-12T12:01:48.609Z"
   },
   {
    "duration": 6,
    "start_time": "2023-11-12T12:01:48.813Z"
   },
   {
    "duration": 196,
    "start_time": "2023-11-12T12:01:48.821Z"
   },
   {
    "duration": 206,
    "start_time": "2023-11-12T12:01:49.018Z"
   },
   {
    "duration": 198,
    "start_time": "2023-11-12T12:01:49.225Z"
   },
   {
    "duration": 299,
    "start_time": "2023-11-12T12:01:49.424Z"
   },
   {
    "duration": 118,
    "start_time": "2023-11-12T12:01:49.725Z"
   },
   {
    "duration": 0,
    "start_time": "2023-11-12T12:01:49.845Z"
   },
   {
    "duration": 0,
    "start_time": "2023-11-12T12:01:49.846Z"
   },
   {
    "duration": 582,
    "start_time": "2023-11-12T12:16:29.443Z"
   },
   {
    "duration": 19,
    "start_time": "2023-11-12T12:16:30.027Z"
   },
   {
    "duration": 63,
    "start_time": "2023-11-12T12:16:30.048Z"
   },
   {
    "duration": 2434,
    "start_time": "2023-11-12T12:16:30.113Z"
   },
   {
    "duration": 8,
    "start_time": "2023-11-12T12:16:32.548Z"
   },
   {
    "duration": 34,
    "start_time": "2023-11-12T12:16:32.557Z"
   },
   {
    "duration": 44,
    "start_time": "2023-11-12T12:16:32.592Z"
   },
   {
    "duration": 8,
    "start_time": "2023-11-12T12:16:32.638Z"
   },
   {
    "duration": 8,
    "start_time": "2023-11-12T12:16:32.649Z"
   },
   {
    "duration": 7,
    "start_time": "2023-11-12T12:16:32.661Z"
   },
   {
    "duration": 12,
    "start_time": "2023-11-12T12:16:32.670Z"
   },
   {
    "duration": 10,
    "start_time": "2023-11-12T12:16:32.684Z"
   },
   {
    "duration": 41,
    "start_time": "2023-11-12T12:16:32.696Z"
   },
   {
    "duration": 12,
    "start_time": "2023-11-12T12:16:32.739Z"
   },
   {
    "duration": 104,
    "start_time": "2023-11-12T12:16:32.752Z"
   },
   {
    "duration": 0,
    "start_time": "2023-11-12T12:16:32.860Z"
   },
   {
    "duration": 0,
    "start_time": "2023-11-12T12:16:32.861Z"
   },
   {
    "duration": 0,
    "start_time": "2023-11-12T12:16:32.862Z"
   },
   {
    "duration": 0,
    "start_time": "2023-11-12T12:16:32.863Z"
   },
   {
    "duration": 0,
    "start_time": "2023-11-12T12:16:32.864Z"
   },
   {
    "duration": 0,
    "start_time": "2023-11-12T12:16:32.865Z"
   },
   {
    "duration": 0,
    "start_time": "2023-11-12T12:16:32.866Z"
   },
   {
    "duration": 0,
    "start_time": "2023-11-12T12:16:32.867Z"
   },
   {
    "duration": 0,
    "start_time": "2023-11-12T12:16:32.868Z"
   },
   {
    "duration": 0,
    "start_time": "2023-11-12T12:16:32.869Z"
   },
   {
    "duration": 0,
    "start_time": "2023-11-12T12:16:32.870Z"
   },
   {
    "duration": 0,
    "start_time": "2023-11-12T12:16:32.872Z"
   },
   {
    "duration": 0,
    "start_time": "2023-11-12T12:16:32.873Z"
   },
   {
    "duration": 0,
    "start_time": "2023-11-12T12:16:32.874Z"
   },
   {
    "duration": 0,
    "start_time": "2023-11-12T12:16:32.875Z"
   },
   {
    "duration": 0,
    "start_time": "2023-11-12T12:16:32.876Z"
   },
   {
    "duration": 0,
    "start_time": "2023-11-12T12:16:32.877Z"
   },
   {
    "duration": 0,
    "start_time": "2023-11-12T12:16:32.878Z"
   },
   {
    "duration": 0,
    "start_time": "2023-11-12T12:16:32.879Z"
   },
   {
    "duration": 0,
    "start_time": "2023-11-12T12:16:32.880Z"
   },
   {
    "duration": 0,
    "start_time": "2023-11-12T12:16:32.882Z"
   },
   {
    "duration": 0,
    "start_time": "2023-11-12T12:16:32.883Z"
   },
   {
    "duration": 0,
    "start_time": "2023-11-12T12:16:32.884Z"
   },
   {
    "duration": 0,
    "start_time": "2023-11-12T12:16:32.885Z"
   },
   {
    "duration": 0,
    "start_time": "2023-11-12T12:16:32.886Z"
   },
   {
    "duration": 0,
    "start_time": "2023-11-12T12:16:32.887Z"
   },
   {
    "duration": 0,
    "start_time": "2023-11-12T12:16:32.935Z"
   },
   {
    "duration": 0,
    "start_time": "2023-11-12T12:16:32.936Z"
   },
   {
    "duration": 0,
    "start_time": "2023-11-12T12:16:32.937Z"
   },
   {
    "duration": 0,
    "start_time": "2023-11-12T12:16:32.939Z"
   },
   {
    "duration": 0,
    "start_time": "2023-11-12T12:16:32.940Z"
   },
   {
    "duration": 0,
    "start_time": "2023-11-12T12:16:32.940Z"
   },
   {
    "duration": 0,
    "start_time": "2023-11-12T12:16:32.942Z"
   },
   {
    "duration": 0,
    "start_time": "2023-11-12T12:16:32.944Z"
   },
   {
    "duration": 0,
    "start_time": "2023-11-12T12:16:32.945Z"
   },
   {
    "duration": 0,
    "start_time": "2023-11-12T12:16:32.947Z"
   },
   {
    "duration": 0,
    "start_time": "2023-11-12T12:16:32.948Z"
   },
   {
    "duration": 0,
    "start_time": "2023-11-12T12:16:32.950Z"
   },
   {
    "duration": 0,
    "start_time": "2023-11-12T12:16:32.952Z"
   },
   {
    "duration": 0,
    "start_time": "2023-11-12T12:16:32.953Z"
   },
   {
    "duration": 0,
    "start_time": "2023-11-12T12:16:32.955Z"
   },
   {
    "duration": 0,
    "start_time": "2023-11-12T12:16:32.956Z"
   },
   {
    "duration": 0,
    "start_time": "2023-11-12T12:16:32.957Z"
   },
   {
    "duration": 0,
    "start_time": "2023-11-12T12:16:32.959Z"
   },
   {
    "duration": 0,
    "start_time": "2023-11-12T12:16:32.960Z"
   },
   {
    "duration": 0,
    "start_time": "2023-11-12T12:16:32.962Z"
   },
   {
    "duration": 0,
    "start_time": "2023-11-12T12:16:32.963Z"
   },
   {
    "duration": 0,
    "start_time": "2023-11-12T12:16:32.965Z"
   },
   {
    "duration": 0,
    "start_time": "2023-11-12T12:16:32.966Z"
   },
   {
    "duration": 0,
    "start_time": "2023-11-12T12:16:32.967Z"
   },
   {
    "duration": 0,
    "start_time": "2023-11-12T12:16:32.969Z"
   },
   {
    "duration": 0,
    "start_time": "2023-11-12T12:16:32.970Z"
   },
   {
    "duration": 0,
    "start_time": "2023-11-12T12:16:33.036Z"
   },
   {
    "duration": 0,
    "start_time": "2023-11-12T12:16:33.037Z"
   },
   {
    "duration": 0,
    "start_time": "2023-11-12T12:16:33.039Z"
   },
   {
    "duration": 0,
    "start_time": "2023-11-12T12:16:33.040Z"
   },
   {
    "duration": 0,
    "start_time": "2023-11-12T12:16:33.041Z"
   },
   {
    "duration": 0,
    "start_time": "2023-11-12T12:16:33.042Z"
   },
   {
    "duration": 0,
    "start_time": "2023-11-12T12:16:33.044Z"
   },
   {
    "duration": 0,
    "start_time": "2023-11-12T12:16:33.045Z"
   },
   {
    "duration": 0,
    "start_time": "2023-11-12T12:16:33.047Z"
   },
   {
    "duration": 0,
    "start_time": "2023-11-12T12:16:33.048Z"
   },
   {
    "duration": 0,
    "start_time": "2023-11-12T12:16:33.049Z"
   },
   {
    "duration": 588,
    "start_time": "2023-11-12T12:17:12.403Z"
   },
   {
    "duration": 17,
    "start_time": "2023-11-12T12:17:12.993Z"
   },
   {
    "duration": 67,
    "start_time": "2023-11-12T12:17:13.012Z"
   },
   {
    "duration": 2342,
    "start_time": "2023-11-12T12:17:13.082Z"
   },
   {
    "duration": 7,
    "start_time": "2023-11-12T12:17:15.426Z"
   },
   {
    "duration": 17,
    "start_time": "2023-11-12T12:17:15.435Z"
   },
   {
    "duration": 64,
    "start_time": "2023-11-12T12:17:15.453Z"
   },
   {
    "duration": 11,
    "start_time": "2023-11-12T12:17:15.519Z"
   },
   {
    "duration": 35,
    "start_time": "2023-11-12T12:17:15.532Z"
   },
   {
    "duration": 18,
    "start_time": "2023-11-12T12:17:15.569Z"
   },
   {
    "duration": 11,
    "start_time": "2023-11-12T12:17:15.589Z"
   },
   {
    "duration": 10,
    "start_time": "2023-11-12T12:17:15.602Z"
   },
   {
    "duration": 9,
    "start_time": "2023-11-12T12:17:15.615Z"
   },
   {
    "duration": 13,
    "start_time": "2023-11-12T12:17:15.626Z"
   },
   {
    "duration": 82,
    "start_time": "2023-11-12T12:17:15.640Z"
   },
   {
    "duration": 0,
    "start_time": "2023-11-12T12:17:15.726Z"
   },
   {
    "duration": 0,
    "start_time": "2023-11-12T12:17:15.728Z"
   },
   {
    "duration": 0,
    "start_time": "2023-11-12T12:17:15.736Z"
   },
   {
    "duration": 0,
    "start_time": "2023-11-12T12:17:15.737Z"
   },
   {
    "duration": 0,
    "start_time": "2023-11-12T12:17:15.739Z"
   },
   {
    "duration": 1,
    "start_time": "2023-11-12T12:17:15.740Z"
   },
   {
    "duration": 0,
    "start_time": "2023-11-12T12:17:15.742Z"
   },
   {
    "duration": 0,
    "start_time": "2023-11-12T12:17:15.743Z"
   },
   {
    "duration": 0,
    "start_time": "2023-11-12T12:17:15.744Z"
   },
   {
    "duration": 0,
    "start_time": "2023-11-12T12:17:15.745Z"
   },
   {
    "duration": 0,
    "start_time": "2023-11-12T12:17:15.746Z"
   },
   {
    "duration": 0,
    "start_time": "2023-11-12T12:17:15.747Z"
   },
   {
    "duration": 0,
    "start_time": "2023-11-12T12:17:15.748Z"
   },
   {
    "duration": 0,
    "start_time": "2023-11-12T12:17:15.749Z"
   },
   {
    "duration": 0,
    "start_time": "2023-11-12T12:17:15.751Z"
   },
   {
    "duration": 0,
    "start_time": "2023-11-12T12:17:15.752Z"
   },
   {
    "duration": 0,
    "start_time": "2023-11-12T12:17:15.754Z"
   },
   {
    "duration": 0,
    "start_time": "2023-11-12T12:17:15.756Z"
   },
   {
    "duration": 0,
    "start_time": "2023-11-12T12:17:15.757Z"
   },
   {
    "duration": 0,
    "start_time": "2023-11-12T12:17:15.759Z"
   },
   {
    "duration": 0,
    "start_time": "2023-11-12T12:17:15.761Z"
   },
   {
    "duration": 0,
    "start_time": "2023-11-12T12:17:15.763Z"
   },
   {
    "duration": 0,
    "start_time": "2023-11-12T12:17:15.764Z"
   },
   {
    "duration": 0,
    "start_time": "2023-11-12T12:17:15.767Z"
   },
   {
    "duration": 0,
    "start_time": "2023-11-12T12:17:15.768Z"
   },
   {
    "duration": 0,
    "start_time": "2023-11-12T12:17:15.770Z"
   },
   {
    "duration": 0,
    "start_time": "2023-11-12T12:17:15.771Z"
   },
   {
    "duration": 0,
    "start_time": "2023-11-12T12:17:15.773Z"
   },
   {
    "duration": 0,
    "start_time": "2023-11-12T12:17:15.836Z"
   },
   {
    "duration": 0,
    "start_time": "2023-11-12T12:17:15.837Z"
   },
   {
    "duration": 0,
    "start_time": "2023-11-12T12:17:15.838Z"
   },
   {
    "duration": 0,
    "start_time": "2023-11-12T12:17:15.840Z"
   },
   {
    "duration": 0,
    "start_time": "2023-11-12T12:17:15.841Z"
   },
   {
    "duration": 0,
    "start_time": "2023-11-12T12:17:15.843Z"
   },
   {
    "duration": 0,
    "start_time": "2023-11-12T12:17:15.844Z"
   },
   {
    "duration": 0,
    "start_time": "2023-11-12T12:17:15.845Z"
   },
   {
    "duration": 0,
    "start_time": "2023-11-12T12:17:15.847Z"
   },
   {
    "duration": 0,
    "start_time": "2023-11-12T12:17:15.848Z"
   },
   {
    "duration": 0,
    "start_time": "2023-11-12T12:17:15.849Z"
   },
   {
    "duration": 0,
    "start_time": "2023-11-12T12:17:15.849Z"
   },
   {
    "duration": 0,
    "start_time": "2023-11-12T12:17:15.850Z"
   },
   {
    "duration": 0,
    "start_time": "2023-11-12T12:17:15.851Z"
   },
   {
    "duration": 0,
    "start_time": "2023-11-12T12:17:15.852Z"
   },
   {
    "duration": 0,
    "start_time": "2023-11-12T12:17:15.853Z"
   },
   {
    "duration": 0,
    "start_time": "2023-11-12T12:17:15.854Z"
   },
   {
    "duration": 0,
    "start_time": "2023-11-12T12:17:15.855Z"
   },
   {
    "duration": 0,
    "start_time": "2023-11-12T12:17:15.858Z"
   },
   {
    "duration": 0,
    "start_time": "2023-11-12T12:17:15.859Z"
   },
   {
    "duration": 0,
    "start_time": "2023-11-12T12:17:15.861Z"
   },
   {
    "duration": 0,
    "start_time": "2023-11-12T12:17:15.862Z"
   },
   {
    "duration": 0,
    "start_time": "2023-11-12T12:17:15.863Z"
   },
   {
    "duration": 0,
    "start_time": "2023-11-12T12:17:15.865Z"
   },
   {
    "duration": 0,
    "start_time": "2023-11-12T12:17:15.867Z"
   },
   {
    "duration": 0,
    "start_time": "2023-11-12T12:17:15.868Z"
   },
   {
    "duration": 1,
    "start_time": "2023-11-12T12:17:15.869Z"
   },
   {
    "duration": 0,
    "start_time": "2023-11-12T12:17:15.871Z"
   },
   {
    "duration": 0,
    "start_time": "2023-11-12T12:17:15.872Z"
   },
   {
    "duration": 0,
    "start_time": "2023-11-12T12:17:15.874Z"
   },
   {
    "duration": 0,
    "start_time": "2023-11-12T12:17:15.875Z"
   },
   {
    "duration": 0,
    "start_time": "2023-11-12T12:17:15.876Z"
   },
   {
    "duration": 0,
    "start_time": "2023-11-12T12:17:15.936Z"
   },
   {
    "duration": 524,
    "start_time": "2023-11-12T12:17:31.160Z"
   },
   {
    "duration": 17,
    "start_time": "2023-11-12T12:17:31.686Z"
   },
   {
    "duration": 62,
    "start_time": "2023-11-12T12:17:31.705Z"
   },
   {
    "duration": 2299,
    "start_time": "2023-11-12T12:17:31.769Z"
   },
   {
    "duration": 6,
    "start_time": "2023-11-12T12:17:34.070Z"
   },
   {
    "duration": 13,
    "start_time": "2023-11-12T12:17:34.077Z"
   },
   {
    "duration": 42,
    "start_time": "2023-11-12T12:17:34.091Z"
   },
   {
    "duration": 8,
    "start_time": "2023-11-12T12:17:34.135Z"
   },
   {
    "duration": 19,
    "start_time": "2023-11-12T12:17:34.145Z"
   },
   {
    "duration": 6,
    "start_time": "2023-11-12T12:17:34.167Z"
   },
   {
    "duration": 9,
    "start_time": "2023-11-12T12:17:34.174Z"
   },
   {
    "duration": 8,
    "start_time": "2023-11-12T12:17:34.184Z"
   },
   {
    "duration": 44,
    "start_time": "2023-11-12T12:17:34.193Z"
   },
   {
    "duration": 15,
    "start_time": "2023-11-12T12:17:34.239Z"
   },
   {
    "duration": 108,
    "start_time": "2023-11-12T12:17:34.257Z"
   },
   {
    "duration": 0,
    "start_time": "2023-11-12T12:17:34.369Z"
   },
   {
    "duration": 0,
    "start_time": "2023-11-12T12:17:34.372Z"
   },
   {
    "duration": 0,
    "start_time": "2023-11-12T12:17:34.373Z"
   },
   {
    "duration": 0,
    "start_time": "2023-11-12T12:17:34.374Z"
   },
   {
    "duration": 0,
    "start_time": "2023-11-12T12:17:34.376Z"
   },
   {
    "duration": 0,
    "start_time": "2023-11-12T12:17:34.377Z"
   },
   {
    "duration": 0,
    "start_time": "2023-11-12T12:17:34.379Z"
   },
   {
    "duration": 0,
    "start_time": "2023-11-12T12:17:34.380Z"
   },
   {
    "duration": 0,
    "start_time": "2023-11-12T12:17:34.382Z"
   },
   {
    "duration": 0,
    "start_time": "2023-11-12T12:17:34.383Z"
   },
   {
    "duration": 0,
    "start_time": "2023-11-12T12:17:34.384Z"
   },
   {
    "duration": 0,
    "start_time": "2023-11-12T12:17:34.386Z"
   },
   {
    "duration": 0,
    "start_time": "2023-11-12T12:17:34.387Z"
   },
   {
    "duration": 0,
    "start_time": "2023-11-12T12:17:34.389Z"
   },
   {
    "duration": 0,
    "start_time": "2023-11-12T12:17:34.390Z"
   },
   {
    "duration": 0,
    "start_time": "2023-11-12T12:17:34.391Z"
   },
   {
    "duration": 0,
    "start_time": "2023-11-12T12:17:34.392Z"
   },
   {
    "duration": 0,
    "start_time": "2023-11-12T12:17:34.394Z"
   },
   {
    "duration": 0,
    "start_time": "2023-11-12T12:17:34.395Z"
   },
   {
    "duration": 0,
    "start_time": "2023-11-12T12:17:34.397Z"
   },
   {
    "duration": 0,
    "start_time": "2023-11-12T12:17:34.398Z"
   },
   {
    "duration": 0,
    "start_time": "2023-11-12T12:17:34.436Z"
   },
   {
    "duration": 0,
    "start_time": "2023-11-12T12:17:34.438Z"
   },
   {
    "duration": 0,
    "start_time": "2023-11-12T12:17:34.439Z"
   },
   {
    "duration": 0,
    "start_time": "2023-11-12T12:17:34.441Z"
   },
   {
    "duration": 0,
    "start_time": "2023-11-12T12:17:34.442Z"
   },
   {
    "duration": 0,
    "start_time": "2023-11-12T12:17:34.443Z"
   },
   {
    "duration": 0,
    "start_time": "2023-11-12T12:17:34.445Z"
   },
   {
    "duration": 0,
    "start_time": "2023-11-12T12:17:34.447Z"
   },
   {
    "duration": 0,
    "start_time": "2023-11-12T12:17:34.448Z"
   },
   {
    "duration": 0,
    "start_time": "2023-11-12T12:17:34.449Z"
   },
   {
    "duration": 0,
    "start_time": "2023-11-12T12:17:34.451Z"
   },
   {
    "duration": 0,
    "start_time": "2023-11-12T12:17:34.453Z"
   },
   {
    "duration": 0,
    "start_time": "2023-11-12T12:17:34.454Z"
   },
   {
    "duration": 0,
    "start_time": "2023-11-12T12:17:34.455Z"
   },
   {
    "duration": 0,
    "start_time": "2023-11-12T12:17:34.456Z"
   },
   {
    "duration": 0,
    "start_time": "2023-11-12T12:17:34.457Z"
   },
   {
    "duration": 0,
    "start_time": "2023-11-12T12:17:34.458Z"
   },
   {
    "duration": 0,
    "start_time": "2023-11-12T12:17:34.459Z"
   },
   {
    "duration": 0,
    "start_time": "2023-11-12T12:17:34.460Z"
   },
   {
    "duration": 0,
    "start_time": "2023-11-12T12:17:34.462Z"
   },
   {
    "duration": 0,
    "start_time": "2023-11-12T12:17:34.463Z"
   },
   {
    "duration": 0,
    "start_time": "2023-11-12T12:17:34.465Z"
   },
   {
    "duration": 0,
    "start_time": "2023-11-12T12:17:34.467Z"
   },
   {
    "duration": 0,
    "start_time": "2023-11-12T12:17:34.468Z"
   },
   {
    "duration": 0,
    "start_time": "2023-11-12T12:17:34.470Z"
   },
   {
    "duration": 0,
    "start_time": "2023-11-12T12:17:34.535Z"
   },
   {
    "duration": 0,
    "start_time": "2023-11-12T12:17:34.537Z"
   },
   {
    "duration": 0,
    "start_time": "2023-11-12T12:17:34.539Z"
   },
   {
    "duration": 0,
    "start_time": "2023-11-12T12:17:34.540Z"
   },
   {
    "duration": 0,
    "start_time": "2023-11-12T12:17:34.542Z"
   },
   {
    "duration": 0,
    "start_time": "2023-11-12T12:17:34.544Z"
   },
   {
    "duration": 0,
    "start_time": "2023-11-12T12:17:34.546Z"
   },
   {
    "duration": 0,
    "start_time": "2023-11-12T12:17:34.547Z"
   },
   {
    "duration": 0,
    "start_time": "2023-11-12T12:17:34.549Z"
   },
   {
    "duration": 0,
    "start_time": "2023-11-12T12:17:34.551Z"
   },
   {
    "duration": 0,
    "start_time": "2023-11-12T12:17:34.552Z"
   },
   {
    "duration": 0,
    "start_time": "2023-11-12T12:17:34.554Z"
   },
   {
    "duration": 0,
    "start_time": "2023-11-12T12:17:34.555Z"
   },
   {
    "duration": 0,
    "start_time": "2023-11-12T12:17:34.556Z"
   },
   {
    "duration": 0,
    "start_time": "2023-11-12T12:17:34.557Z"
   },
   {
    "duration": 520,
    "start_time": "2023-11-12T12:18:48.952Z"
   },
   {
    "duration": 16,
    "start_time": "2023-11-12T12:18:49.474Z"
   },
   {
    "duration": 49,
    "start_time": "2023-11-12T12:18:49.491Z"
   },
   {
    "duration": 2181,
    "start_time": "2023-11-12T12:18:49.542Z"
   },
   {
    "duration": 6,
    "start_time": "2023-11-12T12:18:51.724Z"
   },
   {
    "duration": 9,
    "start_time": "2023-11-12T12:18:51.732Z"
   },
   {
    "duration": 41,
    "start_time": "2023-11-12T12:18:51.743Z"
   },
   {
    "duration": 8,
    "start_time": "2023-11-12T12:18:51.785Z"
   },
   {
    "duration": 25,
    "start_time": "2023-11-12T12:18:51.795Z"
   },
   {
    "duration": 23,
    "start_time": "2023-11-12T12:18:51.823Z"
   },
   {
    "duration": 16,
    "start_time": "2023-11-12T12:18:51.847Z"
   },
   {
    "duration": 7,
    "start_time": "2023-11-12T12:18:51.864Z"
   },
   {
    "duration": 12,
    "start_time": "2023-11-12T12:18:51.873Z"
   },
   {
    "duration": 10,
    "start_time": "2023-11-12T12:18:51.887Z"
   },
   {
    "duration": 91,
    "start_time": "2023-11-12T12:18:51.899Z"
   },
   {
    "duration": 0,
    "start_time": "2023-11-12T12:18:51.994Z"
   },
   {
    "duration": 0,
    "start_time": "2023-11-12T12:18:51.995Z"
   },
   {
    "duration": 0,
    "start_time": "2023-11-12T12:18:51.996Z"
   },
   {
    "duration": 0,
    "start_time": "2023-11-12T12:18:51.997Z"
   },
   {
    "duration": 0,
    "start_time": "2023-11-12T12:18:51.998Z"
   },
   {
    "duration": 0,
    "start_time": "2023-11-12T12:18:51.999Z"
   },
   {
    "duration": 0,
    "start_time": "2023-11-12T12:18:52.000Z"
   },
   {
    "duration": 0,
    "start_time": "2023-11-12T12:18:52.001Z"
   },
   {
    "duration": 0,
    "start_time": "2023-11-12T12:18:52.002Z"
   },
   {
    "duration": 1,
    "start_time": "2023-11-12T12:18:52.003Z"
   },
   {
    "duration": 0,
    "start_time": "2023-11-12T12:18:52.004Z"
   },
   {
    "duration": 0,
    "start_time": "2023-11-12T12:18:52.005Z"
   },
   {
    "duration": 0,
    "start_time": "2023-11-12T12:18:52.006Z"
   },
   {
    "duration": 0,
    "start_time": "2023-11-12T12:18:52.007Z"
   },
   {
    "duration": 0,
    "start_time": "2023-11-12T12:18:52.036Z"
   },
   {
    "duration": 0,
    "start_time": "2023-11-12T12:18:52.037Z"
   },
   {
    "duration": 0,
    "start_time": "2023-11-12T12:18:52.038Z"
   },
   {
    "duration": 0,
    "start_time": "2023-11-12T12:18:52.039Z"
   },
   {
    "duration": 0,
    "start_time": "2023-11-12T12:18:52.040Z"
   },
   {
    "duration": 0,
    "start_time": "2023-11-12T12:18:52.040Z"
   },
   {
    "duration": 0,
    "start_time": "2023-11-12T12:18:52.042Z"
   },
   {
    "duration": 0,
    "start_time": "2023-11-12T12:18:52.043Z"
   },
   {
    "duration": 0,
    "start_time": "2023-11-12T12:18:52.044Z"
   },
   {
    "duration": 0,
    "start_time": "2023-11-12T12:18:52.045Z"
   },
   {
    "duration": 0,
    "start_time": "2023-11-12T12:18:52.046Z"
   },
   {
    "duration": 0,
    "start_time": "2023-11-12T12:18:52.046Z"
   },
   {
    "duration": 0,
    "start_time": "2023-11-12T12:18:52.048Z"
   },
   {
    "duration": 0,
    "start_time": "2023-11-12T12:18:52.049Z"
   },
   {
    "duration": 0,
    "start_time": "2023-11-12T12:18:52.049Z"
   },
   {
    "duration": 0,
    "start_time": "2023-11-12T12:18:52.050Z"
   },
   {
    "duration": 0,
    "start_time": "2023-11-12T12:18:52.051Z"
   },
   {
    "duration": 0,
    "start_time": "2023-11-12T12:18:52.052Z"
   },
   {
    "duration": 0,
    "start_time": "2023-11-12T12:18:52.053Z"
   },
   {
    "duration": 0,
    "start_time": "2023-11-12T12:18:52.054Z"
   },
   {
    "duration": 0,
    "start_time": "2023-11-12T12:18:52.055Z"
   },
   {
    "duration": 0,
    "start_time": "2023-11-12T12:18:52.056Z"
   },
   {
    "duration": 0,
    "start_time": "2023-11-12T12:18:52.057Z"
   },
   {
    "duration": 0,
    "start_time": "2023-11-12T12:18:52.058Z"
   },
   {
    "duration": 0,
    "start_time": "2023-11-12T12:18:52.059Z"
   },
   {
    "duration": 0,
    "start_time": "2023-11-12T12:18:52.060Z"
   },
   {
    "duration": 0,
    "start_time": "2023-11-12T12:18:52.061Z"
   },
   {
    "duration": 0,
    "start_time": "2023-11-12T12:18:52.062Z"
   },
   {
    "duration": 0,
    "start_time": "2023-11-12T12:18:52.063Z"
   },
   {
    "duration": 0,
    "start_time": "2023-11-12T12:18:52.064Z"
   },
   {
    "duration": 0,
    "start_time": "2023-11-12T12:18:52.065Z"
   },
   {
    "duration": 0,
    "start_time": "2023-11-12T12:18:52.066Z"
   },
   {
    "duration": 0,
    "start_time": "2023-11-12T12:18:52.067Z"
   },
   {
    "duration": 0,
    "start_time": "2023-11-12T12:18:52.068Z"
   },
   {
    "duration": 0,
    "start_time": "2023-11-12T12:18:52.069Z"
   },
   {
    "duration": 0,
    "start_time": "2023-11-12T12:18:52.070Z"
   },
   {
    "duration": 0,
    "start_time": "2023-11-12T12:18:52.072Z"
   },
   {
    "duration": 0,
    "start_time": "2023-11-12T12:18:52.136Z"
   },
   {
    "duration": 0,
    "start_time": "2023-11-12T12:18:52.137Z"
   },
   {
    "duration": 0,
    "start_time": "2023-11-12T12:18:52.138Z"
   },
   {
    "duration": 0,
    "start_time": "2023-11-12T12:18:52.139Z"
   },
   {
    "duration": 0,
    "start_time": "2023-11-12T12:18:52.140Z"
   },
   {
    "duration": 0,
    "start_time": "2023-11-12T12:18:52.141Z"
   },
   {
    "duration": 0,
    "start_time": "2023-11-12T12:18:52.142Z"
   },
   {
    "duration": 0,
    "start_time": "2023-11-12T12:18:52.143Z"
   },
   {
    "duration": 0,
    "start_time": "2023-11-12T12:18:52.144Z"
   },
   {
    "duration": 0,
    "start_time": "2023-11-12T12:18:52.145Z"
   },
   {
    "duration": 19,
    "start_time": "2023-11-12T12:20:16.980Z"
   },
   {
    "duration": 17,
    "start_time": "2023-11-12T12:22:40.278Z"
   },
   {
    "duration": 4,
    "start_time": "2023-11-12T12:25:20.007Z"
   },
   {
    "duration": 18,
    "start_time": "2023-11-12T12:25:21.116Z"
   },
   {
    "duration": 522,
    "start_time": "2023-11-12T12:25:34.697Z"
   },
   {
    "duration": 26,
    "start_time": "2023-11-12T12:25:35.221Z"
   },
   {
    "duration": 46,
    "start_time": "2023-11-12T12:25:35.250Z"
   },
   {
    "duration": 2266,
    "start_time": "2023-11-12T12:25:35.298Z"
   },
   {
    "duration": 6,
    "start_time": "2023-11-12T12:25:37.565Z"
   },
   {
    "duration": 46,
    "start_time": "2023-11-12T12:25:37.572Z"
   },
   {
    "duration": 47,
    "start_time": "2023-11-12T12:25:37.620Z"
   },
   {
    "duration": 8,
    "start_time": "2023-11-12T12:25:37.668Z"
   },
   {
    "duration": 29,
    "start_time": "2023-11-12T12:25:37.678Z"
   },
   {
    "duration": 6,
    "start_time": "2023-11-12T12:25:37.709Z"
   },
   {
    "duration": 8,
    "start_time": "2023-11-12T12:25:37.717Z"
   },
   {
    "duration": 12,
    "start_time": "2023-11-12T12:25:37.727Z"
   },
   {
    "duration": 6,
    "start_time": "2023-11-12T12:25:37.740Z"
   },
   {
    "duration": 10,
    "start_time": "2023-11-12T12:25:37.748Z"
   },
   {
    "duration": 8,
    "start_time": "2023-11-12T12:25:37.760Z"
   },
   {
    "duration": 113,
    "start_time": "2023-11-12T12:25:37.770Z"
   },
   {
    "duration": 0,
    "start_time": "2023-11-12T12:25:37.886Z"
   },
   {
    "duration": 0,
    "start_time": "2023-11-12T12:25:37.887Z"
   },
   {
    "duration": 0,
    "start_time": "2023-11-12T12:25:37.889Z"
   },
   {
    "duration": 0,
    "start_time": "2023-11-12T12:25:37.890Z"
   },
   {
    "duration": 0,
    "start_time": "2023-11-12T12:25:37.891Z"
   },
   {
    "duration": 0,
    "start_time": "2023-11-12T12:25:37.892Z"
   },
   {
    "duration": 0,
    "start_time": "2023-11-12T12:25:37.893Z"
   },
   {
    "duration": 0,
    "start_time": "2023-11-12T12:25:37.894Z"
   },
   {
    "duration": 0,
    "start_time": "2023-11-12T12:25:37.895Z"
   },
   {
    "duration": 0,
    "start_time": "2023-11-12T12:25:37.896Z"
   },
   {
    "duration": 0,
    "start_time": "2023-11-12T12:25:37.897Z"
   },
   {
    "duration": 0,
    "start_time": "2023-11-12T12:25:37.898Z"
   },
   {
    "duration": 0,
    "start_time": "2023-11-12T12:25:37.899Z"
   },
   {
    "duration": 0,
    "start_time": "2023-11-12T12:25:37.900Z"
   },
   {
    "duration": 0,
    "start_time": "2023-11-12T12:25:37.902Z"
   },
   {
    "duration": 0,
    "start_time": "2023-11-12T12:25:37.936Z"
   },
   {
    "duration": 0,
    "start_time": "2023-11-12T12:25:37.937Z"
   },
   {
    "duration": 0,
    "start_time": "2023-11-12T12:25:37.938Z"
   },
   {
    "duration": 0,
    "start_time": "2023-11-12T12:25:37.940Z"
   },
   {
    "duration": 0,
    "start_time": "2023-11-12T12:25:37.941Z"
   },
   {
    "duration": 0,
    "start_time": "2023-11-12T12:25:37.943Z"
   },
   {
    "duration": 0,
    "start_time": "2023-11-12T12:25:37.944Z"
   },
   {
    "duration": 0,
    "start_time": "2023-11-12T12:25:37.946Z"
   },
   {
    "duration": 0,
    "start_time": "2023-11-12T12:25:37.947Z"
   },
   {
    "duration": 0,
    "start_time": "2023-11-12T12:25:37.948Z"
   },
   {
    "duration": 0,
    "start_time": "2023-11-12T12:25:37.950Z"
   },
   {
    "duration": 0,
    "start_time": "2023-11-12T12:25:37.951Z"
   },
   {
    "duration": 0,
    "start_time": "2023-11-12T12:25:37.952Z"
   },
   {
    "duration": 0,
    "start_time": "2023-11-12T12:25:37.953Z"
   },
   {
    "duration": 0,
    "start_time": "2023-11-12T12:25:37.955Z"
   },
   {
    "duration": 0,
    "start_time": "2023-11-12T12:25:37.956Z"
   },
   {
    "duration": 0,
    "start_time": "2023-11-12T12:25:37.958Z"
   },
   {
    "duration": 0,
    "start_time": "2023-11-12T12:25:37.960Z"
   },
   {
    "duration": 0,
    "start_time": "2023-11-12T12:25:37.961Z"
   },
   {
    "duration": 0,
    "start_time": "2023-11-12T12:25:37.963Z"
   },
   {
    "duration": 0,
    "start_time": "2023-11-12T12:25:37.963Z"
   },
   {
    "duration": 0,
    "start_time": "2023-11-12T12:25:37.965Z"
   },
   {
    "duration": 0,
    "start_time": "2023-11-12T12:25:37.966Z"
   },
   {
    "duration": 0,
    "start_time": "2023-11-12T12:25:37.967Z"
   },
   {
    "duration": 0,
    "start_time": "2023-11-12T12:25:37.968Z"
   },
   {
    "duration": 0,
    "start_time": "2023-11-12T12:25:37.969Z"
   },
   {
    "duration": 0,
    "start_time": "2023-11-12T12:25:37.970Z"
   },
   {
    "duration": 0,
    "start_time": "2023-11-12T12:25:37.971Z"
   },
   {
    "duration": 0,
    "start_time": "2023-11-12T12:25:37.973Z"
   },
   {
    "duration": 0,
    "start_time": "2023-11-12T12:25:37.974Z"
   },
   {
    "duration": 0,
    "start_time": "2023-11-12T12:25:38.037Z"
   },
   {
    "duration": 0,
    "start_time": "2023-11-12T12:25:38.039Z"
   },
   {
    "duration": 0,
    "start_time": "2023-11-12T12:25:38.040Z"
   },
   {
    "duration": 0,
    "start_time": "2023-11-12T12:25:38.042Z"
   },
   {
    "duration": 0,
    "start_time": "2023-11-12T12:25:38.044Z"
   },
   {
    "duration": 0,
    "start_time": "2023-11-12T12:25:38.045Z"
   },
   {
    "duration": 0,
    "start_time": "2023-11-12T12:25:38.047Z"
   },
   {
    "duration": 0,
    "start_time": "2023-11-12T12:25:38.048Z"
   },
   {
    "duration": 0,
    "start_time": "2023-11-12T12:25:38.049Z"
   },
   {
    "duration": 0,
    "start_time": "2023-11-12T12:25:38.051Z"
   },
   {
    "duration": 0,
    "start_time": "2023-11-12T12:25:38.052Z"
   },
   {
    "duration": 0,
    "start_time": "2023-11-12T12:25:38.054Z"
   },
   {
    "duration": 0,
    "start_time": "2023-11-12T12:25:38.055Z"
   },
   {
    "duration": 0,
    "start_time": "2023-11-12T12:25:38.057Z"
   },
   {
    "duration": 0,
    "start_time": "2023-11-12T12:25:38.058Z"
   },
   {
    "duration": 0,
    "start_time": "2023-11-12T12:25:38.059Z"
   },
   {
    "duration": 7,
    "start_time": "2023-11-12T12:26:00.496Z"
   },
   {
    "duration": 4,
    "start_time": "2023-11-12T12:26:03.673Z"
   },
   {
    "duration": 649,
    "start_time": "2023-11-12T12:57:37.691Z"
   },
   {
    "duration": 26,
    "start_time": "2023-11-12T12:57:38.343Z"
   },
   {
    "duration": 81,
    "start_time": "2023-11-12T12:57:38.371Z"
   },
   {
    "duration": 2869,
    "start_time": "2023-11-12T12:57:38.455Z"
   },
   {
    "duration": 6,
    "start_time": "2023-11-12T12:57:41.326Z"
   },
   {
    "duration": 13,
    "start_time": "2023-11-12T12:57:41.334Z"
   },
   {
    "duration": 88,
    "start_time": "2023-11-12T12:57:41.349Z"
   },
   {
    "duration": 8,
    "start_time": "2023-11-12T12:57:41.439Z"
   },
   {
    "duration": 6,
    "start_time": "2023-11-12T12:57:41.449Z"
   },
   {
    "duration": 5,
    "start_time": "2023-11-12T12:57:41.457Z"
   },
   {
    "duration": 16,
    "start_time": "2023-11-12T12:57:41.463Z"
   },
   {
    "duration": 57,
    "start_time": "2023-11-12T12:57:41.481Z"
   },
   {
    "duration": 9,
    "start_time": "2023-11-12T12:57:41.541Z"
   },
   {
    "duration": 17,
    "start_time": "2023-11-12T12:57:41.555Z"
   },
   {
    "duration": 10,
    "start_time": "2023-11-12T12:57:41.574Z"
   },
   {
    "duration": 54,
    "start_time": "2023-11-12T12:57:41.586Z"
   },
   {
    "duration": 143,
    "start_time": "2023-11-12T12:57:41.643Z"
   },
   {
    "duration": 15,
    "start_time": "2023-11-12T12:57:41.787Z"
   },
   {
    "duration": 37,
    "start_time": "2023-11-12T12:57:41.804Z"
   },
   {
    "duration": 8,
    "start_time": "2023-11-12T12:57:41.844Z"
   },
   {
    "duration": 14,
    "start_time": "2023-11-12T12:57:41.854Z"
   },
   {
    "duration": 9,
    "start_time": "2023-11-12T12:57:41.870Z"
   },
   {
    "duration": 437,
    "start_time": "2023-11-12T12:57:41.882Z"
   },
   {
    "duration": 15,
    "start_time": "2023-11-12T12:57:42.321Z"
   },
   {
    "duration": 398,
    "start_time": "2023-11-12T12:57:42.338Z"
   },
   {
    "duration": 12,
    "start_time": "2023-11-12T12:57:42.738Z"
   },
   {
    "duration": 498,
    "start_time": "2023-11-12T12:57:42.752Z"
   },
   {
    "duration": 13,
    "start_time": "2023-11-12T12:57:43.252Z"
   },
   {
    "duration": 404,
    "start_time": "2023-11-12T12:57:43.268Z"
   },
   {
    "duration": 12,
    "start_time": "2023-11-12T12:57:43.675Z"
   },
   {
    "duration": 400,
    "start_time": "2023-11-12T12:57:43.690Z"
   },
   {
    "duration": 9,
    "start_time": "2023-11-12T12:57:44.091Z"
   },
   {
    "duration": 250,
    "start_time": "2023-11-12T12:57:44.102Z"
   },
   {
    "duration": 254,
    "start_time": "2023-11-12T12:57:44.355Z"
   },
   {
    "duration": 316,
    "start_time": "2023-11-12T12:57:44.611Z"
   },
   {
    "duration": 228,
    "start_time": "2023-11-12T12:57:44.937Z"
   },
   {
    "duration": 132,
    "start_time": "2023-11-12T12:57:45.170Z"
   },
   {
    "duration": 426,
    "start_time": "2023-11-12T12:57:45.304Z"
   },
   {
    "duration": 207,
    "start_time": "2023-11-12T12:57:45.735Z"
   },
   {
    "duration": 265,
    "start_time": "2023-11-12T12:57:45.944Z"
   },
   {
    "duration": 292,
    "start_time": "2023-11-12T12:57:46.225Z"
   },
   {
    "duration": 269,
    "start_time": "2023-11-12T12:57:46.520Z"
   },
   {
    "duration": 239,
    "start_time": "2023-11-12T12:57:46.791Z"
   },
   {
    "duration": 13,
    "start_time": "2023-11-12T12:57:47.043Z"
   },
   {
    "duration": 145,
    "start_time": "2023-11-12T12:57:47.058Z"
   },
   {
    "duration": 238,
    "start_time": "2023-11-12T12:57:47.205Z"
   },
   {
    "duration": 260,
    "start_time": "2023-11-12T12:57:47.445Z"
   },
   {
    "duration": 35,
    "start_time": "2023-11-12T12:57:47.708Z"
   },
   {
    "duration": 4,
    "start_time": "2023-11-12T12:57:47.745Z"
   },
   {
    "duration": 156,
    "start_time": "2023-11-12T12:57:47.752Z"
   },
   {
    "duration": 409,
    "start_time": "2023-11-12T12:57:47.910Z"
   },
   {
    "duration": 448,
    "start_time": "2023-11-12T12:57:48.321Z"
   },
   {
    "duration": 39,
    "start_time": "2023-11-12T12:57:48.771Z"
   },
   {
    "duration": 30,
    "start_time": "2023-11-12T12:57:48.813Z"
   },
   {
    "duration": 139,
    "start_time": "2023-11-12T12:57:48.845Z"
   },
   {
    "duration": 412,
    "start_time": "2023-11-12T12:57:48.987Z"
   },
   {
    "duration": 329,
    "start_time": "2023-11-12T12:57:49.401Z"
   },
   {
    "duration": 11,
    "start_time": "2023-11-12T12:57:49.732Z"
   },
   {
    "duration": 171,
    "start_time": "2023-11-12T12:57:49.745Z"
   },
   {
    "duration": 27,
    "start_time": "2023-11-12T12:57:49.918Z"
   },
   {
    "duration": 7,
    "start_time": "2023-11-12T12:57:49.947Z"
   },
   {
    "duration": 188,
    "start_time": "2023-11-12T12:57:49.956Z"
   },
   {
    "duration": 20,
    "start_time": "2023-11-12T12:57:50.145Z"
   },
   {
    "duration": 8,
    "start_time": "2023-11-12T12:57:50.167Z"
   },
   {
    "duration": 221,
    "start_time": "2023-11-12T12:57:50.179Z"
   },
   {
    "duration": 16,
    "start_time": "2023-11-12T12:57:50.403Z"
   },
   {
    "duration": 20,
    "start_time": "2023-11-12T12:57:50.420Z"
   },
   {
    "duration": 35,
    "start_time": "2023-11-12T12:57:50.442Z"
   },
   {
    "duration": 223,
    "start_time": "2023-11-12T12:57:50.479Z"
   },
   {
    "duration": 5,
    "start_time": "2023-11-12T12:57:50.704Z"
   },
   {
    "duration": 213,
    "start_time": "2023-11-12T12:57:50.711Z"
   },
   {
    "duration": 236,
    "start_time": "2023-11-12T12:57:50.926Z"
   },
   {
    "duration": 185,
    "start_time": "2023-11-12T12:57:51.164Z"
   },
   {
    "duration": 361,
    "start_time": "2023-11-12T12:57:51.352Z"
   },
   {
    "duration": 136,
    "start_time": "2023-11-12T12:57:51.714Z"
   },
   {
    "duration": 0,
    "start_time": "2023-11-12T12:57:51.853Z"
   },
   {
    "duration": 0,
    "start_time": "2023-11-12T12:57:51.856Z"
   },
   {
    "duration": 6,
    "start_time": "2023-11-12T13:00:44.903Z"
   },
   {
    "duration": 24,
    "start_time": "2023-11-12T13:01:14.546Z"
   },
   {
    "duration": 9,
    "start_time": "2023-11-12T13:01:25.980Z"
   },
   {
    "duration": 86,
    "start_time": "2023-11-12T13:25:45.663Z"
   },
   {
    "duration": 8,
    "start_time": "2023-11-12T13:28:11.224Z"
   },
   {
    "duration": 13,
    "start_time": "2023-11-12T13:28:17.491Z"
   },
   {
    "duration": 3,
    "start_time": "2023-11-12T13:28:46.680Z"
   },
   {
    "duration": 17,
    "start_time": "2023-11-12T13:28:48.044Z"
   },
   {
    "duration": 78,
    "start_time": "2023-11-12T13:35:54.798Z"
   },
   {
    "duration": 9,
    "start_time": "2023-11-12T13:45:02.263Z"
   },
   {
    "duration": 159,
    "start_time": "2023-11-12T15:30:01.742Z"
   },
   {
    "duration": 64,
    "start_time": "2023-11-12T16:09:51.908Z"
   },
   {
    "duration": 726,
    "start_time": "2023-11-12T16:09:55.141Z"
   },
   {
    "duration": 16,
    "start_time": "2023-11-12T16:09:55.868Z"
   },
   {
    "duration": 44,
    "start_time": "2023-11-12T16:09:55.885Z"
   },
   {
    "duration": 2568,
    "start_time": "2023-11-12T16:09:55.931Z"
   },
   {
    "duration": 7,
    "start_time": "2023-11-12T16:09:58.500Z"
   },
   {
    "duration": 30,
    "start_time": "2023-11-12T16:09:58.510Z"
   },
   {
    "duration": 52,
    "start_time": "2023-11-12T16:09:58.542Z"
   },
   {
    "duration": 7,
    "start_time": "2023-11-12T16:09:58.596Z"
   },
   {
    "duration": 11,
    "start_time": "2023-11-12T16:09:58.605Z"
   },
   {
    "duration": 9,
    "start_time": "2023-11-12T16:09:58.619Z"
   },
   {
    "duration": 9,
    "start_time": "2023-11-12T16:09:58.630Z"
   },
   {
    "duration": 7,
    "start_time": "2023-11-12T16:09:58.640Z"
   },
   {
    "duration": 5,
    "start_time": "2023-11-12T16:09:58.648Z"
   },
   {
    "duration": 11,
    "start_time": "2023-11-12T16:09:58.655Z"
   },
   {
    "duration": 4,
    "start_time": "2023-11-12T16:09:58.667Z"
   },
   {
    "duration": 39,
    "start_time": "2023-11-12T16:09:58.673Z"
   },
   {
    "duration": 60,
    "start_time": "2023-11-12T16:09:58.720Z"
   },
   {
    "duration": 16,
    "start_time": "2023-11-12T16:09:58.782Z"
   },
   {
    "duration": 18,
    "start_time": "2023-11-12T16:09:58.814Z"
   },
   {
    "duration": 4,
    "start_time": "2023-11-12T16:09:58.834Z"
   },
   {
    "duration": 7,
    "start_time": "2023-11-12T16:09:58.840Z"
   },
   {
    "duration": 6,
    "start_time": "2023-11-12T16:09:58.848Z"
   },
   {
    "duration": 5,
    "start_time": "2023-11-12T16:09:58.856Z"
   },
   {
    "duration": 370,
    "start_time": "2023-11-12T16:09:58.863Z"
   },
   {
    "duration": 6,
    "start_time": "2023-11-12T16:09:59.235Z"
   },
   {
    "duration": 321,
    "start_time": "2023-11-12T16:09:59.242Z"
   },
   {
    "duration": 9,
    "start_time": "2023-11-12T16:09:59.565Z"
   },
   {
    "duration": 386,
    "start_time": "2023-11-12T16:09:59.579Z"
   },
   {
    "duration": 8,
    "start_time": "2023-11-12T16:09:59.967Z"
   },
   {
    "duration": 325,
    "start_time": "2023-11-12T16:09:59.977Z"
   },
   {
    "duration": 17,
    "start_time": "2023-11-12T16:10:00.311Z"
   },
   {
    "duration": 334,
    "start_time": "2023-11-12T16:10:00.329Z"
   },
   {
    "duration": 9,
    "start_time": "2023-11-12T16:10:00.665Z"
   },
   {
    "duration": 221,
    "start_time": "2023-11-12T16:10:00.675Z"
   },
   {
    "duration": 219,
    "start_time": "2023-11-12T16:10:00.898Z"
   },
   {
    "duration": 206,
    "start_time": "2023-11-12T16:10:01.124Z"
   },
   {
    "duration": 155,
    "start_time": "2023-11-12T16:10:01.332Z"
   },
   {
    "duration": 132,
    "start_time": "2023-11-12T16:10:01.488Z"
   },
   {
    "duration": 425,
    "start_time": "2023-11-12T16:10:01.621Z"
   },
   {
    "duration": 224,
    "start_time": "2023-11-12T16:10:02.048Z"
   },
   {
    "duration": 218,
    "start_time": "2023-11-12T16:10:02.273Z"
   },
   {
    "duration": 199,
    "start_time": "2023-11-12T16:10:02.493Z"
   },
   {
    "duration": 228,
    "start_time": "2023-11-12T16:10:02.694Z"
   },
   {
    "duration": 189,
    "start_time": "2023-11-12T16:10:02.923Z"
   },
   {
    "duration": 17,
    "start_time": "2023-11-12T16:10:03.120Z"
   },
   {
    "duration": 137,
    "start_time": "2023-11-12T16:10:03.140Z"
   },
   {
    "duration": 196,
    "start_time": "2023-11-12T16:10:03.279Z"
   },
   {
    "duration": 252,
    "start_time": "2023-11-12T16:10:03.477Z"
   },
   {
    "duration": 17,
    "start_time": "2023-11-12T16:10:03.733Z"
   },
   {
    "duration": 3,
    "start_time": "2023-11-12T16:10:03.752Z"
   },
   {
    "duration": 135,
    "start_time": "2023-11-12T16:10:03.757Z"
   },
   {
    "duration": 481,
    "start_time": "2023-11-12T16:10:03.894Z"
   },
   {
    "duration": 332,
    "start_time": "2023-11-12T16:10:04.376Z"
   },
   {
    "duration": 23,
    "start_time": "2023-11-12T16:10:04.710Z"
   },
   {
    "duration": 11,
    "start_time": "2023-11-12T16:10:04.735Z"
   },
   {
    "duration": 112,
    "start_time": "2023-11-12T16:10:04.748Z"
   },
   {
    "duration": 329,
    "start_time": "2023-11-12T16:10:04.861Z"
   },
   {
    "duration": 351,
    "start_time": "2023-11-12T16:10:05.192Z"
   },
   {
    "duration": 9,
    "start_time": "2023-11-12T16:10:05.545Z"
   },
   {
    "duration": 182,
    "start_time": "2023-11-12T16:10:05.557Z"
   },
   {
    "duration": 15,
    "start_time": "2023-11-12T16:10:05.741Z"
   },
   {
    "duration": 6,
    "start_time": "2023-11-12T16:10:05.758Z"
   },
   {
    "duration": 191,
    "start_time": "2023-11-12T16:10:05.766Z"
   },
   {
    "duration": 14,
    "start_time": "2023-11-12T16:10:05.959Z"
   },
   {
    "duration": 6,
    "start_time": "2023-11-12T16:10:05.974Z"
   },
   {
    "duration": 188,
    "start_time": "2023-11-12T16:10:05.982Z"
   },
   {
    "duration": 13,
    "start_time": "2023-11-12T16:10:06.172Z"
   },
   {
    "duration": 6,
    "start_time": "2023-11-12T16:10:06.186Z"
   },
   {
    "duration": 42,
    "start_time": "2023-11-12T16:10:06.193Z"
   },
   {
    "duration": 169,
    "start_time": "2023-11-12T16:10:06.237Z"
   },
   {
    "duration": 10,
    "start_time": "2023-11-12T16:10:06.408Z"
   },
   {
    "duration": 171,
    "start_time": "2023-11-12T16:10:06.419Z"
   },
   {
    "duration": 284,
    "start_time": "2023-11-12T16:10:06.592Z"
   },
   {
    "duration": 174,
    "start_time": "2023-11-12T16:10:06.878Z"
   },
   {
    "duration": 167,
    "start_time": "2023-11-12T16:10:07.054Z"
   },
   {
    "duration": 67,
    "start_time": "2023-11-12T16:10:07.224Z"
   },
   {
    "duration": 0,
    "start_time": "2023-11-12T16:10:07.293Z"
   },
   {
    "duration": 0,
    "start_time": "2023-11-12T16:10:07.295Z"
   },
   {
    "duration": 8,
    "start_time": "2023-11-12T16:10:47.381Z"
   },
   {
    "duration": 7,
    "start_time": "2023-11-12T16:11:36.328Z"
   },
   {
    "duration": 292,
    "start_time": "2023-11-12T16:24:29.896Z"
   },
   {
    "duration": 306,
    "start_time": "2023-11-12T16:25:32.224Z"
   },
   {
    "duration": 312,
    "start_time": "2023-11-12T16:26:05.515Z"
   },
   {
    "duration": 29,
    "start_time": "2023-11-12T16:35:42.086Z"
   },
   {
    "duration": 15,
    "start_time": "2023-11-12T16:43:42.244Z"
   },
   {
    "duration": 81,
    "start_time": "2023-11-12T16:43:50.865Z"
   },
   {
    "duration": 11,
    "start_time": "2023-11-12T16:49:01.912Z"
   },
   {
    "duration": 8,
    "start_time": "2023-11-12T16:49:52.273Z"
   },
   {
    "duration": 11,
    "start_time": "2023-11-12T16:49:59.951Z"
   },
   {
    "duration": 12,
    "start_time": "2023-11-12T16:51:37.231Z"
   },
   {
    "duration": 9,
    "start_time": "2023-11-12T16:51:43.898Z"
   },
   {
    "duration": 8,
    "start_time": "2023-11-12T16:52:10.495Z"
   },
   {
    "duration": 10,
    "start_time": "2023-11-12T16:53:30.902Z"
   },
   {
    "duration": 10,
    "start_time": "2023-11-12T16:53:33.690Z"
   },
   {
    "duration": 10,
    "start_time": "2023-11-12T16:53:51.055Z"
   },
   {
    "duration": 11,
    "start_time": "2023-11-12T16:54:21.342Z"
   },
   {
    "duration": 22,
    "start_time": "2023-11-12T16:57:59.220Z"
   },
   {
    "duration": 96,
    "start_time": "2023-11-12T16:58:58.151Z"
   },
   {
    "duration": 13,
    "start_time": "2023-11-12T16:59:09.668Z"
   },
   {
    "duration": 15,
    "start_time": "2023-11-12T16:59:42.457Z"
   },
   {
    "duration": 25,
    "start_time": "2023-11-12T17:00:05.726Z"
   },
   {
    "duration": 19,
    "start_time": "2023-11-12T17:00:23.269Z"
   },
   {
    "duration": 18,
    "start_time": "2023-11-12T17:00:36.383Z"
   },
   {
    "duration": 18,
    "start_time": "2023-11-12T17:00:40.463Z"
   },
   {
    "duration": 18,
    "start_time": "2023-11-12T17:01:02.541Z"
   },
   {
    "duration": 17,
    "start_time": "2023-11-12T17:01:37.043Z"
   },
   {
    "duration": 17,
    "start_time": "2023-11-12T17:01:47.947Z"
   },
   {
    "duration": 11,
    "start_time": "2023-11-12T17:02:13.422Z"
   },
   {
    "duration": 51,
    "start_time": "2023-11-12T17:12:27.730Z"
   },
   {
    "duration": 6,
    "start_time": "2023-11-12T17:12:36.196Z"
   },
   {
    "duration": 767,
    "start_time": "2023-11-12T17:12:39.393Z"
   },
   {
    "duration": 16,
    "start_time": "2023-11-12T17:12:40.162Z"
   },
   {
    "duration": 38,
    "start_time": "2023-11-12T17:12:40.180Z"
   },
   {
    "duration": 2688,
    "start_time": "2023-11-12T17:12:40.220Z"
   },
   {
    "duration": 7,
    "start_time": "2023-11-12T17:12:42.910Z"
   },
   {
    "duration": 12,
    "start_time": "2023-11-12T17:12:42.919Z"
   },
   {
    "duration": 52,
    "start_time": "2023-11-12T17:12:42.933Z"
   },
   {
    "duration": 24,
    "start_time": "2023-11-12T17:12:42.987Z"
   },
   {
    "duration": 6,
    "start_time": "2023-11-12T17:12:43.013Z"
   },
   {
    "duration": 6,
    "start_time": "2023-11-12T17:12:43.023Z"
   },
   {
    "duration": 11,
    "start_time": "2023-11-12T17:12:43.030Z"
   },
   {
    "duration": 7,
    "start_time": "2023-11-12T17:12:43.043Z"
   },
   {
    "duration": 8,
    "start_time": "2023-11-12T17:12:43.052Z"
   },
   {
    "duration": 54,
    "start_time": "2023-11-12T17:12:43.062Z"
   },
   {
    "duration": 5,
    "start_time": "2023-11-12T17:12:43.117Z"
   },
   {
    "duration": 7,
    "start_time": "2023-11-12T17:12:43.124Z"
   },
   {
    "duration": 88,
    "start_time": "2023-11-12T17:12:43.132Z"
   },
   {
    "duration": 16,
    "start_time": "2023-11-12T17:12:43.223Z"
   },
   {
    "duration": 13,
    "start_time": "2023-11-12T17:12:43.241Z"
   },
   {
    "duration": 6,
    "start_time": "2023-11-12T17:12:43.256Z"
   },
   {
    "duration": 10,
    "start_time": "2023-11-12T17:12:43.264Z"
   },
   {
    "duration": 6,
    "start_time": "2023-11-12T17:12:43.276Z"
   },
   {
    "duration": 32,
    "start_time": "2023-11-12T17:12:43.284Z"
   },
   {
    "duration": 335,
    "start_time": "2023-11-12T17:12:43.318Z"
   },
   {
    "duration": 7,
    "start_time": "2023-11-12T17:12:43.655Z"
   },
   {
    "duration": 370,
    "start_time": "2023-11-12T17:12:43.663Z"
   },
   {
    "duration": 0,
    "start_time": "2023-11-12T17:12:44.123Z"
   },
   {
    "duration": 0,
    "start_time": "2023-11-12T17:12:44.125Z"
   },
   {
    "duration": 0,
    "start_time": "2023-11-12T17:12:44.126Z"
   },
   {
    "duration": 0,
    "start_time": "2023-11-12T17:12:44.127Z"
   },
   {
    "duration": 0,
    "start_time": "2023-11-12T17:12:44.129Z"
   },
   {
    "duration": 0,
    "start_time": "2023-11-12T17:12:44.131Z"
   },
   {
    "duration": 0,
    "start_time": "2023-11-12T17:12:44.132Z"
   },
   {
    "duration": 0,
    "start_time": "2023-11-12T17:12:44.134Z"
   },
   {
    "duration": 0,
    "start_time": "2023-11-12T17:12:44.135Z"
   },
   {
    "duration": 0,
    "start_time": "2023-11-12T17:12:44.136Z"
   },
   {
    "duration": 0,
    "start_time": "2023-11-12T17:12:44.137Z"
   },
   {
    "duration": 0,
    "start_time": "2023-11-12T17:12:44.139Z"
   },
   {
    "duration": 0,
    "start_time": "2023-11-12T17:12:44.140Z"
   },
   {
    "duration": 0,
    "start_time": "2023-11-12T17:12:44.142Z"
   },
   {
    "duration": 0,
    "start_time": "2023-11-12T17:12:44.143Z"
   },
   {
    "duration": 0,
    "start_time": "2023-11-12T17:12:44.143Z"
   },
   {
    "duration": 0,
    "start_time": "2023-11-12T17:12:44.145Z"
   },
   {
    "duration": 0,
    "start_time": "2023-11-12T17:12:44.147Z"
   },
   {
    "duration": 0,
    "start_time": "2023-11-12T17:12:44.148Z"
   },
   {
    "duration": 0,
    "start_time": "2023-11-12T17:12:44.150Z"
   },
   {
    "duration": 0,
    "start_time": "2023-11-12T17:12:44.152Z"
   },
   {
    "duration": 0,
    "start_time": "2023-11-12T17:12:44.154Z"
   },
   {
    "duration": 0,
    "start_time": "2023-11-12T17:12:44.211Z"
   },
   {
    "duration": 0,
    "start_time": "2023-11-12T17:12:44.212Z"
   },
   {
    "duration": 0,
    "start_time": "2023-11-12T17:12:44.214Z"
   },
   {
    "duration": 0,
    "start_time": "2023-11-12T17:12:44.215Z"
   },
   {
    "duration": 0,
    "start_time": "2023-11-12T17:12:44.216Z"
   },
   {
    "duration": 0,
    "start_time": "2023-11-12T17:12:44.218Z"
   },
   {
    "duration": 0,
    "start_time": "2023-11-12T17:12:44.219Z"
   },
   {
    "duration": 0,
    "start_time": "2023-11-12T17:12:44.220Z"
   },
   {
    "duration": 0,
    "start_time": "2023-11-12T17:12:44.222Z"
   },
   {
    "duration": 0,
    "start_time": "2023-11-12T17:12:44.223Z"
   },
   {
    "duration": 0,
    "start_time": "2023-11-12T17:12:44.224Z"
   },
   {
    "duration": 0,
    "start_time": "2023-11-12T17:12:44.226Z"
   },
   {
    "duration": 0,
    "start_time": "2023-11-12T17:12:44.227Z"
   },
   {
    "duration": 0,
    "start_time": "2023-11-12T17:12:44.229Z"
   },
   {
    "duration": 0,
    "start_time": "2023-11-12T17:12:44.230Z"
   },
   {
    "duration": 0,
    "start_time": "2023-11-12T17:12:44.231Z"
   },
   {
    "duration": 0,
    "start_time": "2023-11-12T17:12:44.232Z"
   },
   {
    "duration": 0,
    "start_time": "2023-11-12T17:12:44.233Z"
   },
   {
    "duration": 0,
    "start_time": "2023-11-12T17:12:44.235Z"
   },
   {
    "duration": 0,
    "start_time": "2023-11-12T17:12:44.236Z"
   },
   {
    "duration": 0,
    "start_time": "2023-11-12T17:12:44.237Z"
   },
   {
    "duration": 0,
    "start_time": "2023-11-12T17:12:44.238Z"
   },
   {
    "duration": 0,
    "start_time": "2023-11-12T17:12:44.239Z"
   },
   {
    "duration": 0,
    "start_time": "2023-11-12T17:12:44.240Z"
   },
   {
    "duration": 0,
    "start_time": "2023-11-12T17:12:44.241Z"
   },
   {
    "duration": 0,
    "start_time": "2023-11-12T17:12:44.243Z"
   },
   {
    "duration": 0,
    "start_time": "2023-11-12T17:12:44.244Z"
   },
   {
    "duration": 0,
    "start_time": "2023-11-12T17:12:44.245Z"
   },
   {
    "duration": 0,
    "start_time": "2023-11-12T17:12:44.246Z"
   },
   {
    "duration": 0,
    "start_time": "2023-11-12T17:12:44.248Z"
   },
   {
    "duration": 0,
    "start_time": "2023-11-12T17:12:44.312Z"
   },
   {
    "duration": 0,
    "start_time": "2023-11-12T17:12:44.313Z"
   },
   {
    "duration": 14,
    "start_time": "2023-11-12T17:13:02.957Z"
   },
   {
    "duration": 12,
    "start_time": "2023-11-12T17:13:20.553Z"
   },
   {
    "duration": 17,
    "start_time": "2023-11-12T17:13:36.222Z"
   },
   {
    "duration": 11,
    "start_time": "2023-11-12T17:13:50.504Z"
   },
   {
    "duration": 13,
    "start_time": "2023-11-12T17:14:00.554Z"
   },
   {
    "duration": 182,
    "start_time": "2023-11-12T17:14:15.894Z"
   },
   {
    "duration": 10,
    "start_time": "2023-11-12T17:14:20.400Z"
   },
   {
    "duration": 1081,
    "start_time": "2023-11-12T17:18:46.339Z"
   },
   {
    "duration": 105,
    "start_time": "2023-11-12T17:18:56.143Z"
   },
   {
    "duration": 16,
    "start_time": "2023-11-12T17:18:56.250Z"
   },
   {
    "duration": 86,
    "start_time": "2023-11-12T17:18:56.267Z"
   },
   {
    "duration": 2101,
    "start_time": "2023-11-12T17:18:56.356Z"
   },
   {
    "duration": 6,
    "start_time": "2023-11-12T17:18:58.460Z"
   },
   {
    "duration": 7,
    "start_time": "2023-11-12T17:18:58.467Z"
   },
   {
    "duration": 72,
    "start_time": "2023-11-12T17:18:58.476Z"
   },
   {
    "duration": 8,
    "start_time": "2023-11-12T17:18:58.550Z"
   },
   {
    "duration": 18,
    "start_time": "2023-11-12T17:18:58.560Z"
   },
   {
    "duration": 8,
    "start_time": "2023-11-12T17:18:58.580Z"
   },
   {
    "duration": 27,
    "start_time": "2023-11-12T17:18:58.590Z"
   },
   {
    "duration": 7,
    "start_time": "2023-11-12T17:18:58.624Z"
   },
   {
    "duration": 10,
    "start_time": "2023-11-12T17:18:58.633Z"
   },
   {
    "duration": 10,
    "start_time": "2023-11-12T17:18:58.646Z"
   },
   {
    "duration": 4,
    "start_time": "2023-11-12T17:18:58.658Z"
   },
   {
    "duration": 7,
    "start_time": "2023-11-12T17:18:58.663Z"
   },
   {
    "duration": 88,
    "start_time": "2023-11-12T17:18:58.671Z"
   },
   {
    "duration": 13,
    "start_time": "2023-11-12T17:18:58.760Z"
   },
   {
    "duration": 7,
    "start_time": "2023-11-12T17:18:58.775Z"
   },
   {
    "duration": 4,
    "start_time": "2023-11-12T17:18:58.784Z"
   },
   {
    "duration": 35,
    "start_time": "2023-11-12T17:18:58.790Z"
   },
   {
    "duration": 6,
    "start_time": "2023-11-12T17:18:58.827Z"
   },
   {
    "duration": 6,
    "start_time": "2023-11-12T17:18:58.834Z"
   },
   {
    "duration": 426,
    "start_time": "2023-11-12T17:18:58.842Z"
   },
   {
    "duration": 6,
    "start_time": "2023-11-12T17:18:59.270Z"
   },
   {
    "duration": 356,
    "start_time": "2023-11-12T17:18:59.277Z"
   },
   {
    "duration": 0,
    "start_time": "2023-11-12T17:18:59.636Z"
   },
   {
    "duration": 0,
    "start_time": "2023-11-12T17:18:59.638Z"
   },
   {
    "duration": 0,
    "start_time": "2023-11-12T17:18:59.639Z"
   },
   {
    "duration": 0,
    "start_time": "2023-11-12T17:18:59.640Z"
   },
   {
    "duration": 0,
    "start_time": "2023-11-12T17:18:59.642Z"
   },
   {
    "duration": 0,
    "start_time": "2023-11-12T17:18:59.644Z"
   },
   {
    "duration": 0,
    "start_time": "2023-11-12T17:18:59.645Z"
   },
   {
    "duration": 0,
    "start_time": "2023-11-12T17:18:59.647Z"
   },
   {
    "duration": 0,
    "start_time": "2023-11-12T17:18:59.649Z"
   },
   {
    "duration": 0,
    "start_time": "2023-11-12T17:18:59.651Z"
   },
   {
    "duration": 0,
    "start_time": "2023-11-12T17:18:59.652Z"
   },
   {
    "duration": 0,
    "start_time": "2023-11-12T17:18:59.654Z"
   },
   {
    "duration": 0,
    "start_time": "2023-11-12T17:18:59.655Z"
   },
   {
    "duration": 0,
    "start_time": "2023-11-12T17:18:59.657Z"
   },
   {
    "duration": 0,
    "start_time": "2023-11-12T17:18:59.658Z"
   },
   {
    "duration": 0,
    "start_time": "2023-11-12T17:18:59.659Z"
   },
   {
    "duration": 0,
    "start_time": "2023-11-12T17:18:59.661Z"
   },
   {
    "duration": 0,
    "start_time": "2023-11-12T17:18:59.662Z"
   },
   {
    "duration": 0,
    "start_time": "2023-11-12T17:18:59.663Z"
   },
   {
    "duration": 0,
    "start_time": "2023-11-12T17:18:59.665Z"
   },
   {
    "duration": 0,
    "start_time": "2023-11-12T17:18:59.713Z"
   },
   {
    "duration": 0,
    "start_time": "2023-11-12T17:18:59.714Z"
   },
   {
    "duration": 0,
    "start_time": "2023-11-12T17:18:59.721Z"
   },
   {
    "duration": 0,
    "start_time": "2023-11-12T17:18:59.722Z"
   },
   {
    "duration": 0,
    "start_time": "2023-11-12T17:18:59.723Z"
   },
   {
    "duration": 0,
    "start_time": "2023-11-12T17:18:59.727Z"
   },
   {
    "duration": 0,
    "start_time": "2023-11-12T17:18:59.728Z"
   },
   {
    "duration": 0,
    "start_time": "2023-11-12T17:18:59.729Z"
   },
   {
    "duration": 0,
    "start_time": "2023-11-12T17:18:59.730Z"
   },
   {
    "duration": 0,
    "start_time": "2023-11-12T17:18:59.731Z"
   },
   {
    "duration": 0,
    "start_time": "2023-11-12T17:18:59.732Z"
   },
   {
    "duration": 0,
    "start_time": "2023-11-12T17:18:59.733Z"
   },
   {
    "duration": 0,
    "start_time": "2023-11-12T17:18:59.734Z"
   },
   {
    "duration": 0,
    "start_time": "2023-11-12T17:18:59.736Z"
   },
   {
    "duration": 0,
    "start_time": "2023-11-12T17:18:59.737Z"
   },
   {
    "duration": 0,
    "start_time": "2023-11-12T17:18:59.739Z"
   },
   {
    "duration": 0,
    "start_time": "2023-11-12T17:18:59.740Z"
   },
   {
    "duration": 0,
    "start_time": "2023-11-12T17:18:59.741Z"
   },
   {
    "duration": 0,
    "start_time": "2023-11-12T17:18:59.742Z"
   },
   {
    "duration": 0,
    "start_time": "2023-11-12T17:18:59.743Z"
   },
   {
    "duration": 0,
    "start_time": "2023-11-12T17:18:59.744Z"
   },
   {
    "duration": 0,
    "start_time": "2023-11-12T17:18:59.745Z"
   },
   {
    "duration": 0,
    "start_time": "2023-11-12T17:18:59.747Z"
   },
   {
    "duration": 0,
    "start_time": "2023-11-12T17:18:59.747Z"
   },
   {
    "duration": 0,
    "start_time": "2023-11-12T17:18:59.749Z"
   },
   {
    "duration": 0,
    "start_time": "2023-11-12T17:18:59.750Z"
   },
   {
    "duration": 0,
    "start_time": "2023-11-12T17:18:59.751Z"
   },
   {
    "duration": 0,
    "start_time": "2023-11-12T17:18:59.752Z"
   },
   {
    "duration": 0,
    "start_time": "2023-11-12T17:18:59.752Z"
   },
   {
    "duration": 0,
    "start_time": "2023-11-12T17:18:59.754Z"
   },
   {
    "duration": 0,
    "start_time": "2023-11-12T17:18:59.755Z"
   },
   {
    "duration": 0,
    "start_time": "2023-11-12T17:18:59.756Z"
   },
   {
    "duration": 0,
    "start_time": "2023-11-12T17:18:59.756Z"
   },
   {
    "duration": 0,
    "start_time": "2023-11-12T17:18:59.813Z"
   },
   {
    "duration": 1011,
    "start_time": "2023-11-12T17:19:34.361Z"
   },
   {
    "duration": 30,
    "start_time": "2023-11-12T17:19:53.320Z"
   },
   {
    "duration": 11,
    "start_time": "2023-11-12T17:21:43.473Z"
   },
   {
    "duration": 21,
    "start_time": "2023-11-12T17:22:00.370Z"
   },
   {
    "duration": 17,
    "start_time": "2023-11-12T17:23:01.162Z"
   },
   {
    "duration": 6,
    "start_time": "2023-11-12T17:23:04.457Z"
   },
   {
    "duration": 6,
    "start_time": "2023-11-12T17:25:22.763Z"
   },
   {
    "duration": 5,
    "start_time": "2023-11-12T17:25:38.933Z"
   },
   {
    "duration": 192,
    "start_time": "2023-11-12T17:27:58.965Z"
   },
   {
    "duration": 97,
    "start_time": "2023-11-12T17:29:17.269Z"
   },
   {
    "duration": 302,
    "start_time": "2023-11-12T17:29:39.420Z"
   },
   {
    "duration": 95,
    "start_time": "2023-11-12T17:30:54.068Z"
   },
   {
    "duration": 17,
    "start_time": "2023-11-12T17:30:55.233Z"
   },
   {
    "duration": 26,
    "start_time": "2023-11-12T17:30:55.682Z"
   },
   {
    "duration": 2173,
    "start_time": "2023-11-12T17:30:56.887Z"
   },
   {
    "duration": 5,
    "start_time": "2023-11-12T17:31:03.159Z"
   },
   {
    "duration": 6,
    "start_time": "2023-11-12T17:31:04.912Z"
   },
   {
    "duration": 38,
    "start_time": "2023-11-12T17:31:06.418Z"
   },
   {
    "duration": 9,
    "start_time": "2023-11-12T17:31:08.290Z"
   },
   {
    "duration": 7,
    "start_time": "2023-11-12T17:31:09.706Z"
   },
   {
    "duration": 6,
    "start_time": "2023-11-12T17:31:13.842Z"
   },
   {
    "duration": 7,
    "start_time": "2023-11-12T17:31:19.426Z"
   },
   {
    "duration": 8,
    "start_time": "2023-11-12T17:31:20.699Z"
   },
   {
    "duration": 6,
    "start_time": "2023-11-12T17:31:23.848Z"
   },
   {
    "duration": 15,
    "start_time": "2023-11-12T17:31:26.227Z"
   },
   {
    "duration": 4,
    "start_time": "2023-11-12T17:31:26.805Z"
   },
   {
    "duration": 5,
    "start_time": "2023-11-12T17:31:30.108Z"
   },
   {
    "duration": 54,
    "start_time": "2023-11-12T17:31:34.500Z"
   },
   {
    "duration": 14,
    "start_time": "2023-11-12T17:31:37.228Z"
   },
   {
    "duration": 8,
    "start_time": "2023-11-12T17:31:37.977Z"
   },
   {
    "duration": 5,
    "start_time": "2023-11-12T17:31:44.847Z"
   },
   {
    "duration": 7,
    "start_time": "2023-11-12T17:31:45.637Z"
   },
   {
    "duration": 6,
    "start_time": "2023-11-12T17:31:46.254Z"
   },
   {
    "duration": 6,
    "start_time": "2023-11-12T17:31:46.721Z"
   },
   {
    "duration": 298,
    "start_time": "2023-11-12T17:31:47.187Z"
   },
   {
    "duration": 6,
    "start_time": "2023-11-12T17:31:48.125Z"
   },
   {
    "duration": 302,
    "start_time": "2023-11-12T17:31:53.519Z"
   },
   {
    "duration": 8,
    "start_time": "2023-11-12T17:31:57.356Z"
   },
   {
    "duration": 404,
    "start_time": "2023-11-12T17:31:59.486Z"
   },
   {
    "duration": 288,
    "start_time": "2023-11-12T17:32:25.881Z"
   },
   {
    "duration": 8,
    "start_time": "2023-11-12T17:32:31.617Z"
   },
   {
    "duration": 25,
    "start_time": "2023-11-12T17:32:49.784Z"
   },
   {
    "duration": 12,
    "start_time": "2023-11-12T17:33:09.912Z"
   },
   {
    "duration": 19,
    "start_time": "2023-11-12T17:33:12.000Z"
   },
   {
    "duration": 312,
    "start_time": "2023-11-12T17:33:17.551Z"
   },
   {
    "duration": 294,
    "start_time": "2023-11-12T17:33:34.668Z"
   },
   {
    "duration": 10,
    "start_time": "2023-11-12T17:33:41.130Z"
   },
   {
    "duration": 326,
    "start_time": "2023-11-12T17:33:44.505Z"
   },
   {
    "duration": 318,
    "start_time": "2023-11-12T17:33:58.441Z"
   },
   {
    "duration": 537,
    "start_time": "2023-11-12T17:34:25.731Z"
   },
   {
    "duration": 383,
    "start_time": "2023-11-12T17:34:34.312Z"
   },
   {
    "duration": 7,
    "start_time": "2023-11-12T17:34:38.445Z"
   },
   {
    "duration": 199,
    "start_time": "2023-11-12T17:35:11.712Z"
   },
   {
    "duration": 11,
    "start_time": "2023-11-12T17:36:50.191Z"
   },
   {
    "duration": 7,
    "start_time": "2023-11-12T17:37:53.762Z"
   },
   {
    "duration": 191,
    "start_time": "2023-11-12T17:37:59.012Z"
   },
   {
    "duration": 206,
    "start_time": "2023-11-12T17:38:28.211Z"
   },
   {
    "duration": 45,
    "start_time": "2023-11-12T17:43:19.434Z"
   },
   {
    "duration": 32,
    "start_time": "2023-11-12T17:43:44.010Z"
   },
   {
    "duration": 71,
    "start_time": "2023-11-12T17:49:01.231Z"
   },
   {
    "duration": 51,
    "start_time": "2023-11-12T17:51:05.865Z"
   },
   {
    "duration": 39,
    "start_time": "2023-11-12T17:51:40.798Z"
   },
   {
    "duration": 23,
    "start_time": "2023-11-12T17:57:05.859Z"
   },
   {
    "duration": 28,
    "start_time": "2023-11-12T17:57:19.032Z"
   },
   {
    "duration": 29,
    "start_time": "2023-11-12T17:57:35.351Z"
   },
   {
    "duration": 21,
    "start_time": "2023-11-12T17:58:15.954Z"
   },
   {
    "duration": 45,
    "start_time": "2023-11-12T17:58:27.295Z"
   },
   {
    "duration": 96,
    "start_time": "2023-11-12T18:00:56.843Z"
   },
   {
    "duration": 16,
    "start_time": "2023-11-12T18:00:56.941Z"
   },
   {
    "duration": 57,
    "start_time": "2023-11-12T18:00:56.958Z"
   },
   {
    "duration": 2167,
    "start_time": "2023-11-12T18:00:57.017Z"
   },
   {
    "duration": 6,
    "start_time": "2023-11-12T18:00:59.186Z"
   },
   {
    "duration": 22,
    "start_time": "2023-11-12T18:00:59.194Z"
   },
   {
    "duration": 43,
    "start_time": "2023-11-12T18:00:59.219Z"
   },
   {
    "duration": 11,
    "start_time": "2023-11-12T18:00:59.264Z"
   },
   {
    "duration": 7,
    "start_time": "2023-11-12T18:00:59.312Z"
   },
   {
    "duration": 6,
    "start_time": "2023-11-12T18:00:59.320Z"
   },
   {
    "duration": 8,
    "start_time": "2023-11-12T18:00:59.327Z"
   },
   {
    "duration": 7,
    "start_time": "2023-11-12T18:00:59.336Z"
   },
   {
    "duration": 6,
    "start_time": "2023-11-12T18:00:59.345Z"
   },
   {
    "duration": 60,
    "start_time": "2023-11-12T18:00:59.355Z"
   },
   {
    "duration": 4,
    "start_time": "2023-11-12T18:00:59.417Z"
   },
   {
    "duration": 6,
    "start_time": "2023-11-12T18:00:59.423Z"
   },
   {
    "duration": 87,
    "start_time": "2023-11-12T18:00:59.431Z"
   },
   {
    "duration": 13,
    "start_time": "2023-11-12T18:00:59.520Z"
   },
   {
    "duration": 7,
    "start_time": "2023-11-12T18:00:59.535Z"
   },
   {
    "duration": 8,
    "start_time": "2023-11-12T18:00:59.543Z"
   },
   {
    "duration": 6,
    "start_time": "2023-11-12T18:00:59.553Z"
   },
   {
    "duration": 6,
    "start_time": "2023-11-12T18:00:59.560Z"
   },
   {
    "duration": 45,
    "start_time": "2023-11-12T18:00:59.567Z"
   },
   {
    "duration": 331,
    "start_time": "2023-11-12T18:00:59.614Z"
   },
   {
    "duration": 8,
    "start_time": "2023-11-12T18:00:59.947Z"
   },
   {
    "duration": 397,
    "start_time": "2023-11-12T18:00:59.957Z"
   },
   {
    "duration": 10,
    "start_time": "2023-11-12T18:01:00.355Z"
   },
   {
    "duration": 361,
    "start_time": "2023-11-12T18:01:00.367Z"
   },
   {
    "duration": 10,
    "start_time": "2023-11-12T18:01:00.730Z"
   },
   {
    "duration": 57,
    "start_time": "2023-11-12T18:01:00.742Z"
   },
   {
    "duration": 30,
    "start_time": "2023-11-12T18:01:00.802Z"
   },
   {
    "duration": 38,
    "start_time": "2023-11-12T18:01:00.834Z"
   },
   {
    "duration": 333,
    "start_time": "2023-11-12T18:01:00.874Z"
   },
   {
    "duration": 9,
    "start_time": "2023-11-12T18:01:01.208Z"
   },
   {
    "duration": 334,
    "start_time": "2023-11-12T18:01:01.218Z"
   },
   {
    "duration": 7,
    "start_time": "2023-11-12T18:01:01.554Z"
   },
   {
    "duration": 264,
    "start_time": "2023-11-12T18:01:01.562Z"
   },
   {
    "duration": 8,
    "start_time": "2023-11-12T18:01:01.828Z"
   },
   {
    "duration": 241,
    "start_time": "2023-11-12T18:01:01.838Z"
   },
   {
    "duration": 234,
    "start_time": "2023-11-12T18:01:02.081Z"
   },
   {
    "duration": 41,
    "start_time": "2023-11-12T18:01:02.320Z"
   },
   {
    "duration": 0,
    "start_time": "2023-11-12T18:01:02.363Z"
   },
   {
    "duration": 0,
    "start_time": "2023-11-12T18:01:02.364Z"
   },
   {
    "duration": 0,
    "start_time": "2023-11-12T18:01:02.365Z"
   },
   {
    "duration": 0,
    "start_time": "2023-11-12T18:01:02.367Z"
   },
   {
    "duration": 0,
    "start_time": "2023-11-12T18:01:02.368Z"
   },
   {
    "duration": 0,
    "start_time": "2023-11-12T18:01:02.369Z"
   },
   {
    "duration": 0,
    "start_time": "2023-11-12T18:01:02.371Z"
   },
   {
    "duration": 0,
    "start_time": "2023-11-12T18:01:02.372Z"
   },
   {
    "duration": 0,
    "start_time": "2023-11-12T18:01:02.374Z"
   },
   {
    "duration": 0,
    "start_time": "2023-11-12T18:01:02.375Z"
   },
   {
    "duration": 0,
    "start_time": "2023-11-12T18:01:02.377Z"
   },
   {
    "duration": 0,
    "start_time": "2023-11-12T18:01:02.378Z"
   },
   {
    "duration": 0,
    "start_time": "2023-11-12T18:01:02.379Z"
   },
   {
    "duration": 0,
    "start_time": "2023-11-12T18:01:02.380Z"
   },
   {
    "duration": 0,
    "start_time": "2023-11-12T18:01:02.381Z"
   },
   {
    "duration": 0,
    "start_time": "2023-11-12T18:01:02.382Z"
   },
   {
    "duration": 0,
    "start_time": "2023-11-12T18:01:02.384Z"
   },
   {
    "duration": 0,
    "start_time": "2023-11-12T18:01:02.385Z"
   },
   {
    "duration": 0,
    "start_time": "2023-11-12T18:01:02.387Z"
   },
   {
    "duration": 0,
    "start_time": "2023-11-12T18:01:02.388Z"
   },
   {
    "duration": 0,
    "start_time": "2023-11-12T18:01:02.389Z"
   },
   {
    "duration": 0,
    "start_time": "2023-11-12T18:01:02.390Z"
   },
   {
    "duration": 0,
    "start_time": "2023-11-12T18:01:02.411Z"
   },
   {
    "duration": 0,
    "start_time": "2023-11-12T18:01:02.413Z"
   },
   {
    "duration": 0,
    "start_time": "2023-11-12T18:01:02.414Z"
   },
   {
    "duration": 0,
    "start_time": "2023-11-12T18:01:02.415Z"
   },
   {
    "duration": 0,
    "start_time": "2023-11-12T18:01:02.417Z"
   },
   {
    "duration": 0,
    "start_time": "2023-11-12T18:01:02.421Z"
   },
   {
    "duration": 0,
    "start_time": "2023-11-12T18:01:02.422Z"
   },
   {
    "duration": 0,
    "start_time": "2023-11-12T18:01:02.424Z"
   },
   {
    "duration": 0,
    "start_time": "2023-11-12T18:01:02.425Z"
   },
   {
    "duration": 0,
    "start_time": "2023-11-12T18:01:02.426Z"
   },
   {
    "duration": 0,
    "start_time": "2023-11-12T18:01:02.428Z"
   },
   {
    "duration": 0,
    "start_time": "2023-11-12T18:01:02.429Z"
   },
   {
    "duration": 0,
    "start_time": "2023-11-12T18:01:02.431Z"
   },
   {
    "duration": 0,
    "start_time": "2023-11-12T18:01:02.432Z"
   },
   {
    "duration": 0,
    "start_time": "2023-11-12T18:01:02.433Z"
   },
   {
    "duration": 0,
    "start_time": "2023-11-12T18:01:02.435Z"
   },
   {
    "duration": 0,
    "start_time": "2023-11-12T18:01:02.436Z"
   },
   {
    "duration": 0,
    "start_time": "2023-11-12T18:01:02.438Z"
   },
   {
    "duration": 0,
    "start_time": "2023-11-12T18:01:02.439Z"
   },
   {
    "duration": 0,
    "start_time": "2023-11-12T18:01:02.441Z"
   },
   {
    "duration": 0,
    "start_time": "2023-11-12T18:01:02.443Z"
   },
   {
    "duration": 97,
    "start_time": "2023-11-12T18:01:04.830Z"
   },
   {
    "duration": 22,
    "start_time": "2023-11-12T18:01:05.975Z"
   },
   {
    "duration": 25,
    "start_time": "2023-11-12T18:01:06.458Z"
   },
   {
    "duration": 2024,
    "start_time": "2023-11-12T18:01:07.444Z"
   },
   {
    "duration": 6,
    "start_time": "2023-11-12T18:01:11.818Z"
   },
   {
    "duration": 6,
    "start_time": "2023-11-12T18:01:12.566Z"
   },
   {
    "duration": 32,
    "start_time": "2023-11-12T18:01:13.854Z"
   },
   {
    "duration": 8,
    "start_time": "2023-11-12T18:01:14.979Z"
   },
   {
    "duration": 6,
    "start_time": "2023-11-12T18:01:16.015Z"
   },
   {
    "duration": 6,
    "start_time": "2023-11-12T18:01:17.949Z"
   },
   {
    "duration": 7,
    "start_time": "2023-11-12T18:01:19.911Z"
   },
   {
    "duration": 8,
    "start_time": "2023-11-12T18:01:20.215Z"
   },
   {
    "duration": 6,
    "start_time": "2023-11-12T18:01:21.815Z"
   },
   {
    "duration": 15,
    "start_time": "2023-11-12T18:01:22.715Z"
   },
   {
    "duration": 5,
    "start_time": "2023-11-12T18:01:23.036Z"
   },
   {
    "duration": 7,
    "start_time": "2023-11-12T18:01:23.605Z"
   },
   {
    "duration": 60,
    "start_time": "2023-11-12T18:01:25.080Z"
   },
   {
    "duration": 15,
    "start_time": "2023-11-12T18:01:26.311Z"
   },
   {
    "duration": 8,
    "start_time": "2023-11-12T18:01:26.702Z"
   },
   {
    "duration": 5,
    "start_time": "2023-11-12T18:01:31.104Z"
   },
   {
    "duration": 6,
    "start_time": "2023-11-12T18:01:32.274Z"
   },
   {
    "duration": 7,
    "start_time": "2023-11-12T18:01:33.237Z"
   },
   {
    "duration": 6,
    "start_time": "2023-11-12T18:01:33.676Z"
   },
   {
    "duration": 302,
    "start_time": "2023-11-12T18:01:34.156Z"
   },
   {
    "duration": 7,
    "start_time": "2023-11-12T18:01:34.678Z"
   },
   {
    "duration": 372,
    "start_time": "2023-11-12T18:01:39.020Z"
   },
   {
    "duration": 9,
    "start_time": "2023-11-12T18:01:42.766Z"
   },
   {
    "duration": 457,
    "start_time": "2023-11-12T18:01:44.554Z"
   },
   {
    "duration": 10,
    "start_time": "2023-11-12T18:01:45.192Z"
   },
   {
    "duration": 26,
    "start_time": "2023-11-12T18:01:51.285Z"
   },
   {
    "duration": 31,
    "start_time": "2023-11-12T18:02:06.758Z"
   },
   {
    "duration": 11,
    "start_time": "2023-11-12T18:02:10.115Z"
   },
   {
    "duration": 21,
    "start_time": "2023-11-12T18:02:12.363Z"
   },
   {
    "duration": 310,
    "start_time": "2023-11-12T18:02:14.503Z"
   },
   {
    "duration": 10,
    "start_time": "2023-11-12T18:02:15.313Z"
   },
   {
    "duration": 311,
    "start_time": "2023-11-12T18:02:16.226Z"
   },
   {
    "duration": 7,
    "start_time": "2023-11-12T18:02:18.060Z"
   },
   {
    "duration": 198,
    "start_time": "2023-11-12T18:02:25.725Z"
   },
   {
    "duration": 8,
    "start_time": "2023-11-12T18:02:44.780Z"
   },
   {
    "duration": 204,
    "start_time": "2023-11-12T18:02:49.914Z"
   },
   {
    "duration": 33,
    "start_time": "2023-11-12T18:02:56.985Z"
   },
   {
    "duration": 18,
    "start_time": "2023-11-12T18:03:20.149Z"
   },
   {
    "duration": 120,
    "start_time": "2023-11-12T18:23:39.594Z"
   },
   {
    "duration": 21,
    "start_time": "2023-11-12T18:23:39.717Z"
   },
   {
    "duration": 25,
    "start_time": "2023-11-12T18:23:39.739Z"
   },
   {
    "duration": 2377,
    "start_time": "2023-11-12T18:23:39.767Z"
   },
   {
    "duration": 6,
    "start_time": "2023-11-12T18:23:42.146Z"
   },
   {
    "duration": 8,
    "start_time": "2023-11-12T18:23:42.154Z"
   },
   {
    "duration": 67,
    "start_time": "2023-11-12T18:23:42.164Z"
   },
   {
    "duration": 9,
    "start_time": "2023-11-12T18:23:42.233Z"
   },
   {
    "duration": 10,
    "start_time": "2023-11-12T18:23:42.244Z"
   },
   {
    "duration": 6,
    "start_time": "2023-11-12T18:23:42.258Z"
   },
   {
    "duration": 52,
    "start_time": "2023-11-12T18:23:42.266Z"
   },
   {
    "duration": 11,
    "start_time": "2023-11-12T18:23:42.320Z"
   },
   {
    "duration": 12,
    "start_time": "2023-11-12T18:23:42.332Z"
   },
   {
    "duration": 13,
    "start_time": "2023-11-12T18:23:42.345Z"
   },
   {
    "duration": 5,
    "start_time": "2023-11-12T18:23:42.360Z"
   },
   {
    "duration": 8,
    "start_time": "2023-11-12T18:23:42.367Z"
   },
   {
    "duration": 62,
    "start_time": "2023-11-12T18:23:42.413Z"
   },
   {
    "duration": 16,
    "start_time": "2023-11-12T18:23:42.477Z"
   },
   {
    "duration": 11,
    "start_time": "2023-11-12T18:23:42.513Z"
   },
   {
    "duration": 5,
    "start_time": "2023-11-12T18:23:42.526Z"
   },
   {
    "duration": 8,
    "start_time": "2023-11-12T18:23:42.532Z"
   },
   {
    "duration": 6,
    "start_time": "2023-11-12T18:23:42.541Z"
   },
   {
    "duration": 6,
    "start_time": "2023-11-12T18:23:42.548Z"
   },
   {
    "duration": 365,
    "start_time": "2023-11-12T18:23:42.556Z"
   },
   {
    "duration": 7,
    "start_time": "2023-11-12T18:23:42.923Z"
   },
   {
    "duration": 321,
    "start_time": "2023-11-12T18:23:42.932Z"
   },
   {
    "duration": 8,
    "start_time": "2023-11-12T18:23:43.255Z"
   },
   {
    "duration": 327,
    "start_time": "2023-11-12T18:23:43.267Z"
   },
   {
    "duration": 31,
    "start_time": "2023-11-12T18:23:43.596Z"
   },
   {
    "duration": 34,
    "start_time": "2023-11-12T18:23:43.629Z"
   },
   {
    "duration": 9,
    "start_time": "2023-11-12T18:23:43.665Z"
   },
   {
    "duration": 15,
    "start_time": "2023-11-12T18:23:43.675Z"
   },
   {
    "duration": 333,
    "start_time": "2023-11-12T18:23:43.691Z"
   },
   {
    "duration": 9,
    "start_time": "2023-11-12T18:23:44.026Z"
   },
   {
    "duration": 358,
    "start_time": "2023-11-12T18:23:44.036Z"
   },
   {
    "duration": 6,
    "start_time": "2023-11-12T18:23:44.396Z"
   },
   {
    "duration": 217,
    "start_time": "2023-11-12T18:23:44.414Z"
   },
   {
    "duration": 8,
    "start_time": "2023-11-12T18:23:44.633Z"
   },
   {
    "duration": 227,
    "start_time": "2023-11-12T18:23:44.642Z"
   },
   {
    "duration": 57,
    "start_time": "2023-11-12T18:23:44.871Z"
   },
   {
    "duration": 21,
    "start_time": "2023-11-12T18:23:44.930Z"
   },
   {
    "duration": 0,
    "start_time": "2023-11-12T18:23:44.953Z"
   },
   {
    "duration": 0,
    "start_time": "2023-11-12T18:23:44.955Z"
   },
   {
    "duration": 0,
    "start_time": "2023-11-12T18:23:44.956Z"
   },
   {
    "duration": 0,
    "start_time": "2023-11-12T18:23:44.958Z"
   },
   {
    "duration": 0,
    "start_time": "2023-11-12T18:23:44.959Z"
   },
   {
    "duration": 0,
    "start_time": "2023-11-12T18:23:44.961Z"
   },
   {
    "duration": 0,
    "start_time": "2023-11-12T18:23:44.962Z"
   },
   {
    "duration": 0,
    "start_time": "2023-11-12T18:23:44.964Z"
   },
   {
    "duration": 0,
    "start_time": "2023-11-12T18:23:44.965Z"
   },
   {
    "duration": 0,
    "start_time": "2023-11-12T18:23:44.967Z"
   },
   {
    "duration": 0,
    "start_time": "2023-11-12T18:23:44.968Z"
   },
   {
    "duration": 0,
    "start_time": "2023-11-12T18:23:44.971Z"
   },
   {
    "duration": 0,
    "start_time": "2023-11-12T18:23:44.972Z"
   },
   {
    "duration": 0,
    "start_time": "2023-11-12T18:23:44.973Z"
   },
   {
    "duration": 0,
    "start_time": "2023-11-12T18:23:44.974Z"
   },
   {
    "duration": 0,
    "start_time": "2023-11-12T18:23:45.011Z"
   },
   {
    "duration": 0,
    "start_time": "2023-11-12T18:23:45.013Z"
   },
   {
    "duration": 0,
    "start_time": "2023-11-12T18:23:45.014Z"
   },
   {
    "duration": 0,
    "start_time": "2023-11-12T18:23:45.015Z"
   },
   {
    "duration": 0,
    "start_time": "2023-11-12T18:23:45.016Z"
   },
   {
    "duration": 0,
    "start_time": "2023-11-12T18:23:45.018Z"
   },
   {
    "duration": 0,
    "start_time": "2023-11-12T18:23:45.019Z"
   },
   {
    "duration": 0,
    "start_time": "2023-11-12T18:23:45.020Z"
   },
   {
    "duration": 0,
    "start_time": "2023-11-12T18:23:45.021Z"
   },
   {
    "duration": 0,
    "start_time": "2023-11-12T18:23:45.022Z"
   },
   {
    "duration": 0,
    "start_time": "2023-11-12T18:23:45.023Z"
   },
   {
    "duration": 0,
    "start_time": "2023-11-12T18:23:45.024Z"
   },
   {
    "duration": 0,
    "start_time": "2023-11-12T18:23:45.029Z"
   },
   {
    "duration": 0,
    "start_time": "2023-11-12T18:23:45.030Z"
   },
   {
    "duration": 1,
    "start_time": "2023-11-12T18:23:45.031Z"
   },
   {
    "duration": 0,
    "start_time": "2023-11-12T18:23:45.033Z"
   },
   {
    "duration": 0,
    "start_time": "2023-11-12T18:23:45.034Z"
   },
   {
    "duration": 0,
    "start_time": "2023-11-12T18:23:45.036Z"
   },
   {
    "duration": 0,
    "start_time": "2023-11-12T18:23:45.037Z"
   },
   {
    "duration": 0,
    "start_time": "2023-11-12T18:23:45.039Z"
   },
   {
    "duration": 0,
    "start_time": "2023-11-12T18:23:45.040Z"
   },
   {
    "duration": 0,
    "start_time": "2023-11-12T18:23:45.041Z"
   },
   {
    "duration": 0,
    "start_time": "2023-11-12T18:23:45.043Z"
   },
   {
    "duration": 0,
    "start_time": "2023-11-12T18:23:45.044Z"
   },
   {
    "duration": 0,
    "start_time": "2023-11-12T18:23:45.046Z"
   },
   {
    "duration": 0,
    "start_time": "2023-11-12T18:23:45.047Z"
   },
   {
    "duration": 0,
    "start_time": "2023-11-12T18:23:45.048Z"
   },
   {
    "duration": 0,
    "start_time": "2023-11-12T18:23:45.050Z"
   },
   {
    "duration": 33,
    "start_time": "2023-11-12T18:24:01.028Z"
   },
   {
    "duration": 72,
    "start_time": "2023-11-12T18:25:30.294Z"
   },
   {
    "duration": 21,
    "start_time": "2023-11-12T18:25:40.299Z"
   },
   {
    "duration": 13,
    "start_time": "2023-11-12T18:26:29.613Z"
   },
   {
    "duration": 11,
    "start_time": "2023-11-12T18:26:59.164Z"
   },
   {
    "duration": 7,
    "start_time": "2023-11-12T18:27:11.878Z"
   },
   {
    "duration": 8,
    "start_time": "2023-11-12T18:27:14.740Z"
   },
   {
    "duration": 11,
    "start_time": "2023-11-12T18:27:39.172Z"
   },
   {
    "duration": 9,
    "start_time": "2023-11-12T18:27:39.964Z"
   },
   {
    "duration": 13,
    "start_time": "2023-11-12T18:27:42.429Z"
   },
   {
    "duration": 70,
    "start_time": "2023-11-12T18:28:59.926Z"
   },
   {
    "duration": 7,
    "start_time": "2023-11-12T18:31:25.678Z"
   },
   {
    "duration": 14,
    "start_time": "2023-11-12T18:31:27.641Z"
   },
   {
    "duration": 56,
    "start_time": "2023-11-12T18:31:44.765Z"
   },
   {
    "duration": 5,
    "start_time": "2023-11-12T18:33:16.487Z"
   },
   {
    "duration": 47,
    "start_time": "2023-11-12T18:33:19.425Z"
   },
   {
    "duration": 8,
    "start_time": "2023-11-12T18:41:14.566Z"
   },
   {
    "duration": 17,
    "start_time": "2023-11-12T18:41:20.513Z"
   },
   {
    "duration": 73,
    "start_time": "2023-11-12T18:41:24.458Z"
   },
   {
    "duration": 51,
    "start_time": "2023-11-12T18:45:12.507Z"
   },
   {
    "duration": 1033,
    "start_time": "2023-11-12T18:45:17.091Z"
   },
   {
    "duration": 16,
    "start_time": "2023-11-12T18:45:18.126Z"
   },
   {
    "duration": 35,
    "start_time": "2023-11-12T18:45:18.144Z"
   },
   {
    "duration": 2116,
    "start_time": "2023-11-12T18:45:18.180Z"
   },
   {
    "duration": 5,
    "start_time": "2023-11-12T18:45:20.299Z"
   },
   {
    "duration": 7,
    "start_time": "2023-11-12T18:45:20.306Z"
   },
   {
    "duration": 43,
    "start_time": "2023-11-12T18:45:20.314Z"
   },
   {
    "duration": 9,
    "start_time": "2023-11-12T18:45:20.359Z"
   },
   {
    "duration": 20,
    "start_time": "2023-11-12T18:45:20.370Z"
   },
   {
    "duration": 28,
    "start_time": "2023-11-12T18:45:20.392Z"
   },
   {
    "duration": 8,
    "start_time": "2023-11-12T18:45:20.422Z"
   },
   {
    "duration": 7,
    "start_time": "2023-11-12T18:45:20.432Z"
   },
   {
    "duration": 10,
    "start_time": "2023-11-12T18:45:20.440Z"
   },
   {
    "duration": 11,
    "start_time": "2023-11-12T18:45:20.454Z"
   },
   {
    "duration": 4,
    "start_time": "2023-11-12T18:45:20.467Z"
   },
   {
    "duration": 8,
    "start_time": "2023-11-12T18:45:20.510Z"
   },
   {
    "duration": 64,
    "start_time": "2023-11-12T18:45:20.520Z"
   },
   {
    "duration": 33,
    "start_time": "2023-11-12T18:45:20.586Z"
   },
   {
    "duration": 8,
    "start_time": "2023-11-12T18:45:20.621Z"
   },
   {
    "duration": 4,
    "start_time": "2023-11-12T18:45:20.631Z"
   },
   {
    "duration": 22,
    "start_time": "2023-11-12T18:45:20.636Z"
   },
   {
    "duration": 8,
    "start_time": "2023-11-12T18:45:20.660Z"
   },
   {
    "duration": 6,
    "start_time": "2023-11-12T18:45:20.669Z"
   },
   {
    "duration": 324,
    "start_time": "2023-11-12T18:45:20.677Z"
   },
   {
    "duration": 12,
    "start_time": "2023-11-12T18:45:21.003Z"
   },
   {
    "duration": 294,
    "start_time": "2023-11-12T18:45:21.017Z"
   },
   {
    "duration": 7,
    "start_time": "2023-11-12T18:45:21.313Z"
   },
   {
    "duration": 392,
    "start_time": "2023-11-12T18:45:21.321Z"
   },
   {
    "duration": 9,
    "start_time": "2023-11-12T18:45:21.715Z"
   },
   {
    "duration": 31,
    "start_time": "2023-11-12T18:45:21.725Z"
   },
   {
    "duration": 51,
    "start_time": "2023-11-12T18:45:47.630Z"
   },
   {
    "duration": 1026,
    "start_time": "2023-11-12T18:45:52.590Z"
   },
   {
    "duration": 19,
    "start_time": "2023-11-12T18:45:53.619Z"
   },
   {
    "duration": 36,
    "start_time": "2023-11-12T18:45:53.640Z"
   },
   {
    "duration": 2099,
    "start_time": "2023-11-12T18:45:53.677Z"
   },
   {
    "duration": 6,
    "start_time": "2023-11-12T18:45:55.779Z"
   },
   {
    "duration": 6,
    "start_time": "2023-11-12T18:45:55.787Z"
   },
   {
    "duration": 41,
    "start_time": "2023-11-12T18:45:55.794Z"
   },
   {
    "duration": 7,
    "start_time": "2023-11-12T18:45:55.836Z"
   },
   {
    "duration": 7,
    "start_time": "2023-11-12T18:45:55.845Z"
   },
   {
    "duration": 6,
    "start_time": "2023-11-12T18:45:55.854Z"
   },
   {
    "duration": 12,
    "start_time": "2023-11-12T18:45:55.861Z"
   },
   {
    "duration": 8,
    "start_time": "2023-11-12T18:45:55.911Z"
   },
   {
    "duration": 6,
    "start_time": "2023-11-12T18:45:55.920Z"
   },
   {
    "duration": 10,
    "start_time": "2023-11-12T18:45:55.929Z"
   },
   {
    "duration": 10,
    "start_time": "2023-11-12T18:45:55.941Z"
   },
   {
    "duration": 7,
    "start_time": "2023-11-12T18:45:55.953Z"
   },
   {
    "duration": 90,
    "start_time": "2023-11-12T18:45:55.962Z"
   },
   {
    "duration": 14,
    "start_time": "2023-11-12T18:45:56.054Z"
   },
   {
    "duration": 9,
    "start_time": "2023-11-12T18:45:56.069Z"
   },
   {
    "duration": 5,
    "start_time": "2023-11-12T18:45:56.079Z"
   },
   {
    "duration": 32,
    "start_time": "2023-11-12T18:45:56.085Z"
   },
   {
    "duration": 6,
    "start_time": "2023-11-12T18:45:56.118Z"
   },
   {
    "duration": 6,
    "start_time": "2023-11-12T18:45:56.125Z"
   },
   {
    "duration": 348,
    "start_time": "2023-11-12T18:45:56.132Z"
   },
   {
    "duration": 6,
    "start_time": "2023-11-12T18:45:56.482Z"
   },
   {
    "duration": 302,
    "start_time": "2023-11-12T18:45:56.490Z"
   },
   {
    "duration": 20,
    "start_time": "2023-11-12T18:45:56.794Z"
   },
   {
    "duration": 369,
    "start_time": "2023-11-12T18:45:56.815Z"
   },
   {
    "duration": 8,
    "start_time": "2023-11-12T18:45:57.186Z"
   },
   {
    "duration": 44,
    "start_time": "2023-11-12T18:45:57.196Z"
   },
   {
    "duration": 1173,
    "start_time": "2023-11-12T18:59:46.626Z"
   },
   {
    "duration": 17,
    "start_time": "2023-11-12T18:59:47.801Z"
   },
   {
    "duration": 34,
    "start_time": "2023-11-12T18:59:47.820Z"
   },
   {
    "duration": 2023,
    "start_time": "2023-11-12T18:59:47.856Z"
   },
   {
    "duration": 6,
    "start_time": "2023-11-12T18:59:49.881Z"
   },
   {
    "duration": 22,
    "start_time": "2023-11-12T18:59:49.889Z"
   },
   {
    "duration": 42,
    "start_time": "2023-11-12T18:59:49.913Z"
   },
   {
    "duration": 8,
    "start_time": "2023-11-12T18:59:49.956Z"
   },
   {
    "duration": 6,
    "start_time": "2023-11-12T18:59:49.966Z"
   },
   {
    "duration": 6,
    "start_time": "2023-11-12T18:59:50.011Z"
   },
   {
    "duration": 11,
    "start_time": "2023-11-12T18:59:50.018Z"
   },
   {
    "duration": 7,
    "start_time": "2023-11-12T18:59:50.031Z"
   },
   {
    "duration": 6,
    "start_time": "2023-11-12T18:59:50.040Z"
   },
   {
    "duration": 11,
    "start_time": "2023-11-12T18:59:50.048Z"
   },
   {
    "duration": 19,
    "start_time": "2023-11-12T18:59:50.060Z"
   },
   {
    "duration": 6,
    "start_time": "2023-11-12T18:59:50.111Z"
   },
   {
    "duration": 53,
    "start_time": "2023-11-12T18:59:50.119Z"
   },
   {
    "duration": 38,
    "start_time": "2023-11-12T18:59:50.174Z"
   },
   {
    "duration": 11,
    "start_time": "2023-11-12T18:59:50.214Z"
   },
   {
    "duration": 4,
    "start_time": "2023-11-12T18:59:50.227Z"
   },
   {
    "duration": 10,
    "start_time": "2023-11-12T18:59:50.233Z"
   },
   {
    "duration": 6,
    "start_time": "2023-11-12T18:59:50.245Z"
   },
   {
    "duration": 7,
    "start_time": "2023-11-12T18:59:50.253Z"
   },
   {
    "duration": 350,
    "start_time": "2023-11-12T18:59:50.262Z"
   },
   {
    "duration": 7,
    "start_time": "2023-11-12T18:59:50.613Z"
   },
   {
    "duration": 313,
    "start_time": "2023-11-12T18:59:50.621Z"
   },
   {
    "duration": 8,
    "start_time": "2023-11-12T18:59:50.935Z"
   },
   {
    "duration": 366,
    "start_time": "2023-11-12T18:59:50.945Z"
   },
   {
    "duration": 9,
    "start_time": "2023-11-12T18:59:51.312Z"
   },
   {
    "duration": 44,
    "start_time": "2023-11-12T18:59:51.322Z"
   },
   {
    "duration": 91,
    "start_time": "2023-11-12T18:59:51.368Z"
   },
   {
    "duration": 0,
    "start_time": "2023-11-12T18:59:51.461Z"
   },
   {
    "duration": 0,
    "start_time": "2023-11-12T18:59:51.463Z"
   },
   {
    "duration": 0,
    "start_time": "2023-11-12T18:59:51.464Z"
   },
   {
    "duration": 0,
    "start_time": "2023-11-12T18:59:51.465Z"
   },
   {
    "duration": 0,
    "start_time": "2023-11-12T18:59:51.466Z"
   },
   {
    "duration": 0,
    "start_time": "2023-11-12T18:59:51.467Z"
   },
   {
    "duration": 0,
    "start_time": "2023-11-12T18:59:51.469Z"
   },
   {
    "duration": 0,
    "start_time": "2023-11-12T18:59:51.470Z"
   },
   {
    "duration": 0,
    "start_time": "2023-11-12T18:59:51.471Z"
   },
   {
    "duration": 0,
    "start_time": "2023-11-12T18:59:51.472Z"
   },
   {
    "duration": 0,
    "start_time": "2023-11-12T18:59:51.473Z"
   },
   {
    "duration": 0,
    "start_time": "2023-11-12T18:59:51.474Z"
   },
   {
    "duration": 0,
    "start_time": "2023-11-12T18:59:51.475Z"
   },
   {
    "duration": 0,
    "start_time": "2023-11-12T18:59:51.476Z"
   },
   {
    "duration": 0,
    "start_time": "2023-11-12T18:59:51.477Z"
   },
   {
    "duration": 0,
    "start_time": "2023-11-12T18:59:51.478Z"
   },
   {
    "duration": 0,
    "start_time": "2023-11-12T18:59:51.479Z"
   },
   {
    "duration": 0,
    "start_time": "2023-11-12T18:59:51.480Z"
   },
   {
    "duration": 0,
    "start_time": "2023-11-12T18:59:51.481Z"
   },
   {
    "duration": 0,
    "start_time": "2023-11-12T18:59:51.482Z"
   },
   {
    "duration": 0,
    "start_time": "2023-11-12T18:59:51.484Z"
   },
   {
    "duration": 0,
    "start_time": "2023-11-12T18:59:51.484Z"
   },
   {
    "duration": 0,
    "start_time": "2023-11-12T18:59:51.486Z"
   },
   {
    "duration": 0,
    "start_time": "2023-11-12T18:59:51.487Z"
   },
   {
    "duration": 0,
    "start_time": "2023-11-12T18:59:51.488Z"
   },
   {
    "duration": 0,
    "start_time": "2023-11-12T18:59:51.489Z"
   },
   {
    "duration": 0,
    "start_time": "2023-11-12T18:59:51.490Z"
   },
   {
    "duration": 0,
    "start_time": "2023-11-12T18:59:51.491Z"
   },
   {
    "duration": 0,
    "start_time": "2023-11-12T18:59:51.492Z"
   },
   {
    "duration": 0,
    "start_time": "2023-11-12T18:59:51.493Z"
   },
   {
    "duration": 0,
    "start_time": "2023-11-12T18:59:51.495Z"
   },
   {
    "duration": 0,
    "start_time": "2023-11-12T18:59:51.496Z"
   },
   {
    "duration": 0,
    "start_time": "2023-11-12T18:59:51.497Z"
   },
   {
    "duration": 0,
    "start_time": "2023-11-12T18:59:51.498Z"
   },
   {
    "duration": 0,
    "start_time": "2023-11-12T18:59:51.512Z"
   },
   {
    "duration": 0,
    "start_time": "2023-11-12T18:59:51.513Z"
   },
   {
    "duration": 0,
    "start_time": "2023-11-12T18:59:51.514Z"
   },
   {
    "duration": 0,
    "start_time": "2023-11-12T18:59:51.515Z"
   },
   {
    "duration": 0,
    "start_time": "2023-11-12T18:59:51.516Z"
   },
   {
    "duration": 0,
    "start_time": "2023-11-12T18:59:51.517Z"
   },
   {
    "duration": 0,
    "start_time": "2023-11-12T18:59:51.518Z"
   },
   {
    "duration": 0,
    "start_time": "2023-11-12T18:59:51.519Z"
   },
   {
    "duration": 0,
    "start_time": "2023-11-12T18:59:51.520Z"
   },
   {
    "duration": 0,
    "start_time": "2023-11-12T18:59:51.521Z"
   },
   {
    "duration": 0,
    "start_time": "2023-11-12T18:59:51.522Z"
   },
   {
    "duration": 0,
    "start_time": "2023-11-12T18:59:51.523Z"
   },
   {
    "duration": 0,
    "start_time": "2023-11-12T18:59:51.524Z"
   },
   {
    "duration": 0,
    "start_time": "2023-11-12T18:59:51.525Z"
   },
   {
    "duration": 0,
    "start_time": "2023-11-12T18:59:51.527Z"
   },
   {
    "duration": 0,
    "start_time": "2023-11-12T18:59:51.528Z"
   },
   {
    "duration": 0,
    "start_time": "2023-11-12T18:59:51.529Z"
   },
   {
    "duration": 0,
    "start_time": "2023-11-12T18:59:51.530Z"
   },
   {
    "duration": 0,
    "start_time": "2023-11-12T18:59:51.531Z"
   },
   {
    "duration": 0,
    "start_time": "2023-11-12T18:59:51.533Z"
   },
   {
    "duration": 134,
    "start_time": "2023-11-12T19:00:10.892Z"
   },
   {
    "duration": 123,
    "start_time": "2023-11-12T19:00:23.049Z"
   },
   {
    "duration": 12,
    "start_time": "2023-11-12T19:01:13.547Z"
   },
   {
    "duration": 8,
    "start_time": "2023-11-12T19:03:04.083Z"
   },
   {
    "duration": 87,
    "start_time": "2023-11-12T19:04:17.882Z"
   },
   {
    "duration": 83,
    "start_time": "2023-11-12T19:06:00.839Z"
   },
   {
    "duration": 15,
    "start_time": "2023-11-12T19:07:05.431Z"
   },
   {
    "duration": 38,
    "start_time": "2023-11-12T19:07:31.747Z"
   },
   {
    "duration": 41,
    "start_time": "2023-11-12T19:07:56.208Z"
   },
   {
    "duration": 31,
    "start_time": "2023-11-12T19:08:13.770Z"
   },
   {
    "duration": 16,
    "start_time": "2023-11-12T19:08:22.488Z"
   },
   {
    "duration": 10,
    "start_time": "2023-11-12T19:15:12.744Z"
   },
   {
    "duration": 10,
    "start_time": "2023-11-12T19:15:25.697Z"
   },
   {
    "duration": 12,
    "start_time": "2023-11-12T19:15:52.172Z"
   },
   {
    "duration": 11,
    "start_time": "2023-11-12T19:16:21.717Z"
   },
   {
    "duration": 8,
    "start_time": "2023-11-12T19:16:24.128Z"
   },
   {
    "duration": 10,
    "start_time": "2023-11-12T19:16:35.437Z"
   },
   {
    "duration": 19,
    "start_time": "2023-11-12T19:16:54.606Z"
   },
   {
    "duration": 80,
    "start_time": "2023-11-12T19:19:14.049Z"
   },
   {
    "duration": 9,
    "start_time": "2023-11-12T19:19:20.471Z"
   },
   {
    "duration": 10,
    "start_time": "2023-11-12T19:19:28.524Z"
   },
   {
    "duration": 77,
    "start_time": "2023-11-12T19:29:21.604Z"
   },
   {
    "duration": 10,
    "start_time": "2023-11-12T19:29:43.318Z"
   },
   {
    "duration": 11,
    "start_time": "2023-11-12T19:29:53.018Z"
   },
   {
    "duration": 6,
    "start_time": "2023-11-12T19:30:18.162Z"
   },
   {
    "duration": 68,
    "start_time": "2023-11-12T19:31:10.833Z"
   },
   {
    "duration": 12,
    "start_time": "2023-11-12T19:31:15.209Z"
   },
   {
    "duration": 95,
    "start_time": "2023-11-12T19:32:04.053Z"
   },
   {
    "duration": 890,
    "start_time": "2023-11-12T19:32:14.382Z"
   },
   {
    "duration": 11,
    "start_time": "2023-11-12T19:32:21.334Z"
   },
   {
    "duration": 7,
    "start_time": "2023-11-12T19:37:31.080Z"
   },
   {
    "duration": 72,
    "start_time": "2023-11-12T19:37:33.756Z"
   },
   {
    "duration": 28,
    "start_time": "2023-11-12T19:38:44.711Z"
   },
   {
    "duration": 95,
    "start_time": "2023-11-12T19:39:05.038Z"
   },
   {
    "duration": 4,
    "start_time": "2023-11-12T19:39:43.524Z"
   },
   {
    "duration": 16,
    "start_time": "2023-11-12T19:39:44.659Z"
   },
   {
    "duration": 309,
    "start_time": "2023-11-12T19:39:47.526Z"
   },
   {
    "duration": 8,
    "start_time": "2023-11-12T19:39:49.924Z"
   },
   {
    "duration": 316,
    "start_time": "2023-11-12T19:39:51.374Z"
   },
   {
    "duration": 6,
    "start_time": "2023-11-12T19:39:55.074Z"
   },
   {
    "duration": 188,
    "start_time": "2023-11-12T19:39:57.675Z"
   },
   {
    "duration": 8,
    "start_time": "2023-11-12T19:40:01.247Z"
   },
   {
    "duration": 215,
    "start_time": "2023-11-12T19:40:04.721Z"
   },
   {
    "duration": 32,
    "start_time": "2023-11-12T19:40:06.356Z"
   },
   {
    "duration": 32,
    "start_time": "2023-11-12T19:40:09.928Z"
   },
   {
    "duration": 11,
    "start_time": "2023-11-12T19:41:43.187Z"
   },
   {
    "duration": 6,
    "start_time": "2023-11-12T19:42:24.023Z"
   },
   {
    "duration": 42,
    "start_time": "2023-11-12T19:42:46.573Z"
   },
   {
    "duration": 40,
    "start_time": "2023-11-12T19:43:52.326Z"
   },
   {
    "duration": 8,
    "start_time": "2023-11-12T19:45:05.578Z"
   },
   {
    "duration": 49,
    "start_time": "2023-11-12T19:45:17.645Z"
   },
   {
    "duration": 38,
    "start_time": "2023-11-12T19:45:54.843Z"
   },
   {
    "duration": 299,
    "start_time": "2023-11-12T19:49:50.844Z"
   },
   {
    "duration": 182,
    "start_time": "2023-11-12T19:50:04.895Z"
   },
   {
    "duration": 332,
    "start_time": "2023-11-12T19:50:31.292Z"
   },
   {
    "duration": 186,
    "start_time": "2023-11-12T19:50:38.639Z"
   },
   {
    "duration": 180,
    "start_time": "2023-11-12T19:50:43.337Z"
   },
   {
    "duration": 101,
    "start_time": "2023-11-12T19:50:47.184Z"
   },
   {
    "duration": 306,
    "start_time": "2023-11-12T19:51:04.038Z"
   },
   {
    "duration": 273,
    "start_time": "2023-11-12T19:51:18.486Z"
   },
   {
    "duration": 199,
    "start_time": "2023-11-12T19:51:39.156Z"
   },
   {
    "duration": 187,
    "start_time": "2023-11-12T19:51:55.407Z"
   },
   {
    "duration": 100,
    "start_time": "2023-11-12T19:52:44.769Z"
   },
   {
    "duration": 40,
    "start_time": "2023-11-12T19:52:44.871Z"
   },
   {
    "duration": 22,
    "start_time": "2023-11-12T19:52:44.913Z"
   },
   {
    "duration": 2079,
    "start_time": "2023-11-12T19:52:44.938Z"
   },
   {
    "duration": 6,
    "start_time": "2023-11-12T19:52:47.018Z"
   },
   {
    "duration": 8,
    "start_time": "2023-11-12T19:52:47.025Z"
   },
   {
    "duration": 31,
    "start_time": "2023-11-12T19:52:47.034Z"
   },
   {
    "duration": 47,
    "start_time": "2023-11-12T19:52:47.067Z"
   },
   {
    "duration": 6,
    "start_time": "2023-11-12T19:52:47.116Z"
   },
   {
    "duration": 6,
    "start_time": "2023-11-12T19:52:47.126Z"
   },
   {
    "duration": 8,
    "start_time": "2023-11-12T19:52:47.134Z"
   },
   {
    "duration": 9,
    "start_time": "2023-11-12T19:52:47.144Z"
   },
   {
    "duration": 57,
    "start_time": "2023-11-12T19:52:47.154Z"
   },
   {
    "duration": 11,
    "start_time": "2023-11-12T19:52:47.214Z"
   },
   {
    "duration": 4,
    "start_time": "2023-11-12T19:52:47.227Z"
   },
   {
    "duration": 14,
    "start_time": "2023-11-12T19:52:47.233Z"
   },
   {
    "duration": 84,
    "start_time": "2023-11-12T19:52:47.248Z"
   },
   {
    "duration": 14,
    "start_time": "2023-11-12T19:52:47.334Z"
   },
   {
    "duration": 7,
    "start_time": "2023-11-12T19:52:47.350Z"
   },
   {
    "duration": 4,
    "start_time": "2023-11-12T19:52:47.359Z"
   },
   {
    "duration": 12,
    "start_time": "2023-11-12T19:52:47.365Z"
   },
   {
    "duration": 34,
    "start_time": "2023-11-12T19:52:47.378Z"
   },
   {
    "duration": 6,
    "start_time": "2023-11-12T19:52:47.413Z"
   },
   {
    "duration": 319,
    "start_time": "2023-11-12T19:52:47.420Z"
   },
   {
    "duration": 6,
    "start_time": "2023-11-12T19:52:47.740Z"
   },
   {
    "duration": 407,
    "start_time": "2023-11-12T19:52:47.748Z"
   },
   {
    "duration": 8,
    "start_time": "2023-11-12T19:52:48.156Z"
   },
   {
    "duration": 364,
    "start_time": "2023-11-12T19:52:48.169Z"
   },
   {
    "duration": 9,
    "start_time": "2023-11-12T19:52:48.535Z"
   },
   {
    "duration": 27,
    "start_time": "2023-11-12T19:52:48.545Z"
   },
   {
    "duration": 7,
    "start_time": "2023-11-12T19:52:48.574Z"
   },
   {
    "duration": 16,
    "start_time": "2023-11-12T19:52:48.612Z"
   },
   {
    "duration": 331,
    "start_time": "2023-11-12T19:52:48.629Z"
   },
   {
    "duration": 11,
    "start_time": "2023-11-12T19:52:48.962Z"
   },
   {
    "duration": 322,
    "start_time": "2023-11-12T19:52:48.974Z"
   },
   {
    "duration": 6,
    "start_time": "2023-11-12T19:52:49.298Z"
   },
   {
    "duration": 208,
    "start_time": "2023-11-12T19:52:49.310Z"
   },
   {
    "duration": 9,
    "start_time": "2023-11-12T19:52:49.520Z"
   },
   {
    "duration": 221,
    "start_time": "2023-11-12T19:52:49.531Z"
   },
   {
    "duration": 33,
    "start_time": "2023-11-12T19:52:49.755Z"
   },
   {
    "duration": 51,
    "start_time": "2023-11-12T19:52:49.790Z"
   },
   {
    "duration": 6,
    "start_time": "2023-11-12T19:52:49.843Z"
   },
   {
    "duration": 76,
    "start_time": "2023-11-12T19:52:49.850Z"
   },
   {
    "duration": 205,
    "start_time": "2023-11-12T19:52:49.928Z"
   },
   {
    "duration": 148,
    "start_time": "2023-11-12T19:52:50.135Z"
   },
   {
    "duration": 235,
    "start_time": "2023-11-12T19:52:50.285Z"
   },
   {
    "duration": 312,
    "start_time": "2023-11-12T19:52:50.521Z"
   },
   {
    "duration": 206,
    "start_time": "2023-11-12T19:52:50.835Z"
   },
   {
    "duration": 203,
    "start_time": "2023-11-12T19:52:51.042Z"
   },
   {
    "duration": 207,
    "start_time": "2023-11-12T19:52:51.246Z"
   },
   {
    "duration": 216,
    "start_time": "2023-11-12T19:52:51.455Z"
   },
   {
    "duration": 160,
    "start_time": "2023-11-12T19:52:51.672Z"
   },
   {
    "duration": 8,
    "start_time": "2023-11-12T19:52:51.833Z"
   },
   {
    "duration": 136,
    "start_time": "2023-11-12T19:52:51.843Z"
   },
   {
    "duration": 193,
    "start_time": "2023-11-12T19:52:51.980Z"
   },
   {
    "duration": 169,
    "start_time": "2023-11-12T19:52:52.175Z"
   },
   {
    "duration": 11,
    "start_time": "2023-11-12T19:52:52.345Z"
   },
   {
    "duration": 3,
    "start_time": "2023-11-12T19:52:52.357Z"
   },
   {
    "duration": 111,
    "start_time": "2023-11-12T19:52:52.361Z"
   },
   {
    "duration": 441,
    "start_time": "2023-11-12T19:52:52.473Z"
   },
   {
    "duration": 313,
    "start_time": "2023-11-12T19:52:52.915Z"
   },
   {
    "duration": 13,
    "start_time": "2023-11-12T19:52:53.230Z"
   },
   {
    "duration": 17,
    "start_time": "2023-11-12T19:52:53.244Z"
   },
   {
    "duration": 110,
    "start_time": "2023-11-12T19:52:53.262Z"
   },
   {
    "duration": 335,
    "start_time": "2023-11-12T19:52:53.373Z"
   },
   {
    "duration": 318,
    "start_time": "2023-11-12T19:52:53.710Z"
   },
   {
    "duration": 8,
    "start_time": "2023-11-12T19:52:54.030Z"
   },
   {
    "duration": 174,
    "start_time": "2023-11-12T19:52:54.039Z"
   },
   {
    "duration": 14,
    "start_time": "2023-11-12T19:52:54.215Z"
   },
   {
    "duration": 6,
    "start_time": "2023-11-12T19:52:54.231Z"
   },
   {
    "duration": 203,
    "start_time": "2023-11-12T19:52:54.238Z"
   },
   {
    "duration": 14,
    "start_time": "2023-11-12T19:52:54.443Z"
   },
   {
    "duration": 6,
    "start_time": "2023-11-12T19:52:54.459Z"
   },
   {
    "duration": 196,
    "start_time": "2023-11-12T19:52:54.467Z"
   },
   {
    "duration": 14,
    "start_time": "2023-11-12T19:52:54.665Z"
   },
   {
    "duration": 8,
    "start_time": "2023-11-12T19:52:54.680Z"
   },
   {
    "duration": 23,
    "start_time": "2023-11-12T19:52:54.710Z"
   },
   {
    "duration": 186,
    "start_time": "2023-11-12T19:52:54.735Z"
   },
   {
    "duration": 6,
    "start_time": "2023-11-12T19:52:54.923Z"
   },
   {
    "duration": 173,
    "start_time": "2023-11-12T19:52:54.931Z"
   },
   {
    "duration": 182,
    "start_time": "2023-11-12T19:52:55.106Z"
   },
   {
    "duration": 184,
    "start_time": "2023-11-12T19:52:55.294Z"
   },
   {
    "duration": 310,
    "start_time": "2023-11-12T19:52:55.479Z"
   },
   {
    "duration": 42,
    "start_time": "2023-11-12T19:52:55.790Z"
   },
   {
    "duration": 0,
    "start_time": "2023-11-12T19:52:55.834Z"
   },
   {
    "duration": 0,
    "start_time": "2023-11-12T19:52:55.835Z"
   },
   {
    "duration": 107,
    "start_time": "2023-11-12T19:53:02.347Z"
   },
   {
    "duration": 14,
    "start_time": "2023-11-12T19:53:04.825Z"
   },
   {
    "duration": 23,
    "start_time": "2023-11-12T19:53:05.854Z"
   },
   {
    "duration": 1985,
    "start_time": "2023-11-12T19:53:07.812Z"
   },
   {
    "duration": 5,
    "start_time": "2023-11-12T19:53:15.376Z"
   },
   {
    "duration": 6,
    "start_time": "2023-11-12T19:53:17.049Z"
   },
   {
    "duration": 42,
    "start_time": "2023-11-12T19:53:19.209Z"
   },
   {
    "duration": 8,
    "start_time": "2023-11-12T19:53:20.506Z"
   },
   {
    "duration": 6,
    "start_time": "2023-11-12T19:53:21.588Z"
   },
   {
    "duration": 5,
    "start_time": "2023-11-12T19:53:25.412Z"
   },
   {
    "duration": 7,
    "start_time": "2023-11-12T19:53:28.711Z"
   },
   {
    "duration": 8,
    "start_time": "2023-11-12T19:53:29.555Z"
   },
   {
    "duration": 8,
    "start_time": "2023-11-12T19:53:32.621Z"
   },
   {
    "duration": 11,
    "start_time": "2023-11-12T19:53:34.744Z"
   },
   {
    "duration": 4,
    "start_time": "2023-11-12T19:53:35.570Z"
   },
   {
    "duration": 6,
    "start_time": "2023-11-12T19:53:38.297Z"
   },
   {
    "duration": 65,
    "start_time": "2023-11-12T19:53:48.357Z"
   },
   {
    "duration": 14,
    "start_time": "2023-11-12T19:53:49.943Z"
   },
   {
    "duration": 9,
    "start_time": "2023-11-12T19:53:50.477Z"
   },
   {
    "duration": 4,
    "start_time": "2023-11-12T19:54:02.685Z"
   },
   {
    "duration": 6,
    "start_time": "2023-11-12T19:54:04.129Z"
   },
   {
    "duration": 6,
    "start_time": "2023-11-12T19:54:04.933Z"
   },
   {
    "duration": 6,
    "start_time": "2023-11-12T19:54:05.490Z"
   },
   {
    "duration": 464,
    "start_time": "2023-11-12T19:54:06.074Z"
   },
   {
    "duration": 6,
    "start_time": "2023-11-12T19:54:07.792Z"
   },
   {
    "duration": 298,
    "start_time": "2023-11-12T19:54:15.746Z"
   },
   {
    "duration": 7,
    "start_time": "2023-11-12T19:54:23.953Z"
   },
   {
    "duration": 321,
    "start_time": "2023-11-12T19:54:27.462Z"
   },
   {
    "duration": 8,
    "start_time": "2023-11-12T19:54:29.781Z"
   },
   {
    "duration": 24,
    "start_time": "2023-11-12T19:55:21.373Z"
   },
   {
    "duration": 5,
    "start_time": "2023-11-12T19:55:32.078Z"
   },
   {
    "duration": 16,
    "start_time": "2023-11-12T19:55:35.211Z"
   },
   {
    "duration": 305,
    "start_time": "2023-11-12T19:55:41.859Z"
   },
   {
    "duration": 8,
    "start_time": "2023-11-12T19:55:44.889Z"
   },
   {
    "duration": 292,
    "start_time": "2023-11-12T19:55:47.106Z"
   },
   {
    "duration": 6,
    "start_time": "2023-11-12T19:55:48.681Z"
   },
   {
    "duration": 188,
    "start_time": "2023-11-12T19:55:52.856Z"
   },
   {
    "duration": 11,
    "start_time": "2023-11-12T19:56:00.817Z"
   },
   {
    "duration": 193,
    "start_time": "2023-11-12T19:56:04.080Z"
   },
   {
    "duration": 31,
    "start_time": "2023-11-12T19:56:17.140Z"
   },
   {
    "duration": 51,
    "start_time": "2023-11-12T19:57:37.409Z"
   },
   {
    "duration": 7,
    "start_time": "2023-11-12T19:57:38.745Z"
   },
   {
    "duration": 43,
    "start_time": "2023-11-12T19:57:39.181Z"
   },
   {
    "duration": 40,
    "start_time": "2023-11-12T19:59:18.680Z"
   },
   {
    "duration": 6,
    "start_time": "2023-11-12T20:03:50.059Z"
   },
   {
    "duration": 6,
    "start_time": "2023-11-12T20:04:03.694Z"
   },
   {
    "duration": 92,
    "start_time": "2023-11-12T20:04:22.298Z"
   },
   {
    "duration": 156,
    "start_time": "2023-11-12T20:04:31.286Z"
   },
   {
    "duration": 98,
    "start_time": "2023-11-12T20:04:43.698Z"
   },
   {
    "duration": 5,
    "start_time": "2023-11-12T20:05:10.820Z"
   },
   {
    "duration": 5,
    "start_time": "2023-11-12T20:05:51.921Z"
   },
   {
    "duration": 6,
    "start_time": "2023-11-12T20:06:33.170Z"
   },
   {
    "duration": 5,
    "start_time": "2023-11-12T20:06:51.030Z"
   },
   {
    "duration": 5,
    "start_time": "2023-11-12T20:07:13.942Z"
   },
   {
    "duration": 6,
    "start_time": "2023-11-12T20:07:18.528Z"
   },
   {
    "duration": 5,
    "start_time": "2023-11-12T20:07:29.469Z"
   },
   {
    "duration": 5,
    "start_time": "2023-11-12T20:07:36.733Z"
   },
   {
    "duration": 35,
    "start_time": "2023-11-12T20:07:52.344Z"
   },
   {
    "duration": 5,
    "start_time": "2023-11-12T20:08:32.246Z"
   },
   {
    "duration": 38,
    "start_time": "2023-11-12T20:08:34.597Z"
   },
   {
    "duration": 186,
    "start_time": "2023-11-12T20:08:48.977Z"
   },
   {
    "duration": 138,
    "start_time": "2023-11-12T20:08:53.888Z"
   },
   {
    "duration": 96,
    "start_time": "2023-11-12T20:08:54.763Z"
   },
   {
    "duration": 310,
    "start_time": "2023-11-12T20:09:00.115Z"
   },
   {
    "duration": 200,
    "start_time": "2023-11-12T20:09:03.461Z"
   },
   {
    "duration": 203,
    "start_time": "2023-11-12T20:09:10.208Z"
   },
   {
    "duration": 413,
    "start_time": "2023-11-12T20:10:19.511Z"
   },
   {
    "duration": 196,
    "start_time": "2023-11-12T20:10:57.003Z"
   },
   {
    "duration": 143,
    "start_time": "2023-11-12T20:11:42.163Z"
   },
   {
    "duration": 287,
    "start_time": "2023-11-12T20:14:40.609Z"
   },
   {
    "duration": 122,
    "start_time": "2023-11-12T20:16:26.362Z"
   },
   {
    "duration": 132,
    "start_time": "2023-11-12T20:19:26.102Z"
   },
   {
    "duration": 131,
    "start_time": "2023-11-12T20:20:21.199Z"
   },
   {
    "duration": 171,
    "start_time": "2023-11-12T20:21:23.710Z"
   },
   {
    "duration": 87,
    "start_time": "2023-11-12T20:22:17.188Z"
   },
   {
    "duration": 88,
    "start_time": "2023-11-12T20:22:22.991Z"
   },
   {
    "duration": 89,
    "start_time": "2023-11-12T20:22:26.764Z"
   },
   {
    "duration": 101,
    "start_time": "2023-11-12T20:22:38.694Z"
   },
   {
    "duration": 104,
    "start_time": "2023-11-12T20:22:41.124Z"
   },
   {
    "duration": 19,
    "start_time": "2023-11-12T20:22:41.231Z"
   },
   {
    "duration": 67,
    "start_time": "2023-11-12T20:22:41.252Z"
   },
   {
    "duration": 2252,
    "start_time": "2023-11-12T20:22:41.320Z"
   },
   {
    "duration": 6,
    "start_time": "2023-11-12T20:22:43.574Z"
   },
   {
    "duration": 30,
    "start_time": "2023-11-12T20:22:43.582Z"
   },
   {
    "duration": 33,
    "start_time": "2023-11-12T20:22:43.614Z"
   },
   {
    "duration": 8,
    "start_time": "2023-11-12T20:22:43.649Z"
   },
   {
    "duration": 6,
    "start_time": "2023-11-12T20:22:43.659Z"
   },
   {
    "duration": 45,
    "start_time": "2023-11-12T20:22:43.667Z"
   },
   {
    "duration": 14,
    "start_time": "2023-11-12T20:22:43.714Z"
   },
   {
    "duration": 8,
    "start_time": "2023-11-12T20:22:43.729Z"
   },
   {
    "duration": 8,
    "start_time": "2023-11-12T20:22:43.739Z"
   },
   {
    "duration": 11,
    "start_time": "2023-11-12T20:22:43.752Z"
   },
   {
    "duration": 48,
    "start_time": "2023-11-12T20:22:43.765Z"
   },
   {
    "duration": 9,
    "start_time": "2023-11-12T20:22:43.815Z"
   },
   {
    "duration": 63,
    "start_time": "2023-11-12T20:22:43.826Z"
   },
   {
    "duration": 31,
    "start_time": "2023-11-12T20:22:43.891Z"
   },
   {
    "duration": 7,
    "start_time": "2023-11-12T20:22:43.924Z"
   },
   {
    "duration": 4,
    "start_time": "2023-11-12T20:22:43.933Z"
   },
   {
    "duration": 6,
    "start_time": "2023-11-12T20:22:43.939Z"
   },
   {
    "duration": 9,
    "start_time": "2023-11-12T20:22:43.946Z"
   },
   {
    "duration": 5,
    "start_time": "2023-11-12T20:22:43.957Z"
   },
   {
    "duration": 342,
    "start_time": "2023-11-12T20:22:43.964Z"
   },
   {
    "duration": 8,
    "start_time": "2023-11-12T20:22:44.312Z"
   },
   {
    "duration": 332,
    "start_time": "2023-11-12T20:22:44.322Z"
   },
   {
    "duration": 11,
    "start_time": "2023-11-12T20:22:44.656Z"
   },
   {
    "duration": 330,
    "start_time": "2023-11-12T20:22:44.669Z"
   },
   {
    "duration": 15,
    "start_time": "2023-11-12T20:22:45.001Z"
   },
   {
    "duration": 41,
    "start_time": "2023-11-12T20:22:45.018Z"
   },
   {
    "duration": 17,
    "start_time": "2023-11-12T20:22:45.060Z"
   },
   {
    "duration": 31,
    "start_time": "2023-11-12T20:22:45.079Z"
   },
   {
    "duration": 303,
    "start_time": "2023-11-12T20:22:45.112Z"
   },
   {
    "duration": 9,
    "start_time": "2023-11-12T20:22:45.417Z"
   },
   {
    "duration": 324,
    "start_time": "2023-11-12T20:22:45.428Z"
   },
   {
    "duration": 6,
    "start_time": "2023-11-12T20:22:45.754Z"
   },
   {
    "duration": 204,
    "start_time": "2023-11-12T20:22:45.762Z"
   },
   {
    "duration": 8,
    "start_time": "2023-11-12T20:22:45.968Z"
   },
   {
    "duration": 223,
    "start_time": "2023-11-12T20:22:45.978Z"
   },
   {
    "duration": 33,
    "start_time": "2023-11-12T20:22:46.210Z"
   },
   {
    "duration": 33,
    "start_time": "2023-11-12T20:22:46.248Z"
   },
   {
    "duration": 32,
    "start_time": "2023-11-12T20:22:46.283Z"
   },
   {
    "duration": 49,
    "start_time": "2023-11-12T20:22:46.317Z"
   },
   {
    "duration": 247,
    "start_time": "2023-11-12T20:22:46.368Z"
   },
   {
    "duration": 160,
    "start_time": "2023-11-12T20:22:46.616Z"
   },
   {
    "duration": 108,
    "start_time": "2023-11-12T20:22:46.778Z"
   },
   {
    "duration": 341,
    "start_time": "2023-11-12T20:22:46.888Z"
   },
   {
    "duration": 440,
    "start_time": "2023-11-12T20:22:47.231Z"
   },
   {
    "duration": 211,
    "start_time": "2023-11-12T20:22:47.673Z"
   },
   {
    "duration": 212,
    "start_time": "2023-11-12T20:22:47.886Z"
   },
   {
    "duration": 214,
    "start_time": "2023-11-12T20:22:48.099Z"
   },
   {
    "duration": 183,
    "start_time": "2023-11-12T20:22:48.315Z"
   },
   {
    "duration": 14,
    "start_time": "2023-11-12T20:22:48.500Z"
   },
   {
    "duration": 152,
    "start_time": "2023-11-12T20:22:48.516Z"
   },
   {
    "duration": 145,
    "start_time": "2023-11-12T20:22:48.669Z"
   },
   {
    "duration": 184,
    "start_time": "2023-11-12T20:22:48.815Z"
   },
   {
    "duration": 187,
    "start_time": "2023-11-12T20:22:49.001Z"
   },
   {
    "duration": 169,
    "start_time": "2023-11-12T20:22:49.191Z"
   },
   {
    "duration": 11,
    "start_time": "2023-11-12T20:22:49.362Z"
   },
   {
    "duration": 107,
    "start_time": "2023-11-12T20:22:49.375Z"
   },
   {
    "duration": 324,
    "start_time": "2023-11-12T20:22:49.483Z"
   },
   {
    "duration": 305,
    "start_time": "2023-11-12T20:22:49.809Z"
   },
   {
    "duration": 13,
    "start_time": "2023-11-12T20:22:50.116Z"
   },
   {
    "duration": 10,
    "start_time": "2023-11-12T20:22:50.131Z"
   },
   {
    "duration": 125,
    "start_time": "2023-11-12T20:22:50.142Z"
   },
   {
    "duration": 319,
    "start_time": "2023-11-12T20:22:50.269Z"
   },
   {
    "duration": 320,
    "start_time": "2023-11-12T20:22:50.589Z"
   },
   {
    "duration": 7,
    "start_time": "2023-11-12T20:22:50.911Z"
   },
   {
    "duration": 168,
    "start_time": "2023-11-12T20:22:50.920Z"
   },
   {
    "duration": 24,
    "start_time": "2023-11-12T20:22:51.089Z"
   },
   {
    "duration": 5,
    "start_time": "2023-11-12T20:22:51.114Z"
   },
   {
    "duration": 198,
    "start_time": "2023-11-12T20:22:51.120Z"
   },
   {
    "duration": 13,
    "start_time": "2023-11-12T20:22:51.320Z"
   },
   {
    "duration": 5,
    "start_time": "2023-11-12T20:22:51.335Z"
   },
   {
    "duration": 187,
    "start_time": "2023-11-12T20:22:51.342Z"
   },
   {
    "duration": 13,
    "start_time": "2023-11-12T20:22:51.531Z"
   },
   {
    "duration": 6,
    "start_time": "2023-11-12T20:22:51.546Z"
   },
   {
    "duration": 60,
    "start_time": "2023-11-12T20:22:51.554Z"
   },
   {
    "duration": 182,
    "start_time": "2023-11-12T20:22:51.615Z"
   },
   {
    "duration": 5,
    "start_time": "2023-11-12T20:22:51.799Z"
   },
   {
    "duration": 402,
    "start_time": "2023-11-12T20:22:51.811Z"
   },
   {
    "duration": 178,
    "start_time": "2023-11-12T20:22:52.215Z"
   },
   {
    "duration": 181,
    "start_time": "2023-11-12T20:22:52.395Z"
   },
   {
    "duration": 177,
    "start_time": "2023-11-12T20:22:52.577Z"
   },
   {
    "duration": 33,
    "start_time": "2023-11-12T20:22:52.756Z"
   },
   {
    "duration": 0,
    "start_time": "2023-11-12T20:22:52.811Z"
   },
   {
    "duration": 0,
    "start_time": "2023-11-12T20:22:52.813Z"
   },
   {
    "duration": 90,
    "start_time": "2023-11-12T20:23:37.325Z"
   },
   {
    "duration": 3,
    "start_time": "2023-11-12T20:24:13.987Z"
   },
   {
    "duration": 90,
    "start_time": "2023-11-12T20:24:14.821Z"
   },
   {
    "duration": 13,
    "start_time": "2023-11-12T20:25:01.607Z"
   },
   {
    "duration": 101,
    "start_time": "2023-11-12T20:25:04.989Z"
   },
   {
    "duration": 89,
    "start_time": "2023-11-12T20:27:19.951Z"
   },
   {
    "duration": 13,
    "start_time": "2023-11-12T20:27:37.222Z"
   },
   {
    "duration": 102,
    "start_time": "2023-11-12T20:28:50.112Z"
   },
   {
    "duration": 85,
    "start_time": "2023-11-12T20:29:06.879Z"
   },
   {
    "duration": 88,
    "start_time": "2023-11-12T20:30:14.099Z"
   },
   {
    "duration": 106,
    "start_time": "2023-11-12T20:30:47.830Z"
   },
   {
    "duration": 12,
    "start_time": "2023-11-12T20:31:48.940Z"
   },
   {
    "duration": 84,
    "start_time": "2023-11-12T20:33:32.769Z"
   },
   {
    "duration": 311,
    "start_time": "2023-11-12T20:33:37.129Z"
   },
   {
    "duration": 318,
    "start_time": "2023-11-12T20:33:40.368Z"
   },
   {
    "duration": 14,
    "start_time": "2023-11-12T20:33:58.629Z"
   },
   {
    "duration": 10,
    "start_time": "2023-11-12T20:34:27.934Z"
   },
   {
    "duration": 90,
    "start_time": "2023-11-12T20:34:32.556Z"
   },
   {
    "duration": 327,
    "start_time": "2023-11-12T20:34:33.449Z"
   },
   {
    "duration": 306,
    "start_time": "2023-11-12T20:34:35.191Z"
   },
   {
    "duration": 8,
    "start_time": "2023-11-12T20:34:37.363Z"
   },
   {
    "duration": 107,
    "start_time": "2023-11-12T20:36:05.871Z"
   },
   {
    "duration": 5,
    "start_time": "2023-11-12T20:36:26.199Z"
   },
   {
    "duration": 101,
    "start_time": "2023-11-12T20:37:40.893Z"
   },
   {
    "duration": 27,
    "start_time": "2023-11-12T20:37:40.997Z"
   },
   {
    "duration": 22,
    "start_time": "2023-11-12T20:37:41.025Z"
   },
   {
    "duration": 2344,
    "start_time": "2023-11-12T20:37:41.048Z"
   },
   {
    "duration": 5,
    "start_time": "2023-11-12T20:37:43.395Z"
   },
   {
    "duration": 6,
    "start_time": "2023-11-12T20:37:43.410Z"
   },
   {
    "duration": 38,
    "start_time": "2023-11-12T20:37:43.418Z"
   },
   {
    "duration": 9,
    "start_time": "2023-11-12T20:37:43.458Z"
   },
   {
    "duration": 7,
    "start_time": "2023-11-12T20:37:43.468Z"
   },
   {
    "duration": 37,
    "start_time": "2023-11-12T20:37:43.477Z"
   },
   {
    "duration": 7,
    "start_time": "2023-11-12T20:37:43.516Z"
   },
   {
    "duration": 7,
    "start_time": "2023-11-12T20:37:43.525Z"
   },
   {
    "duration": 5,
    "start_time": "2023-11-12T20:37:43.535Z"
   },
   {
    "duration": 10,
    "start_time": "2023-11-12T20:37:43.544Z"
   },
   {
    "duration": 5,
    "start_time": "2023-11-12T20:37:43.555Z"
   },
   {
    "duration": 7,
    "start_time": "2023-11-12T20:37:43.562Z"
   },
   {
    "duration": 55,
    "start_time": "2023-11-12T20:37:43.612Z"
   },
   {
    "duration": 14,
    "start_time": "2023-11-12T20:37:43.669Z"
   },
   {
    "duration": 27,
    "start_time": "2023-11-12T20:37:43.685Z"
   },
   {
    "duration": 5,
    "start_time": "2023-11-12T20:37:43.713Z"
   },
   {
    "duration": 9,
    "start_time": "2023-11-12T20:37:43.719Z"
   },
   {
    "duration": 5,
    "start_time": "2023-11-12T20:37:43.729Z"
   },
   {
    "duration": 9,
    "start_time": "2023-11-12T20:37:43.736Z"
   },
   {
    "duration": 318,
    "start_time": "2023-11-12T20:37:43.746Z"
   },
   {
    "duration": 7,
    "start_time": "2023-11-12T20:37:44.065Z"
   },
   {
    "duration": 297,
    "start_time": "2023-11-12T20:37:44.073Z"
   },
   {
    "duration": 8,
    "start_time": "2023-11-12T20:37:44.372Z"
   },
   {
    "duration": 319,
    "start_time": "2023-11-12T20:37:44.382Z"
   },
   {
    "duration": 13,
    "start_time": "2023-11-12T20:37:44.703Z"
   },
   {
    "duration": 24,
    "start_time": "2023-11-12T20:37:44.718Z"
   },
   {
    "duration": 5,
    "start_time": "2023-11-12T20:37:44.744Z"
   },
   {
    "duration": 16,
    "start_time": "2023-11-12T20:37:44.751Z"
   },
   {
    "duration": 337,
    "start_time": "2023-11-12T20:37:44.769Z"
   },
   {
    "duration": 8,
    "start_time": "2023-11-12T20:37:45.110Z"
   },
   {
    "duration": 323,
    "start_time": "2023-11-12T20:37:45.120Z"
   },
   {
    "duration": 8,
    "start_time": "2023-11-12T20:37:45.445Z"
   },
   {
    "duration": 259,
    "start_time": "2023-11-12T20:37:45.454Z"
   },
   {
    "duration": 10,
    "start_time": "2023-11-12T20:37:45.714Z"
   },
   {
    "duration": 246,
    "start_time": "2023-11-12T20:37:45.726Z"
   },
   {
    "duration": 53,
    "start_time": "2023-11-12T20:37:45.974Z"
   },
   {
    "duration": 37,
    "start_time": "2023-11-12T20:37:46.033Z"
   },
   {
    "duration": 6,
    "start_time": "2023-11-12T20:37:46.072Z"
   },
   {
    "duration": 68,
    "start_time": "2023-11-12T20:37:46.080Z"
   },
   {
    "duration": 232,
    "start_time": "2023-11-12T20:37:46.151Z"
   },
   {
    "duration": 149,
    "start_time": "2023-11-12T20:37:46.385Z"
   },
   {
    "duration": 104,
    "start_time": "2023-11-12T20:37:46.535Z"
   },
   {
    "duration": 370,
    "start_time": "2023-11-12T20:37:46.640Z"
   },
   {
    "duration": 204,
    "start_time": "2023-11-12T20:37:47.012Z"
   },
   {
    "duration": 206,
    "start_time": "2023-11-12T20:37:47.218Z"
   },
   {
    "duration": 210,
    "start_time": "2023-11-12T20:37:47.426Z"
   },
   {
    "duration": 221,
    "start_time": "2023-11-12T20:37:47.638Z"
   },
   {
    "duration": 501,
    "start_time": "2023-11-12T20:37:47.862Z"
   },
   {
    "duration": 8,
    "start_time": "2023-11-12T20:37:48.365Z"
   },
   {
    "duration": 142,
    "start_time": "2023-11-12T20:37:48.375Z"
   },
   {
    "duration": 185,
    "start_time": "2023-11-12T20:37:48.519Z"
   },
   {
    "duration": 203,
    "start_time": "2023-11-12T20:37:48.710Z"
   },
   {
    "duration": 194,
    "start_time": "2023-11-12T20:37:48.915Z"
   },
   {
    "duration": 171,
    "start_time": "2023-11-12T20:37:49.111Z"
   },
   {
    "duration": 13,
    "start_time": "2023-11-12T20:37:49.284Z"
   },
   {
    "duration": 16,
    "start_time": "2023-11-12T20:37:49.299Z"
   },
   {
    "duration": 118,
    "start_time": "2023-11-12T20:37:49.317Z"
   },
   {
    "duration": 318,
    "start_time": "2023-11-12T20:37:49.437Z"
   },
   {
    "duration": 314,
    "start_time": "2023-11-12T20:37:49.758Z"
   },
   {
    "duration": 13,
    "start_time": "2023-11-12T20:37:50.075Z"
   },
   {
    "duration": 25,
    "start_time": "2023-11-12T20:37:50.090Z"
   },
   {
    "duration": 101,
    "start_time": "2023-11-12T20:37:50.116Z"
   },
   {
    "duration": 322,
    "start_time": "2023-11-12T20:37:50.219Z"
   },
   {
    "duration": 297,
    "start_time": "2023-11-12T20:37:50.543Z"
   },
   {
    "duration": 8,
    "start_time": "2023-11-12T20:37:50.842Z"
   },
   {
    "duration": 154,
    "start_time": "2023-11-12T20:37:50.851Z"
   },
   {
    "duration": 12,
    "start_time": "2023-11-12T20:37:51.011Z"
   },
   {
    "duration": 4,
    "start_time": "2023-11-12T20:37:51.025Z"
   },
   {
    "duration": 183,
    "start_time": "2023-11-12T20:37:51.031Z"
   },
   {
    "duration": 12,
    "start_time": "2023-11-12T20:37:51.216Z"
   },
   {
    "duration": 8,
    "start_time": "2023-11-12T20:37:51.230Z"
   },
   {
    "duration": 167,
    "start_time": "2023-11-12T20:37:51.239Z"
   },
   {
    "duration": 14,
    "start_time": "2023-11-12T20:37:51.407Z"
   },
   {
    "duration": 5,
    "start_time": "2023-11-12T20:37:51.423Z"
   },
   {
    "duration": 21,
    "start_time": "2023-11-12T20:37:51.429Z"
   },
   {
    "duration": 197,
    "start_time": "2023-11-12T20:37:51.452Z"
   },
   {
    "duration": 4,
    "start_time": "2023-11-12T20:37:51.651Z"
   },
   {
    "duration": 156,
    "start_time": "2023-11-12T20:37:51.657Z"
   },
   {
    "duration": 172,
    "start_time": "2023-11-12T20:37:51.815Z"
   },
   {
    "duration": 188,
    "start_time": "2023-11-12T20:37:51.989Z"
   },
   {
    "duration": 169,
    "start_time": "2023-11-12T20:37:52.179Z"
   },
   {
    "duration": 31,
    "start_time": "2023-11-12T20:37:52.350Z"
   },
   {
    "duration": 0,
    "start_time": "2023-11-12T20:37:52.383Z"
   },
   {
    "duration": 0,
    "start_time": "2023-11-12T20:37:52.384Z"
   },
   {
    "duration": 103,
    "start_time": "2023-11-12T20:37:52.563Z"
   },
   {
    "duration": 15,
    "start_time": "2023-11-12T20:37:54.034Z"
   },
   {
    "duration": 22,
    "start_time": "2023-11-12T20:37:54.658Z"
   },
   {
    "duration": 2396,
    "start_time": "2023-11-12T20:37:56.228Z"
   },
   {
    "duration": 7,
    "start_time": "2023-11-12T20:38:14.463Z"
   },
   {
    "duration": 6,
    "start_time": "2023-11-12T20:38:21.321Z"
   },
   {
    "duration": 39,
    "start_time": "2023-11-12T20:38:23.086Z"
   },
   {
    "duration": 9,
    "start_time": "2023-11-12T20:38:26.063Z"
   },
   {
    "duration": 7,
    "start_time": "2023-11-12T20:38:28.428Z"
   },
   {
    "duration": 6,
    "start_time": "2023-11-12T20:38:31.461Z"
   },
   {
    "duration": 8,
    "start_time": "2023-11-12T20:38:34.853Z"
   },
   {
    "duration": 7,
    "start_time": "2023-11-12T20:38:35.168Z"
   },
   {
    "duration": 7,
    "start_time": "2023-11-12T20:38:38.225Z"
   },
   {
    "duration": 10,
    "start_time": "2023-11-12T20:38:39.357Z"
   },
   {
    "duration": 4,
    "start_time": "2023-11-12T20:38:40.322Z"
   },
   {
    "duration": 6,
    "start_time": "2023-11-12T20:38:41.701Z"
   },
   {
    "duration": 74,
    "start_time": "2023-11-12T20:38:43.605Z"
   },
   {
    "duration": 14,
    "start_time": "2023-11-12T20:38:44.563Z"
   },
   {
    "duration": 8,
    "start_time": "2023-11-12T20:38:44.835Z"
   },
   {
    "duration": 5,
    "start_time": "2023-11-12T20:38:48.310Z"
   },
   {
    "duration": 6,
    "start_time": "2023-11-12T20:38:48.837Z"
   },
   {
    "duration": 6,
    "start_time": "2023-11-12T20:38:49.966Z"
   },
   {
    "duration": 6,
    "start_time": "2023-11-12T20:38:50.529Z"
   },
   {
    "duration": 302,
    "start_time": "2023-11-12T20:38:50.980Z"
   },
   {
    "duration": 6,
    "start_time": "2023-11-12T20:38:53.994Z"
   },
   {
    "duration": 297,
    "start_time": "2023-11-12T20:38:59.904Z"
   },
   {
    "duration": 9,
    "start_time": "2023-11-12T20:39:13.730Z"
   },
   {
    "duration": 307,
    "start_time": "2023-11-12T20:39:16.134Z"
   },
   {
    "duration": 9,
    "start_time": "2023-11-12T20:39:29.232Z"
   },
   {
    "duration": 27,
    "start_time": "2023-11-12T20:39:33.303Z"
   },
   {
    "duration": 5,
    "start_time": "2023-11-12T20:39:35.791Z"
   },
   {
    "duration": 17,
    "start_time": "2023-11-12T20:39:37.938Z"
   },
   {
    "duration": 302,
    "start_time": "2023-11-12T20:39:43.600Z"
   },
   {
    "duration": 9,
    "start_time": "2023-11-12T20:39:49.390Z"
   },
   {
    "duration": 299,
    "start_time": "2023-11-12T20:39:52.857Z"
   },
   {
    "duration": 6,
    "start_time": "2023-11-12T20:39:58.010Z"
   },
   {
    "duration": 209,
    "start_time": "2023-11-12T20:40:06.174Z"
   },
   {
    "duration": 11,
    "start_time": "2023-11-12T20:40:08.580Z"
   },
   {
    "duration": 204,
    "start_time": "2023-11-12T20:40:14.881Z"
   },
   {
    "duration": 32,
    "start_time": "2023-11-12T20:40:17.428Z"
   },
   {
    "duration": 32,
    "start_time": "2023-11-12T20:40:22.153Z"
   },
   {
    "duration": 6,
    "start_time": "2023-11-12T20:40:28.052Z"
   },
   {
    "duration": 44,
    "start_time": "2023-11-12T20:40:29.389Z"
   },
   {
    "duration": 186,
    "start_time": "2023-11-12T20:40:45.867Z"
   },
   {
    "duration": 136,
    "start_time": "2023-11-12T20:41:04.863Z"
   },
   {
    "duration": 94,
    "start_time": "2023-11-12T20:41:07.857Z"
   },
   {
    "duration": 296,
    "start_time": "2023-11-12T20:41:14.491Z"
   },
   {
    "duration": 203,
    "start_time": "2023-11-12T20:41:25.763Z"
   },
   {
    "duration": 189,
    "start_time": "2023-11-12T20:41:36.744Z"
   },
   {
    "duration": 192,
    "start_time": "2023-11-12T20:41:42.333Z"
   },
   {
    "duration": 205,
    "start_time": "2023-11-12T20:41:53.986Z"
   },
   {
    "duration": 153,
    "start_time": "2023-11-12T20:42:08.941Z"
   },
   {
    "duration": 8,
    "start_time": "2023-11-12T20:42:09.850Z"
   },
   {
    "duration": 116,
    "start_time": "2023-11-12T20:42:11.737Z"
   },
   {
    "duration": 131,
    "start_time": "2023-11-12T20:42:12.296Z"
   },
   {
    "duration": 174,
    "start_time": "2023-11-12T20:42:16.183Z"
   },
   {
    "duration": 156,
    "start_time": "2023-11-12T20:42:17.189Z"
   },
   {
    "duration": 157,
    "start_time": "2023-11-12T20:42:17.732Z"
   },
   {
    "duration": 11,
    "start_time": "2023-11-12T20:43:31.424Z"
   },
   {
    "duration": 6,
    "start_time": "2023-11-12T20:43:34.652Z"
   },
   {
    "duration": 98,
    "start_time": "2023-11-12T20:43:35.571Z"
   },
   {
    "duration": 14,
    "start_time": "2023-11-12T20:44:50.872Z"
   },
   {
    "duration": 11,
    "start_time": "2023-11-12T20:45:33.039Z"
   },
   {
    "duration": 86,
    "start_time": "2023-11-12T20:45:34.631Z"
   },
   {
    "duration": 17,
    "start_time": "2023-11-12T20:45:43.831Z"
   },
   {
    "duration": 6,
    "start_time": "2023-11-12T20:46:07.385Z"
   },
   {
    "duration": 5,
    "start_time": "2023-11-12T20:46:24.580Z"
   },
   {
    "duration": 85,
    "start_time": "2023-11-12T20:48:18.198Z"
   },
   {
    "duration": 311,
    "start_time": "2023-11-12T20:48:34.026Z"
   },
   {
    "duration": 103,
    "start_time": "2023-11-12T20:50:05.816Z"
   },
   {
    "duration": 15,
    "start_time": "2023-11-12T20:50:05.921Z"
   },
   {
    "duration": 30,
    "start_time": "2023-11-12T20:50:05.937Z"
   },
   {
    "duration": 2401,
    "start_time": "2023-11-12T20:50:05.970Z"
   },
   {
    "duration": 5,
    "start_time": "2023-11-12T20:50:08.372Z"
   },
   {
    "duration": 9,
    "start_time": "2023-11-12T20:50:08.379Z"
   },
   {
    "duration": 48,
    "start_time": "2023-11-12T20:50:08.390Z"
   },
   {
    "duration": 8,
    "start_time": "2023-11-12T20:50:08.439Z"
   },
   {
    "duration": 9,
    "start_time": "2023-11-12T20:50:08.448Z"
   },
   {
    "duration": 7,
    "start_time": "2023-11-12T20:50:08.460Z"
   },
   {
    "duration": 43,
    "start_time": "2023-11-12T20:50:08.468Z"
   },
   {
    "duration": 11,
    "start_time": "2023-11-12T20:50:08.514Z"
   },
   {
    "duration": 8,
    "start_time": "2023-11-12T20:50:08.527Z"
   },
   {
    "duration": 11,
    "start_time": "2023-11-12T20:50:08.537Z"
   },
   {
    "duration": 5,
    "start_time": "2023-11-12T20:50:08.551Z"
   },
   {
    "duration": 8,
    "start_time": "2023-11-12T20:50:08.558Z"
   },
   {
    "duration": 94,
    "start_time": "2023-11-12T20:50:08.568Z"
   },
   {
    "duration": 14,
    "start_time": "2023-11-12T20:50:08.664Z"
   },
   {
    "duration": 8,
    "start_time": "2023-11-12T20:50:08.679Z"
   },
   {
    "duration": 5,
    "start_time": "2023-11-12T20:50:08.710Z"
   },
   {
    "duration": 12,
    "start_time": "2023-11-12T20:50:08.717Z"
   },
   {
    "duration": 6,
    "start_time": "2023-11-12T20:50:08.730Z"
   },
   {
    "duration": 5,
    "start_time": "2023-11-12T20:50:08.738Z"
   },
   {
    "duration": 325,
    "start_time": "2023-11-12T20:50:08.744Z"
   },
   {
    "duration": 6,
    "start_time": "2023-11-12T20:50:09.071Z"
   },
   {
    "duration": 306,
    "start_time": "2023-11-12T20:50:09.078Z"
   },
   {
    "duration": 8,
    "start_time": "2023-11-12T20:50:09.385Z"
   },
   {
    "duration": 308,
    "start_time": "2023-11-12T20:50:09.410Z"
   },
   {
    "duration": 9,
    "start_time": "2023-11-12T20:50:09.720Z"
   },
   {
    "duration": 26,
    "start_time": "2023-11-12T20:50:09.731Z"
   },
   {
    "duration": 6,
    "start_time": "2023-11-12T20:50:09.759Z"
   },
   {
    "duration": 45,
    "start_time": "2023-11-12T20:50:09.767Z"
   },
   {
    "duration": 291,
    "start_time": "2023-11-12T20:50:09.814Z"
   },
   {
    "duration": 11,
    "start_time": "2023-11-12T20:50:10.107Z"
   },
   {
    "duration": 313,
    "start_time": "2023-11-12T20:50:10.119Z"
   },
   {
    "duration": 6,
    "start_time": "2023-11-12T20:50:10.434Z"
   },
   {
    "duration": 204,
    "start_time": "2023-11-12T20:50:10.442Z"
   },
   {
    "duration": 8,
    "start_time": "2023-11-12T20:50:10.651Z"
   },
   {
    "duration": 199,
    "start_time": "2023-11-12T20:50:10.660Z"
   },
   {
    "duration": 32,
    "start_time": "2023-11-12T20:50:10.860Z"
   },
   {
    "duration": 48,
    "start_time": "2023-11-12T20:50:10.893Z"
   },
   {
    "duration": 5,
    "start_time": "2023-11-12T20:50:10.943Z"
   },
   {
    "duration": 64,
    "start_time": "2023-11-12T20:50:10.950Z"
   },
   {
    "duration": 188,
    "start_time": "2023-11-12T20:50:11.015Z"
   },
   {
    "duration": 170,
    "start_time": "2023-11-12T20:50:11.205Z"
   },
   {
    "duration": 99,
    "start_time": "2023-11-12T20:50:11.377Z"
   },
   {
    "duration": 337,
    "start_time": "2023-11-12T20:50:11.477Z"
   },
   {
    "duration": 232,
    "start_time": "2023-11-12T20:50:11.816Z"
   },
   {
    "duration": 211,
    "start_time": "2023-11-12T20:50:12.050Z"
   },
   {
    "duration": 209,
    "start_time": "2023-11-12T20:50:12.263Z"
   },
   {
    "duration": 217,
    "start_time": "2023-11-12T20:50:12.474Z"
   },
   {
    "duration": 170,
    "start_time": "2023-11-12T20:50:12.693Z"
   },
   {
    "duration": 9,
    "start_time": "2023-11-12T20:50:12.865Z"
   },
   {
    "duration": 124,
    "start_time": "2023-11-12T20:50:12.875Z"
   },
   {
    "duration": 133,
    "start_time": "2023-11-12T20:50:13.001Z"
   },
   {
    "duration": 180,
    "start_time": "2023-11-12T20:50:13.135Z"
   },
   {
    "duration": 174,
    "start_time": "2023-11-12T20:50:13.316Z"
   },
   {
    "duration": 165,
    "start_time": "2023-11-12T20:50:13.492Z"
   },
   {
    "duration": 11,
    "start_time": "2023-11-12T20:50:13.659Z"
   },
   {
    "duration": 5,
    "start_time": "2023-11-12T20:50:13.671Z"
   },
   {
    "duration": 761,
    "start_time": "2023-11-12T20:50:13.677Z"
   },
   {
    "duration": 315,
    "start_time": "2023-11-12T20:50:14.439Z"
   },
   {
    "duration": 13,
    "start_time": "2023-11-12T20:50:14.756Z"
   },
   {
    "duration": 26,
    "start_time": "2023-11-12T20:50:14.771Z"
   },
   {
    "duration": 104,
    "start_time": "2023-11-12T20:50:14.798Z"
   },
   {
    "duration": 317,
    "start_time": "2023-11-12T20:50:14.904Z"
   },
   {
    "duration": 307,
    "start_time": "2023-11-12T20:50:15.223Z"
   },
   {
    "duration": 8,
    "start_time": "2023-11-12T20:50:15.532Z"
   },
   {
    "duration": 203,
    "start_time": "2023-11-12T20:50:15.542Z"
   },
   {
    "duration": 11,
    "start_time": "2023-11-12T20:50:15.747Z"
   },
   {
    "duration": 11,
    "start_time": "2023-11-12T20:50:15.760Z"
   },
   {
    "duration": 183,
    "start_time": "2023-11-12T20:50:15.772Z"
   },
   {
    "duration": 13,
    "start_time": "2023-11-12T20:50:15.957Z"
   },
   {
    "duration": 6,
    "start_time": "2023-11-12T20:50:15.972Z"
   },
   {
    "duration": 170,
    "start_time": "2023-11-12T20:50:15.980Z"
   },
   {
    "duration": 12,
    "start_time": "2023-11-12T20:50:16.152Z"
   },
   {
    "duration": 12,
    "start_time": "2023-11-12T20:50:16.166Z"
   },
   {
    "duration": 40,
    "start_time": "2023-11-12T20:50:16.179Z"
   },
   {
    "duration": 175,
    "start_time": "2023-11-12T20:50:16.221Z"
   },
   {
    "duration": 13,
    "start_time": "2023-11-12T20:50:16.398Z"
   },
   {
    "duration": 158,
    "start_time": "2023-11-12T20:50:16.412Z"
   },
   {
    "duration": 169,
    "start_time": "2023-11-12T20:50:16.576Z"
   },
   {
    "duration": 178,
    "start_time": "2023-11-12T20:50:16.747Z"
   },
   {
    "duration": 178,
    "start_time": "2023-11-12T20:50:16.927Z"
   },
   {
    "duration": 31,
    "start_time": "2023-11-12T20:50:17.111Z"
   },
   {
    "duration": 0,
    "start_time": "2023-11-12T20:50:17.144Z"
   },
   {
    "duration": 0,
    "start_time": "2023-11-12T20:50:17.145Z"
   },
   {
    "duration": 40,
    "start_time": "2023-11-12T20:50:39.101Z"
   },
   {
    "duration": 41,
    "start_time": "2023-11-12T20:50:55.565Z"
   },
   {
    "duration": 39,
    "start_time": "2023-11-12T20:50:59.546Z"
   },
   {
    "duration": 5,
    "start_time": "2023-11-12T20:51:03.011Z"
   },
   {
    "duration": 39,
    "start_time": "2023-11-12T20:51:03.653Z"
   },
   {
    "duration": 103,
    "start_time": "2023-11-12T20:51:21.289Z"
   },
   {
    "duration": 17,
    "start_time": "2023-11-12T20:51:21.412Z"
   },
   {
    "duration": 27,
    "start_time": "2023-11-12T20:51:21.431Z"
   },
   {
    "duration": 2056,
    "start_time": "2023-11-12T20:51:21.460Z"
   },
   {
    "duration": 5,
    "start_time": "2023-11-12T20:51:23.518Z"
   },
   {
    "duration": 16,
    "start_time": "2023-11-12T20:51:23.525Z"
   },
   {
    "duration": 35,
    "start_time": "2023-11-12T20:51:23.543Z"
   },
   {
    "duration": 10,
    "start_time": "2023-11-12T20:51:23.580Z"
   },
   {
    "duration": 9,
    "start_time": "2023-11-12T20:51:23.610Z"
   },
   {
    "duration": 5,
    "start_time": "2023-11-12T20:51:23.622Z"
   },
   {
    "duration": 8,
    "start_time": "2023-11-12T20:51:23.628Z"
   },
   {
    "duration": 8,
    "start_time": "2023-11-12T20:51:23.638Z"
   },
   {
    "duration": 7,
    "start_time": "2023-11-12T20:51:23.648Z"
   },
   {
    "duration": 10,
    "start_time": "2023-11-12T20:51:23.656Z"
   },
   {
    "duration": 5,
    "start_time": "2023-11-12T20:51:23.668Z"
   },
   {
    "duration": 6,
    "start_time": "2023-11-12T20:51:23.712Z"
   },
   {
    "duration": 60,
    "start_time": "2023-11-12T20:51:23.720Z"
   },
   {
    "duration": 40,
    "start_time": "2023-11-12T20:51:23.781Z"
   },
   {
    "duration": 7,
    "start_time": "2023-11-12T20:51:23.823Z"
   },
   {
    "duration": 4,
    "start_time": "2023-11-12T20:51:23.832Z"
   },
   {
    "duration": 17,
    "start_time": "2023-11-12T20:51:23.838Z"
   },
   {
    "duration": 6,
    "start_time": "2023-11-12T20:51:23.856Z"
   },
   {
    "duration": 5,
    "start_time": "2023-11-12T20:51:23.864Z"
   },
   {
    "duration": 321,
    "start_time": "2023-11-12T20:51:23.871Z"
   },
   {
    "duration": 6,
    "start_time": "2023-11-12T20:51:24.193Z"
   },
   {
    "duration": 295,
    "start_time": "2023-11-12T20:51:24.211Z"
   },
   {
    "duration": 8,
    "start_time": "2023-11-12T20:51:24.511Z"
   },
   {
    "duration": 325,
    "start_time": "2023-11-12T20:51:24.523Z"
   },
   {
    "duration": 8,
    "start_time": "2023-11-12T20:51:24.850Z"
   },
   {
    "duration": 24,
    "start_time": "2023-11-12T20:51:24.860Z"
   },
   {
    "duration": 27,
    "start_time": "2023-11-12T20:51:24.885Z"
   },
   {
    "duration": 15,
    "start_time": "2023-11-12T20:51:24.914Z"
   },
   {
    "duration": 310,
    "start_time": "2023-11-12T20:51:24.931Z"
   },
   {
    "duration": 8,
    "start_time": "2023-11-12T20:51:25.242Z"
   },
   {
    "duration": 303,
    "start_time": "2023-11-12T20:51:25.251Z"
   },
   {
    "duration": 5,
    "start_time": "2023-11-12T20:51:25.556Z"
   },
   {
    "duration": 217,
    "start_time": "2023-11-12T20:51:25.563Z"
   },
   {
    "duration": 8,
    "start_time": "2023-11-12T20:51:25.782Z"
   },
   {
    "duration": 209,
    "start_time": "2023-11-12T20:51:25.791Z"
   },
   {
    "duration": 35,
    "start_time": "2023-11-12T20:51:26.001Z"
   },
   {
    "duration": 34,
    "start_time": "2023-11-12T20:51:26.038Z"
   },
   {
    "duration": 6,
    "start_time": "2023-11-12T20:51:26.074Z"
   },
   {
    "duration": 67,
    "start_time": "2023-11-12T20:51:26.081Z"
   },
   {
    "duration": 209,
    "start_time": "2023-11-12T20:51:26.150Z"
   },
   {
    "duration": 139,
    "start_time": "2023-11-12T20:51:26.360Z"
   },
   {
    "duration": 545,
    "start_time": "2023-11-12T20:51:26.501Z"
   },
   {
    "duration": 306,
    "start_time": "2023-11-12T20:51:27.048Z"
   },
   {
    "duration": 199,
    "start_time": "2023-11-12T20:51:27.355Z"
   },
   {
    "duration": 207,
    "start_time": "2023-11-12T20:51:27.556Z"
   },
   {
    "duration": 214,
    "start_time": "2023-11-12T20:51:27.764Z"
   },
   {
    "duration": 199,
    "start_time": "2023-11-12T20:51:27.979Z"
   },
   {
    "duration": 164,
    "start_time": "2023-11-12T20:51:28.179Z"
   },
   {
    "duration": 9,
    "start_time": "2023-11-12T20:51:28.344Z"
   },
   {
    "duration": 136,
    "start_time": "2023-11-12T20:51:28.354Z"
   },
   {
    "duration": 143,
    "start_time": "2023-11-12T20:51:28.492Z"
   },
   {
    "duration": 166,
    "start_time": "2023-11-12T20:51:28.637Z"
   },
   {
    "duration": 182,
    "start_time": "2023-11-12T20:51:28.804Z"
   },
   {
    "duration": 170,
    "start_time": "2023-11-12T20:51:28.987Z"
   },
   {
    "duration": 11,
    "start_time": "2023-11-12T20:51:29.158Z"
   },
   {
    "duration": 5,
    "start_time": "2023-11-12T20:51:29.171Z"
   },
   {
    "duration": 348,
    "start_time": "2023-11-12T20:51:29.177Z"
   },
   {
    "duration": 321,
    "start_time": "2023-11-12T20:51:29.526Z"
   },
   {
    "duration": 19,
    "start_time": "2023-11-12T20:51:29.848Z"
   },
   {
    "duration": 12,
    "start_time": "2023-11-12T20:51:29.869Z"
   },
   {
    "duration": 106,
    "start_time": "2023-11-12T20:51:29.883Z"
   },
   {
    "duration": 325,
    "start_time": "2023-11-12T20:51:29.991Z"
   },
   {
    "duration": 308,
    "start_time": "2023-11-12T20:51:30.318Z"
   },
   {
    "duration": 8,
    "start_time": "2023-11-12T20:51:30.628Z"
   },
   {
    "duration": 175,
    "start_time": "2023-11-12T20:51:30.638Z"
   },
   {
    "duration": 12,
    "start_time": "2023-11-12T20:51:30.815Z"
   },
   {
    "duration": 38,
    "start_time": "2023-11-12T20:51:30.829Z"
   },
   {
    "duration": 221,
    "start_time": "2023-11-12T20:51:30.868Z"
   },
   {
    "duration": 22,
    "start_time": "2023-11-12T20:51:31.091Z"
   },
   {
    "duration": 20,
    "start_time": "2023-11-12T20:51:31.116Z"
   },
   {
    "duration": 193,
    "start_time": "2023-11-12T20:51:31.139Z"
   },
   {
    "duration": 13,
    "start_time": "2023-11-12T20:51:31.334Z"
   },
   {
    "duration": 24,
    "start_time": "2023-11-12T20:51:31.348Z"
   },
   {
    "duration": 42,
    "start_time": "2023-11-12T20:51:31.374Z"
   },
   {
    "duration": 189,
    "start_time": "2023-11-12T20:51:31.418Z"
   },
   {
    "duration": 18,
    "start_time": "2023-11-12T20:51:31.609Z"
   },
   {
    "duration": 170,
    "start_time": "2023-11-12T20:51:31.628Z"
   },
   {
    "duration": 190,
    "start_time": "2023-11-12T20:51:31.804Z"
   },
   {
    "duration": 235,
    "start_time": "2023-11-12T20:51:31.996Z"
   },
   {
    "duration": 201,
    "start_time": "2023-11-12T20:51:32.233Z"
   },
   {
    "duration": 32,
    "start_time": "2023-11-12T20:51:32.435Z"
   },
   {
    "duration": 0,
    "start_time": "2023-11-12T20:51:32.469Z"
   },
   {
    "duration": 0,
    "start_time": "2023-11-12T20:51:32.470Z"
   },
   {
    "duration": 90,
    "start_time": "2023-11-12T20:52:36.837Z"
   },
   {
    "duration": 95,
    "start_time": "2023-11-12T20:52:46.031Z"
   },
   {
    "duration": 312,
    "start_time": "2023-11-12T20:52:48.485Z"
   },
   {
    "duration": 296,
    "start_time": "2023-11-12T20:52:49.287Z"
   },
   {
    "duration": 14,
    "start_time": "2023-11-12T20:52:53.143Z"
   },
   {
    "duration": 12,
    "start_time": "2023-11-12T20:53:11.576Z"
   },
   {
    "duration": 90,
    "start_time": "2023-11-12T20:53:13.053Z"
   },
   {
    "duration": 319,
    "start_time": "2023-11-12T20:53:15.903Z"
   },
   {
    "duration": 302,
    "start_time": "2023-11-12T20:53:18.863Z"
   },
   {
    "duration": 8,
    "start_time": "2023-11-12T20:53:22.271Z"
   },
   {
    "duration": 342,
    "start_time": "2023-11-12T20:54:28.360Z"
   },
   {
    "duration": 304,
    "start_time": "2023-11-12T20:54:47.115Z"
   },
   {
    "duration": 28,
    "start_time": "2023-11-12T20:55:01.757Z"
   },
   {
    "duration": 86,
    "start_time": "2023-11-12T20:55:13.321Z"
   },
   {
    "duration": 10,
    "start_time": "2023-11-12T20:55:21.299Z"
   },
   {
    "duration": 101,
    "start_time": "2023-11-12T20:55:22.434Z"
   },
   {
    "duration": 306,
    "start_time": "2023-11-12T20:55:24.874Z"
   },
   {
    "duration": 305,
    "start_time": "2023-11-12T20:55:52.721Z"
   },
   {
    "duration": 664,
    "start_time": "2023-11-12T21:03:09.958Z"
   },
   {
    "duration": 328,
    "start_time": "2023-11-12T21:03:16.260Z"
   },
   {
    "duration": 313,
    "start_time": "2023-11-12T21:03:17.585Z"
   },
   {
    "duration": 11,
    "start_time": "2023-11-12T21:03:55.829Z"
   },
   {
    "duration": 89,
    "start_time": "2023-11-12T21:04:00.123Z"
   },
   {
    "duration": 330,
    "start_time": "2023-11-12T21:04:01.030Z"
   },
   {
    "duration": 303,
    "start_time": "2023-11-12T21:04:07.949Z"
   },
   {
    "duration": 85,
    "start_time": "2023-11-12T21:05:14.871Z"
   },
   {
    "duration": 76,
    "start_time": "2023-11-12T21:07:24.393Z"
   },
   {
    "duration": 6,
    "start_time": "2023-11-12T21:08:18.301Z"
   },
   {
    "duration": 37,
    "start_time": "2023-11-12T21:15:02.803Z"
   },
   {
    "duration": 49,
    "start_time": "2023-11-12T21:15:05.143Z"
   },
   {
    "duration": 123,
    "start_time": "2023-11-12T21:15:30.516Z"
   },
   {
    "duration": 16,
    "start_time": "2023-11-12T21:15:30.641Z"
   },
   {
    "duration": 56,
    "start_time": "2023-11-12T21:15:30.658Z"
   },
   {
    "duration": 2171,
    "start_time": "2023-11-12T21:15:30.716Z"
   },
   {
    "duration": 7,
    "start_time": "2023-11-12T21:15:32.889Z"
   },
   {
    "duration": 7,
    "start_time": "2023-11-12T21:15:32.911Z"
   },
   {
    "duration": 30,
    "start_time": "2023-11-12T21:15:32.920Z"
   },
   {
    "duration": 8,
    "start_time": "2023-11-12T21:15:32.952Z"
   },
   {
    "duration": 7,
    "start_time": "2023-11-12T21:15:32.963Z"
   },
   {
    "duration": 11,
    "start_time": "2023-11-12T21:15:32.972Z"
   },
   {
    "duration": 9,
    "start_time": "2023-11-12T21:15:33.012Z"
   },
   {
    "duration": 7,
    "start_time": "2023-11-12T21:15:33.023Z"
   },
   {
    "duration": 14,
    "start_time": "2023-11-12T21:15:33.032Z"
   },
   {
    "duration": 11,
    "start_time": "2023-11-12T21:15:33.050Z"
   },
   {
    "duration": 7,
    "start_time": "2023-11-12T21:15:33.063Z"
   },
   {
    "duration": 42,
    "start_time": "2023-11-12T21:15:33.071Z"
   },
   {
    "duration": 59,
    "start_time": "2023-11-12T21:15:33.115Z"
   },
   {
    "duration": 14,
    "start_time": "2023-11-12T21:15:33.176Z"
   },
   {
    "duration": 24,
    "start_time": "2023-11-12T21:15:33.192Z"
   },
   {
    "duration": 5,
    "start_time": "2023-11-12T21:15:33.218Z"
   },
   {
    "duration": 12,
    "start_time": "2023-11-12T21:15:33.225Z"
   },
   {
    "duration": 6,
    "start_time": "2023-11-12T21:15:33.239Z"
   },
   {
    "duration": 6,
    "start_time": "2023-11-12T21:15:33.247Z"
   },
   {
    "duration": 364,
    "start_time": "2023-11-12T21:15:33.255Z"
   },
   {
    "duration": 7,
    "start_time": "2023-11-12T21:15:33.621Z"
   },
   {
    "duration": 314,
    "start_time": "2023-11-12T21:15:33.629Z"
   },
   {
    "duration": 9,
    "start_time": "2023-11-12T21:15:33.945Z"
   },
   {
    "duration": 323,
    "start_time": "2023-11-12T21:15:33.955Z"
   },
   {
    "duration": 9,
    "start_time": "2023-11-12T21:15:34.279Z"
   },
   {
    "duration": 38,
    "start_time": "2023-11-12T21:15:34.290Z"
   },
   {
    "duration": 6,
    "start_time": "2023-11-12T21:15:34.330Z"
   },
   {
    "duration": 16,
    "start_time": "2023-11-12T21:15:34.337Z"
   },
   {
    "duration": 334,
    "start_time": "2023-11-12T21:15:34.355Z"
   },
   {
    "duration": 9,
    "start_time": "2023-11-12T21:15:34.691Z"
   },
   {
    "duration": 326,
    "start_time": "2023-11-12T21:15:34.712Z"
   },
   {
    "duration": 11,
    "start_time": "2023-11-12T21:15:35.040Z"
   },
   {
    "duration": 239,
    "start_time": "2023-11-12T21:15:35.053Z"
   },
   {
    "duration": 27,
    "start_time": "2023-11-12T21:15:35.294Z"
   },
   {
    "duration": 221,
    "start_time": "2023-11-12T21:15:35.322Z"
   },
   {
    "duration": 32,
    "start_time": "2023-11-12T21:15:35.545Z"
   },
   {
    "duration": 67,
    "start_time": "2023-11-12T21:15:35.582Z"
   },
   {
    "duration": 8,
    "start_time": "2023-11-12T21:15:35.652Z"
   },
   {
    "duration": 78,
    "start_time": "2023-11-12T21:15:35.662Z"
   },
   {
    "duration": 211,
    "start_time": "2023-11-12T21:15:35.743Z"
   },
   {
    "duration": 172,
    "start_time": "2023-11-12T21:15:35.956Z"
   },
   {
    "duration": 120,
    "start_time": "2023-11-12T21:15:36.130Z"
   },
   {
    "duration": 345,
    "start_time": "2023-11-12T21:15:36.252Z"
   },
   {
    "duration": 231,
    "start_time": "2023-11-12T21:15:36.599Z"
   },
   {
    "duration": 213,
    "start_time": "2023-11-12T21:15:36.833Z"
   },
   {
    "duration": 233,
    "start_time": "2023-11-12T21:15:37.048Z"
   },
   {
    "duration": 239,
    "start_time": "2023-11-12T21:15:37.283Z"
   },
   {
    "duration": 177,
    "start_time": "2023-11-12T21:15:37.527Z"
   },
   {
    "duration": 26,
    "start_time": "2023-11-12T21:15:37.705Z"
   },
   {
    "duration": 137,
    "start_time": "2023-11-12T21:15:37.733Z"
   },
   {
    "duration": 146,
    "start_time": "2023-11-12T21:15:37.872Z"
   },
   {
    "duration": 179,
    "start_time": "2023-11-12T21:15:38.021Z"
   },
   {
    "duration": 198,
    "start_time": "2023-11-12T21:15:38.202Z"
   },
   {
    "duration": 196,
    "start_time": "2023-11-12T21:15:38.402Z"
   },
   {
    "duration": 29,
    "start_time": "2023-11-12T21:15:38.600Z"
   },
   {
    "duration": 107,
    "start_time": "2023-11-12T21:15:38.637Z"
   },
   {
    "duration": 350,
    "start_time": "2023-11-12T21:15:38.746Z"
   },
   {
    "duration": 993,
    "start_time": "2023-11-12T21:15:39.098Z"
   },
   {
    "duration": 46,
    "start_time": "2023-11-12T21:15:40.093Z"
   },
   {
    "duration": 12,
    "start_time": "2023-11-12T21:15:40.140Z"
   },
   {
    "duration": 114,
    "start_time": "2023-11-12T21:15:40.153Z"
   },
   {
    "duration": 358,
    "start_time": "2023-11-12T21:15:40.269Z"
   },
   {
    "duration": 346,
    "start_time": "2023-11-12T21:15:40.629Z"
   },
   {
    "duration": 8,
    "start_time": "2023-11-12T21:15:40.977Z"
   },
   {
    "duration": 181,
    "start_time": "2023-11-12T21:15:40.987Z"
   },
   {
    "duration": 12,
    "start_time": "2023-11-12T21:15:41.170Z"
   },
   {
    "duration": 9,
    "start_time": "2023-11-12T21:15:41.184Z"
   },
   {
    "duration": 192,
    "start_time": "2023-11-12T21:15:41.194Z"
   },
   {
    "duration": 26,
    "start_time": "2023-11-12T21:15:41.388Z"
   },
   {
    "duration": 10,
    "start_time": "2023-11-12T21:15:41.420Z"
   },
   {
    "duration": 235,
    "start_time": "2023-11-12T21:15:41.432Z"
   },
   {
    "duration": 14,
    "start_time": "2023-11-12T21:15:41.668Z"
   },
   {
    "duration": 6,
    "start_time": "2023-11-12T21:15:41.684Z"
   },
   {
    "duration": 49,
    "start_time": "2023-11-12T21:15:41.691Z"
   },
   {
    "duration": 194,
    "start_time": "2023-11-12T21:15:41.742Z"
   },
   {
    "duration": 11,
    "start_time": "2023-11-12T21:15:41.938Z"
   },
   {
    "duration": 191,
    "start_time": "2023-11-12T21:15:41.951Z"
   },
   {
    "duration": 192,
    "start_time": "2023-11-12T21:15:42.144Z"
   },
   {
    "duration": 197,
    "start_time": "2023-11-12T21:15:42.337Z"
   },
   {
    "duration": 221,
    "start_time": "2023-11-12T21:15:42.536Z"
   },
   {
    "duration": 0,
    "start_time": "2023-11-12T21:15:42.832Z"
   },
   {
    "duration": 0,
    "start_time": "2023-11-12T21:15:42.834Z"
   },
   {
    "duration": 0,
    "start_time": "2023-11-12T21:15:42.837Z"
   },
   {
    "duration": 26,
    "start_time": "2023-11-12T21:15:45.713Z"
   },
   {
    "duration": 44,
    "start_time": "2023-11-12T21:15:52.018Z"
   },
   {
    "duration": 32,
    "start_time": "2023-11-12T21:16:26.665Z"
   },
   {
    "duration": 29,
    "start_time": "2023-11-12T21:16:31.061Z"
   },
   {
    "duration": 1049,
    "start_time": "2023-11-13T04:57:54.789Z"
   },
   {
    "duration": 18,
    "start_time": "2023-11-13T04:57:55.840Z"
   },
   {
    "duration": 33,
    "start_time": "2023-11-13T04:57:55.859Z"
   },
   {
    "duration": 1833,
    "start_time": "2023-11-13T04:57:55.893Z"
   },
   {
    "duration": 6,
    "start_time": "2023-11-13T04:57:57.727Z"
   },
   {
    "duration": 17,
    "start_time": "2023-11-13T04:57:57.734Z"
   },
   {
    "duration": 34,
    "start_time": "2023-11-13T04:57:57.753Z"
   },
   {
    "duration": 7,
    "start_time": "2023-11-13T04:57:57.788Z"
   },
   {
    "duration": 8,
    "start_time": "2023-11-13T04:57:57.796Z"
   },
   {
    "duration": 4,
    "start_time": "2023-11-13T04:57:57.807Z"
   },
   {
    "duration": 6,
    "start_time": "2023-11-13T04:57:57.813Z"
   },
   {
    "duration": 33,
    "start_time": "2023-11-13T04:57:57.821Z"
   },
   {
    "duration": 6,
    "start_time": "2023-11-13T04:57:57.855Z"
   },
   {
    "duration": 8,
    "start_time": "2023-11-13T04:57:57.862Z"
   },
   {
    "duration": 4,
    "start_time": "2023-11-13T04:57:57.871Z"
   },
   {
    "duration": 7,
    "start_time": "2023-11-13T04:57:57.877Z"
   },
   {
    "duration": 73,
    "start_time": "2023-11-13T04:57:57.885Z"
   },
   {
    "duration": 12,
    "start_time": "2023-11-13T04:57:57.959Z"
   },
   {
    "duration": 7,
    "start_time": "2023-11-13T04:57:57.972Z"
   },
   {
    "duration": 7,
    "start_time": "2023-11-13T04:57:57.981Z"
   },
   {
    "duration": 10,
    "start_time": "2023-11-13T04:57:57.990Z"
   },
   {
    "duration": 5,
    "start_time": "2023-11-13T04:57:58.001Z"
   },
   {
    "duration": 10,
    "start_time": "2023-11-13T04:57:58.007Z"
   },
   {
    "duration": 294,
    "start_time": "2023-11-13T04:57:58.019Z"
   },
   {
    "duration": 6,
    "start_time": "2023-11-13T04:57:58.314Z"
   },
   {
    "duration": 270,
    "start_time": "2023-11-13T04:57:58.321Z"
   },
   {
    "duration": 7,
    "start_time": "2023-11-13T04:57:58.592Z"
   },
   {
    "duration": 319,
    "start_time": "2023-11-13T04:57:58.603Z"
   },
   {
    "duration": 7,
    "start_time": "2023-11-13T04:57:58.923Z"
   },
   {
    "duration": 31,
    "start_time": "2023-11-13T04:57:58.931Z"
   },
   {
    "duration": 4,
    "start_time": "2023-11-13T04:57:58.963Z"
   },
   {
    "duration": 15,
    "start_time": "2023-11-13T04:57:58.968Z"
   },
   {
    "duration": 279,
    "start_time": "2023-11-13T04:57:58.984Z"
   },
   {
    "duration": 8,
    "start_time": "2023-11-13T04:57:59.265Z"
   },
   {
    "duration": 275,
    "start_time": "2023-11-13T04:57:59.275Z"
   },
   {
    "duration": 5,
    "start_time": "2023-11-13T04:57:59.552Z"
   },
   {
    "duration": 176,
    "start_time": "2023-11-13T04:57:59.558Z"
   },
   {
    "duration": 7,
    "start_time": "2023-11-13T04:57:59.735Z"
   },
   {
    "duration": 168,
    "start_time": "2023-11-13T04:57:59.751Z"
   },
   {
    "duration": 40,
    "start_time": "2023-11-13T04:57:59.921Z"
   },
   {
    "duration": 27,
    "start_time": "2023-11-13T04:57:59.962Z"
   },
   {
    "duration": 4,
    "start_time": "2023-11-13T04:57:59.990Z"
   },
   {
    "duration": 58,
    "start_time": "2023-11-13T04:57:59.995Z"
   },
   {
    "duration": 180,
    "start_time": "2023-11-13T04:58:00.054Z"
   },
   {
    "duration": 130,
    "start_time": "2023-11-13T04:58:00.236Z"
   },
   {
    "duration": 86,
    "start_time": "2023-11-13T04:58:00.367Z"
   },
   {
    "duration": 361,
    "start_time": "2023-11-13T04:58:00.455Z"
   },
   {
    "duration": 180,
    "start_time": "2023-11-13T04:58:00.817Z"
   },
   {
    "duration": 177,
    "start_time": "2023-11-13T04:58:00.999Z"
   },
   {
    "duration": 175,
    "start_time": "2023-11-13T04:58:01.178Z"
   },
   {
    "duration": 182,
    "start_time": "2023-11-13T04:58:01.355Z"
   },
   {
    "duration": 138,
    "start_time": "2023-11-13T04:58:01.538Z"
   },
   {
    "duration": 8,
    "start_time": "2023-11-13T04:58:01.677Z"
   },
   {
    "duration": 121,
    "start_time": "2023-11-13T04:58:01.687Z"
   },
   {
    "duration": 114,
    "start_time": "2023-11-13T04:58:01.810Z"
   },
   {
    "duration": 148,
    "start_time": "2023-11-13T04:58:01.926Z"
   },
   {
    "duration": 145,
    "start_time": "2023-11-13T04:58:02.076Z"
   },
   {
    "duration": 159,
    "start_time": "2023-11-13T04:58:02.223Z"
   },
   {
    "duration": 9,
    "start_time": "2023-11-13T04:58:02.384Z"
   },
   {
    "duration": 180,
    "start_time": "2023-11-13T04:58:02.395Z"
   },
   {
    "duration": 275,
    "start_time": "2023-11-13T04:58:02.576Z"
   },
   {
    "duration": 262,
    "start_time": "2023-11-13T04:58:02.852Z"
   },
   {
    "duration": 40,
    "start_time": "2023-11-13T04:58:03.116Z"
   },
   {
    "duration": 10,
    "start_time": "2023-11-13T04:58:03.157Z"
   },
   {
    "duration": 76,
    "start_time": "2023-11-13T04:58:03.168Z"
   },
   {
    "duration": 272,
    "start_time": "2023-11-13T04:58:03.251Z"
   },
   {
    "duration": 262,
    "start_time": "2023-11-13T04:58:03.524Z"
   },
   {
    "duration": 8,
    "start_time": "2023-11-13T04:58:03.787Z"
   },
   {
    "duration": 138,
    "start_time": "2023-11-13T04:58:03.796Z"
   },
   {
    "duration": 17,
    "start_time": "2023-11-13T04:58:03.936Z"
   },
   {
    "duration": 5,
    "start_time": "2023-11-13T04:58:03.954Z"
   },
   {
    "duration": 227,
    "start_time": "2023-11-13T04:58:03.960Z"
   },
   {
    "duration": 10,
    "start_time": "2023-11-13T04:58:04.188Z"
   },
   {
    "duration": 5,
    "start_time": "2023-11-13T04:58:04.200Z"
   },
   {
    "duration": 153,
    "start_time": "2023-11-13T04:58:04.206Z"
   },
   {
    "duration": 11,
    "start_time": "2023-11-13T04:58:04.361Z"
   },
   {
    "duration": 12,
    "start_time": "2023-11-13T04:58:04.373Z"
   },
   {
    "duration": 17,
    "start_time": "2023-11-13T04:58:04.387Z"
   },
   {
    "duration": 152,
    "start_time": "2023-11-13T04:58:04.406Z"
   },
   {
    "duration": 5,
    "start_time": "2023-11-13T04:58:04.560Z"
   },
   {
    "duration": 149,
    "start_time": "2023-11-13T04:58:04.566Z"
   },
   {
    "duration": 139,
    "start_time": "2023-11-13T04:58:04.719Z"
   },
   {
    "duration": 145,
    "start_time": "2023-11-13T04:58:04.859Z"
   },
   {
    "duration": 153,
    "start_time": "2023-11-13T04:58:05.006Z"
   },
   {
    "duration": 18,
    "start_time": "2023-11-13T04:58:05.160Z"
   },
   {
    "duration": 15,
    "start_time": "2023-11-13T04:58:05.179Z"
   },
   {
    "duration": 161,
    "start_time": "2023-11-13T04:58:05.196Z"
   },
   {
    "duration": 92,
    "start_time": "2023-11-13T04:58:20.795Z"
   },
   {
    "duration": 15,
    "start_time": "2023-11-13T04:58:21.999Z"
   },
   {
    "duration": 20,
    "start_time": "2023-11-13T04:58:22.562Z"
   },
   {
    "duration": 1756,
    "start_time": "2023-11-13T04:58:23.961Z"
   },
   {
    "duration": 5,
    "start_time": "2023-11-13T04:58:35.679Z"
   },
   {
    "duration": 4,
    "start_time": "2023-11-13T04:58:42.865Z"
   },
   {
    "duration": 28,
    "start_time": "2023-11-13T04:58:47.521Z"
   },
   {
    "duration": 7,
    "start_time": "2023-11-13T04:58:57.107Z"
   },
   {
    "duration": 5,
    "start_time": "2023-11-13T04:59:04.424Z"
   },
   {
    "duration": 5,
    "start_time": "2023-11-13T04:59:32.080Z"
   },
   {
    "duration": 7,
    "start_time": "2023-11-13T04:59:37.530Z"
   },
   {
    "duration": 6,
    "start_time": "2023-11-13T04:59:38.982Z"
   },
   {
    "duration": 6,
    "start_time": "2023-11-13T04:59:42.192Z"
   },
   {
    "duration": 9,
    "start_time": "2023-11-13T04:59:43.992Z"
   },
   {
    "duration": 3,
    "start_time": "2023-11-13T04:59:44.616Z"
   },
   {
    "duration": 5,
    "start_time": "2023-11-13T04:59:47.095Z"
   },
   {
    "duration": 6,
    "start_time": "2023-11-13T05:00:58.962Z"
   },
   {
    "duration": 46,
    "start_time": "2023-11-13T05:02:09.020Z"
   },
   {
    "duration": 12,
    "start_time": "2023-11-13T05:02:12.562Z"
   },
   {
    "duration": 7,
    "start_time": "2023-11-13T05:02:14.496Z"
   },
   {
    "duration": 5,
    "start_time": "2023-11-13T05:02:25.065Z"
   },
   {
    "duration": 6,
    "start_time": "2023-11-13T05:02:27.252Z"
   },
   {
    "duration": 5,
    "start_time": "2023-11-13T05:02:27.729Z"
   },
   {
    "duration": 5,
    "start_time": "2023-11-13T05:02:28.214Z"
   },
   {
    "duration": 261,
    "start_time": "2023-11-13T05:02:29.535Z"
   },
   {
    "duration": 6,
    "start_time": "2023-11-13T05:02:32.493Z"
   },
   {
    "duration": 268,
    "start_time": "2023-11-13T05:02:37.099Z"
   },
   {
    "duration": 7,
    "start_time": "2023-11-13T05:02:47.112Z"
   },
   {
    "duration": 340,
    "start_time": "2023-11-13T05:02:52.538Z"
   },
   {
    "duration": 8,
    "start_time": "2023-11-13T05:02:57.754Z"
   },
   {
    "duration": 21,
    "start_time": "2023-11-13T05:03:06.470Z"
   },
   {
    "duration": 6,
    "start_time": "2023-11-13T05:03:15.711Z"
   },
   {
    "duration": 14,
    "start_time": "2023-11-13T05:03:19.055Z"
   },
   {
    "duration": 255,
    "start_time": "2023-11-13T05:03:22.594Z"
   },
   {
    "duration": 8,
    "start_time": "2023-11-13T05:03:25.873Z"
   },
   {
    "duration": 248,
    "start_time": "2023-11-13T05:03:29.705Z"
   },
   {
    "duration": 5,
    "start_time": "2023-11-13T05:03:34.782Z"
   },
   {
    "duration": 167,
    "start_time": "2023-11-13T05:03:40.136Z"
   },
   {
    "duration": 7,
    "start_time": "2023-11-13T05:03:47.129Z"
   },
   {
    "duration": 167,
    "start_time": "2023-11-13T05:03:53.817Z"
   },
   {
    "duration": 28,
    "start_time": "2023-11-13T05:03:59.998Z"
   },
   {
    "duration": 26,
    "start_time": "2023-11-13T05:04:03.756Z"
   },
   {
    "duration": 4,
    "start_time": "2023-11-13T05:04:12.270Z"
   },
   {
    "duration": 37,
    "start_time": "2023-11-13T05:04:13.371Z"
   },
   {
    "duration": 165,
    "start_time": "2023-11-13T05:04:27.866Z"
   },
   {
    "duration": 112,
    "start_time": "2023-11-13T05:04:38.281Z"
   },
   {
    "duration": 82,
    "start_time": "2023-11-13T05:04:46.675Z"
   },
   {
    "duration": 281,
    "start_time": "2023-11-13T05:04:49.516Z"
   },
   {
    "duration": 168,
    "start_time": "2023-11-13T05:06:04.170Z"
   },
   {
    "duration": 162,
    "start_time": "2023-11-13T05:06:13.257Z"
   },
   {
    "duration": 289,
    "start_time": "2023-11-13T05:06:18.846Z"
   },
   {
    "duration": 184,
    "start_time": "2023-11-13T05:06:31.260Z"
   },
   {
    "duration": 140,
    "start_time": "2023-11-13T05:06:37.236Z"
   },
   {
    "duration": 8,
    "start_time": "2023-11-13T05:06:50.376Z"
   },
   {
    "duration": 96,
    "start_time": "2023-11-13T05:06:52.831Z"
   },
   {
    "duration": 104,
    "start_time": "2023-11-13T05:06:56.108Z"
   },
   {
    "duration": 155,
    "start_time": "2023-11-13T05:07:23.738Z"
   },
   {
    "duration": 149,
    "start_time": "2023-11-13T05:07:26.735Z"
   },
   {
    "duration": 131,
    "start_time": "2023-11-13T05:07:27.594Z"
   },
   {
    "duration": 9,
    "start_time": "2023-11-13T05:08:32.400Z"
   },
   {
    "duration": 92,
    "start_time": "2023-11-13T05:08:35.840Z"
   },
   {
    "duration": 31,
    "start_time": "2023-11-13T05:13:23.764Z"
   },
   {
    "duration": 13,
    "start_time": "2023-11-13T05:13:24.359Z"
   },
   {
    "duration": 7,
    "start_time": "2023-11-13T05:13:24.504Z"
   },
   {
    "duration": 3,
    "start_time": "2023-11-13T05:13:26.021Z"
   },
   {
    "duration": 4,
    "start_time": "2023-11-13T05:13:26.197Z"
   },
   {
    "duration": 4,
    "start_time": "2023-11-13T05:13:26.415Z"
   },
   {
    "duration": 4,
    "start_time": "2023-11-13T05:13:26.675Z"
   },
   {
    "duration": 171,
    "start_time": "2023-11-13T05:13:27.114Z"
   },
   {
    "duration": 6,
    "start_time": "2023-11-13T05:13:27.812Z"
   },
   {
    "duration": 246,
    "start_time": "2023-11-13T05:13:31.923Z"
   },
   {
    "duration": 6,
    "start_time": "2023-11-13T05:13:34.816Z"
   },
   {
    "duration": 243,
    "start_time": "2023-11-13T05:13:35.810Z"
   },
   {
    "duration": 7,
    "start_time": "2023-11-13T05:13:37.026Z"
   },
   {
    "duration": 14,
    "start_time": "2023-11-13T05:13:39.167Z"
   },
   {
    "duration": 4,
    "start_time": "2023-11-13T05:13:39.596Z"
   },
   {
    "duration": 13,
    "start_time": "2023-11-13T05:13:40.086Z"
   },
   {
    "duration": 369,
    "start_time": "2023-11-13T05:13:41.194Z"
   },
   {
    "duration": 6,
    "start_time": "2023-11-13T05:13:41.603Z"
   },
   {
    "duration": 259,
    "start_time": "2023-11-13T05:13:42.063Z"
   },
   {
    "duration": 5,
    "start_time": "2023-11-13T05:13:42.743Z"
   },
   {
    "duration": 167,
    "start_time": "2023-11-13T05:13:44.460Z"
   },
   {
    "duration": 7,
    "start_time": "2023-11-13T05:13:49.821Z"
   },
   {
    "duration": 153,
    "start_time": "2023-11-13T05:13:52.472Z"
   },
   {
    "duration": 31,
    "start_time": "2023-11-13T05:13:53.605Z"
   },
   {
    "duration": 27,
    "start_time": "2023-11-13T05:13:55.072Z"
   },
   {
    "duration": 5,
    "start_time": "2023-11-13T05:13:56.722Z"
   },
   {
    "duration": 33,
    "start_time": "2023-11-13T05:13:57.705Z"
   },
   {
    "duration": 160,
    "start_time": "2023-11-13T05:14:03.529Z"
   },
   {
    "duration": 113,
    "start_time": "2023-11-13T05:14:09.370Z"
   },
   {
    "duration": 81,
    "start_time": "2023-11-13T05:14:10.094Z"
   },
   {
    "duration": 257,
    "start_time": "2023-11-13T05:14:12.364Z"
   },
   {
    "duration": 156,
    "start_time": "2023-11-13T05:14:13.822Z"
   },
   {
    "duration": 157,
    "start_time": "2023-11-13T05:14:17.500Z"
   },
   {
    "duration": 169,
    "start_time": "2023-11-13T05:14:21.766Z"
   },
   {
    "duration": 293,
    "start_time": "2023-11-13T05:14:33.007Z"
   },
   {
    "duration": 125,
    "start_time": "2023-11-13T05:14:35.947Z"
   },
   {
    "duration": 7,
    "start_time": "2023-11-13T05:14:36.156Z"
   },
   {
    "duration": 97,
    "start_time": "2023-11-13T05:14:36.430Z"
   },
   {
    "duration": 105,
    "start_time": "2023-11-13T05:14:36.978Z"
   },
   {
    "duration": 132,
    "start_time": "2023-11-13T05:14:39.827Z"
   },
   {
    "duration": 142,
    "start_time": "2023-11-13T05:14:41.676Z"
   },
   {
    "duration": 128,
    "start_time": "2023-11-13T05:14:44.480Z"
   },
   {
    "duration": 9,
    "start_time": "2023-11-13T05:14:51.696Z"
   },
   {
    "duration": 77,
    "start_time": "2023-11-13T05:14:53.921Z"
   },
   {
    "duration": 263,
    "start_time": "2023-11-13T05:14:56.432Z"
   },
   {
    "duration": 261,
    "start_time": "2023-11-13T05:14:57.868Z"
   },
   {
    "duration": 25,
    "start_time": "2023-11-13T05:15:06.564Z"
   },
   {
    "duration": 11,
    "start_time": "2023-11-13T05:16:33.747Z"
   },
   {
    "duration": 90,
    "start_time": "2023-11-13T05:16:35.353Z"
   },
   {
    "duration": 278,
    "start_time": "2023-11-13T05:16:39.469Z"
   },
   {
    "duration": 469,
    "start_time": "2023-11-13T05:16:40.466Z"
   },
   {
    "duration": 7,
    "start_time": "2023-11-13T05:16:43.137Z"
   },
   {
    "duration": 116,
    "start_time": "2023-11-13T05:26:46.461Z"
   },
   {
    "duration": 124,
    "start_time": "2023-11-13T05:27:51.266Z"
   },
   {
    "duration": 10,
    "start_time": "2023-11-13T05:27:51.963Z"
   },
   {
    "duration": 5,
    "start_time": "2023-11-13T05:27:52.798Z"
   },
   {
    "duration": 144,
    "start_time": "2023-11-13T05:28:08.279Z"
   },
   {
    "duration": 12,
    "start_time": "2023-11-13T05:28:09.788Z"
   },
   {
    "duration": 5,
    "start_time": "2023-11-13T05:28:11.900Z"
   },
   {
    "duration": 124,
    "start_time": "2023-11-13T05:28:22.609Z"
   },
   {
    "duration": 10,
    "start_time": "2023-11-13T05:28:23.793Z"
   },
   {
    "duration": 6,
    "start_time": "2023-11-13T05:28:24.982Z"
   },
   {
    "duration": 18,
    "start_time": "2023-11-13T05:28:27.747Z"
   },
   {
    "duration": 146,
    "start_time": "2023-11-13T05:28:29.058Z"
   },
   {
    "duration": 149,
    "start_time": "2023-11-13T05:29:36.652Z"
   },
   {
    "duration": 10,
    "start_time": "2023-11-13T05:29:39.002Z"
   },
   {
    "duration": 5,
    "start_time": "2023-11-13T05:29:42.126Z"
   },
   {
    "duration": 5,
    "start_time": "2023-11-13T05:29:58.085Z"
   },
   {
    "duration": 5,
    "start_time": "2023-11-13T05:30:16.124Z"
   },
   {
    "duration": 5,
    "start_time": "2023-11-13T05:30:25.641Z"
   },
   {
    "duration": 126,
    "start_time": "2023-11-13T05:30:31.442Z"
   },
   {
    "duration": 11,
    "start_time": "2023-11-13T05:30:32.512Z"
   },
   {
    "duration": 5,
    "start_time": "2023-11-13T05:30:33.555Z"
   },
   {
    "duration": 140,
    "start_time": "2023-11-13T05:30:36.586Z"
   },
   {
    "duration": 14,
    "start_time": "2023-11-13T05:30:38.209Z"
   },
   {
    "duration": 4,
    "start_time": "2023-11-13T05:30:39.708Z"
   },
   {
    "duration": 132,
    "start_time": "2023-11-13T05:30:42.466Z"
   },
   {
    "duration": 12,
    "start_time": "2023-11-13T05:30:43.993Z"
   },
   {
    "duration": 5,
    "start_time": "2023-11-13T05:30:45.011Z"
   },
   {
    "duration": 19,
    "start_time": "2023-11-13T05:30:46.365Z"
   },
   {
    "duration": 144,
    "start_time": "2023-11-13T05:30:47.577Z"
   },
   {
    "duration": 26,
    "start_time": "2023-11-13T05:31:09.144Z"
   },
   {
    "duration": 137,
    "start_time": "2023-11-13T05:31:17.306Z"
   },
   {
    "duration": 282,
    "start_time": "2023-11-13T05:33:58.676Z"
   },
   {
    "duration": 302,
    "start_time": "2023-11-13T05:34:04.740Z"
   },
   {
    "duration": 138,
    "start_time": "2023-11-13T05:34:17.244Z"
   },
   {
    "duration": 125,
    "start_time": "2023-11-13T05:34:26.154Z"
   },
   {
    "duration": 125,
    "start_time": "2023-11-13T05:34:44.477Z"
   },
   {
    "duration": 134,
    "start_time": "2023-11-13T05:35:05.487Z"
   },
   {
    "duration": 10,
    "start_time": "2023-11-13T05:35:05.981Z"
   },
   {
    "duration": 4,
    "start_time": "2023-11-13T05:35:09.423Z"
   },
   {
    "duration": 118,
    "start_time": "2023-11-13T05:35:26.906Z"
   },
   {
    "duration": 11,
    "start_time": "2023-11-13T05:35:30.283Z"
   },
   {
    "duration": 5,
    "start_time": "2023-11-13T05:35:32.803Z"
   },
   {
    "duration": 21,
    "start_time": "2023-11-13T05:35:35.774Z"
   },
   {
    "duration": 124,
    "start_time": "2023-11-13T05:35:38.902Z"
   },
   {
    "duration": 145,
    "start_time": "2023-11-13T05:35:55.813Z"
   },
   {
    "duration": 5,
    "start_time": "2023-11-13T05:36:11.049Z"
   },
   {
    "duration": 299,
    "start_time": "2023-11-13T05:36:24.446Z"
   },
   {
    "duration": 139,
    "start_time": "2023-11-13T05:36:45.906Z"
   },
   {
    "duration": 132,
    "start_time": "2023-11-13T05:37:21.855Z"
   },
   {
    "duration": 150,
    "start_time": "2023-11-13T05:37:38.960Z"
   },
   {
    "duration": 142,
    "start_time": "2023-11-13T05:37:56.850Z"
   },
   {
    "duration": 137,
    "start_time": "2023-11-13T05:38:14.378Z"
   },
   {
    "duration": 132,
    "start_time": "2023-11-13T05:38:26.110Z"
   },
   {
    "duration": 139,
    "start_time": "2023-11-13T05:38:28.904Z"
   },
   {
    "duration": 141,
    "start_time": "2023-11-13T05:38:42.237Z"
   },
   {
    "duration": 133,
    "start_time": "2023-11-13T05:38:47.851Z"
   },
   {
    "duration": 20,
    "start_time": "2023-11-13T05:39:54.301Z"
   },
   {
    "duration": 17,
    "start_time": "2023-11-13T05:39:58.814Z"
   },
   {
    "duration": 158,
    "start_time": "2023-11-13T05:40:33.278Z"
   },
   {
    "duration": 92,
    "start_time": "2023-11-13T05:48:04.250Z"
   },
   {
    "duration": 13,
    "start_time": "2023-11-13T05:48:05.575Z"
   },
   {
    "duration": 18,
    "start_time": "2023-11-13T05:48:06.072Z"
   },
   {
    "duration": 1832,
    "start_time": "2023-11-13T05:48:06.976Z"
   },
   {
    "duration": 4,
    "start_time": "2023-11-13T05:48:12.370Z"
   },
   {
    "duration": 5,
    "start_time": "2023-11-13T05:48:13.336Z"
   },
   {
    "duration": 27,
    "start_time": "2023-11-13T05:48:14.104Z"
   },
   {
    "duration": 7,
    "start_time": "2023-11-13T05:48:14.834Z"
   },
   {
    "duration": 6,
    "start_time": "2023-11-13T05:48:15.595Z"
   },
   {
    "duration": 6,
    "start_time": "2023-11-13T05:48:16.398Z"
   },
   {
    "duration": 7,
    "start_time": "2023-11-13T05:48:36.386Z"
   },
   {
    "duration": 7,
    "start_time": "2023-11-13T05:48:36.673Z"
   },
   {
    "duration": 6,
    "start_time": "2023-11-13T05:48:38.143Z"
   },
   {
    "duration": 8,
    "start_time": "2023-11-13T05:48:39.019Z"
   },
   {
    "duration": 4,
    "start_time": "2023-11-13T05:48:39.281Z"
   },
   {
    "duration": 8,
    "start_time": "2023-11-13T05:48:39.787Z"
   },
   {
    "duration": 51,
    "start_time": "2023-11-13T05:48:40.951Z"
   },
   {
    "duration": 13,
    "start_time": "2023-11-13T05:48:42.014Z"
   },
   {
    "duration": 7,
    "start_time": "2023-11-13T05:48:42.320Z"
   },
   {
    "duration": 5,
    "start_time": "2023-11-13T05:48:45.063Z"
   },
   {
    "duration": 5,
    "start_time": "2023-11-13T05:48:45.807Z"
   },
   {
    "duration": 5,
    "start_time": "2023-11-13T05:48:46.262Z"
   },
   {
    "duration": 5,
    "start_time": "2023-11-13T05:48:46.675Z"
   },
   {
    "duration": 297,
    "start_time": "2023-11-13T05:48:47.062Z"
   },
   {
    "duration": 6,
    "start_time": "2023-11-13T05:48:47.460Z"
   },
   {
    "duration": 269,
    "start_time": "2023-11-13T05:49:08.713Z"
   },
   {
    "duration": 7,
    "start_time": "2023-11-13T05:49:21.610Z"
   },
   {
    "duration": 256,
    "start_time": "2023-11-13T05:49:24.749Z"
   },
   {
    "duration": 7,
    "start_time": "2023-11-13T05:49:26.281Z"
   },
   {
    "duration": 22,
    "start_time": "2023-11-13T05:49:35.830Z"
   },
   {
    "duration": 5,
    "start_time": "2023-11-13T05:49:41.215Z"
   },
   {
    "duration": 14,
    "start_time": "2023-11-13T05:49:51.090Z"
   },
   {
    "duration": 263,
    "start_time": "2023-11-13T05:49:57.157Z"
   },
   {
    "duration": 8,
    "start_time": "2023-11-13T05:50:01.691Z"
   },
   {
    "duration": 284,
    "start_time": "2023-11-13T05:50:03.126Z"
   },
   {
    "duration": 6,
    "start_time": "2023-11-13T05:50:06.756Z"
   },
   {
    "duration": 171,
    "start_time": "2023-11-13T05:50:11.744Z"
   },
   {
    "duration": 9,
    "start_time": "2023-11-13T05:50:18.839Z"
   },
   {
    "duration": 165,
    "start_time": "2023-11-13T05:50:21.826Z"
   },
   {
    "duration": 27,
    "start_time": "2023-11-13T05:50:25.854Z"
   },
   {
    "duration": 26,
    "start_time": "2023-11-13T05:50:31.906Z"
   },
   {
    "duration": 5,
    "start_time": "2023-11-13T05:50:33.069Z"
   },
   {
    "duration": 35,
    "start_time": "2023-11-13T05:50:33.396Z"
   },
   {
    "duration": 173,
    "start_time": "2023-11-13T05:50:35.582Z"
   },
   {
    "duration": 121,
    "start_time": "2023-11-13T05:50:40.034Z"
   },
   {
    "duration": 78,
    "start_time": "2023-11-13T05:50:40.256Z"
   },
   {
    "duration": 468,
    "start_time": "2023-11-13T05:50:43.919Z"
   },
   {
    "duration": 155,
    "start_time": "2023-11-13T05:50:45.518Z"
   },
   {
    "duration": 165,
    "start_time": "2023-11-13T05:50:46.547Z"
   },
   {
    "duration": 163,
    "start_time": "2023-11-13T05:50:47.537Z"
   },
   {
    "duration": 178,
    "start_time": "2023-11-13T05:50:48.598Z"
   },
   {
    "duration": 131,
    "start_time": "2023-11-13T05:50:51.230Z"
   },
   {
    "duration": 7,
    "start_time": "2023-11-13T05:50:52.049Z"
   },
   {
    "duration": 102,
    "start_time": "2023-11-13T05:50:52.892Z"
   },
   {
    "duration": 101,
    "start_time": "2023-11-13T05:50:53.403Z"
   },
   {
    "duration": 114,
    "start_time": "2023-11-13T05:51:07.316Z"
   },
   {
    "duration": 148,
    "start_time": "2023-11-13T05:51:09.220Z"
   },
   {
    "duration": 146,
    "start_time": "2023-11-13T05:51:09.643Z"
   },
   {
    "duration": 149,
    "start_time": "2023-11-13T05:51:14.995Z"
   },
   {
    "duration": 9,
    "start_time": "2023-11-13T05:51:20.537Z"
   },
   {
    "duration": 74,
    "start_time": "2023-11-13T05:51:22.261Z"
   },
   {
    "duration": 271,
    "start_time": "2023-11-13T05:51:27.923Z"
   },
   {
    "duration": 267,
    "start_time": "2023-11-13T05:51:30.758Z"
   },
   {
    "duration": 27,
    "start_time": "2023-11-13T05:51:35.579Z"
   },
   {
    "duration": 9,
    "start_time": "2023-11-13T05:51:37.427Z"
   },
   {
    "duration": 92,
    "start_time": "2023-11-13T05:51:38.421Z"
   },
   {
    "duration": 257,
    "start_time": "2023-11-13T05:51:43.605Z"
   },
   {
    "duration": 272,
    "start_time": "2023-11-13T05:51:45.832Z"
   },
   {
    "duration": 7,
    "start_time": "2023-11-13T05:51:46.217Z"
   },
   {
    "duration": 309,
    "start_time": "2023-11-13T05:52:07.953Z"
   },
   {
    "duration": 11,
    "start_time": "2023-11-13T05:52:10.478Z"
   },
   {
    "duration": 4,
    "start_time": "2023-11-13T05:52:12.560Z"
   },
   {
    "duration": 132,
    "start_time": "2023-11-13T05:52:15.572Z"
   },
   {
    "duration": 11,
    "start_time": "2023-11-13T05:52:19.002Z"
   },
   {
    "duration": 4,
    "start_time": "2023-11-13T05:52:20.247Z"
   },
   {
    "duration": 138,
    "start_time": "2023-11-13T05:52:27.281Z"
   },
   {
    "duration": 10,
    "start_time": "2023-11-13T05:52:27.735Z"
   },
   {
    "duration": 5,
    "start_time": "2023-11-13T05:52:29.004Z"
   },
   {
    "duration": 22,
    "start_time": "2023-11-13T05:52:30.202Z"
   },
   {
    "duration": 121,
    "start_time": "2023-11-13T05:52:31.888Z"
   },
   {
    "duration": 6,
    "start_time": "2023-11-13T05:52:39.864Z"
   },
   {
    "duration": 141,
    "start_time": "2023-11-13T05:52:49.151Z"
   },
   {
    "duration": 140,
    "start_time": "2023-11-13T05:52:54.115Z"
   },
   {
    "duration": 147,
    "start_time": "2023-11-13T05:53:09.411Z"
   },
   {
    "duration": 132,
    "start_time": "2023-11-13T05:53:11.568Z"
   },
   {
    "duration": 20,
    "start_time": "2023-11-13T05:53:16.371Z"
   },
   {
    "duration": 16,
    "start_time": "2023-11-13T05:53:27.844Z"
   },
   {
    "duration": 146,
    "start_time": "2023-11-13T05:53:32.516Z"
   },
   {
    "duration": 896,
    "start_time": "2023-11-13T15:29:30.101Z"
   },
   {
    "duration": 16,
    "start_time": "2023-11-13T15:29:30.999Z"
   },
   {
    "duration": 167,
    "start_time": "2023-11-13T15:29:31.017Z"
   },
   {
    "duration": 1766,
    "start_time": "2023-11-13T15:29:31.186Z"
   },
   {
    "duration": 5,
    "start_time": "2023-11-13T15:29:32.953Z"
   },
   {
    "duration": 13,
    "start_time": "2023-11-13T15:29:32.960Z"
   },
   {
    "duration": 50,
    "start_time": "2023-11-13T15:29:32.974Z"
   },
   {
    "duration": 7,
    "start_time": "2023-11-13T15:29:33.026Z"
   },
   {
    "duration": 13,
    "start_time": "2023-11-13T15:29:33.034Z"
   },
   {
    "duration": 13,
    "start_time": "2023-11-13T15:29:33.049Z"
   },
   {
    "duration": 6,
    "start_time": "2023-11-13T15:29:33.063Z"
   },
   {
    "duration": 6,
    "start_time": "2023-11-13T15:29:33.071Z"
   },
   {
    "duration": 6,
    "start_time": "2023-11-13T15:29:33.078Z"
   },
   {
    "duration": 9,
    "start_time": "2023-11-13T15:29:33.085Z"
   },
   {
    "duration": 5,
    "start_time": "2023-11-13T15:29:33.095Z"
   },
   {
    "duration": 8,
    "start_time": "2023-11-13T15:29:33.101Z"
   },
   {
    "duration": 70,
    "start_time": "2023-11-13T15:29:33.111Z"
   },
   {
    "duration": 11,
    "start_time": "2023-11-13T15:29:33.183Z"
   },
   {
    "duration": 6,
    "start_time": "2023-11-13T15:29:33.196Z"
   },
   {
    "duration": 3,
    "start_time": "2023-11-13T15:29:33.204Z"
   },
   {
    "duration": 10,
    "start_time": "2023-11-13T15:29:33.208Z"
   },
   {
    "duration": 5,
    "start_time": "2023-11-13T15:29:33.219Z"
   },
   {
    "duration": 5,
    "start_time": "2023-11-13T15:29:33.225Z"
   },
   {
    "duration": 269,
    "start_time": "2023-11-13T15:29:33.256Z"
   },
   {
    "duration": 5,
    "start_time": "2023-11-13T15:29:33.527Z"
   },
   {
    "duration": 247,
    "start_time": "2023-11-13T15:29:33.533Z"
   },
   {
    "duration": 7,
    "start_time": "2023-11-13T15:29:33.782Z"
   },
   {
    "duration": 340,
    "start_time": "2023-11-13T15:29:33.793Z"
   },
   {
    "duration": 8,
    "start_time": "2023-11-13T15:29:34.135Z"
   },
   {
    "duration": 36,
    "start_time": "2023-11-13T15:29:34.144Z"
   },
   {
    "duration": 5,
    "start_time": "2023-11-13T15:29:34.182Z"
   },
   {
    "duration": 22,
    "start_time": "2023-11-13T15:29:34.188Z"
   },
   {
    "duration": 281,
    "start_time": "2023-11-13T15:29:34.212Z"
   },
   {
    "duration": 7,
    "start_time": "2023-11-13T15:29:34.495Z"
   },
   {
    "duration": 308,
    "start_time": "2023-11-13T15:29:34.503Z"
   },
   {
    "duration": 5,
    "start_time": "2023-11-13T15:29:34.813Z"
   },
   {
    "duration": 193,
    "start_time": "2023-11-13T15:29:34.819Z"
   },
   {
    "duration": 8,
    "start_time": "2023-11-13T15:29:35.014Z"
   },
   {
    "duration": 242,
    "start_time": "2023-11-13T15:29:35.024Z"
   },
   {
    "duration": 33,
    "start_time": "2023-11-13T15:29:35.268Z"
   },
   {
    "duration": 28,
    "start_time": "2023-11-13T15:29:35.302Z"
   },
   {
    "duration": 27,
    "start_time": "2023-11-13T15:29:35.331Z"
   },
   {
    "duration": 79,
    "start_time": "2023-11-13T15:29:35.360Z"
   },
   {
    "duration": 197,
    "start_time": "2023-11-13T15:29:35.440Z"
   },
   {
    "duration": 111,
    "start_time": "2023-11-13T15:29:35.638Z"
   },
   {
    "duration": 77,
    "start_time": "2023-11-13T15:29:35.755Z"
   },
   {
    "duration": 348,
    "start_time": "2023-11-13T15:29:35.834Z"
   },
   {
    "duration": 193,
    "start_time": "2023-11-13T15:29:36.184Z"
   },
   {
    "duration": 203,
    "start_time": "2023-11-13T15:29:36.379Z"
   },
   {
    "duration": 174,
    "start_time": "2023-11-13T15:29:36.583Z"
   },
   {
    "duration": 179,
    "start_time": "2023-11-13T15:29:36.759Z"
   },
   {
    "duration": 134,
    "start_time": "2023-11-13T15:29:36.939Z"
   },
   {
    "duration": 8,
    "start_time": "2023-11-13T15:29:37.075Z"
   },
   {
    "duration": 121,
    "start_time": "2023-11-13T15:29:37.085Z"
   },
   {
    "duration": 186,
    "start_time": "2023-11-13T15:29:37.208Z"
   },
   {
    "duration": 162,
    "start_time": "2023-11-13T15:29:37.395Z"
   },
   {
    "duration": 9,
    "start_time": "2023-11-13T15:29:37.559Z"
   },
   {
    "duration": 92,
    "start_time": "2023-11-13T15:29:37.569Z"
   },
   {
    "duration": 399,
    "start_time": "2023-11-13T15:29:37.663Z"
   },
   {
    "duration": 278,
    "start_time": "2023-11-13T15:29:38.063Z"
   },
   {
    "duration": 33,
    "start_time": "2023-11-13T15:29:38.342Z"
   },
   {
    "duration": 7,
    "start_time": "2023-11-13T15:29:38.377Z"
   },
   {
    "duration": 98,
    "start_time": "2023-11-13T15:29:38.385Z"
   },
   {
    "duration": 255,
    "start_time": "2023-11-13T15:29:38.484Z"
   },
   {
    "duration": 275,
    "start_time": "2023-11-13T15:29:38.740Z"
   },
   {
    "duration": 6,
    "start_time": "2023-11-13T15:29:39.016Z"
   },
   {
    "duration": 135,
    "start_time": "2023-11-13T15:29:39.023Z"
   },
   {
    "duration": 10,
    "start_time": "2023-11-13T15:29:39.159Z"
   },
   {
    "duration": 4,
    "start_time": "2023-11-13T15:29:39.170Z"
   },
   {
    "duration": 143,
    "start_time": "2023-11-13T15:29:39.175Z"
   },
   {
    "duration": 10,
    "start_time": "2023-11-13T15:29:39.320Z"
   },
   {
    "duration": 4,
    "start_time": "2023-11-13T15:29:39.331Z"
   },
   {
    "duration": 141,
    "start_time": "2023-11-13T15:29:39.337Z"
   },
   {
    "duration": 10,
    "start_time": "2023-11-13T15:29:39.480Z"
   },
   {
    "duration": 5,
    "start_time": "2023-11-13T15:29:39.492Z"
   },
   {
    "duration": 20,
    "start_time": "2023-11-13T15:29:39.498Z"
   },
   {
    "duration": 241,
    "start_time": "2023-11-13T15:29:39.520Z"
   },
   {
    "duration": 4,
    "start_time": "2023-11-13T15:29:39.764Z"
   },
   {
    "duration": 143,
    "start_time": "2023-11-13T15:29:39.769Z"
   },
   {
    "duration": 135,
    "start_time": "2023-11-13T15:29:39.914Z"
   },
   {
    "duration": 133,
    "start_time": "2023-11-13T15:29:40.055Z"
   },
   {
    "duration": 160,
    "start_time": "2023-11-13T15:29:40.192Z"
   },
   {
    "duration": 18,
    "start_time": "2023-11-13T15:29:40.355Z"
   },
   {
    "duration": 16,
    "start_time": "2023-11-13T15:29:40.374Z"
   },
   {
    "duration": 169,
    "start_time": "2023-11-13T15:29:40.391Z"
   },
   {
    "duration": 713,
    "start_time": "2023-11-13T15:43:59.241Z"
   },
   {
    "duration": 14,
    "start_time": "2023-11-13T15:43:59.956Z"
   },
   {
    "duration": 31,
    "start_time": "2023-11-13T15:43:59.971Z"
   },
   {
    "duration": 1829,
    "start_time": "2023-11-13T15:44:00.003Z"
   },
   {
    "duration": 5,
    "start_time": "2023-11-13T15:44:01.833Z"
   },
   {
    "duration": 192,
    "start_time": "2023-11-13T15:44:01.839Z"
   },
   {
    "duration": 106,
    "start_time": "2023-11-13T15:44:02.033Z"
   },
   {
    "duration": 44,
    "start_time": "2023-11-13T15:44:02.141Z"
   },
   {
    "duration": 23,
    "start_time": "2023-11-13T15:44:02.186Z"
   },
   {
    "duration": 37,
    "start_time": "2023-11-13T15:44:02.211Z"
   },
   {
    "duration": 44,
    "start_time": "2023-11-13T15:44:02.249Z"
   },
   {
    "duration": 27,
    "start_time": "2023-11-13T15:44:02.294Z"
   },
   {
    "duration": 25,
    "start_time": "2023-11-13T15:44:02.322Z"
   },
   {
    "duration": 41,
    "start_time": "2023-11-13T15:44:02.348Z"
   },
   {
    "duration": 107,
    "start_time": "2023-11-13T15:44:02.390Z"
   },
   {
    "duration": 66,
    "start_time": "2023-11-13T15:44:02.498Z"
   },
   {
    "duration": 69,
    "start_time": "2023-11-13T15:44:02.565Z"
   },
   {
    "duration": 13,
    "start_time": "2023-11-13T15:44:02.635Z"
   },
   {
    "duration": 8,
    "start_time": "2023-11-13T15:44:02.649Z"
   },
   {
    "duration": 15,
    "start_time": "2023-11-13T15:44:02.659Z"
   },
   {
    "duration": 9,
    "start_time": "2023-11-13T15:44:02.675Z"
   },
   {
    "duration": 4,
    "start_time": "2023-11-13T15:44:02.686Z"
   },
   {
    "duration": 8,
    "start_time": "2023-11-13T15:44:02.691Z"
   },
   {
    "duration": 258,
    "start_time": "2023-11-13T15:44:02.701Z"
   },
   {
    "duration": 6,
    "start_time": "2023-11-13T15:44:02.960Z"
   },
   {
    "duration": 272,
    "start_time": "2023-11-13T15:44:02.967Z"
   },
   {
    "duration": 7,
    "start_time": "2023-11-13T15:44:03.240Z"
   },
   {
    "duration": 328,
    "start_time": "2023-11-13T15:44:03.258Z"
   },
   {
    "duration": 8,
    "start_time": "2023-11-13T15:44:03.588Z"
   },
   {
    "duration": 27,
    "start_time": "2023-11-13T15:44:03.597Z"
   },
   {
    "duration": 4,
    "start_time": "2023-11-13T15:44:03.626Z"
   },
   {
    "duration": 16,
    "start_time": "2023-11-13T15:44:03.656Z"
   },
   {
    "duration": 264,
    "start_time": "2023-11-13T15:44:03.674Z"
   },
   {
    "duration": 7,
    "start_time": "2023-11-13T15:44:03.939Z"
   },
   {
    "duration": 257,
    "start_time": "2023-11-13T15:44:03.948Z"
   },
   {
    "duration": 5,
    "start_time": "2023-11-13T15:44:04.206Z"
   },
   {
    "duration": 172,
    "start_time": "2023-11-13T15:44:04.213Z"
   },
   {
    "duration": 9,
    "start_time": "2023-11-13T15:44:04.386Z"
   },
   {
    "duration": 187,
    "start_time": "2023-11-13T15:44:04.396Z"
   },
   {
    "duration": 28,
    "start_time": "2023-11-13T15:44:04.584Z"
   },
   {
    "duration": 54,
    "start_time": "2023-11-13T15:44:04.614Z"
   },
   {
    "duration": 6,
    "start_time": "2023-11-13T15:44:04.669Z"
   },
   {
    "duration": 51,
    "start_time": "2023-11-13T15:44:04.676Z"
   },
   {
    "duration": 172,
    "start_time": "2023-11-13T15:44:04.728Z"
   },
   {
    "duration": 134,
    "start_time": "2023-11-13T15:44:04.901Z"
   },
   {
    "duration": 97,
    "start_time": "2023-11-13T15:44:05.036Z"
   },
   {
    "duration": 362,
    "start_time": "2023-11-13T15:44:05.134Z"
   },
   {
    "duration": 174,
    "start_time": "2023-11-13T15:44:05.498Z"
   },
   {
    "duration": 170,
    "start_time": "2023-11-13T15:44:05.673Z"
   },
   {
    "duration": 170,
    "start_time": "2023-11-13T15:44:05.844Z"
   },
   {
    "duration": 186,
    "start_time": "2023-11-13T15:44:06.016Z"
   },
   {
    "duration": 140,
    "start_time": "2023-11-13T15:44:06.203Z"
   },
   {
    "duration": 12,
    "start_time": "2023-11-13T15:44:06.344Z"
   },
   {
    "duration": 119,
    "start_time": "2023-11-13T15:44:06.357Z"
   },
   {
    "duration": 152,
    "start_time": "2023-11-13T15:44:06.477Z"
   },
   {
    "duration": 143,
    "start_time": "2023-11-13T15:44:06.631Z"
   },
   {
    "duration": 9,
    "start_time": "2023-11-13T15:44:06.776Z"
   },
   {
    "duration": 86,
    "start_time": "2023-11-13T15:44:06.787Z"
   },
   {
    "duration": 361,
    "start_time": "2023-11-13T15:44:06.875Z"
   },
   {
    "duration": 270,
    "start_time": "2023-11-13T15:44:07.237Z"
   },
   {
    "duration": 12,
    "start_time": "2023-11-13T15:44:07.509Z"
   },
   {
    "duration": 9,
    "start_time": "2023-11-13T15:44:07.523Z"
   },
   {
    "duration": 92,
    "start_time": "2023-11-13T15:44:07.533Z"
   },
   {
    "duration": 271,
    "start_time": "2023-11-13T15:44:07.627Z"
   },
   {
    "duration": 273,
    "start_time": "2023-11-13T15:44:07.899Z"
   },
   {
    "duration": 7,
    "start_time": "2023-11-13T15:44:08.173Z"
   },
   {
    "duration": 131,
    "start_time": "2023-11-13T15:44:08.182Z"
   },
   {
    "duration": 10,
    "start_time": "2023-11-13T15:44:08.314Z"
   },
   {
    "duration": 12,
    "start_time": "2023-11-13T15:44:08.325Z"
   },
   {
    "duration": 151,
    "start_time": "2023-11-13T15:44:08.338Z"
   },
   {
    "duration": 11,
    "start_time": "2023-11-13T15:44:08.490Z"
   },
   {
    "duration": 5,
    "start_time": "2023-11-13T15:44:08.503Z"
   },
   {
    "duration": 144,
    "start_time": "2023-11-13T15:44:08.509Z"
   },
   {
    "duration": 12,
    "start_time": "2023-11-13T15:44:08.655Z"
   },
   {
    "duration": 10,
    "start_time": "2023-11-13T15:44:08.668Z"
   },
   {
    "duration": 23,
    "start_time": "2023-11-13T15:44:08.679Z"
   },
   {
    "duration": 255,
    "start_time": "2023-11-13T15:44:08.704Z"
   },
   {
    "duration": 4,
    "start_time": "2023-11-13T15:44:08.960Z"
   },
   {
    "duration": 150,
    "start_time": "2023-11-13T15:44:08.965Z"
   },
   {
    "duration": 146,
    "start_time": "2023-11-13T15:44:09.116Z"
   },
   {
    "duration": 149,
    "start_time": "2023-11-13T15:44:09.263Z"
   },
   {
    "duration": 152,
    "start_time": "2023-11-13T15:44:09.417Z"
   },
   {
    "duration": 18,
    "start_time": "2023-11-13T15:44:09.571Z"
   },
   {
    "duration": 14,
    "start_time": "2023-11-13T15:44:09.591Z"
   },
   {
    "duration": 167,
    "start_time": "2023-11-13T15:44:09.607Z"
   },
   {
    "duration": 14,
    "start_time": "2023-11-13T15:44:53.188Z"
   },
   {
    "duration": 692,
    "start_time": "2023-11-13T15:45:11.275Z"
   },
   {
    "duration": 20,
    "start_time": "2023-11-13T15:45:11.969Z"
   },
   {
    "duration": 42,
    "start_time": "2023-11-13T15:45:11.991Z"
   },
   {
    "duration": 1789,
    "start_time": "2023-11-13T15:45:12.035Z"
   },
   {
    "duration": 4,
    "start_time": "2023-11-13T15:45:13.826Z"
   },
   {
    "duration": 21,
    "start_time": "2023-11-13T15:45:13.831Z"
   },
   {
    "duration": 47,
    "start_time": "2023-11-13T15:45:13.854Z"
   },
   {
    "duration": 6,
    "start_time": "2023-11-13T15:45:13.903Z"
   },
   {
    "duration": 24,
    "start_time": "2023-11-13T15:45:13.911Z"
   },
   {
    "duration": 19,
    "start_time": "2023-11-13T15:45:13.938Z"
   },
   {
    "duration": 30,
    "start_time": "2023-11-13T15:45:13.958Z"
   },
   {
    "duration": 22,
    "start_time": "2023-11-13T15:45:13.989Z"
   },
   {
    "duration": 27,
    "start_time": "2023-11-13T15:45:14.012Z"
   },
   {
    "duration": 15,
    "start_time": "2023-11-13T15:45:14.041Z"
   },
   {
    "duration": 25,
    "start_time": "2023-11-13T15:45:14.057Z"
   },
   {
    "duration": 34,
    "start_time": "2023-11-13T15:45:14.084Z"
   },
   {
    "duration": 85,
    "start_time": "2023-11-13T15:45:14.120Z"
   },
   {
    "duration": 0,
    "start_time": "2023-11-13T15:45:14.208Z"
   },
   {
    "duration": 0,
    "start_time": "2023-11-13T15:45:14.209Z"
   },
   {
    "duration": 0,
    "start_time": "2023-11-13T15:45:14.210Z"
   },
   {
    "duration": 0,
    "start_time": "2023-11-13T15:45:14.211Z"
   },
   {
    "duration": 0,
    "start_time": "2023-11-13T15:45:14.213Z"
   },
   {
    "duration": 0,
    "start_time": "2023-11-13T15:45:14.214Z"
   },
   {
    "duration": 0,
    "start_time": "2023-11-13T15:45:14.215Z"
   },
   {
    "duration": 0,
    "start_time": "2023-11-13T15:45:14.217Z"
   },
   {
    "duration": 0,
    "start_time": "2023-11-13T15:45:14.218Z"
   },
   {
    "duration": 0,
    "start_time": "2023-11-13T15:45:14.220Z"
   },
   {
    "duration": 0,
    "start_time": "2023-11-13T15:45:14.221Z"
   },
   {
    "duration": 0,
    "start_time": "2023-11-13T15:45:14.222Z"
   },
   {
    "duration": 0,
    "start_time": "2023-11-13T15:45:14.223Z"
   },
   {
    "duration": 0,
    "start_time": "2023-11-13T15:45:14.225Z"
   },
   {
    "duration": 0,
    "start_time": "2023-11-13T15:45:14.226Z"
   },
   {
    "duration": 0,
    "start_time": "2023-11-13T15:45:14.227Z"
   },
   {
    "duration": 0,
    "start_time": "2023-11-13T15:45:14.228Z"
   },
   {
    "duration": 0,
    "start_time": "2023-11-13T15:45:14.230Z"
   },
   {
    "duration": 0,
    "start_time": "2023-11-13T15:45:14.231Z"
   },
   {
    "duration": 0,
    "start_time": "2023-11-13T15:45:14.232Z"
   },
   {
    "duration": 0,
    "start_time": "2023-11-13T15:45:14.233Z"
   },
   {
    "duration": 0,
    "start_time": "2023-11-13T15:45:14.235Z"
   },
   {
    "duration": 0,
    "start_time": "2023-11-13T15:45:14.236Z"
   },
   {
    "duration": 0,
    "start_time": "2023-11-13T15:45:14.236Z"
   },
   {
    "duration": 0,
    "start_time": "2023-11-13T15:45:14.238Z"
   },
   {
    "duration": 0,
    "start_time": "2023-11-13T15:45:14.239Z"
   },
   {
    "duration": 0,
    "start_time": "2023-11-13T15:45:14.239Z"
   },
   {
    "duration": 0,
    "start_time": "2023-11-13T15:45:14.240Z"
   },
   {
    "duration": 0,
    "start_time": "2023-11-13T15:45:14.241Z"
   },
   {
    "duration": 0,
    "start_time": "2023-11-13T15:45:14.242Z"
   },
   {
    "duration": 0,
    "start_time": "2023-11-13T15:45:14.243Z"
   },
   {
    "duration": 0,
    "start_time": "2023-11-13T15:45:14.245Z"
   },
   {
    "duration": 0,
    "start_time": "2023-11-13T15:45:14.245Z"
   },
   {
    "duration": 0,
    "start_time": "2023-11-13T15:45:14.255Z"
   },
   {
    "duration": 0,
    "start_time": "2023-11-13T15:45:14.257Z"
   },
   {
    "duration": 0,
    "start_time": "2023-11-13T15:45:14.258Z"
   },
   {
    "duration": 0,
    "start_time": "2023-11-13T15:45:14.259Z"
   },
   {
    "duration": 0,
    "start_time": "2023-11-13T15:45:14.259Z"
   },
   {
    "duration": 0,
    "start_time": "2023-11-13T15:45:14.260Z"
   },
   {
    "duration": 0,
    "start_time": "2023-11-13T15:45:14.261Z"
   },
   {
    "duration": 0,
    "start_time": "2023-11-13T15:45:14.262Z"
   },
   {
    "duration": 0,
    "start_time": "2023-11-13T15:45:14.263Z"
   },
   {
    "duration": 0,
    "start_time": "2023-11-13T15:45:14.264Z"
   },
   {
    "duration": 0,
    "start_time": "2023-11-13T15:45:14.265Z"
   },
   {
    "duration": 0,
    "start_time": "2023-11-13T15:45:14.266Z"
   },
   {
    "duration": 0,
    "start_time": "2023-11-13T15:45:14.267Z"
   },
   {
    "duration": 0,
    "start_time": "2023-11-13T15:45:14.268Z"
   },
   {
    "duration": 0,
    "start_time": "2023-11-13T15:45:14.269Z"
   },
   {
    "duration": 0,
    "start_time": "2023-11-13T15:45:14.270Z"
   },
   {
    "duration": 0,
    "start_time": "2023-11-13T15:45:14.270Z"
   },
   {
    "duration": 1,
    "start_time": "2023-11-13T15:45:14.271Z"
   },
   {
    "duration": 0,
    "start_time": "2023-11-13T15:45:14.272Z"
   },
   {
    "duration": 0,
    "start_time": "2023-11-13T15:45:14.273Z"
   },
   {
    "duration": 0,
    "start_time": "2023-11-13T15:45:14.274Z"
   },
   {
    "duration": 0,
    "start_time": "2023-11-13T15:45:14.275Z"
   },
   {
    "duration": 0,
    "start_time": "2023-11-13T15:45:14.276Z"
   },
   {
    "duration": 0,
    "start_time": "2023-11-13T15:45:14.277Z"
   },
   {
    "duration": 0,
    "start_time": "2023-11-13T15:45:14.278Z"
   },
   {
    "duration": 0,
    "start_time": "2023-11-13T15:45:14.279Z"
   },
   {
    "duration": 0,
    "start_time": "2023-11-13T15:45:14.280Z"
   },
   {
    "duration": 0,
    "start_time": "2023-11-13T15:45:14.281Z"
   },
   {
    "duration": 0,
    "start_time": "2023-11-13T15:45:14.282Z"
   },
   {
    "duration": 0,
    "start_time": "2023-11-13T15:45:14.283Z"
   },
   {
    "duration": 0,
    "start_time": "2023-11-13T15:45:14.284Z"
   },
   {
    "duration": 0,
    "start_time": "2023-11-13T15:45:14.285Z"
   },
   {
    "duration": 0,
    "start_time": "2023-11-13T15:45:14.285Z"
   },
   {
    "duration": 0,
    "start_time": "2023-11-13T15:45:14.287Z"
   },
   {
    "duration": 1,
    "start_time": "2023-11-13T15:45:14.287Z"
   },
   {
    "duration": 0,
    "start_time": "2023-11-13T15:45:14.289Z"
   },
   {
    "duration": 73,
    "start_time": "2023-11-13T15:45:45.171Z"
   },
   {
    "duration": 10,
    "start_time": "2023-11-13T15:45:53.521Z"
   },
   {
    "duration": 14,
    "start_time": "2023-11-13T15:46:01.163Z"
   },
   {
    "duration": 9,
    "start_time": "2023-11-13T15:46:06.907Z"
   },
   {
    "duration": 15,
    "start_time": "2023-11-13T15:46:13.553Z"
   },
   {
    "duration": 673,
    "start_time": "2023-11-13T15:48:34.397Z"
   },
   {
    "duration": 14,
    "start_time": "2023-11-13T15:48:35.071Z"
   },
   {
    "duration": 30,
    "start_time": "2023-11-13T15:48:35.086Z"
   },
   {
    "duration": 1770,
    "start_time": "2023-11-13T15:48:35.118Z"
   },
   {
    "duration": 5,
    "start_time": "2023-11-13T15:48:36.889Z"
   },
   {
    "duration": 8,
    "start_time": "2023-11-13T15:48:36.895Z"
   },
   {
    "duration": 34,
    "start_time": "2023-11-13T15:48:36.904Z"
   },
   {
    "duration": 6,
    "start_time": "2023-11-13T15:48:36.939Z"
   },
   {
    "duration": 11,
    "start_time": "2023-11-13T15:48:36.947Z"
   },
   {
    "duration": 5,
    "start_time": "2023-11-13T15:48:36.961Z"
   },
   {
    "duration": 7,
    "start_time": "2023-11-13T15:48:36.967Z"
   },
   {
    "duration": 6,
    "start_time": "2023-11-13T15:48:36.975Z"
   },
   {
    "duration": 15,
    "start_time": "2023-11-13T15:48:36.982Z"
   },
   {
    "duration": 14,
    "start_time": "2023-11-13T15:48:36.998Z"
   },
   {
    "duration": 3,
    "start_time": "2023-11-13T15:48:37.014Z"
   },
   {
    "duration": 8,
    "start_time": "2023-11-13T15:48:37.018Z"
   },
   {
    "duration": 64,
    "start_time": "2023-11-13T15:48:37.027Z"
   },
   {
    "duration": 12,
    "start_time": "2023-11-13T15:48:37.092Z"
   },
   {
    "duration": 7,
    "start_time": "2023-11-13T15:48:37.106Z"
   },
   {
    "duration": 7,
    "start_time": "2023-11-13T15:48:37.114Z"
   },
   {
    "duration": 11,
    "start_time": "2023-11-13T15:48:37.123Z"
   },
   {
    "duration": 21,
    "start_time": "2023-11-13T15:48:37.136Z"
   },
   {
    "duration": 5,
    "start_time": "2023-11-13T15:48:37.158Z"
   },
   {
    "duration": 265,
    "start_time": "2023-11-13T15:48:37.164Z"
   },
   {
    "duration": 5,
    "start_time": "2023-11-13T15:48:37.430Z"
   },
   {
    "duration": 259,
    "start_time": "2023-11-13T15:48:37.436Z"
   },
   {
    "duration": 7,
    "start_time": "2023-11-13T15:48:37.696Z"
   },
   {
    "duration": 320,
    "start_time": "2023-11-13T15:48:37.708Z"
   },
   {
    "duration": 7,
    "start_time": "2023-11-13T15:48:38.030Z"
   },
   {
    "duration": 37,
    "start_time": "2023-11-13T15:48:38.038Z"
   },
   {
    "duration": 4,
    "start_time": "2023-11-13T15:48:38.076Z"
   },
   {
    "duration": 50,
    "start_time": "2023-11-13T15:48:38.081Z"
   },
   {
    "duration": 249,
    "start_time": "2023-11-13T15:48:38.132Z"
   },
   {
    "duration": 6,
    "start_time": "2023-11-13T15:48:38.383Z"
   },
   {
    "duration": 261,
    "start_time": "2023-11-13T15:48:38.391Z"
   },
   {
    "duration": 5,
    "start_time": "2023-11-13T15:48:38.655Z"
   },
   {
    "duration": 172,
    "start_time": "2023-11-13T15:48:38.661Z"
   },
   {
    "duration": 6,
    "start_time": "2023-11-13T15:48:38.834Z"
   },
   {
    "duration": 183,
    "start_time": "2023-11-13T15:48:38.841Z"
   },
   {
    "duration": 39,
    "start_time": "2023-11-13T15:48:39.025Z"
   },
   {
    "duration": 24,
    "start_time": "2023-11-13T15:48:39.066Z"
   },
   {
    "duration": 5,
    "start_time": "2023-11-13T15:48:39.091Z"
   },
   {
    "duration": 35,
    "start_time": "2023-11-13T15:48:39.097Z"
   },
   {
    "duration": 175,
    "start_time": "2023-11-13T15:48:39.133Z"
   },
   {
    "duration": 124,
    "start_time": "2023-11-13T15:48:39.309Z"
   },
   {
    "duration": 94,
    "start_time": "2023-11-13T15:48:39.434Z"
   },
   {
    "duration": 354,
    "start_time": "2023-11-13T15:48:39.530Z"
   },
   {
    "duration": 176,
    "start_time": "2023-11-13T15:48:39.886Z"
   },
   {
    "duration": 176,
    "start_time": "2023-11-13T15:48:40.064Z"
   },
   {
    "duration": 172,
    "start_time": "2023-11-13T15:48:40.241Z"
   },
   {
    "duration": 174,
    "start_time": "2023-11-13T15:48:40.414Z"
   },
   {
    "duration": 129,
    "start_time": "2023-11-13T15:48:40.589Z"
   },
   {
    "duration": 6,
    "start_time": "2023-11-13T15:48:40.720Z"
   },
   {
    "duration": 118,
    "start_time": "2023-11-13T15:48:40.727Z"
   },
   {
    "duration": 151,
    "start_time": "2023-11-13T15:48:40.847Z"
   },
   {
    "duration": 143,
    "start_time": "2023-11-13T15:48:41.000Z"
   },
   {
    "duration": 15,
    "start_time": "2023-11-13T15:48:41.144Z"
   },
   {
    "duration": 112,
    "start_time": "2023-11-13T15:48:41.160Z"
   },
   {
    "duration": 365,
    "start_time": "2023-11-13T15:48:41.273Z"
   },
   {
    "duration": 253,
    "start_time": "2023-11-13T15:48:41.640Z"
   },
   {
    "duration": 24,
    "start_time": "2023-11-13T15:48:41.894Z"
   },
   {
    "duration": 8,
    "start_time": "2023-11-13T15:48:41.919Z"
   },
   {
    "duration": 114,
    "start_time": "2023-11-13T15:48:41.928Z"
   },
   {
    "duration": 266,
    "start_time": "2023-11-13T15:48:42.044Z"
   },
   {
    "duration": 269,
    "start_time": "2023-11-13T15:48:42.311Z"
   },
   {
    "duration": 6,
    "start_time": "2023-11-13T15:48:42.581Z"
   },
   {
    "duration": 129,
    "start_time": "2023-11-13T15:48:42.588Z"
   },
   {
    "duration": 10,
    "start_time": "2023-11-13T15:48:42.718Z"
   },
   {
    "duration": 9,
    "start_time": "2023-11-13T15:48:42.729Z"
   },
   {
    "duration": 139,
    "start_time": "2023-11-13T15:48:42.739Z"
   },
   {
    "duration": 10,
    "start_time": "2023-11-13T15:48:42.879Z"
   },
   {
    "duration": 4,
    "start_time": "2023-11-13T15:48:42.890Z"
   },
   {
    "duration": 135,
    "start_time": "2023-11-13T15:48:42.895Z"
   },
   {
    "duration": 10,
    "start_time": "2023-11-13T15:48:43.031Z"
   },
   {
    "duration": 16,
    "start_time": "2023-11-13T15:48:43.042Z"
   },
   {
    "duration": 21,
    "start_time": "2023-11-13T15:48:43.059Z"
   },
   {
    "duration": 223,
    "start_time": "2023-11-13T15:48:43.081Z"
   },
   {
    "duration": 5,
    "start_time": "2023-11-13T15:48:43.305Z"
   },
   {
    "duration": 144,
    "start_time": "2023-11-13T15:48:43.312Z"
   },
   {
    "duration": 134,
    "start_time": "2023-11-13T15:48:43.458Z"
   },
   {
    "duration": 142,
    "start_time": "2023-11-13T15:48:43.593Z"
   },
   {
    "duration": 144,
    "start_time": "2023-11-13T15:48:43.740Z"
   },
   {
    "duration": 20,
    "start_time": "2023-11-13T15:48:43.886Z"
   },
   {
    "duration": 17,
    "start_time": "2023-11-13T15:48:43.907Z"
   },
   {
    "duration": 164,
    "start_time": "2023-11-13T15:48:43.925Z"
   }
  ],
  "kernelspec": {
   "display_name": "Python 3 (ipykernel)",
   "language": "python",
   "name": "python3"
  },
  "language_info": {
   "codemirror_mode": {
    "name": "ipython",
    "version": 3
   },
   "file_extension": ".py",
   "mimetype": "text/x-python",
   "name": "python",
   "nbconvert_exporter": "python",
   "pygments_lexer": "ipython3",
   "version": "3.9.5"
  },
  "toc": {
   "base_numbering": 1,
   "nav_menu": {},
   "number_sections": true,
   "sideBar": true,
   "skip_h1_title": true,
   "title_cell": "Table of Contents",
   "title_sidebar": "Contents",
   "toc_cell": false,
   "toc_position": {
    "height": "calc(100% - 180px)",
    "left": "10px",
    "top": "150px",
    "width": "358.639709px"
   },
   "toc_section_display": true,
   "toc_window_display": false
  }
 },
 "nbformat": 4,
 "nbformat_minor": 2
}
